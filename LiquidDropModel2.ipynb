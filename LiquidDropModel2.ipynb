{
 "cells": [
  {
   "cell_type": "code",
   "execution_count": 1,
   "metadata": {},
   "outputs": [],
   "source": [
    "# import internal files\n",
    "from historymatch import emulators\n",
    "from historymatch import sample\n",
    "from historymatch import historymatch\n",
    "from historymatch import plot\n",
    "from historymatch import utils\n",
    "\n",
    "\n",
    "# import external modules\n",
    "import numpy as np\n",
    "import matplotlib.pyplot as plt\n",
    "from scipy import stats\n",
    "import os\n",
    "import pandas as pd\n",
    "#import importlib\n",
    "from matplotlib.patches import Rectangle\n",
    "\n",
    "import sklearn.linear_model as skl\n",
    "\n",
    "plt.rcParams.update({'font.size': 10})\n",
    "\n",
    "np.random.seed(4)"
   ]
  },
  {
   "cell_type": "code",
   "execution_count": 2,
   "metadata": {},
   "outputs": [],
   "source": [
    "# import data\n",
    "\n",
    "with open(\"data/MassEval2016.dat\",'r') as infile:\n",
    "    Masses = pd.read_fwf(infile, usecols=(2,3,4,6,11,12),\n",
    "              names=('N', 'Z', 'A', 'Element', 'Ebinding', 'E_unc'),\n",
    "              widths=(1,3,5,5,5,1,3,4,1,13,11,11,9,1,2,11,9,1,3,1,12,11,1),\n",
    "              header=64,\n",
    "              index_col=False)\n",
    "    \n",
    "# Extrapolated values are indicated by '#' in place of the decimal place, so\n",
    "# the Ebinding column won't be numeric. Coerce to float and drop these entries.\n",
    "Masses['Ebinding'] = pd.to_numeric(Masses['Ebinding'], errors='coerce')\n",
    "Masses = Masses.dropna()\n",
    "Masses['E_unc'] = pd.to_numeric(Masses['E_unc'], errors='coerce')\n",
    "Masses = Masses.dropna()\n",
    "# Convert from keV to MeV.\n",
    "Masses['Ebinding'] /= 1000\n",
    "Masses['E_unc'] /= 1000\n",
    "\n",
    "# Group the DataFrame by nucleon number, A.\n",
    "Masses = Masses.groupby('A')\n",
    "# Find the rows of the grouped DataFrame with the maximum binding energy.\n",
    "Masses = Masses.apply(lambda t: t[t.Ebinding==t.Ebinding.max()])\n",
    "\n",
    "A = Masses['A'].to_numpy()\n",
    "Z = Masses['Z'].to_numpy()\n",
    "N = Masses['N'].to_numpy()\n",
    "Element = Masses['Element'].to_numpy()\n",
    "Energies = Masses['Ebinding'].to_numpy()\n",
    "\n",
    "#Energies_unc = Masses['E_unc'].to_numpy()\n",
    "Energies_unc = Masses['E_unc'].to_numpy()"
   ]
  },
  {
   "cell_type": "code",
   "execution_count": null,
   "metadata": {},
   "outputs": [],
   "source": []
  },
  {
   "cell_type": "code",
   "execution_count": 3,
   "metadata": {},
   "outputs": [],
   "source": [
    "# define parameter space\n",
    "\n",
    "#theta_0_bound = np.array([-20, 20]).reshape(1,-1)\n",
    "#theta_1_bound = np.array([-0.3, -0.1]).reshape(1,-1)\n",
    "#theta_2_bound = np.array([0, 3]).reshape(1,-1)\n",
    "#theta_3_bound = np.array([0, 0.01]).reshape(1,-1) # keep\n",
    "#theta_4_bound = np.array([-0.3, 0.2]).reshape(1,-1)\n",
    "\n",
    "theta_0_bound = np.array([3, 6]).reshape(1,-1)\n",
    "theta_1_bound = np.array([-0.21, -0.19]).reshape(1,-1)\n",
    "theta_2_bound = np.array([0.8, 1.1]).reshape(1,-1)\n",
    "theta_3_bound = np.array([0.005, 0.010]).reshape(1,-1) # keep\n",
    "theta_4_bound = np.array([0.31, 0.33]).reshape(1,-1)\n",
    "\n",
    "\n",
    "parameter_bounds = np.concatenate((theta_0_bound, theta_1_bound, \\\n",
    "                                   theta_2_bound, theta_3_bound, theta_4_bound), axis=0)\n",
    "\n",
    "#parameter_bounds = np.concatenate((theta_0_bound, theta_1_bound, theta_2_bound), axis=0)\n",
    "\n",
    "\n",
    "\n",
    "theta_0_vals = np.linspace(parameter_bounds[0,0], parameter_bounds[0,1], 100)\n",
    "theta_1_vals = np.linspace(parameter_bounds[1,0], parameter_bounds[1,1], 100)\n",
    "theta_2_vals = np.linspace(parameter_bounds[2,0], parameter_bounds[2,1], 100)\n",
    "theta_3_vals = np.linspace(parameter_bounds[3,0], parameter_bounds[3,1], 100)\n",
    "theta_4_vals = np.linspace(parameter_bounds[4,0], parameter_bounds[4,1], 100)\n",
    "\n",
    "\n",
    "theta_vals = np.concatenate((theta_0_vals.reshape(1,-1), theta_1_vals.reshape(1,-1), theta_2_vals.reshape(1,-1), theta_3_vals.reshape(1,-1), theta_4_vals.reshape(1,-1)), axis=0)\n"
   ]
  },
  {
   "cell_type": "code",
   "execution_count": 4,
   "metadata": {},
   "outputs": [],
   "source": [
    "def LiquidDropModel(a0, a1, a2, a3, a4, A, Z, N):\n",
    "    \n",
    "    return a0 + a1*A + a2*(A**(2.0/3.0)) + a3*Z*(Z-1)*(A**(-1.0/3.0)) \\\n",
    "                + a4*((N-Z)**2)/A\n",
    "\n",
    "\n"
   ]
  },
  {
   "cell_type": "code",
   "execution_count": 5,
   "metadata": {},
   "outputs": [],
   "source": [
    "# generate observational data with some uncertainty\n",
    "\n",
    "noutputs = 10\n",
    "\n",
    "start = 100\n",
    "step = 20\n",
    "\n",
    "#variables = np.concatenate((A[-noutputs:].reshape(-1,1),Z[-noutputs:].reshape(-1,1),\\\n",
    "                            #N[-noutputs:].reshape(-1,1)), axis=1)\n",
    "\n",
    "\n",
    "variables = np.concatenate((A[start::step].reshape(-1,1),Z[start::step].reshape(-1,1),\\\n",
    "                            N[start::step].reshape(-1,1)), axis=1)\n"
   ]
  },
  {
   "cell_type": "code",
   "execution_count": 6,
   "metadata": {},
   "outputs": [],
   "source": [
    "# Now we set up the design matrix X\n",
    "X2 = np.zeros((len(A[-1:]),5))\n",
    "X2[:,0] = np.ones_like(A[-1:])\n",
    "X2[:,1] = A[-1:]\n",
    "X2[:,2] = A[-1:]**(2.0/3.0)\n",
    "X2[:,3] = Z[-1:]*(Z[-1:]-1) * A[-1:]**(-1.0/3.0)\n",
    "X2[:,4] = (N[-1:]-Z[-1:])**2 * A[-1:]**(-1.0)\n",
    "\n",
    "\n",
    "# Now we set up the design matrix X\n",
    "X = np.zeros((len(A),5))\n",
    "X[:,0] = np.ones_like(A)\n",
    "X[:,1] = A\n",
    "X[:,2] = A**(2.0/3.0)\n",
    "X[:,3] = Z*(Z-1) * A**(-1.0/3.0)\n",
    "X[:,4] = (N-Z)**2 * A**(-1.0)"
   ]
  },
  {
   "cell_type": "code",
   "execution_count": 7,
   "metadata": {},
   "outputs": [
    {
     "name": "stdout",
     "output_type": "stream",
     "text": [
      "[ 4.74783699 -0.20173376  0.94655788  0.00783107  0.32286627]\n",
      "0.04119868982872722\n"
     ]
    }
   ],
   "source": [
    "clf = skl.LinearRegression(fit_intercept=False).fit(X, Energies)\n",
    "\n",
    "print(clf.coef_)\n",
    "\n",
    "preds = clf.predict(X)\n",
    "\n",
    "err = np.square(Energies-preds)\n",
    "pred_sigma = np.sqrt(np.var(err))\n",
    "\n",
    "print(pred_sigma)\n"
   ]
  },
  {
   "cell_type": "code",
   "execution_count": 8,
   "metadata": {},
   "outputs": [],
   "source": [
    "# generate observational data (for testing)\n",
    "\n",
    "sigma_obs = Energies_unc\n",
    "\n",
    "#https://www.int.washington.edu/users/bertsch/articles/369.pdf\n",
    "sigma_model = pred_sigma\n",
    "\n",
    "obs_data = Energies"
   ]
  },
  {
   "cell_type": "code",
   "execution_count": 9,
   "metadata": {},
   "outputs": [],
   "source": [
    "nwaves = 5\n",
    "ndim = 5\n",
    "volshape = 'ellipsoid'"
   ]
  },
  {
   "cell_type": "code",
   "execution_count": 10,
   "metadata": {},
   "outputs": [],
   "source": [
    "#importlib.reload(historymatch)\n",
    "\n",
    "# initialise history matching class\n",
    "HM = historymatch.HistoryMatch(ndim, 'GP', volshape)"
   ]
  },
  {
   "cell_type": "code",
   "execution_count": 11,
   "metadata": {},
   "outputs": [
    {
     "name": "stdout",
     "output_type": "stream",
     "text": [
      "(5, 2)\n",
      "(5, 2)\n",
      "Running wave 1\n"
     ]
    },
    {
     "name": "stderr",
     "output_type": "stream",
     "text": [
      "\r",
      "  0%|          | 0/8 [00:00<?, ?it/s]"
     ]
    },
    {
     "name": "stdout",
     "output_type": "stream",
     "text": [
      "ein: \n",
      "mean em sd : 8.763686474721434\n",
      "min em sd : 0.443364218626076\n",
      "max em sd : 19.13411683873309\n"
     ]
    },
    {
     "name": "stderr",
     "output_type": "stream",
     "text": [
      "\r",
      " 12%|█▎        | 1/8 [00:00<00:00,  7.30it/s]"
     ]
    },
    {
     "name": "stdout",
     "output_type": "stream",
     "text": [
      "ein: \n",
      "mean em sd : 5.478609069415637\n",
      "min em sd : 0.28879343791974205\n",
      "max em sd : 12.219360909379256\n"
     ]
    },
    {
     "name": "stderr",
     "output_type": "stream",
     "text": [
      "\r",
      " 38%|███▊      | 3/8 [00:00<00:00,  9.64it/s]"
     ]
    },
    {
     "name": "stdout",
     "output_type": "stream",
     "text": [
      "ein: \n",
      "mean em sd : 5.471850891809\n",
      "min em sd : 0.14757099957057798\n",
      "max em sd : 12.760725559024882\n",
      "ein: \n",
      "mean em sd : 14.863055478802293\n",
      "min em sd : 0.8013953875842799\n",
      "max em sd : 24.24324604344342\n",
      "ein: \n",
      "mean em sd : 10.017096258451577\n",
      "min em sd : 0.21847248961707708\n",
      "max em sd : 22.75618967977593\n"
     ]
    },
    {
     "name": "stderr",
     "output_type": "stream",
     "text": [
      " 75%|███████▌  | 6/8 [00:00<00:00,  9.38it/s]"
     ]
    },
    {
     "name": "stdout",
     "output_type": "stream",
     "text": [
      "ein: \n",
      "mean em sd : 5.9143774981928985\n",
      "min em sd : 0.05438594158050857\n",
      "max em sd : 13.120047172000401\n",
      "ein: \n",
      "mean em sd : 11.507987381043796\n",
      "min em sd : 3.898452154376607\n",
      "max em sd : 16.508233074353374\n"
     ]
    },
    {
     "name": "stderr",
     "output_type": "stream",
     "text": [
      "100%|██████████| 8/8 [00:00<00:00,  9.19it/s]"
     ]
    },
    {
     "name": "stdout",
     "output_type": "stream",
     "text": [
      "ein: \n",
      "mean em sd : 20.946649697891853\n",
      "min em sd : 0.41885795309455814\n",
      "max em sd : 49.96963506393842\n",
      "(129, 6)\n",
      "Convergence : False\n"
     ]
    },
    {
     "name": "stderr",
     "output_type": "stream",
     "text": [
      "\n"
     ]
    },
    {
     "name": "stdout",
     "output_type": "stream",
     "text": [
      "Relative nonimplausible volume remaining: 0.953\n",
      "Running wave 2\n"
     ]
    },
    {
     "name": "stderr",
     "output_type": "stream",
     "text": [
      "\r",
      "  0%|          | 0/8 [00:00<?, ?it/s]"
     ]
    },
    {
     "name": "stdout",
     "output_type": "stream",
     "text": [
      "ein: \n",
      "mean em sd : 5.990073795638871\n",
      "min em sd : 0.19342339407411202\n",
      "max em sd : 13.414514685673884\n"
     ]
    },
    {
     "name": "stderr",
     "output_type": "stream",
     "text": [
      "\r",
      " 12%|█▎        | 1/8 [00:00<00:00,  8.59it/s]"
     ]
    },
    {
     "name": "stdout",
     "output_type": "stream",
     "text": [
      "ein: \n",
      "mean em sd : 13.09084031471404\n",
      "min em sd : 0.3623611995733786\n",
      "max em sd : 27.053747383121376\n"
     ]
    },
    {
     "name": "stderr",
     "output_type": "stream",
     "text": [
      " 38%|███▊      | 3/8 [00:00<00:00,  9.12it/s]"
     ]
    },
    {
     "name": "stdout",
     "output_type": "stream",
     "text": [
      "ein: \n",
      "mean em sd : 20.69281207761253\n",
      "min em sd : 0.1585243337299145\n",
      "max em sd : 41.695342869050265\n",
      "ein: \n",
      "mean em sd : 8.248863410949605\n",
      "min em sd : 0.10537618449036805\n",
      "max em sd : 15.014797371804628\n",
      "ein: \n",
      "mean em sd : 15.224480455936384\n",
      "min em sd : 0.26568180653032647\n",
      "max em sd : 31.372864071772458\n"
     ]
    },
    {
     "name": "stderr",
     "output_type": "stream",
     "text": [
      "\r",
      " 62%|██████▎   | 5/8 [00:00<00:00, 10.43it/s]"
     ]
    },
    {
     "name": "stdout",
     "output_type": "stream",
     "text": [
      "ein: \n",
      "mean em sd : 17.88380493085932\n",
      "min em sd : 0.5480269857457013\n",
      "max em sd : 40.66547948566\n"
     ]
    },
    {
     "name": "stderr",
     "output_type": "stream",
     "text": [
      "\r",
      " 88%|████████▊ | 7/8 [00:00<00:00, 11.62it/s]"
     ]
    },
    {
     "name": "stdout",
     "output_type": "stream",
     "text": [
      "ein: \n",
      "mean em sd : 10.397828541886723\n",
      "min em sd : 0.41932890669250544\n",
      "max em sd : 20.98845741748093\n",
      "ein: \n",
      "mean em sd : 13.029391432775878\n",
      "min em sd : 0.6616411702685658\n",
      "max em sd : 26.159857774159864\n"
     ]
    },
    {
     "name": "stderr",
     "output_type": "stream",
     "text": [
      "\r",
      "100%|██████████| 8/8 [00:00<00:00, 10.83it/s]"
     ]
    },
    {
     "name": "stdout",
     "output_type": "stream",
     "text": [
      "(30, 6)\n",
      "Convergence : False\n"
     ]
    },
    {
     "name": "stderr",
     "output_type": "stream",
     "text": [
      "\n"
     ]
    },
    {
     "name": "stdout",
     "output_type": "stream",
     "text": [
      "Relative nonimplausible volume remaining: 2.809\n",
      "Running wave 3\n"
     ]
    },
    {
     "name": "stderr",
     "output_type": "stream",
     "text": [
      "\r",
      "  0%|          | 0/8 [00:00<?, ?it/s]"
     ]
    },
    {
     "name": "stdout",
     "output_type": "stream",
     "text": [
      "ein: \n",
      "mean em sd : 8.269429632361433\n",
      "min em sd : 0.4699182737014311\n",
      "max em sd : 18.575022246506272\n",
      "ein: \n"
     ]
    },
    {
     "name": "stderr",
     "output_type": "stream",
     "text": [
      "\r",
      " 25%|██▌       | 2/8 [00:00<00:00, 10.61it/s]"
     ]
    },
    {
     "name": "stdout",
     "output_type": "stream",
     "text": [
      "mean em sd : 3.9756015541719454\n",
      "min em sd : 0.17766300680899658\n",
      "max em sd : 9.193024104843317\n",
      "ein: \n",
      "mean em sd : 8.73128123497255\n",
      "min em sd : 0.40809782891402674\n",
      "max em sd : 14.336054177743982\n",
      "ein: \n",
      "mean em sd : 16.363999828270263\n",
      "min em sd : 0.4192278881880324\n",
      "max em sd : 42.105272237456646\n"
     ]
    },
    {
     "name": "stderr",
     "output_type": "stream",
     "text": [
      "\r",
      " 50%|█████     | 4/8 [00:00<00:00, 10.64it/s]"
     ]
    },
    {
     "name": "stdout",
     "output_type": "stream",
     "text": [
      "ein: \n",
      "mean em sd : 6.498614299197559\n",
      "min em sd : 0.09229132622413036\n",
      "max em sd : 15.55540317784766\n",
      "ein: \n",
      "mean em sd : 7.558554628246117\n",
      "min em sd : 0.13449892419360898\n",
      "max em sd : 15.808087565325703\n"
     ]
    },
    {
     "name": "stderr",
     "output_type": "stream",
     "text": [
      "\r",
      " 75%|███████▌  | 6/8 [00:00<00:00, 10.48it/s]"
     ]
    },
    {
     "name": "stdout",
     "output_type": "stream",
     "text": [
      "ein: \n",
      "mean em sd : 98.04590949216524\n",
      "min em sd : 12.296853894200426\n",
      "max em sd : 161.27654311566766\n"
     ]
    },
    {
     "name": "stderr",
     "output_type": "stream",
     "text": [
      "100%|██████████| 8/8 [00:00<00:00, 10.55it/s]\n"
     ]
    },
    {
     "name": "stdout",
     "output_type": "stream",
     "text": [
      "ein: \n",
      "mean em sd : 17.9039888315745\n",
      "min em sd : 0.16222613513302744\n",
      "max em sd : 42.591918635377155\n",
      "(0, 6)\n"
     ]
    },
    {
     "ename": "ValueError",
     "evalue": "zero-size array to reduction operation minimum which has no identity",
     "output_type": "error",
     "traceback": [
      "\u001b[0;31m---------------------------------------------------------------------------\u001b[0m",
      "\u001b[0;31mValueError\u001b[0m                                Traceback (most recent call last)",
      "\u001b[0;32m<ipython-input-11-36b7eb7324ac>\u001b[0m in \u001b[0;36m<module>\u001b[0;34m\u001b[0m\n\u001b[1;32m      5\u001b[0m \u001b[0mHM\u001b[0m\u001b[0;34m.\u001b[0m\u001b[0minitialize_volume\u001b[0m\u001b[0;34m(\u001b[0m\u001b[0mparameter_bounds\u001b[0m\u001b[0;34m[\u001b[0m\u001b[0;34m:\u001b[0m\u001b[0;34m,\u001b[0m\u001b[0;36m0\u001b[0m\u001b[0;34m]\u001b[0m\u001b[0;34m,\u001b[0m \u001b[0mparameter_bounds\u001b[0m\u001b[0;34m[\u001b[0m\u001b[0;34m:\u001b[0m\u001b[0;34m,\u001b[0m\u001b[0;36m1\u001b[0m\u001b[0;34m]\u001b[0m\u001b[0;34m)\u001b[0m\u001b[0;34m\u001b[0m\u001b[0;34m\u001b[0m\u001b[0m\n\u001b[1;32m      6\u001b[0m \u001b[0;34m\u001b[0m\u001b[0m\n\u001b[0;32m----> 7\u001b[0;31m \u001b[0mresults\u001b[0m \u001b[0;34m=\u001b[0m \u001b[0mHM\u001b[0m\u001b[0;34m.\u001b[0m\u001b[0mrun\u001b[0m\u001b[0;34m(\u001b[0m\u001b[0mnwaves\u001b[0m\u001b[0;34m=\u001b[0m\u001b[0mnwaves\u001b[0m\u001b[0;34m)\u001b[0m\u001b[0;34m\u001b[0m\u001b[0;34m\u001b[0m\u001b[0m\n\u001b[0m",
      "\u001b[0;32m~/Documents/Uni/Thesis/Code/HistoryMatching/historymatch/historymatch.py\u001b[0m in \u001b[0;36mrun\u001b[0;34m(self, nwaves)\u001b[0m\n\u001b[1;32m    322\u001b[0m             \u001b[0;31m# run history matching wave\u001b[0m\u001b[0;34m\u001b[0m\u001b[0;34m\u001b[0m\u001b[0;34m\u001b[0m\u001b[0m\n\u001b[1;32m    323\u001b[0m             \u001b[0mself\u001b[0m\u001b[0;34m.\u001b[0m\u001b[0mnonimplausible_bounds\u001b[0m\u001b[0;34m,\u001b[0m \u001b[0mnonimplausible_samples\u001b[0m\u001b[0;34m,\u001b[0m \u001b[0mI_samples\u001b[0m\u001b[0;34m,\u001b[0m \u001b[0mmu\u001b[0m\u001b[0;34m,\u001b[0m \u001b[0msd\u001b[0m\u001b[0;34m,\u001b[0m \u001b[0moutput_convergence\u001b[0m\u001b[0;34m,\u001b[0m\u001b[0;31m\\\u001b[0m\u001b[0;34m\u001b[0m\u001b[0;34m\u001b[0m\u001b[0m\n\u001b[0;32m--> 324\u001b[0;31m                                         \u001b[0;34m=\u001b[0m \u001b[0mself\u001b[0m\u001b[0;34m.\u001b[0m\u001b[0mwave\u001b[0m\u001b[0;34m(\u001b[0m\u001b[0mtheta_train\u001b[0m\u001b[0;34m,\u001b[0m \u001b[0mtheta_samples\u001b[0m\u001b[0;34m)\u001b[0m\u001b[0;34m\u001b[0m\u001b[0;34m\u001b[0m\u001b[0m\n\u001b[0m\u001b[1;32m    325\u001b[0m \u001b[0;34m\u001b[0m\u001b[0m\n\u001b[1;32m    326\u001b[0m             \u001b[0mprint\u001b[0m\u001b[0;34m(\u001b[0m\u001b[0;34m'Convergence : '\u001b[0m \u001b[0;34m+\u001b[0m \u001b[0mstr\u001b[0m\u001b[0;34m(\u001b[0m\u001b[0mnp\u001b[0m\u001b[0;34m.\u001b[0m\u001b[0mall\u001b[0m\u001b[0;34m(\u001b[0m\u001b[0moutput_convergence\u001b[0m\u001b[0;34m)\u001b[0m\u001b[0;34m)\u001b[0m\u001b[0;34m)\u001b[0m\u001b[0;34m\u001b[0m\u001b[0;34m\u001b[0m\u001b[0m\n",
      "\u001b[0;32m~/Documents/Uni/Thesis/Code/HistoryMatching/historymatch/historymatch.py\u001b[0m in \u001b[0;36mwave\u001b[0;34m(self, theta_train, theta_samples)\u001b[0m\n\u001b[1;32m    274\u001b[0m         \u001b[0;32melse\u001b[0m\u001b[0;34m:\u001b[0m\u001b[0;34m\u001b[0m\u001b[0;34m\u001b[0m\u001b[0m\n\u001b[1;32m    275\u001b[0m             \u001b[0;31m# ****** fix **********\u001b[0m\u001b[0;34m\u001b[0m\u001b[0;34m\u001b[0m\u001b[0;34m\u001b[0m\u001b[0m\n\u001b[0;32m--> 276\u001b[0;31m             \u001b[0mself\u001b[0m\u001b[0;34m.\u001b[0m\u001b[0mnonimplausible_bounds\u001b[0m \u001b[0;34m=\u001b[0m \u001b[0mutils\u001b[0m\u001b[0;34m.\u001b[0m\u001b[0mlocate_boundaries\u001b[0m\u001b[0;34m(\u001b[0m\u001b[0mnonimplausible_samples\u001b[0m\u001b[0;34m,\u001b[0m \u001b[0mself\u001b[0m\u001b[0;34m.\u001b[0m\u001b[0mndim\u001b[0m\u001b[0;34m)\u001b[0m\u001b[0;34m\u001b[0m\u001b[0;34m\u001b[0m\u001b[0m\n\u001b[0m\u001b[1;32m    277\u001b[0m \u001b[0;34m\u001b[0m\u001b[0m\n\u001b[1;32m    278\u001b[0m         \u001b[0;32mreturn\u001b[0m \u001b[0mself\u001b[0m\u001b[0;34m.\u001b[0m\u001b[0mnonimplausible_bounds\u001b[0m\u001b[0;34m,\u001b[0m \u001b[0mnonimplausible_samples\u001b[0m\u001b[0;34m,\u001b[0m \u001b[0mI_samples\u001b[0m\u001b[0;34m,\u001b[0m \u001b[0mmu\u001b[0m\u001b[0;34m,\u001b[0m \u001b[0msd\u001b[0m\u001b[0;34m,\u001b[0m \u001b[0moutput_convergence\u001b[0m\u001b[0;34m\u001b[0m\u001b[0;34m\u001b[0m\u001b[0m\n",
      "\u001b[0;32m~/Documents/Uni/Thesis/Code/HistoryMatching/historymatch/utils.py\u001b[0m in \u001b[0;36mlocate_boundaries\u001b[0;34m(data, ndim)\u001b[0m\n\u001b[1;32m     28\u001b[0m             \u001b[0;32mreturn\u001b[0m \u001b[0mnp\u001b[0m\u001b[0;34m.\u001b[0m\u001b[0marray\u001b[0m\u001b[0;34m(\u001b[0m\u001b[0;34m[\u001b[0m\u001b[0mdata\u001b[0m\u001b[0;34m[\u001b[0m\u001b[0;34m:\u001b[0m\u001b[0;34m,\u001b[0m\u001b[0mi\u001b[0m\u001b[0;34m]\u001b[0m\u001b[0;34m.\u001b[0m\u001b[0mmin\u001b[0m\u001b[0;34m(\u001b[0m\u001b[0;34m)\u001b[0m\u001b[0;34m,\u001b[0m \u001b[0mdata\u001b[0m\u001b[0;34m[\u001b[0m\u001b[0;34m:\u001b[0m\u001b[0;34m,\u001b[0m\u001b[0mi\u001b[0m\u001b[0;34m]\u001b[0m\u001b[0;34m.\u001b[0m\u001b[0mmax\u001b[0m\u001b[0;34m(\u001b[0m\u001b[0;34m)\u001b[0m\u001b[0;34m]\u001b[0m\u001b[0;34m)\u001b[0m\u001b[0;34m.\u001b[0m\u001b[0mreshape\u001b[0m\u001b[0;34m(\u001b[0m\u001b[0;36m1\u001b[0m\u001b[0;34m,\u001b[0m\u001b[0;34m-\u001b[0m\u001b[0;36m1\u001b[0m\u001b[0;34m)\u001b[0m\u001b[0;34m\u001b[0m\u001b[0;34m\u001b[0m\u001b[0m\n\u001b[1;32m     29\u001b[0m \u001b[0;34m\u001b[0m\u001b[0m\n\u001b[0;32m---> 30\u001b[0;31m         \u001b[0;32mreturn\u001b[0m \u001b[0mnp\u001b[0m\u001b[0;34m.\u001b[0m\u001b[0mconcatenate\u001b[0m\u001b[0;34m(\u001b[0m\u001b[0;34m[\u001b[0m\u001b[0mfind_minmax\u001b[0m\u001b[0;34m(\u001b[0m\u001b[0mdata\u001b[0m\u001b[0;34m,\u001b[0m \u001b[0mi\u001b[0m\u001b[0;34m)\u001b[0m \u001b[0;32mfor\u001b[0m \u001b[0mi\u001b[0m \u001b[0;32min\u001b[0m \u001b[0mrange\u001b[0m\u001b[0;34m(\u001b[0m\u001b[0mndim\u001b[0m\u001b[0;34m)\u001b[0m\u001b[0;34m]\u001b[0m\u001b[0;34m)\u001b[0m\u001b[0;34m\u001b[0m\u001b[0;34m\u001b[0m\u001b[0m\n\u001b[0m",
      "\u001b[0;32m~/Documents/Uni/Thesis/Code/HistoryMatching/historymatch/utils.py\u001b[0m in \u001b[0;36m<listcomp>\u001b[0;34m(.0)\u001b[0m\n\u001b[1;32m     28\u001b[0m             \u001b[0;32mreturn\u001b[0m \u001b[0mnp\u001b[0m\u001b[0;34m.\u001b[0m\u001b[0marray\u001b[0m\u001b[0;34m(\u001b[0m\u001b[0;34m[\u001b[0m\u001b[0mdata\u001b[0m\u001b[0;34m[\u001b[0m\u001b[0;34m:\u001b[0m\u001b[0;34m,\u001b[0m\u001b[0mi\u001b[0m\u001b[0;34m]\u001b[0m\u001b[0;34m.\u001b[0m\u001b[0mmin\u001b[0m\u001b[0;34m(\u001b[0m\u001b[0;34m)\u001b[0m\u001b[0;34m,\u001b[0m \u001b[0mdata\u001b[0m\u001b[0;34m[\u001b[0m\u001b[0;34m:\u001b[0m\u001b[0;34m,\u001b[0m\u001b[0mi\u001b[0m\u001b[0;34m]\u001b[0m\u001b[0;34m.\u001b[0m\u001b[0mmax\u001b[0m\u001b[0;34m(\u001b[0m\u001b[0;34m)\u001b[0m\u001b[0;34m]\u001b[0m\u001b[0;34m)\u001b[0m\u001b[0;34m.\u001b[0m\u001b[0mreshape\u001b[0m\u001b[0;34m(\u001b[0m\u001b[0;36m1\u001b[0m\u001b[0;34m,\u001b[0m\u001b[0;34m-\u001b[0m\u001b[0;36m1\u001b[0m\u001b[0;34m)\u001b[0m\u001b[0;34m\u001b[0m\u001b[0;34m\u001b[0m\u001b[0m\n\u001b[1;32m     29\u001b[0m \u001b[0;34m\u001b[0m\u001b[0m\n\u001b[0;32m---> 30\u001b[0;31m         \u001b[0;32mreturn\u001b[0m \u001b[0mnp\u001b[0m\u001b[0;34m.\u001b[0m\u001b[0mconcatenate\u001b[0m\u001b[0;34m(\u001b[0m\u001b[0;34m[\u001b[0m\u001b[0mfind_minmax\u001b[0m\u001b[0;34m(\u001b[0m\u001b[0mdata\u001b[0m\u001b[0;34m,\u001b[0m \u001b[0mi\u001b[0m\u001b[0;34m)\u001b[0m \u001b[0;32mfor\u001b[0m \u001b[0mi\u001b[0m \u001b[0;32min\u001b[0m \u001b[0mrange\u001b[0m\u001b[0;34m(\u001b[0m\u001b[0mndim\u001b[0m\u001b[0;34m)\u001b[0m\u001b[0;34m]\u001b[0m\u001b[0;34m)\u001b[0m\u001b[0;34m\u001b[0m\u001b[0;34m\u001b[0m\u001b[0m\n\u001b[0m",
      "\u001b[0;32m~/Documents/Uni/Thesis/Code/HistoryMatching/historymatch/utils.py\u001b[0m in \u001b[0;36mfind_minmax\u001b[0;34m(data, i)\u001b[0m\n\u001b[1;32m     26\u001b[0m         '''\n\u001b[1;32m     27\u001b[0m         \u001b[0;32mdef\u001b[0m \u001b[0mfind_minmax\u001b[0m\u001b[0;34m(\u001b[0m\u001b[0mdata\u001b[0m\u001b[0;34m,\u001b[0m \u001b[0mi\u001b[0m\u001b[0;34m)\u001b[0m\u001b[0;34m:\u001b[0m\u001b[0;34m\u001b[0m\u001b[0;34m\u001b[0m\u001b[0m\n\u001b[0;32m---> 28\u001b[0;31m             \u001b[0;32mreturn\u001b[0m \u001b[0mnp\u001b[0m\u001b[0;34m.\u001b[0m\u001b[0marray\u001b[0m\u001b[0;34m(\u001b[0m\u001b[0;34m[\u001b[0m\u001b[0mdata\u001b[0m\u001b[0;34m[\u001b[0m\u001b[0;34m:\u001b[0m\u001b[0;34m,\u001b[0m\u001b[0mi\u001b[0m\u001b[0;34m]\u001b[0m\u001b[0;34m.\u001b[0m\u001b[0mmin\u001b[0m\u001b[0;34m(\u001b[0m\u001b[0;34m)\u001b[0m\u001b[0;34m,\u001b[0m \u001b[0mdata\u001b[0m\u001b[0;34m[\u001b[0m\u001b[0;34m:\u001b[0m\u001b[0;34m,\u001b[0m\u001b[0mi\u001b[0m\u001b[0;34m]\u001b[0m\u001b[0;34m.\u001b[0m\u001b[0mmax\u001b[0m\u001b[0;34m(\u001b[0m\u001b[0;34m)\u001b[0m\u001b[0;34m]\u001b[0m\u001b[0;34m)\u001b[0m\u001b[0;34m.\u001b[0m\u001b[0mreshape\u001b[0m\u001b[0;34m(\u001b[0m\u001b[0;36m1\u001b[0m\u001b[0;34m,\u001b[0m\u001b[0;34m-\u001b[0m\u001b[0;36m1\u001b[0m\u001b[0;34m)\u001b[0m\u001b[0;34m\u001b[0m\u001b[0;34m\u001b[0m\u001b[0m\n\u001b[0m\u001b[1;32m     29\u001b[0m \u001b[0;34m\u001b[0m\u001b[0m\n\u001b[1;32m     30\u001b[0m         \u001b[0;32mreturn\u001b[0m \u001b[0mnp\u001b[0m\u001b[0;34m.\u001b[0m\u001b[0mconcatenate\u001b[0m\u001b[0;34m(\u001b[0m\u001b[0;34m[\u001b[0m\u001b[0mfind_minmax\u001b[0m\u001b[0;34m(\u001b[0m\u001b[0mdata\u001b[0m\u001b[0;34m,\u001b[0m \u001b[0mi\u001b[0m\u001b[0;34m)\u001b[0m \u001b[0;32mfor\u001b[0m \u001b[0mi\u001b[0m \u001b[0;32min\u001b[0m \u001b[0mrange\u001b[0m\u001b[0;34m(\u001b[0m\u001b[0mndim\u001b[0m\u001b[0;34m)\u001b[0m\u001b[0;34m]\u001b[0m\u001b[0;34m)\u001b[0m\u001b[0;34m\u001b[0m\u001b[0;34m\u001b[0m\u001b[0m\n",
      "\u001b[0;32m~/anaconda3/envs/phys/lib/python3.8/site-packages/numpy/core/_methods.py\u001b[0m in \u001b[0;36m_amin\u001b[0;34m(a, axis, out, keepdims, initial, where)\u001b[0m\n\u001b[1;32m     41\u001b[0m def _amin(a, axis=None, out=None, keepdims=False,\n\u001b[1;32m     42\u001b[0m           initial=_NoValue, where=True):\n\u001b[0;32m---> 43\u001b[0;31m     \u001b[0;32mreturn\u001b[0m \u001b[0mumr_minimum\u001b[0m\u001b[0;34m(\u001b[0m\u001b[0ma\u001b[0m\u001b[0;34m,\u001b[0m \u001b[0maxis\u001b[0m\u001b[0;34m,\u001b[0m \u001b[0;32mNone\u001b[0m\u001b[0;34m,\u001b[0m \u001b[0mout\u001b[0m\u001b[0;34m,\u001b[0m \u001b[0mkeepdims\u001b[0m\u001b[0;34m,\u001b[0m \u001b[0minitial\u001b[0m\u001b[0;34m,\u001b[0m \u001b[0mwhere\u001b[0m\u001b[0;34m)\u001b[0m\u001b[0;34m\u001b[0m\u001b[0;34m\u001b[0m\u001b[0m\n\u001b[0m\u001b[1;32m     44\u001b[0m \u001b[0;34m\u001b[0m\u001b[0m\n\u001b[1;32m     45\u001b[0m def _sum(a, axis=None, dtype=None, out=None, keepdims=False,\n",
      "\u001b[0;31mValueError\u001b[0m: zero-size array to reduction operation minimum which has no identity"
     ]
    }
   ],
   "source": [
    "\n",
    "\n",
    "ToyModel = historymatch.Simulator(HM)\n",
    "ToyModel.set_simulator(LiquidDropModel)\n",
    "\n",
    "HM.set_observations(obs_data[start::step], variables=variables, sigma_obs=sigma_obs, sigma_model=sigma_model)\n",
    "HM.initialize_volume(parameter_bounds[:,0], parameter_bounds[:,1])\n",
    "\n",
    "results = HM.run(nwaves=nwaves)"
   ]
  },
  {
   "cell_type": "code",
   "execution_count": null,
   "metadata": {},
   "outputs": [],
   "source": [
    "plot_wave = 1\n",
    "\n",
    "print(results.nonimp_bounds)\n"
   ]
  },
  {
   "cell_type": "code",
   "execution_count": null,
   "metadata": {},
   "outputs": [],
   "source": [
    "#importlib.reload(plot)\n",
    "\n",
    "#fig, axes = plt.subplots(ndim,ndim,figsize=(10,10))\n",
    "\n",
    "#plot.plotcorner(results.I_samples[4], sample_bounds, ndim, bins=20, Fig=(fig,axes), labels=('a0', 'a1', 'a2', 'a3', 'a4'))\n",
    "#axes[1,0].scatter(clf.coef_[0],clf.coef_[1], color='red')\n",
    "#axes[2,0].scatter(clf.coef_[0],clf.coef_[2], color='red')\n",
    "#axes[2,1].scatter(clf.coef_[1],clf.coef_[2], color='red')\n",
    "#axes[3,1].scatter(clf.coef_[1],clf.coef_[3], color='red')\n",
    "#axes[2,3].scatter(clf.coef_[3],clf.coef_[2], color='red')\n",
    "\n",
    "#for i in range(ndim):\n",
    "    #axes[i,i].axvline(clf.coef_[i], color='red')"
   ]
  },
  {
   "cell_type": "code",
   "execution_count": 12,
   "metadata": {},
   "outputs": [
    {
     "ename": "NameError",
     "evalue": "name 'results' is not defined",
     "output_type": "error",
     "traceback": [
      "\u001b[0;31m---------------------------------------------------------------------------\u001b[0m",
      "\u001b[0;31mNameError\u001b[0m                                 Traceback (most recent call last)",
      "\u001b[0;32m<ipython-input-12-35ad75198aa0>\u001b[0m in \u001b[0;36m<module>\u001b[0;34m\u001b[0m\n\u001b[1;32m      3\u001b[0m \u001b[0mcolors\u001b[0m \u001b[0;34m=\u001b[0m \u001b[0;34m[\u001b[0m\u001b[0;34m'turquoise'\u001b[0m\u001b[0;34m,\u001b[0m \u001b[0;34m'cornflowerblue'\u001b[0m\u001b[0;34m,\u001b[0m \u001b[0;34m'mediumpurple'\u001b[0m\u001b[0;34m,\u001b[0m \u001b[0;34m'plum'\u001b[0m\u001b[0;34m,\u001b[0m \u001b[0;34m'lightpink'\u001b[0m\u001b[0;34m,\u001b[0m \u001b[0;34m]\u001b[0m\u001b[0;34m\u001b[0m\u001b[0;34m\u001b[0m\u001b[0m\n\u001b[1;32m      4\u001b[0m \u001b[0;34m\u001b[0m\u001b[0m\n\u001b[0;32m----> 5\u001b[0;31m \u001b[0msample_bounds\u001b[0m \u001b[0;34m=\u001b[0m \u001b[0mutils\u001b[0m\u001b[0;34m.\u001b[0m\u001b[0mlocate_boundaries\u001b[0m\u001b[0;34m(\u001b[0m\u001b[0mresults\u001b[0m\u001b[0;34m.\u001b[0m\u001b[0msamples\u001b[0m\u001b[0;34m[\u001b[0m\u001b[0;34m-\u001b[0m\u001b[0;36m1\u001b[0m\u001b[0;34m]\u001b[0m\u001b[0;34m,\u001b[0m \u001b[0mndim\u001b[0m\u001b[0;34m)\u001b[0m\u001b[0;34m\u001b[0m\u001b[0;34m\u001b[0m\u001b[0m\n\u001b[0m\u001b[1;32m      6\u001b[0m \u001b[0mtempbounds\u001b[0m \u001b[0;34m=\u001b[0m \u001b[0mnp\u001b[0m\u001b[0;34m.\u001b[0m\u001b[0mconcatenate\u001b[0m\u001b[0;34m(\u001b[0m\u001b[0;34m(\u001b[0m\u001b[0msample_bounds\u001b[0m\u001b[0;34m[\u001b[0m\u001b[0;34m-\u001b[0m\u001b[0;36m1\u001b[0m\u001b[0;34m]\u001b[0m\u001b[0;34m.\u001b[0m\u001b[0mreshape\u001b[0m\u001b[0;34m(\u001b[0m\u001b[0;34m-\u001b[0m\u001b[0;36m1\u001b[0m\u001b[0;34m,\u001b[0m\u001b[0;36m1\u001b[0m\u001b[0;34m)\u001b[0m\u001b[0;34m,\u001b[0m\u001b[0msample_bounds\u001b[0m\u001b[0;34m[\u001b[0m\u001b[0;34m-\u001b[0m\u001b[0;36m1\u001b[0m\u001b[0;34m]\u001b[0m\u001b[0;34m.\u001b[0m\u001b[0mreshape\u001b[0m\u001b[0;34m(\u001b[0m\u001b[0;34m-\u001b[0m\u001b[0;36m1\u001b[0m\u001b[0;34m,\u001b[0m\u001b[0;36m1\u001b[0m\u001b[0;34m)\u001b[0m\u001b[0;34m)\u001b[0m\u001b[0;34m,\u001b[0m\u001b[0maxis\u001b[0m\u001b[0;34m=\u001b[0m\u001b[0;36m1\u001b[0m\u001b[0;34m)\u001b[0m\u001b[0;34m.\u001b[0m\u001b[0mT\u001b[0m\u001b[0;34m\u001b[0m\u001b[0;34m\u001b[0m\u001b[0m\n\u001b[1;32m      7\u001b[0m \u001b[0;34m\u001b[0m\u001b[0m\n",
      "\u001b[0;31mNameError\u001b[0m: name 'results' is not defined"
     ]
    }
   ],
   "source": [
    "#importlib.reload(plot)\n",
    "\n",
    "colors = ['turquoise', 'cornflowerblue', 'mediumpurple', 'plum', 'lightpink', ]\n",
    "\n",
    "sample_bounds = utils.locate_boundaries(results.samples[-1], ndim)\n",
    "tempbounds = np.concatenate((sample_bounds[-1].reshape(-1,1),sample_bounds[-1].reshape(-1,1)),axis=1).T\n",
    "\n",
    "true = [4.74783699, -0.20173376,  0.94655788,  0.00783107,  0.32286627]\n",
    "\n",
    "fig, axes = plt.subplots(ndim, ndim, figsize=(15,15))\n",
    "if volshape == 'ellipsoid':\n",
    "    for k in range(nwaves):\n",
    "        mean = np.mean(results.nonimplausible[k][:,:-1].T, axis=1)\n",
    "        cov = np.cov(results.nonimplausible[k][:,:-1].T)\n",
    "        for i in range(ndim):\n",
    "            for j in range(ndim):\n",
    "                ax = axes[j,i]\n",
    "                if i < j:\n",
    "                    cov_matrix = np.array([[cov[i,i], cov[i,j]],[cov[j,i], cov[j,j]]])\n",
    "                    plot.get_cov_ellipse(cov_matrix, [mean[i],mean[j]], 3, 5.991, ax, colors[k])\n",
    "                    #ax.set_xlim([parameter_bounds[i][0],parameter_bounds[i][1]])\n",
    "                    #ax.set_ylim([parameter_bounds[j][0],parameter_bounds[j][1]])\n",
    "                    ax.scatter(true[i],true[j])\n",
    "                elif i == j:\n",
    "                    #ax.plot(theta_vals[i], stats.norm.pdf(theta_vals[i], mean[i], np.sqrt(cov[i,i])), color='plum')\n",
    "                    ax.set_xlim([sample_bounds[i][0],sample_bounds[i][1]])\n",
    "                    #ax.set_title(str(theta_names[i]) + '=' + str(round(theta_best[i], 2)), fontsize=14)\n",
    "                else:\n",
    "                    ax.axis('off')\n",
    "elif volshape == 'hypercube':\n",
    "    for k in range(nwaves):\n",
    "        for i in range(ndim):\n",
    "            for j in range(ndim):\n",
    "                ax = axes[j,i]\n",
    "                if i < j:\n",
    "                    ax.add_patch(Rectangle((results.nonimp_bounds[k][i,0], results.nonimp_bounds[k][j,0]),\\\n",
    "                                           (results.nonimp_bounds[k][i,1]-results.nonimp_bounds[k][i,0]), \\\n",
    "                                           (results.nonimp_bounds[k][j,1]-results.nonimp_bounds[k][j,0]),\\\n",
    "                        color=colors[k],alpha=0.7,label='Nonimp. Hypercube'))\n",
    "                    ax.set_xlim([parameter_bounds[i][0],parameter_bounds[i][1]])\n",
    "                    ax.set_ylim([parameter_bounds[j][0],parameter_bounds[j][1]])\n",
    "                    ax.scatter(true[i],true[j])\n",
    "                else:\n",
    "                    ax.axis('off')\n"
   ]
  },
  {
   "cell_type": "code",
   "execution_count": null,
   "metadata": {},
   "outputs": [],
   "source": []
  },
  {
   "cell_type": "code",
   "execution_count": null,
   "metadata": {},
   "outputs": [],
   "source": []
  },
  {
   "cell_type": "code",
   "execution_count": null,
   "metadata": {},
   "outputs": [],
   "source": [
    "fig, ax = plt.subplots(figsize=(15,15))\n",
    "\n",
    "col = np.where(results.I_samples[0][:,-1]<3,'g','r')\n",
    "#col2 = np.where(results.I_samples[1][:,-1]<3,'g','r')\n",
    "col = 'red'\n",
    "\n",
    "#print(np.where(results.I_samples[0][:,-1]<3))\n",
    "#ax.scatter(results.I_samples[0][:,0], results.I_samples[0][:,1], s=40, color=col, edgecolor='black')\n",
    "\n",
    "ax.scatter(results.samples[1][:,1], results.samples[1][:,2], s=40, color='gold', edgecolor='black')\n",
    "ax.scatter(results.nonimplausible[0][:,1], results.nonimplausible[0][:,2], s=40, color='red', edgecolor='black')\n",
    "\n",
    "#ax.scatter(results.I_samples[1][:,0], results.I_samples[1][:,1], s=40, color=col2, edgecolor='black')\n",
    "\n",
    "#ax.scatter(results.training_pts[0][:,0], results.training_pts[0][:,1], s=40, color=col, edgecolor='black')\n",
    "\n",
    "print(results.I_samples[0][19453])\n",
    "#ax.set_xlim([1,5])\n",
    "#ax.set_ylim([1,5])\n",
    "print(true)\n"
   ]
  },
  {
   "cell_type": "code",
   "execution_count": null,
   "metadata": {},
   "outputs": [],
   "source": []
  },
  {
   "cell_type": "code",
   "execution_count": null,
   "metadata": {},
   "outputs": [],
   "source": []
  },
  {
   "cell_type": "code",
   "execution_count": null,
   "metadata": {},
   "outputs": [],
   "source": []
  },
  {
   "cell_type": "code",
   "execution_count": null,
   "metadata": {},
   "outputs": [],
   "source": []
  },
  {
   "cell_type": "code",
   "execution_count": null,
   "metadata": {},
   "outputs": [],
   "source": []
  },
  {
   "cell_type": "code",
   "execution_count": null,
   "metadata": {},
   "outputs": [],
   "source": []
  },
  {
   "cell_type": "code",
   "execution_count": null,
   "metadata": {},
   "outputs": [],
   "source": []
  },
  {
   "cell_type": "code",
   "execution_count": null,
   "metadata": {},
   "outputs": [],
   "source": []
  },
  {
   "cell_type": "code",
   "execution_count": null,
   "metadata": {},
   "outputs": [],
   "source": []
  }
 ],
 "metadata": {
  "kernelspec": {
   "display_name": "Python 3",
   "language": "python",
   "name": "python3"
  },
  "language_info": {
   "codemirror_mode": {
    "name": "ipython",
    "version": 3
   },
   "file_extension": ".py",
   "mimetype": "text/x-python",
   "name": "python",
   "nbconvert_exporter": "python",
   "pygments_lexer": "ipython3",
   "version": "3.8.8"
  }
 },
 "nbformat": 4,
 "nbformat_minor": 4
}
