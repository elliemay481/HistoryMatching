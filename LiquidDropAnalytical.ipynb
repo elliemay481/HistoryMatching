{
 "cells": [
  {
   "cell_type": "code",
   "execution_count": 1,
   "metadata": {},
   "outputs": [],
   "source": [
    "# import internal files\n",
    "from historymatch import emulators\n",
    "from historymatch import sample\n",
    "from historymatch import historymatch\n",
    "from historymatch import plot\n",
    "\n",
    "\n",
    "# import external modules\n",
    "import numpy as np\n",
    "import matplotlib.pyplot as plt\n",
    "from scipy import stats\n",
    "import os\n",
    "#from matplotlib import rc\n",
    "import pandas as pd\n",
    "#import statsmodels.api as sm\n",
    "import importlib\n",
    "from sklearn.metrics import mean_squared_error, r2_score, mean_absolute_error\n",
    "\n",
    "import sklearn.linear_model as skl\n",
    "\n",
    "plt.rcParams.update({'font.size': 10})\n",
    "\n",
    "#rc('font',**{'family':'serif'})\n",
    "#rc('text', usetex=True)\n",
    "\n",
    "np.random.seed(4)"
   ]
  },
  {
   "cell_type": "code",
   "execution_count": 2,
   "metadata": {},
   "outputs": [],
   "source": [
    "# import data\n",
    "\n",
    "with open(\"data/MassEval2016.dat\",'r') as infile:\n",
    "    Masses = pd.read_fwf(infile, usecols=(2,3,4,6,11,12),\n",
    "              names=('N', 'Z', 'A', 'Element', 'Ebinding', 'E_unc'),\n",
    "              widths=(1,3,5,5,5,1,3,4,1,13,11,11,9,1,2,11,9,1,3,1,12,11,1),\n",
    "              header=64,\n",
    "              index_col=False)\n",
    "    \n",
    "# Extrapolated values are indicated by '#' in place of the decimal place, so\n",
    "# the Ebinding column won't be numeric. Coerce to float and drop these entries.\n",
    "Masses['Ebinding'] = pd.to_numeric(Masses['Ebinding'], errors='coerce')\n",
    "Masses = Masses.dropna()\n",
    "Masses['E_unc'] = pd.to_numeric(Masses['E_unc'], errors='coerce')\n",
    "Masses = Masses.dropna()\n",
    "# Convert from keV to MeV.\n",
    "Masses['Ebinding'] /= 1000\n",
    "Masses['E_unc'] /= 1000\n",
    "\n",
    "# Group the DataFrame by nucleon number, A.\n",
    "Masses = Masses.groupby('A')\n",
    "# Find the rows of the grouped DataFrame with the maximum binding energy.\n",
    "Masses = Masses.apply(lambda t: t[t.Ebinding==t.Ebinding.max()])\n",
    "\n",
    "A0 = Masses['A'].to_numpy()\n",
    "Z0 = Masses['Z'].to_numpy()\n",
    "N0 = Masses['N'].to_numpy()\n",
    "Element = Masses['Element'].to_numpy()\n",
    "Energies0 = Masses['Ebinding'].to_numpy()\n",
    "\n",
    "#Energies_unc = Masses['E_unc'].to_numpy()\n",
    "Energies_unc0 = Masses['E_unc'].to_numpy()\n"
   ]
  },
  {
   "cell_type": "code",
   "execution_count": 3,
   "metadata": {},
   "outputs": [
    {
     "name": "stdout",
     "output_type": "stream",
     "text": [
      "20\n"
     ]
    }
   ],
   "source": [
    "# select spaced energies over interval\n",
    "\n",
    "start = 20\n",
    "step = 10\n",
    "stop = 218\n",
    "\n",
    "Energies = Energies0[start:stop:step]\n",
    "Energies_unc = Energies_unc0[start:stop:step]\n",
    "A = A0[start:stop:step]\n",
    "Z = Z0[start:stop:step]\n",
    "N = N0[start:stop:step]\n",
    "\n",
    "print(len(A))"
   ]
  },
  {
   "cell_type": "code",
   "execution_count": 4,
   "metadata": {},
   "outputs": [],
   "source": [
    "ndim = 6"
   ]
  },
  {
   "cell_type": "code",
   "execution_count": 5,
   "metadata": {},
   "outputs": [],
   "source": [
    "# define parameter space\n",
    "\n",
    "\n",
    "theta_0_bound = np.array([4, 5]).reshape(1,-1)\n",
    "theta_1_bound = np.array([-0.25, -0.15]).reshape(1,-1)\n",
    "theta_2_bound = np.array([0.8, 1.1]).reshape(1,-1)\n",
    "theta_3_bound = np.array([0.006, 0.009]).reshape(1,-1) # keep\n",
    "theta_4_bound = np.array([0.25, 0.4]).reshape(1,-1)\n",
    "theta_5_bound = np.array([-0.1, 0.1]).reshape(1,-1)\n",
    "\n",
    "\n",
    "parameter_bounds = np.concatenate((theta_0_bound, theta_1_bound, \\\n",
    "                                   theta_2_bound, theta_3_bound, theta_4_bound, theta_5_bound), axis=0)\n",
    "\n",
    "#parameter_bounds = np.concatenate((theta_0_bound, theta_1_bound, theta_2_bound), axis=0)\n",
    "\n",
    "\n",
    "\n",
    "theta_0_vals = np.linspace(parameter_bounds[0,0], parameter_bounds[0,1], 100)\n",
    "theta_1_vals = np.linspace(parameter_bounds[1,0], parameter_bounds[1,1], 100)\n",
    "theta_2_vals = np.linspace(parameter_bounds[2,0], parameter_bounds[2,1], 100)\n",
    "theta_3_vals = np.linspace(parameter_bounds[3,0], parameter_bounds[3,1], 100)\n",
    "theta_4_vals = np.linspace(parameter_bounds[4,0], parameter_bounds[4,1], 100)\n",
    "theta_5_vals = np.linspace(parameter_bounds[5,0], parameter_bounds[5,1], 100)\n",
    "\n",
    "\n",
    "theta_vals = np.concatenate((theta_0_vals.reshape(1,-1), theta_1_vals.reshape(1,-1), theta_2_vals.reshape(1,-1), theta_3_vals.reshape(1,-1), theta_4_vals.reshape(1,-1), theta_5_vals.reshape(1,-1)), axis=0)\n"
   ]
  },
  {
   "cell_type": "code",
   "execution_count": 6,
   "metadata": {},
   "outputs": [],
   "source": [
    "def LiquidDropModel(A, Z, N, **parameters):\n",
    "    \n",
    "    indep_var = [1, A, (A**(2.0/3.0)), Z*(Z-1)*(A**(-1.0/3.0)), \\\n",
    "                 ((N-Z)**2)/A, ( (-1)**Z + (-1)**N )*(2*A**(-0.5))]\n",
    "    \n",
    "    E_B = 0\n",
    "    \n",
    "    for i in range(len(parameters)):\n",
    "        E_B += parameters[i]*indep_var[i]\n",
    "    \n",
    "    return E_B\n",
    "\n",
    "\n",
    "def LiquidDropModelTrue(a0, a1, a2, A, Z, N):\n",
    "    \n",
    "    return a0 + a1*A + a2*(A**(2.0/3.0))\n"
   ]
  },
  {
   "cell_type": "code",
   "execution_count": 7,
   "metadata": {},
   "outputs": [],
   "source": [
    "indep_var = [1, A, (A**(2.0/3.0)), Z*(Z-1)*(A**(-1.0/3.0)), \\\n",
    "                 ((N-Z)**2)/A, ( (-1)**Z + (-1)**N )*(0.5*A**(-0.5))]\n",
    "\n",
    "def design_matrix(ndim):\n",
    "    # design matrix X\n",
    "    X = np.zeros((len(A),ndim))\n",
    "    for i in range(ndim):\n",
    "        X[:,i] = indep_var[i]\n",
    "    return X\n",
    "\n",
    "\n",
    "\n",
    "X3d = np.zeros((len(A),3))\n",
    "for i in range(3):\n",
    "    X3d[:,0] = np.ones_like(A)\n",
    "    X3d[:,1] = A\n",
    "    X3d[:,2] = A**(2.0/3.0)\n",
    "    \n",
    "\n",
    "X2 = np.zeros((len(A),ndim))\n",
    "for i in range(ndim):\n",
    "    X2[:,1] = A\n",
    "    X2[:,2] = A**(2.0/3.0)\n",
    "    X2[:,3] = Z*(Z-1) * A**(-1.0/3.0)"
   ]
  },
  {
   "cell_type": "code",
   "execution_count": 8,
   "metadata": {},
   "outputs": [
    {
     "name": "stdout",
     "output_type": "stream",
     "text": [
      "3D coefficients : [ 7.74334374 -0.03040247  0.18174965]\n",
      "4D coefficients : [ 7.69238774e+00 -3.55989857e-02  2.00592911e-01  4.21171003e-04]\n",
      "5D coefficients : [ 6.24177096e+00 -1.29810213e-01  6.03947318e-01  5.20010114e-03\n",
      "  1.67014751e-01]\n",
      "6D coefficients : [ 5.44610049 -0.14743988  0.69859832  0.00589866  0.1902901   2.02208301]\n",
      "3D sigma_model : 0.04623778059269347\n",
      "4D sigma_model : 0.047224934280168954\n",
      "5D sigma_model : 0.024646962818746468\n",
      "6D sigma_model : 0.02547429555409178\n"
     ]
    }
   ],
   "source": [
    "clf_3d = skl.LinearRegression(fit_intercept=False).fit(design_matrix(3), Energies)\n",
    "\n",
    "clf_4d = skl.LinearRegression(fit_intercept=False).fit(design_matrix(4), Energies)\n",
    "\n",
    "clf_5d = skl.LinearRegression(fit_intercept=False).fit(design_matrix(5), Energies)\n",
    "\n",
    "clf_6d = skl.LinearRegression(fit_intercept=False).fit(design_matrix(6), Energies)\n",
    "\n",
    "clf_3d2 = skl.LinearRegression(fit_intercept=False).fit(X2, Energies)\n",
    "\n",
    "print('3D coefficients : ' + str(clf_3d.coef_))\n",
    "print('4D coefficients : ' + str(clf_4d.coef_))\n",
    "print('5D coefficients : ' + str(clf_5d.coef_))\n",
    "print('6D coefficients : ' + str(clf_6d.coef_))\n",
    "preds_6d = clf_6d.predict(design_matrix(6))\n",
    "preds_5d = clf_5d.predict(design_matrix(5))\n",
    "preds_4d = clf_4d.predict(design_matrix(4))\n",
    "preds_3d = clf_3d.predict(X3d)\n",
    "\n",
    "preds_3d2 = clf_3d2.predict(X2)\n",
    "\n",
    "err3d = np.sum(np.square(Energies-preds_3d))\n",
    "err4d = np.sum(np.square(Energies-preds_4d))\n",
    "err5d = np.sum(np.square(Energies-preds_5d))\n",
    "err6d = np.sum(np.square(Energies-preds_6d))\n",
    "\n",
    "pred_sigmas = [np.sqrt(err3d / (len(Energies) - 3)), np.sqrt(err4d / (len(Energies) - 4)), \\\n",
    "                np.sqrt(err5d / (len(Energies) - 5)), np.sqrt(err6d / (len(Energies) - 6))]\n",
    "#pred_sigma = np.sqrt(np.var(err))\n",
    "pred_sigma_6d = np.sqrt(err6d / (len(Energies) - 6))\n",
    "pred_sigma_5d = np.sqrt(err5d / (len(Energies) - 5))\n",
    "pred_sigma_4d = np.sqrt(err4d / (len(Energies) - 4))\n",
    "pred_sigma_3d = np.sqrt(err3d / (len(Energies) - 3))\n",
    "\n",
    "print('3D sigma_model : ' + str(pred_sigma_3d) )\n",
    "print('4D sigma_model : ' + str(pred_sigma_4d) )\n",
    "print('5D sigma_model : ' + str(pred_sigma_5d) )\n",
    "print('6D sigma_model : ' + str(pred_sigma_6d) )\n",
    "\n"
   ]
  },
  {
   "cell_type": "code",
   "execution_count": 9,
   "metadata": {},
   "outputs": [
    {
     "data": {
      "text/plain": [
       "Text(0.5, 1.0, '24 Output Predictions, 6D Model (aV,aS,aC)')"
      ]
     },
     "execution_count": 9,
     "metadata": {},
     "output_type": "execute_result"
    },
    {
     "data": {
      "image/png": "[encoded data removed]",
      "text/plain": [
       "<Figure size 1080x360 with 6 Axes>"
      ]
     },
     "metadata": {
      "needs_background": "light"
     },
     "output_type": "display_data"
    }
   ],
   "source": [
    "# check for most important active variables\n",
    "\n",
    "\n",
    "fig, axes = plt.subplots(2,3,figsize=(15,5))\n",
    "axes[0,0].scatter(A, preds_6d, color='black', s=15)\n",
    "axes[0,0].plot(A0, Energies0, color='red')\n",
    "axes[0,0].set_xlabel('A')\n",
    "axes[0,0].set_ylabel(r'$E_{B}$ (MeV)')\n",
    "axes[0,0].set_title('24 Output Predictions, 6D Model')\n",
    "\n",
    "axes[1,0].scatter(A, preds_3d, color='black', s=15)\n",
    "axes[1,0].plot(A0, Energies0, color='red')\n",
    "axes[1,0].set_xlabel('A')\n",
    "axes[1,0].set_ylabel(r'$E_{B}$ (MeV)')\n",
    "axes[1,0].set_title('24 Output Predictions, 3D Model (a0,aV,aS)')\n",
    "\n",
    "axes[1,1].scatter(A, preds_3d2, color='black', s=15)\n",
    "axes[1,1].plot(A0, Energies0, color='red')\n",
    "axes[1,1].set_xlabel('A')\n",
    "axes[1,1].set_ylabel(r'$E_{B}$ (MeV)')\n",
    "axes[1,1].set_title('24 Output Predictions, 6D Model (aV,aS,aC)')\n"
   ]
  },
  {
   "cell_type": "code",
   "execution_count": 10,
   "metadata": {},
   "outputs": [
    {
     "name": "stdout",
     "output_type": "stream",
     "text": [
      "[0.002137932393200561, 0.002230194456828777, 0.0006074728152511708, 0.0006489397730397202]\n"
     ]
    }
   ],
   "source": [
    "variances = []\n",
    "for i in range(4):\n",
    "    variances.append(np.mean(Energies_unc)**2 + pred_sigmas[i]**2)\n",
    "\n",
    "print(variances)"
   ]
  },
  {
   "cell_type": "code",
   "execution_count": 11,
   "metadata": {},
   "outputs": [],
   "source": [
    "def A_matrix(X_d, variance):\n",
    "    for i in range(X_d.shape[0]):\n",
    "        X_d[i] = X_d[i] / np.sqrt(variance)\n",
    "    return X_d"
   ]
  },
  {
   "cell_type": "code",
   "execution_count": 12,
   "metadata": {},
   "outputs": [],
   "source": [
    "def H_matrix(A):\n",
    "    return np.linalg.inv(A.T.dot(A))\n",
    "\n",
    "def covariance(X_d, variance):\n",
    "    return variance*np.linalg.inv(X_d.T.dot(X_d))"
   ]
  },
  {
   "cell_type": "code",
   "execution_count": 13,
   "metadata": {},
   "outputs": [],
   "source": [
    "A_matrices = []\n",
    "b = []\n",
    "\n",
    "for i in range(4):\n",
    "    A_matrices.append(A_matrix(design_matrix(i+3), variances[i]))\n",
    "    b.append(Energies / np.sqrt(variances[i]))\n",
    "\n",
    "\n",
    "#A3d = A_matrix(X3d, variance)\n",
    "#b = Energies / np.sqrt(variance)\n"
   ]
  },
  {
   "cell_type": "code",
   "execution_count": 14,
   "metadata": {},
   "outputs": [],
   "source": [
    "def solve_theta(A, b):\n",
    "    theta_best = ((np.linalg.inv(A.T.dot(A))).dot(A.T)).dot(b)\n",
    "    return theta_best.flatten()"
   ]
  },
  {
   "cell_type": "code",
   "execution_count": 15,
   "metadata": {},
   "outputs": [],
   "source": [
    "thetas = []\n",
    "for i in range(4):\n",
    "    thetas.append(solve_theta(A_matrices[i], b[i]))"
   ]
  },
  {
   "cell_type": "code",
   "execution_count": 16,
   "metadata": {},
   "outputs": [
    {
     "name": "stdout",
     "output_type": "stream",
     "text": [
      "[[ 1.34926018e-02  2.47329963e-04 -1.82075682e-03]\n",
      " [ 2.47329963e-04  4.93584523e-06 -3.55221255e-05]\n",
      " [-1.82075682e-03 -3.55221255e-05  2.57320485e-04]]\n",
      "[[ 2.28256448e-02  1.15041173e-03 -5.13532115e-03 -7.23285145e-05]\n",
      " [ 1.15041173e-03  9.61571100e-05 -3.67063003e-04 -7.37609935e-06]\n",
      " [-5.13532115e-03 -3.67063003e-04  1.46507728e-03  2.67467071e-05]\n",
      " [-7.23285145e-05 -7.37609935e-06  2.67467071e-05  5.97823121e-07]]\n",
      "[[ 5.43261222e-02  3.43780856e-03 -1.47757694e-02 -1.78191300e-04\n",
      "  -5.53893368e-03]\n",
      " [ 3.43780856e-03  2.29111391e-04 -9.68759246e-04 -1.23023802e-05\n",
      "  -3.59729560e-04]\n",
      " [-1.47757694e-02 -9.68759246e-04  4.11863177e-03  5.13547147e-05\n",
      "   1.54014026e-03]\n",
      " [-1.78191300e-04 -1.23023802e-05  5.13547147e-05  6.84970025e-07\n",
      "   1.82475326e-05]\n",
      " [-5.53893368e-03 -3.59729560e-04  1.54014026e-03  1.82475326e-05\n",
      "   6.37717444e-04]]\n",
      "[[ 1.53107783e+01  3.41627407e-01 -1.83021319e+00 -1.35815160e-02\n",
      "  -4.52097917e-01 -3.87626727e+01]\n",
      " [ 3.41627407e-01  7.73281566e-03 -4.12371734e-02 -3.09850013e-04\n",
      "  -1.02703118e-02 -8.58864246e-01]\n",
      " [-1.83021319e+00 -4.12371734e-02  2.20239754e-01  1.64783978e-03\n",
      "   5.47218511e-02  4.61111200e+00]\n",
      " [-1.35815160e-02 -3.09850013e-04  1.64783978e-03  1.24885098e-05\n",
      "   4.11218076e-04  3.40317258e-02]\n",
      " [-4.52097917e-01 -1.02703118e-02  5.47218511e-02  4.11218076e-04\n",
      "   1.37331554e-02  1.13390509e+00]\n",
      " [-3.87626727e+01 -8.58864246e-01  4.61111200e+00  3.40317258e-02\n",
      "   1.13390509e+00  9.85098037e+01]]\n"
     ]
    }
   ],
   "source": [
    "H_matrices = []\n",
    "\n",
    "for i in range(4):\n",
    "    H_matrices.append(H_matrix(A_matrices[i]))\n",
    "    print(H_matrix(A_matrices[i]))\n"
   ]
  },
  {
   "cell_type": "code",
   "execution_count": 17,
   "metadata": {},
   "outputs": [],
   "source": [
    "def get_cov_ellipse(cov, centre, nstd, ax, color):\n",
    "    \"\"\"\n",
    "    Return a matplotlib Ellipse patch representing the covariance matrix\n",
    "    cov centred at centre and scaled by the factor nstd.\n",
    "\n",
    "    \"\"\"\n",
    "\n",
    "    # Find and sort eigenvalues and eigenvectors into descending order\n",
    "    eigvals, eigvecs = np.linalg.eigh(cov)\n",
    "    order = eigvals.argsort()[::-1]\n",
    "    eigvals, eigvecs = eigvals[order], eigvecs[:, order]\n",
    "\n",
    "    # The anti-clockwise angle to rotate our ellipse by \n",
    "    vx, vy = eigvecs[:,0][0], eigvecs[:,0][1]\n",
    "    theta = np.arctan2(vy, vx)\n",
    "\n",
    "    # Width and height of ellipse to draw\n",
    "    width, height = 2 * np.sqrt(5.991) * np.sqrt(np.abs(eigvals))\n",
    "    \n",
    "    t = np.linspace(0, 2*np.pi, 100)\n",
    "    Ell = np.array([0.5*width*np.cos(t) , 0.5*height*np.sin(t)]) \n",
    "    R_rot = np.array([[np.cos(theta) , -np.sin(theta)],[np.sin(theta), np.cos(theta)]])  \n",
    "    Ell_rot = np.zeros((2,Ell.shape[1]))\n",
    "    for i in range(Ell.shape[1]):\n",
    "        Ell_rot[:,i] = np.dot(R_rot,Ell[:,i])\n",
    "    \n",
    "    ax.plot( centre[0]+Ell_rot[0,:] , centre[1]+Ell_rot[1,:], color=color)\n",
    "    #ax.plot(Ell_rot[:,0], Ell_rot[:,1])"
   ]
  },
  {
   "cell_type": "code",
   "execution_count": 18,
   "metadata": {},
   "outputs": [],
   "source": [
    "def plot_ellipses(fig, parameter_bounds, H, theta_best, theta_vals, color):\n",
    "    theta_names = [r'$a_{0}$', r'$a_{V}$', r'$a_{S}$', r'$a_{C}$', r'$a_{A}$', r'$a_{P}$']\n",
    "    \n",
    "    \n",
    "    N = len(theta_best)\n",
    "    for i in range(N):\n",
    "        for j in range(N):\n",
    "            ax = fig.axes[i + N*j]\n",
    "            if i != 0:\n",
    "                ax.axes.yaxis.set_visible(False)\n",
    "                \n",
    "            if i == j:\n",
    "                ax.axis('off')\n",
    "                #ax_right = ax.twinx()\n",
    "                #ax_right.plot(theta_vals[i], stats.norm.pdf(theta_vals[i], theta_best[i], np.sqrt(H[i,i])), color=color)\n",
    "                #if i == 3:\n",
    "                    #ax_right.set_title(str(theta_names[i]) + '=' + str(round(theta_best[i], 3)) + r'$\\pm$' + \\\n",
    "                                   #str(round(np.sqrt(H[i,i]),4)), fontsize=14)\n",
    "                #else:\n",
    "                    #ax_right.set_title(str(theta_names[i]) + '=' + str(round(theta_best[i], 3)) + r'$\\pm$' + \\\n",
    "                                       #str(round(np.sqrt(H[i,i]),3)), fontsize=14)\n",
    "                \n",
    "            elif i < j:\n",
    "                cov_matrix = np.array([[H[i,i], H[i,j]],[H[j,i], H[j,j]]])\n",
    "                get_cov_ellipse(cov_matrix, [theta_best[i], theta_best[j]], 3, ax, color)\n",
    "                ax.set_ylabel(theta_names[j])\n",
    "                ax.set_xlabel(theta_names[i])\n",
    "                #ax.set_xlim([parameter_bounds[i,0], parameter_bounds[i,1]])\n",
    "                #zax.set_ylim([parameter_bounds[j,0], parameter_bounds[j,1]])\n",
    "                \n",
    "            else:\n",
    "                ax.axis('off')\n",
    "                \n",
    "    plt.tight_layout()"
   ]
  },
  {
   "cell_type": "code",
   "execution_count": 19,
   "metadata": {},
   "outputs": [],
   "source": [
    "color_list = ['black', 'plum', 'mediumaquamarine', 'red']\n",
    "N = ndim\n",
    "#fig, axes = plt.subplots(N,N,figsize=(15,15))\n",
    "\n",
    "#plot_ellipses(fig, parameter_bounds, theta, H1, theta, theta_vals, color_list[0])\n",
    "#fig.suptitle(r'Analytical Likelihood (95% Isoprobability Surface)')\n",
    "#plt.savefig('figures/LD_analytical.png', bbox_inches='tight', facecolor='white', transparent=False)"
   ]
  },
  {
   "cell_type": "code",
   "execution_count": 20,
   "metadata": {},
   "outputs": [
    {
     "data": {
      "image/png": "[encoded data removed]",
      "text/plain": [
       "<Figure size 432x288 with 1 Axes>"
      ]
     },
     "metadata": {
      "needs_background": "light"
     },
     "output_type": "display_data"
    }
   ],
   "source": [
    "fig, ax = plt.subplots()\n",
    "for k in range(2):\n",
    "    H = H_matrices[2]\n",
    "    cov_matrix = np.array([[H[0,0], H[0,1]],[H[1,0], H[1,1]]])\n",
    "    get_cov_ellipse(cov_matrix, [thetas[2][0],thetas[2][1]], 3, ax, 'red')"
   ]
  },
  {
   "cell_type": "code",
   "execution_count": null,
   "metadata": {},
   "outputs": [],
   "source": []
  },
  {
   "cell_type": "code",
   "execution_count": 21,
   "metadata": {},
   "outputs": [],
   "source": [
    "#file2 = open(\"data/3D_analytic_mean.txt\", \"w\")\n",
    "\n",
    "#np.savetxt(file2, theta)\n",
    "    \n",
    "#file2.close()\n",
    "\n",
    "#file1 = open(\"data/3D_analytic_cov.txt\", \"w\")\n",
    "\n",
    "#for i in range(H3d.shape[0]):\n",
    "    #np.savetxt(file1, H3d[i])\n",
    "    \n",
    "#file1.close()\n",
    "\n",
    "\n",
    "file2 = open(\"data/5D_analytic_mean.txt\", \"w\")\n",
    "\n",
    "np.savetxt(file2, thetas[2])\n",
    "    \n",
    "file2.close()\n",
    "\n",
    "file1 = open(\"data/5D_analytic_cov.txt\", \"w\")\n",
    "\n",
    "for i in range(H_matrices[2].shape[0]):\n",
    "    np.savetxt(file1, H_matrices[2][i])\n",
    "    \n",
    "file1.close()\n"
   ]
  },
  {
   "cell_type": "code",
   "execution_count": null,
   "metadata": {},
   "outputs": [],
   "source": []
  },
  {
   "cell_type": "code",
   "execution_count": null,
   "metadata": {},
   "outputs": [],
   "source": []
  },
  {
   "cell_type": "code",
   "execution_count": null,
   "metadata": {},
   "outputs": [],
   "source": []
  },
  {
   "cell_type": "code",
   "execution_count": null,
   "metadata": {},
   "outputs": [],
   "source": []
  },
  {
   "cell_type": "code",
   "execution_count": null,
   "metadata": {},
   "outputs": [],
   "source": []
  },
  {
   "cell_type": "code",
   "execution_count": null,
   "metadata": {},
   "outputs": [],
   "source": []
  }
 ],
 "metadata": {
  "kernelspec": {
   "display_name": "Python 3",
   "language": "python",
   "name": "python3"
  },
  "language_info": {
   "codemirror_mode": {
    "name": "ipython",
    "version": 3
   },
   "file_extension": ".py",
   "mimetype": "text/x-python",
   "name": "python",
   "nbconvert_exporter": "python",
   "pygments_lexer": "ipython3",
   "version": "3.9.1"
  }
 },
 "nbformat": 4,
 "nbformat_minor": 4
}
