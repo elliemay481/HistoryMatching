{
 "cells": [
  {
   "cell_type": "code",
   "execution_count": 1,
   "metadata": {},
   "outputs": [],
   "source": [
    "import numpy as np\n",
    "import matplotlib.pyplot as plt\n",
    "import random"
   ]
  },
  {
   "cell_type": "code",
   "execution_count": 2,
   "metadata": {},
   "outputs": [],
   "source": [
    "# import internal files\n",
    "import emulator\n",
    "import kernels\n",
    "import data\n",
    "import historymatch\n",
    "import plot"
   ]
  },
  {
   "cell_type": "code",
   "execution_count": 5,
   "metadata": {},
   "outputs": [],
   "source": [
    "def model_eqn_1(x, y, a):\n",
    "    return np.cos(np.sqrt(x**2 + 2*y**2 + 3*a**2))\n",
    "    #return a + y + x\n",
    "    \n",
    "model1 = np.vectorize(model_eqn_1)"
   ]
  },
  {
   "cell_type": "code",
   "execution_count": 4,
   "metadata": {},
   "outputs": [],
   "source": [
    "def model_eqn_2(x, y, a):\n",
    "    #return np.sin(np.sqrt(x**2 + 4*y**2 + 2*a**2))\n",
    "    return a**2 - y + x\n",
    "\n",
    "model2 = np.vectorize(model_eqn_2)"
   ]
  },
  {
   "cell_type": "code",
   "execution_count": 6,
   "metadata": {},
   "outputs": [],
   "source": [
    "# define parameter space\n",
    "x_bound = np.array([-2, 2]).reshape(1,-1)\n",
    "y_bound = np.array([-2, 2]).reshape(1,-1)\n",
    "a_bound = np.array([-2, 2]).reshape(1,-1)\n",
    "input_bounds = np.concatenate((x_bound, y_bound, a_bound), axis=0)"
   ]
  },
  {
   "cell_type": "code",
   "execution_count": 7,
   "metadata": {},
   "outputs": [],
   "source": [
    "# for testing: true datapoints\n",
    "true_x = -0.1\n",
    "true_y = 1.2\n",
    "true_a = 0.3\n",
    "true_parameters = [true_x, true_y, true_a]\n",
    "var_exp = 0.001        # observational uncertainty variance\n",
    "z_1 = model_eqn_1(true_x, true_y, true_a) + np.random.normal(0,var_exp) # observed datapoint\n",
    "z_2 = model_eqn_2(true_x, true_y, true_a) + np.random.normal(0,var_exp) # observed datapoint"
   ]
  },
  {
   "cell_type": "code",
   "execution_count": 8,
   "metadata": {},
   "outputs": [],
   "source": [
    "# simulation parameters\n",
    "Ntraining = 50          # number of training points\n",
    "ndim = 3        # model dimensions\n",
    "Nsamples = 10000    # number of test points"
   ]
  },
  {
   "cell_type": "code",
   "execution_count": 10,
   "metadata": {},
   "outputs": [
    {
     "ename": "SyntaxError",
     "evalue": "unexpected EOF while parsing (<ipython-input-10-0b99df3752b9>, line 4)",
     "output_type": "error",
     "traceback": [
      "\u001b[0;36m  File \u001b[0;32m\"<ipython-input-10-0b99df3752b9>\"\u001b[0;36m, line \u001b[0;32m4\u001b[0m\n\u001b[0;31m    \u001b[0m\n\u001b[0m    ^\u001b[0m\n\u001b[0;31mSyntaxError\u001b[0m\u001b[0;31m:\u001b[0m unexpected EOF while parsing\n"
     ]
    }
   ],
   "source": [
    "fig, (ax1, ax2, ax3) = plt.subplots(3,1)\n",
    "# x/y\n",
    "ax1.plot(model1(x_bound))\n",
    "    "
   ]
  },
  {
   "cell_type": "code",
   "execution_count": null,
   "metadata": {},
   "outputs": [],
   "source": []
  }
 ],
 "metadata": {
  "kernelspec": {
   "display_name": "Python 3",
   "language": "python",
   "name": "python3"
  },
  "language_info": {
   "codemirror_mode": {
    "name": "ipython",
    "version": 3
   },
   "file_extension": ".py",
   "mimetype": "text/x-python",
   "name": "python",
   "nbconvert_exporter": "python",
   "pygments_lexer": "ipython3",
   "version": "3.8.8"
  }
 },
 "nbformat": 4,
 "nbformat_minor": 4
}
