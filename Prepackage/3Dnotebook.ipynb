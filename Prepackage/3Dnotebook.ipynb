{
 "cells": [
  {
   "cell_type": "code",
   "execution_count": 2,
   "metadata": {},
   "outputs": [],
   "source": [
    "import numpy as np\n",
    "import matplotlib.pyplot as plt\n",
    "import random"
   ]
  },
  {
   "cell_type": "code",
   "execution_count": 3,
   "metadata": {},
   "outputs": [],
   "source": [
    "# import internal files\n",
    "import emulator\n",
    "import kernels\n",
    "import data\n",
    "import historymatch\n",
    "import plot"
   ]
  },
  {
   "cell_type": "code",
   "execution_count": 14,
   "metadata": {},
   "outputs": [],
   "source": [
    "def model_eqn_1(x, y, a):\n",
    "    return np.cos(np.sqrt(x**2 + 2*y**2 + 3*a**2))\n",
    "    #return a + y + x\n",
    "    \n",
    "model1 = np.vectorize(model_eqn_1)"
   ]
  },
  {
   "cell_type": "code",
   "execution_count": 15,
   "metadata": {},
   "outputs": [],
   "source": [
    "def model_eqn_2(x, y, a):\n",
    "    #return np.sin(np.sqrt(x**2 + 4*y**2 + 2*a**2))\n",
    "    return a**2 - y + x\n",
    "\n",
    "model2 = np.vectorize(model_eqn_2)"
   ]
  },
  {
   "cell_type": "code",
   "execution_count": 22,
   "metadata": {},
   "outputs": [],
   "source": [
    "# define parameter space\n",
    "x_bound = np.array([-2, 2]).reshape(1,-1)\n",
    "y_bound = np.array([-2, 2]).reshape(1,-1)\n",
    "a_bound = np.array([-2, 2]).reshape(1,-1)\n",
    "input_bounds = np.concatenate((x_bound, y_bound, a_bound), axis=0)\n",
    "\n",
    "xvals = np.linspace(input_bounds[0,0], input_bounds[0,1], 100)\n",
    "yvals = np.linspace(input_bounds[1,0], input_bounds[1,1], 100)\n",
    "avals = np.linspace(input_bounds[2,0], input_bounds[2,1], 100)"
   ]
  },
  {
   "cell_type": "code",
   "execution_count": 23,
   "metadata": {},
   "outputs": [],
   "source": [
    "# for testing: true datapoints\n",
    "true_x = -0.1\n",
    "true_y = 1.2\n",
    "true_a = 0.3\n",
    "\n",
    "true_parameters_m1 = [-0.1, 1.2, 0.3]\n",
    "true_parameters_m2 = [-0.1, 1.2, 0.3]\n",
    "\n",
    "var_exp = 0.001        # observational uncertainty variance\n",
    "z_1 = model_eqn_1(*true_parameters_m1) + np.random.normal(0,var_exp) # observed datapoint\n",
    "z_2 = model_eqn_2(*true_parameters_m2) + np.random.normal(0,var_exp) # observed datapoint"
   ]
  },
  {
   "cell_type": "code",
   "execution_count": 24,
   "metadata": {},
   "outputs": [],
   "source": [
    "# simulation parameters\n",
    "Ntraining = 50          # number of training points\n",
    "ndim = 3        # model dimensions\n",
    "Nsamples = 10000    # number of test points"
   ]
  },
  {
   "cell_type": "code",
   "execution_count": 45,
   "metadata": {},
   "outputs": [
    {
     "data": {
      "text/plain": [
       "<matplotlib.legend.Legend at 0x7fd8d50279a0>"
      ]
     },
     "execution_count": 45,
     "metadata": {},
     "output_type": "execute_result"
    },
    {
     "data": {
      "image/png": "[encoded data removed]",
      "text/plain": [
       "<Figure size 1080x360 with 3 Axes>"
      ]
     },
     "metadata": {
      "needs_background": "light"
     },
     "output_type": "display_data"
    }
   ],
   "source": [
    "# visualise model 1\n",
    "\n",
    "fig, (ax1, ax2, ax3) = plt.subplots(1,3, figsize=(15,5))\n",
    "func = model1(xvals, true_parameters_m1[1], true_parameters_m1[2])\n",
    "ax1.plot(xvals, model1(xvals, true_parameters_m1[1], true_parameters_m1[2]))\n",
    "ax1.axhline(z_1, color='black', linewidth=1, label='Obs Data')\n",
    "ax1.axvline(true_parameters_m1[0], color='red', linewidth=1, label='True Param')\n",
    "\n",
    "ax1.axhline(z_1+3*np.sqrt(var_exp), color='black', linewidth=1, linestyle='--')\n",
    "ax1.axhline(z_1-3*np.sqrt(var_exp), color='black', linewidth=1, linestyle='--', label = r'$\\pm 3\\sigma_{exp}$')\n",
    "\n",
    "xidx1 = np.argwhere(np.diff(np.sign( func - z_1+3*np.sqrt(var_exp)))).flatten()  # upper\n",
    "xidx2 = np.argwhere(np.diff(np.sign( func - z_1-3*np.sqrt(var_exp)))).flatten()  # lower\n",
    "\n",
    "ax1.axvspan(xvals[xidx1][0], xvals[xidx1][1], color='green', alpha=0.2, label='Nonimp region')\n",
    "ax1.legend(loc='best')"
   ]
  },
  {
   "cell_type": "code",
   "execution_count": 47,
   "metadata": {},
   "outputs": [
    {
     "ename": "NameError",
     "evalue": "name 'model' is not defined",
     "output_type": "error",
     "traceback": [
      "\u001b[0;31m---------------------------------------------------------------------------\u001b[0m",
      "\u001b[0;31mNameError\u001b[0m                                 Traceback (most recent call last)",
      "\u001b[0;32m<ipython-input-47-7cb02b7d9eaa>\u001b[0m in \u001b[0;36m<module>\u001b[0;34m\u001b[0m\n\u001b[1;32m      2\u001b[0m \u001b[0;34m\u001b[0m\u001b[0m\n\u001b[1;32m      3\u001b[0m \u001b[0mX\u001b[0m\u001b[0;34m,\u001b[0m \u001b[0mY\u001b[0m \u001b[0;34m=\u001b[0m \u001b[0mnp\u001b[0m\u001b[0;34m.\u001b[0m\u001b[0mmeshgrid\u001b[0m\u001b[0;34m(\u001b[0m\u001b[0mxvals\u001b[0m\u001b[0;34m,\u001b[0m \u001b[0myvals\u001b[0m\u001b[0;34m)\u001b[0m\u001b[0;34m\u001b[0m\u001b[0;34m\u001b[0m\u001b[0m\n\u001b[0;32m----> 4\u001b[0;31m \u001b[0mfunc_grid\u001b[0m \u001b[0;34m=\u001b[0m \u001b[0mmodel\u001b[0m\u001b[0;34m(\u001b[0m\u001b[0mX\u001b[0m\u001b[0;34m,\u001b[0m \u001b[0mY\u001b[0m\u001b[0;34m)\u001b[0m\u001b[0;34m\u001b[0m\u001b[0;34m\u001b[0m\u001b[0m\n\u001b[0m\u001b[1;32m      5\u001b[0m \u001b[0;34m\u001b[0m\u001b[0m\n\u001b[1;32m      6\u001b[0m \u001b[0max1\u001b[0m\u001b[0;34m.\u001b[0m\u001b[0mscatter\u001b[0m\u001b[0;34m(\u001b[0m\u001b[0mX\u001b[0m\u001b[0;34m,\u001b[0m\u001b[0mY\u001b[0m\u001b[0;34m,\u001b[0m \u001b[0ms\u001b[0m\u001b[0;34m=\u001b[0m\u001b[0;36m1\u001b[0m\u001b[0;34m)\u001b[0m\u001b[0;34m\u001b[0m\u001b[0;34m\u001b[0m\u001b[0m\n",
      "\u001b[0;31mNameError\u001b[0m: name 'model' is not defined"
     ]
    },
    {
     "data": {
      "image/png": "[encoded data removed]",
      "text/plain": [
       "<Figure size 720x360 with 2 Axes>"
      ]
     },
     "metadata": {
      "needs_background": "light"
     },
     "output_type": "display_data"
    }
   ],
   "source": [
    "fig, (ax1, ax2) = plt.subplots(1,2, figsize=(10,5))\n",
    "\n",
    "X, Y = np.meshgrid(xvals, yvals)\n",
    "func_grid = model(X, Y)\n",
    "\n",
    "ax1.scatter(X,Y, s=1)\n",
    "\n",
    "idx = np.argwhere(np.logical_and(func_grid > z_1-1*np.sqrt(var_exp), func_grid < z_1+1*np.sqrt(var_exp)))\n",
    "\n",
    "mean_idx = np.argwhere(np.diff(np.sign( func_grid - z_1)))\n",
    "\n",
    "idxtest = np.argwhere(func_grid > z_1-3*np.sqrt(var_exp))\n",
    "\n",
    "ax1.scatter(xvals[idx[:,1]], yvals[idx[:,0]], color='limegreen')\n",
    "ax1.scatter(xvals[mean_idx[:,1]], yvals[mean_idx[:,0]], color='red', s = 1)\n",
    "\n",
    "for i in range(len(idx)):\n",
    "    xy_grid[idx[i,0], idx[i,1]] = 1\n",
    "    \n",
    "for i in range(len(mean_idx)):\n",
    "    xy_grid[mean_idx[i,0], mean_idx[i,1]] = 2\n",
    "    \n",
    "ax1.scatter(true_x, true_y, color='red')\n",
    "\n",
    "ax2.contourf(xvals, yvals, xy_grid, cmap='viridis')"
   ]
  },
  {
   "cell_type": "code",
   "execution_count": null,
   "metadata": {},
   "outputs": [],
   "source": []
  }
 ],
 "metadata": {
  "kernelspec": {
   "display_name": "Python 3",
   "language": "python",
   "name": "python3"
  },
  "language_info": {
   "codemirror_mode": {
    "name": "ipython",
    "version": 3
   },
   "file_extension": ".py",
   "mimetype": "text/x-python",
   "name": "python",
   "nbconvert_exporter": "python",
   "pygments_lexer": "ipython3",
   "version": "3.9.1"
  }
 },
 "nbformat": 4,
 "nbformat_minor": 4
}
