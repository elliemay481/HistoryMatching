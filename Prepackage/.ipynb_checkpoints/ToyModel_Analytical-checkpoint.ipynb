{
 "cells": [
  {
   "cell_type": "code",
   "execution_count": 1,
   "metadata": {},
   "outputs": [],
   "source": [
    "import numpy as np\n",
    "import matplotlib.pyplot as plt\n",
    "import random\n",
    "from matplotlib.patches import Ellipse\n",
    "\n",
    "from scipy.interpolate import griddata\n",
    "\n",
    "plt.rcParams.update({'font.size': 10})\n",
    "\n",
    "np.random.seed(4)\n",
    "\n",
    "from scipy import stats\n",
    "from scipy.stats import norm, uniform\n",
    "import scipy.optimize"
   ]
  },
  {
   "cell_type": "code",
   "execution_count": 2,
   "metadata": {},
   "outputs": [],
   "source": [
    "# import internal files\n",
    "import emulator\n",
    "import kernels\n",
    "import data\n",
    "import historymatch\n",
    "import plot"
   ]
  },
  {
   "cell_type": "code",
   "execution_count": 3,
   "metadata": {},
   "outputs": [],
   "source": [
    "#def model_eqn_1(x, theta_0, theta_1, theta_2):\n",
    "    #return theta_0 + theta_1*(x) + theta_2*(x**2)\n",
    "\n",
    "def model_eqn_1(x, theta_0, theta_1):\n",
    "    return theta_0 + theta_1*(x)\n",
    "    \n",
    "function1 = np.vectorize(model_eqn_1)"
   ]
  },
  {
   "cell_type": "code",
   "execution_count": 4,
   "metadata": {},
   "outputs": [],
   "source": [
    "def model_eqn_2(x, theta_0, theta_1):\n",
    "    return theta_0 - theta_1*np.sin(x)\n",
    "\n",
    "#def model_eqn_2(x, theta_0, theta_1, theta_2):\n",
    "    #return theta_0 - theta_1*np.sin(x) + theta_2*np.cos(x)\n",
    "\n",
    "function2 = np.vectorize(model_eqn_2)"
   ]
  },
  {
   "cell_type": "code",
   "execution_count": null,
   "metadata": {},
   "outputs": [],
   "source": []
  },
  {
   "cell_type": "code",
   "execution_count": 5,
   "metadata": {},
   "outputs": [],
   "source": [
    "# define parameter space\n",
    "x_bound = np.array([0, 1])\n",
    "xvals = np.linspace(x_bound[0], x_bound[-1], 6)\n",
    "\n",
    "theta_0_bound = np.array([-1, 1]).reshape(1,-1)\n",
    "theta_1_bound = np.array([-1, 1]).reshape(1,-1)\n",
    "theta_2_bound = np.array([-1, 1]).reshape(1,-1)\n",
    "\n",
    "#parameter_bounds = np.concatenate((theta_0_bound, theta_1_bound, theta_2_bound), axis=0)\n",
    "\n",
    "parameter_bounds = np.concatenate((theta_0_bound, theta_1_bound), axis=0)\n",
    "\n",
    "theta_0_vals = np.linspace(parameter_bounds[0,0], parameter_bounds[0,1], 100)\n",
    "theta_1_vals = np.linspace(parameter_bounds[1,0], parameter_bounds[1,1], 100)\n",
    "#theta_2_vals = np.linspace(parameter_bounds[2,0], parameter_bounds[2,1], 100)\n",
    "\n",
    "\n",
    "#theta_vals = np.concatenate((theta_0_vals.reshape(1,-1), theta_1_vals.reshape(1,-1), theta_2_vals.reshape(1,-1)), axis=0)\n",
    "\n",
    "theta_vals = np.concatenate((theta_0_vals.reshape(1,-1), theta_1_vals.reshape(1,-1)), axis=0)"
   ]
  },
  {
   "cell_type": "code",
   "execution_count": null,
   "metadata": {},
   "outputs": [],
   "source": []
  },
  {
   "cell_type": "code",
   "execution_count": 6,
   "metadata": {},
   "outputs": [],
   "source": [
    "# for testing: true datapoints\n",
    "true_parameters = [-0.1, 0.3]\n",
    "ndim = len(true_parameters)\n",
    "\n",
    "var_exp_f1 = 0.01        # observational uncertainty variance\n",
    "var_exp_f2 = 0.01\n",
    "\n",
    "error_f1 = np.random.normal(0, var_exp_f1, len(xvals))\n",
    "error_f2 = np.random.normal(0, var_exp_f2, len(xvals))\n",
    "\n",
    "#z_1 = function1(xvals, true_parameters[0], true_parameters[1], true_parameters[2])+ np.random.normal(0, var_exp_f1) # observed datapoint\n",
    "#z_1 = function1(xvals, true_parameters[0], true_parameters[1], true_parameters[2]) + error_f1 # observed datapoint\n",
    "\n",
    "#z_2 = function2(xvals, true_parameters[0], true_parameters[1], true_parameters[2]) + error_f2  # observed datapoint\n",
    "\n",
    "z_1 = function1(xvals, true_parameters[0], true_parameters[1]) + error_f1 # observed datapoint\n",
    "z_2 = function2(xvals, true_parameters[0], true_parameters[1]) + error_f2  # observed datapoint\n",
    "\n"
   ]
  },
  {
   "cell_type": "code",
   "execution_count": 7,
   "metadata": {},
   "outputs": [
    {
     "data": {
      "text/plain": [
       "[<matplotlib.lines.Line2D at 0x7fabbb447100>]"
      ]
     },
     "execution_count": 7,
     "metadata": {},
     "output_type": "execute_result"
    },
    {
     "data": {
      "image/png": "[encoded data removed]",
      "text/plain": [
       "<Figure size 720x360 with 2 Axes>"
      ]
     },
     "metadata": {
      "needs_background": "light"
     },
     "output_type": "display_data"
    }
   ],
   "source": [
    "fig, (ax1, ax2) = plt.subplots(1,2, figsize=(10,5))\n",
    "\n",
    "ax1.plot(xvals, z_1)\n",
    "ax2.plot(xvals, z_2)"
   ]
  },
  {
   "cell_type": "code",
   "execution_count": 8,
   "metadata": {},
   "outputs": [],
   "source": [
    "def design_matrix_f1(x, p=3):\n",
    "    X_d = np.zeros((len(x),p))\n",
    "    for i in range(p):\n",
    "        X_d[:,i] = x**i\n",
    "    return X_d\n",
    "\n",
    "def design_matrix_f2(x, p=3):\n",
    "    X_d = np.zeros((len(x),p))\n",
    "    X_d[:,0] = 1\n",
    "    X_d[:,1] = -np.sin(x)\n",
    "    #X_d[:,2] = np.cos(x)\n",
    "    return X_d\n",
    "\n",
    "\n",
    "# Create design matrix\n",
    "X1 = design_matrix_f1(xvals, p=2)\n",
    "X2 = design_matrix_f2(xvals, p=2)\n"
   ]
  },
  {
   "cell_type": "code",
   "execution_count": 9,
   "metadata": {},
   "outputs": [],
   "source": [
    "def A_matrix(X_d, variance):\n",
    "    for i in range(X_d.shape[0]):\n",
    "        X_d[i] = X_d[i] / np.sqrt(variance)\n",
    "    return X_d"
   ]
  },
  {
   "cell_type": "code",
   "execution_count": 10,
   "metadata": {},
   "outputs": [],
   "source": [
    "A1 = A_matrix(X1, var_exp_f1)\n",
    "b1 = z_1 / np.sqrt(var_exp_f1)\n",
    "\n",
    "A2 = A_matrix(X2, var_exp_f2)\n",
    "b2 = z_2 / np.sqrt(var_exp_f2)"
   ]
  },
  {
   "cell_type": "code",
   "execution_count": 11,
   "metadata": {},
   "outputs": [],
   "source": [
    "def solve_theta(A, b):\n",
    "    theta_best = ((np.linalg.inv(A.T.dot(A))).dot(A.T)).dot(b)\n",
    "    return theta_best.flatten()"
   ]
  },
  {
   "cell_type": "code",
   "execution_count": 12,
   "metadata": {},
   "outputs": [],
   "source": [
    "def H_matrix(A):\n",
    "    return np.linalg.inv(A.T.dot(A))"
   ]
  },
  {
   "cell_type": "code",
   "execution_count": 13,
   "metadata": {},
   "outputs": [],
   "source": [
    "def covariance(X_d, variance):\n",
    "    return variance*np.linalg.inv(X_d.T.dot(X_d))"
   ]
  },
  {
   "cell_type": "code",
   "execution_count": 14,
   "metadata": {},
   "outputs": [
    {
     "name": "stdout",
     "output_type": "stream",
     "text": [
      "[-0.09632378  0.28679865]\n"
     ]
    }
   ],
   "source": [
    "cov_matrix_f1 = covariance(X1, var_exp_f1)\n",
    "cov_matrix_f2 = covariance(X2, var_exp_f2)\n",
    "theta_f1 = solve_theta(A1, b1)\n",
    "theta_f2 = solve_theta(A2, b2)\n",
    "\n",
    "true_thetas = [theta_f1, theta_f2]\n",
    "#true_thetas = [theta_f1]\n",
    "print(theta_f1)\n",
    "\n",
    "H1 = H_matrix(A1)\n",
    "H2 = H_matrix(A2)\n"
   ]
  },
  {
   "cell_type": "code",
   "execution_count": null,
   "metadata": {},
   "outputs": [],
   "source": []
  },
  {
   "cell_type": "code",
   "execution_count": null,
   "metadata": {},
   "outputs": [],
   "source": []
  },
  {
   "cell_type": "code",
   "execution_count": null,
   "metadata": {},
   "outputs": [],
   "source": []
  },
  {
   "cell_type": "code",
   "execution_count": 15,
   "metadata": {},
   "outputs": [
    {
     "data": {
      "image/png": "[encoded data removed]",
      "text/plain": [
       "<Figure size 576x576 with 4 Axes>"
      ]
     },
     "metadata": {
      "needs_background": "light"
     },
     "output_type": "display_data"
    }
   ],
   "source": [
    "color_list = ['plum', 'mediumaquamarine']\n",
    "N = 2\n",
    "fig, axes = plt.subplots(N,N,figsize=(8,8))\n",
    "\n",
    "plot.plot_ellipses(fig, parameter_bounds, true_parameters, H1, theta_f1, theta_vals, color_list[0])\n",
    "plot.plot_ellipses(fig, parameter_bounds, true_parameters, H2, theta_f2, theta_vals, color_list[1])"
   ]
  },
  {
   "cell_type": "code",
   "execution_count": null,
   "metadata": {},
   "outputs": [],
   "source": []
  },
  {
   "cell_type": "code",
   "execution_count": 16,
   "metadata": {},
   "outputs": [],
   "source": [
    "# create squared-exponential kernel\n",
    "sigma_cov = 0.1        # sqrt variance of covariance function\n",
    "beta = 0         # prior expectation\n",
    "theta = 1\n",
    "var_method=0\n",
    "\n",
    "sigma_n = 0.1\n",
    "\n",
    "kern = kernels.SE()\n",
    "\n",
    "# simulation parameters\n",
    "Ntraining = 25          # number of training points\n",
    "ndim = 2    # model dimensions\n",
    "Nsamples = 5000    # number of test points\n",
    "\n",
    "#true_model = [model_eqn_1]\n",
    "true_model = [model_eqn_1, model_eqn_2]\n",
    "#obs_data = z_1.reshape(1,-1)\n",
    "obs_data = np.concatenate((z_1.reshape(1,-1),z_2.reshape(1,-1)), axis=0)"
   ]
  },
  {
   "cell_type": "code",
   "execution_count": 17,
   "metadata": {
    "scrolled": false
   },
   "outputs": [
    {
     "name": "stdout",
     "output_type": "stream",
     "text": [
      "Current wave: 1\n"
     ]
    },
    {
     "ename": "NameError",
     "evalue": "name 'ctrlist' is not defined",
     "output_type": "error",
     "traceback": [
      "\u001b[0;31m---------------------------------------------------------------------------\u001b[0m",
      "\u001b[0;31mNameError\u001b[0m                                 Traceback (most recent call last)",
      "\u001b[0;32m<ipython-input-17-02da32879b47>\u001b[0m in \u001b[0;36m<module>\u001b[0;34m\u001b[0m\n\u001b[1;32m      2\u001b[0m \u001b[0;34m\u001b[0m\u001b[0m\n\u001b[1;32m      3\u001b[0m \u001b[0;34m\u001b[0m\u001b[0m\n\u001b[0;32m----> 4\u001b[0;31m ctr, cov, nonimp, ell = historymatch.history_match(true_model, obs_data, xvals, kern, ndim, Nsamples, Ntraining,\n\u001b[0m\u001b[1;32m      5\u001b[0m                            \u001b[0mparameter_bounds\u001b[0m\u001b[0;34m,\u001b[0m \u001b[0mvar_method\u001b[0m\u001b[0;34m,\u001b[0m \u001b[0mvar_exp_f1\u001b[0m\u001b[0;34m,\u001b[0m \u001b[0msigma_cov\u001b[0m\u001b[0;34m,\u001b[0m\u001b[0;34m\u001b[0m\u001b[0;34m\u001b[0m\u001b[0m\n\u001b[1;32m      6\u001b[0m                            \u001b[0mbeta\u001b[0m\u001b[0;34m,\u001b[0m \u001b[0mtheta\u001b[0m\u001b[0;34m,\u001b[0m \u001b[0msigma_n\u001b[0m\u001b[0;34m,\u001b[0m \u001b[0;34m[\u001b[0m\u001b[0mH1\u001b[0m\u001b[0;34m,\u001b[0m\u001b[0mH2\u001b[0m\u001b[0;34m]\u001b[0m\u001b[0;34m,\u001b[0m \u001b[0mtrue_thetas\u001b[0m\u001b[0;34m,\u001b[0m\u001b[0;34m\u001b[0m\u001b[0;34m\u001b[0m\u001b[0m\n",
      "\u001b[0;32m~/Documents/Thesis/HistoryMatching/Prepackage/historymatch.py\u001b[0m in \u001b[0;36mhistory_match\u001b[0;34m(true_model, obs_data, xvals, kernel, ndim, Nsamples, Ntraining, parameter_bounds, var_method, var_exp, sigma_cov, beta, theta, sigma_n, H, true_thetas, noise, waves)\u001b[0m\n\u001b[1;32m    522\u001b[0m             \u001b[0mparameter_bounds\u001b[0m\u001b[0;34m[\u001b[0m\u001b[0mi\u001b[0m\u001b[0;34m,\u001b[0m\u001b[0;36m1\u001b[0m\u001b[0;34m]\u001b[0m \u001b[0;34m=\u001b[0m \u001b[0mnonimplausible\u001b[0m\u001b[0;34m[\u001b[0m\u001b[0;34m:\u001b[0m\u001b[0;34m,\u001b[0m\u001b[0mi\u001b[0m\u001b[0;34m]\u001b[0m\u001b[0;34m.\u001b[0m\u001b[0mmax\u001b[0m\u001b[0;34m(\u001b[0m\u001b[0;34m)\u001b[0m\u001b[0;34m\u001b[0m\u001b[0;34m\u001b[0m\u001b[0m\n\u001b[1;32m    523\u001b[0m \u001b[0;34m\u001b[0m\u001b[0m\n\u001b[0;32m--> 524\u001b[0;31m     \u001b[0;32mreturn\u001b[0m \u001b[0mctrlist\u001b[0m\u001b[0;34m,\u001b[0m \u001b[0mcovlist\u001b[0m\u001b[0;34m,\u001b[0m \u001b[0mnonimplausible\u001b[0m\u001b[0;34m,\u001b[0m \u001b[0mell\u001b[0m\u001b[0;34m\u001b[0m\u001b[0;34m\u001b[0m\u001b[0m\n\u001b[0m\u001b[1;32m    525\u001b[0m \u001b[0;34m\u001b[0m\u001b[0m\n\u001b[1;32m    526\u001b[0m \u001b[0;34m\u001b[0m\u001b[0m\n",
      "\u001b[0;31mNameError\u001b[0m: name 'ctrlist' is not defined"
     ]
    },
    {
     "data": {
      "image/png": "[encoded data removed]",
      "text/plain": [
       "<Figure size 576x432 with 5 Axes>"
      ]
     },
     "metadata": {
      "needs_background": "light"
     },
     "output_type": "display_data"
    }
   ],
   "source": [
    "n_waves = 1\n",
    "\n",
    "\n",
    "ctr, cov, nonimp, ell = historymatch.history_match(true_model, obs_data, xvals, kern, ndim, Nsamples, Ntraining,\n",
    "                           parameter_bounds, var_method, var_exp_f1, sigma_cov,\n",
    "                           beta, theta, sigma_n, [H1,H2], true_thetas,\n",
    "                           noise=False, waves=n_waves)"
   ]
  },
  {
   "cell_type": "code",
   "execution_count": null,
   "metadata": {},
   "outputs": [],
   "source": [
    "def plot_ellipsoid_3d(ell, ax):\n",
    "    \"\"\"Plot the 3-d Ellipsoid ell on the Axes3D ax.\"\"\"\n",
    "\n",
    "    # points on unit sphere\n",
    "    u = np.linspace(0.0, 2.0 * np.pi, 100)\n",
    "    v = np.linspace(0.0, np.pi, 100)\n",
    "    z = np.outer(np.cos(u), np.sin(v))\n",
    "    y = np.outer(np.sin(u), np.sin(v))\n",
    "    x = np.outer(np.ones_like(u), np.cos(v))\n",
    "\n",
    "    # transform points to ellipsoid\n",
    "    for i in range(len(x)):\n",
    "        for j in range(len(x)):\n",
    "            x[i,j], y[i,j], z[i,j] = ell.ctr + np.dot(ell.axes,\n",
    "                                                      [x[i,j],y[i,j],z[i,j]])\n",
    "\n",
    "    ax.plot_wireframe(x, y, z,  rstride=4, cstride=4, color='#2980b9', alpha=0.2)"
   ]
  },
  {
   "cell_type": "code",
   "execution_count": null,
   "metadata": {},
   "outputs": [],
   "source": [
    "fig = plt.figure(figsize=(10., 10.))\n",
    "ax = fig.add_subplot(111, projection='3d')\n",
    "ax.scatter(nonimp[:,0], nonimp[:,1], nonimp[:,2], c='k', marker='.')\n",
    "#plot.plot_ellipsoid(ell, ax)\n",
    "for i in range(len(ell)):\n",
    "    plot_ellipsoid_3d(ell[i], ax)\n",
    "\n",
    "#cov_matrix2 = np.array([[cov[1,1], cov[1,2]],[cov[2,1], cov[2,2]]])\n",
    "\n",
    "#plot.get_cov_ellipse(cov_matrix2 , [ctr[1], ctr[2]], 1, ax, 'red')\n",
    "\n",
    "#ax.scatter(nonimp[:,1], nonimp[:,2])"
   ]
  },
  {
   "cell_type": "code",
   "execution_count": null,
   "metadata": {},
   "outputs": [],
   "source": []
  },
  {
   "cell_type": "code",
   "execution_count": null,
   "metadata": {},
   "outputs": [],
   "source": []
  }
 ],
 "metadata": {
  "kernelspec": {
   "display_name": "Python 3",
   "language": "python",
   "name": "python3"
  },
  "language_info": {
   "codemirror_mode": {
    "name": "ipython",
    "version": 3
   },
   "file_extension": ".py",
   "mimetype": "text/x-python",
   "name": "python",
   "nbconvert_exporter": "python",
   "pygments_lexer": "ipython3",
   "version": "3.9.1"
  }
 },
 "nbformat": 4,
 "nbformat_minor": 4
}
