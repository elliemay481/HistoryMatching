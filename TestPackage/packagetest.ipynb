{
 "cells": [
  {
   "cell_type": "code",
   "execution_count": 1,
   "metadata": {
    "scrolled": true
   },
   "outputs": [],
   "source": [
    "import numpy as np\n",
    "from hist_match import kernels, emulator\n",
    "import matplotlib.pyplot as plt"
   ]
  },
  {
   "cell_type": "code",
   "execution_count": 2,
   "metadata": {},
   "outputs": [],
   "source": [
    "def true_model(x, t):\n",
    "    f0  = 1\n",
    "    return f0 * np.exp(x * t)"
   ]
  },
  {
   "cell_type": "code",
   "execution_count": 3,
   "metadata": {},
   "outputs": [],
   "source": [
    "# sample points for training set\n",
    "y_train = np.zeros(5)\n",
    "x_train = np.arange(0.1, 0.6, 0.1)\n",
    "for i in range(len(x_train)):\n",
    "    y_train[i] = true_model(x_train[i], 3.5)\n",
    "\n",
    "# define parameter space\n",
    "x_test = np.linspace(0.075, 0.525, 100)\n",
    "    \n",
    "sigma_e = 0.025   # observational error\n",
    "z = 3.2     # observed datapoint"
   ]
  },
  {
   "cell_type": "code",
   "execution_count": 4,
   "metadata": {},
   "outputs": [],
   "source": [
    "# create squared-exponential kernel\n",
    "d = 1              # no. of dimensions\n",
    "sigma = 1.5        # sqrt variance of covariance function\n",
    "theta = 0.14       # length scale\n",
    "beta = 3.5         # prior expectation\n",
    "\n",
    "kern = kernels.SE(sigma,theta)"
   ]
  },
  {
   "cell_type": "code",
   "execution_count": 5,
   "metadata": {
    "scrolled": true
   },
   "outputs": [],
   "source": [
    "GP = emulator.Gaussian_Process(x_train, x_test, y_train, beta, kern)"
   ]
  },
  {
   "cell_type": "code",
   "execution_count": 6,
   "metadata": {},
   "outputs": [],
   "source": [
    "mu, covariance, sd = GP.emulate()"
   ]
  },
  {
   "cell_type": "code",
   "execution_count": 7,
   "metadata": {},
   "outputs": [
    {
     "data": {
      "text/plain": [
       "<matplotlib.lines.Line2D at 0x7fd33b08fa00>"
      ]
     },
     "execution_count": 7,
     "metadata": {},
     "output_type": "execute_result"
    },
    {
     "data": {
      "image/png": "[encoded data removed]",
      "text/plain": [
       "<Figure size 432x288 with 1 Axes>"
      ]
     },
     "metadata": {
      "needs_background": "light"
     },
     "output_type": "display_data"
    }
   ],
   "source": [
    "fig, ax = plt.subplots()\n",
    "ax.scatter(x_train, y_train, color='red')\n",
    "ax.fill_between(x_test, mu.ravel() + 3*sd, mu.ravel() - 3*sd, alpha=0.2)\n",
    "ax.plot(x_test, mu)\n",
    "ax.set_xlabel('Rate Parameter Value x')\n",
    "ax.set_ylabel('Concentration of $f_{t=3.5}(x)$')\n",
    "    \n",
    "ax.axhline(z, color='black', label='Observed Data')\n",
    "ax.axhline(z-(3*sigma_e), linestyle='dashed', color='black', label='$\\pm 3 \\sigma_{e}$')\n",
    "ax.axhline(z+(3*sigma_e), linestyle='dashed', color='black')"
   ]
  },
  {
   "cell_type": "code",
   "execution_count": null,
   "metadata": {},
   "outputs": [],
   "source": []
  },
  {
   "cell_type": "code",
   "execution_count": null,
   "metadata": {},
   "outputs": [],
   "source": []
  }
 ],
 "metadata": {
  "kernelspec": {
   "display_name": "Python 3",
   "language": "python",
   "name": "python3"
  },
  "language_info": {
   "codemirror_mode": {
    "name": "ipython",
    "version": 3
   },
   "file_extension": ".py",
   "mimetype": "text/x-python",
   "name": "python",
   "nbconvert_exporter": "python",
   "pygments_lexer": "ipython3",
   "version": "3.8.8"
  }
 },
 "nbformat": 4,
 "nbformat_minor": 4
}
