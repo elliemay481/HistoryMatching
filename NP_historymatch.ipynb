{
 "cells": [
  {
   "cell_type": "code",
   "execution_count": 1,
   "metadata": {},
   "outputs": [],
   "source": [
    "# import internal files\n",
    "from historymatch import emulators\n",
    "from historymatch import sample\n",
    "from historymatch import historymatch\n",
    "from historymatch import plot\n",
    "from historymatch import utils\n",
    "\n",
    "\n",
    "# import external modules\n",
    "#import matplotlib.patches as patches\n",
    "#import matplotlib as mpl\n",
    "import numpy as np\n",
    "import matplotlib.pyplot as plt\n",
    "from matplotlib.lines import Line2D\n",
    "from matplotlib.ticker import MaxNLocator\n",
    "import pandas as pd\n",
    "import nn_mwpc\n",
    "from tqdm import tqdm\n",
    "import numpy as np \n",
    "import time\n",
    "import matplotlib.pyplot as plt\n",
    "from matplotlib import rc\n",
    "import collections\n",
    "from numpy import genfromtxt\n",
    "import math\n",
    "import os\n",
    "import pickle\n",
    "#from matplotlib.patches import Rectangle\n",
    "\n",
    "\n",
    "plt.rcParams.update({'font.size': 10})\n",
    "\n",
    "np.random.seed(4)"
   ]
  },
  {
   "cell_type": "code",
   "execution_count": 2,
   "metadata": {},
   "outputs": [],
   "source": [
    "rc('font',**{'family':'serif'})\n",
    "rc('text', usetex=True)\n",
    "\n",
    "\n",
    "\n",
    "plt.rc('font', size=26)          # controls default text sizes\n",
    "plt.rc('axes', titlesize=26)     # fontsize of the axes title\n",
    "plt.rc('axes', labelsize=26)    # fontsize of the x and y labels\n",
    "plt.rc('xtick', labelsize=26)    # fontsize of the tick labels\n",
    "plt.rc('ytick', labelsize=26)    # fontsize of the tick labels\n",
    "plt.rc('legend', fontsize=22)    # legend fontsize\n",
    "plt.rc('figure', titlesize=26)  # fontsize of the figure title"
   ]
  },
  {
   "cell_type": "markdown",
   "metadata": {},
   "source": [
    "# Initialise Data"
   ]
  },
  {
   "cell_type": "code",
   "execution_count": 3,
   "metadata": {},
   "outputs": [],
   "source": [
    "# load phase shift data\n",
    "\n",
    "df=pd.read_csv('data/granada_phaseshift.csv', sep=',',header=None)\n",
    "data_ps = df.to_numpy()\n",
    "\n",
    "# load scattering observables data\n",
    "\n",
    "df2=pd.read_csv('data/Observables.csv', sep=',',header=0)\n",
    "data_observables = df2.to_numpy()"
   ]
  },
  {
   "cell_type": "code",
   "execution_count": 4,
   "metadata": {},
   "outputs": [
    {
     "name": "stdout",
     "output_type": "stream",
     "text": [
      "State: J=0 L=0 S=0 T=1 Tz=0 pi=1\n",
      "State: J=0 L=1 S=1 T=1 Tz=0 pi=-1\n",
      "State: J=1 L=1 S=0 T=0 Tz=0 pi=-1\n",
      "State: J=1 L=0 S=1 T=0 Tz=0 pi=1\n",
      "State: J=1 L=1 S=1 T=1 Tz=0 pi=-1\n",
      "State: J=1 L=2 S=1 T=0 Tz=0 pi=1\n",
      "State: J=2 L=2 S=0 T=1 Tz=0 pi=1\n",
      "State: J=2 L=1 S=1 T=1 Tz=0 pi=-1\n",
      "State: J=2 L=2 S=1 T=0 Tz=0 pi=1\n",
      "State: J=2 L=3 S=1 T=1 Tz=0 pi=-1\n",
      "\n",
      "Conserved quantum numbers: J,S,T,Tz,pi\n",
      "Channel 0: J=0 S=0 T=1 Tz=0 pi=1 coup=0\n",
      "   (J=0 Li=0 Lo=0 S=0 T=1 Tz=0 pi=1)\n",
      "\n",
      "Channel 1: J=0 S=1 T=1 Tz=0 pi=-1 coup=0\n",
      "   (J=0 Li=1 Lo=1 S=1 T=1 Tz=0 pi=-1)\n",
      "\n",
      "Channel 2: J=1 S=0 T=0 Tz=0 pi=-1 coup=0\n",
      "   (J=1 Li=1 Lo=1 S=0 T=0 Tz=0 pi=-1)\n",
      "\n",
      "Channel 3: J=1 S=1 T=0 Tz=0 pi=1 coup=1\n",
      "   (J=1 Li=0 Lo=0 S=1 T=0 Tz=0 pi=1)\n",
      "   (J=1 Li=2 Lo=0 S=1 T=0 Tz=0 pi=1)\n",
      "   (J=1 Li=0 Lo=2 S=1 T=0 Tz=0 pi=1)\n",
      "   (J=1 Li=2 Lo=2 S=1 T=0 Tz=0 pi=1)\n",
      "\n",
      "Channel 4: J=1 S=1 T=1 Tz=0 pi=-1 coup=0\n",
      "   (J=1 Li=1 Lo=1 S=1 T=1 Tz=0 pi=-1)\n",
      "\n",
      "Channel 5: J=2 S=0 T=1 Tz=0 pi=1 coup=0\n",
      "   (J=2 Li=2 Lo=2 S=0 T=1 Tz=0 pi=1)\n",
      "\n",
      "Channel 6: J=2 S=1 T=0 Tz=0 pi=1 coup=0\n",
      "   (J=2 Li=2 Lo=2 S=1 T=0 Tz=0 pi=1)\n",
      "\n",
      "Channel 7: J=2 S=1 T=1 Tz=0 pi=-1 coup=1\n",
      "   (J=2 Li=1 Lo=1 S=1 T=1 Tz=0 pi=-1)\n",
      "   (J=2 Li=3 Lo=1 S=1 T=1 Tz=0 pi=-1)\n",
      "   (J=2 Li=1 Lo=3 S=1 T=1 Tz=0 pi=-1)\n",
      "   (J=2 Li=3 Lo=3 S=1 T=1 Tz=0 pi=-1)\n",
      "\n",
      "Done printing\n",
      "Channels in this (MWPC_LO_J) potential: \n",
      "1S0\n",
      "3P0\n",
      "1P1\n",
      "3S-D1\n",
      "3P1\n",
      "3P-F2\n"
     ]
    }
   ],
   "source": [
    "# phase shift data\n",
    "\n",
    "# 8 channels in order 1S0,3S1,1P1,3P0,3P1,3P2,(3D1,3F2)\n",
    "# each row of obs_data, sigma_obs corresponds to a channel\n",
    "# columns corresponds to T_LAB 1,5,10,25,50 MeV\n",
    "\n",
    "obs_data_ps = data_ps[1::2,1:].T.astype(np.float).flatten()\n",
    "\n",
    "sigma_obs_ps = data_ps[2::2,1:].T.astype(np.float).flatten()\n",
    "\n",
    "# phase shifts are outputted within range -90 to 90 degrees\n",
    "# observables must be transformed to within this range\n",
    "for i in range(len(obs_data_ps)):\n",
    "    if obs_data_ps[i] > 90:\n",
    "        obs_data_ps[i] -= 180\n",
    "\n",
    "# channels correspond to integers in phase shift code\n",
    "# these are entered into the model function as variables\n",
    "# in the same order as given above:\n",
    "\n",
    "channels = [0,3,1,5]\n",
    "T_lab = [1,5,10,25,40]\n",
    "\n",
    "# object independent of Tlab and channel, so save computational time\n",
    "# by creating now and entering as model variable\n",
    "\n",
    "cutoff = 600  #MeV\n",
    "obj = nn_mwpc.nn_mwpc_interface(\"MWPC_LO_J\",3,float(cutoff),4,True,True,True)\n",
    "\n",
    "variables_ps = []\n",
    "\n",
    "for i in range(len(channels)):\n",
    "    for j in range(len(T_lab)):\n",
    "        variables_ps.append([channels[i], T_lab[j], obj, False])\n",
    "# add the two coupled channels\n",
    "for j in range(len(T_lab)):\n",
    "    variables_ps.append([3, T_lab[j], obj, True])\n",
    "for j in range(len(T_lab)):\n",
    "    variables_ps.append([5, T_lab[j], obj, True])\n",
    "\n",
    "\n",
    "variables_ps_C1S0 = [i[:] for i in variables_ps]\n",
    "for i in range(len(variables_ps)):\n",
    "    variables_ps_C1S0[i].append('C1S0')\n",
    "    \n",
    "variables_ps_C3S1 = [i[:] for i in variables_ps]\n",
    "for i in range(len(variables_ps)):\n",
    "    variables_ps_C3S1[i].append('C3S1')\n",
    "    \n",
    "variables_ps_C3P0 = [i[:] for i in variables_ps]\n",
    "for i in range(len(variables_ps)):\n",
    "    variables_ps_C3P0[i].append('C3P0')\n",
    "    \n",
    "variables_ps_C3P2 = [i[:] for i in variables_ps]\n",
    "for i in range(len(variables_ps)):\n",
    "    variables_ps_C3P2[i].append('C3P2')"
   ]
  },
  {
   "cell_type": "code",
   "execution_count": 5,
   "metadata": {
    "scrolled": true
   },
   "outputs": [],
   "source": [
    "# phase shift model discrepancy given as 20% of observable\n",
    "\n",
    "sigma_model_ps = np.zeros_like(obs_data_ps)\n",
    "\n",
    "sigma_model_ps[:5] = obs_data_ps[:5] * 0.2                             #1S0\n",
    "sigma_model_ps[5:10] = obs_data_ps[5:10] * 0.2       #3S1\n",
    "sigma_model_ps[10:15] = obs_data_ps[10:15] * 0.2                         #3P0\n",
    "sigma_model_ps[15:20] = np.array([2,2,2,2,2.34960757])                       #3P2                     #3P2\n",
    "sigma_model_ps[20:] = obs_data_ps[20:] * 0.2                           #3D1 & 3F2\n",
    "\n",
    "sigma_method_ps = np.zeros_like(sigma_model_ps)\n"
   ]
  },
  {
   "cell_type": "code",
   "execution_count": 6,
   "metadata": {},
   "outputs": [],
   "source": [
    "# scattering observables data\n",
    "\n",
    "Ntheo = np.array([x for x in data_observables[:,5]], dtype=np.float32)\n",
    "\n",
    "obs_data_observables = data_observables[:,3].T.astype(np.float).flatten() / Ntheo\n",
    "\n",
    "sigma_obs_observables = data_observables[:,4].T.astype(np.float).flatten() / Ntheo\n",
    "\n",
    "angles_observables = data_observables[:,2]\n",
    "energies_observables = data_observables[:,1]\n",
    "observable_type = data_observables[:,6]\n",
    "\n",
    "variables_observables = []\n",
    "\n",
    "for i in range(len(obs_data_observables)):\n",
    "    variables_observables.append([angles_observables[i], energies_observables[i], obj, observable_type[i]])"
   ]
  },
  {
   "cell_type": "code",
   "execution_count": 7,
   "metadata": {},
   "outputs": [],
   "source": [
    "# observable model discrepancy given as 20% of observable\n",
    "\n",
    "sigma_model_observables = np.zeros_like(obs_data_observables)\n",
    "\n",
    "sigma_model_observables = obs_data_observables * 0.2\n",
    "sigma_model_observables[-1] = obs_data_observables[-1] * 0.2\n",
    "\n",
    "sigma_method_observables = np.zeros_like(sigma_model_observables)\n"
   ]
  },
  {
   "cell_type": "code",
   "execution_count": 8,
   "metadata": {},
   "outputs": [
    {
     "data": {
      "text/plain": [
       "array([2.41000000e+03, 4.41200000e+02, 1.49800000e+02, 6.21256059e+01,\n",
       "       4.20869579e+01, 4.90926433e+00, 4.22158146e+00, 5.09959787e+00,\n",
       "       9.67078186e-03, 1.01225260e-02, 3.77002831e-04])"
      ]
     },
     "execution_count": 8,
     "metadata": {},
     "output_type": "execute_result"
    }
   ],
   "source": [
    "sigma_model_observables"
   ]
  },
  {
   "cell_type": "markdown",
   "metadata": {},
   "source": [
    "# Initialise Models"
   ]
  },
  {
   "cell_type": "code",
   "execution_count": 9,
   "metadata": {},
   "outputs": [],
   "source": [
    "# ------------\n",
    "# Phase shifts\n",
    "# ------------\n",
    "def phase_shifts(parameters, obj, chn_number, T_lab_i):\n",
    "\n",
    "    C1S0 = parameters[0]      # 10^4 GeV^-2\n",
    "    C3S1 = parameters[1]      # 10^4 GeV^-2\n",
    "    gA2  = 1.29*1.29; # Note that gA2 = (gA)^2 and are treated as a LEC.\n",
    "    C3P0 = parameters[2];      # 10^4 GeV^-4\n",
    "    C3P2 = parameters[3];      # 10^2 GeV^-4\n",
    "    \n",
    "    LECs = [C1S0,C3P0,C3P2,C3S1,gA2]\n",
    "\n",
    "    phases = obj.compute_phase_shift(chn_number,T_lab_i,LECs)\n",
    "\n",
    "    return phases\n",
    "\n",
    "# ------------\n",
    "# Observables\n",
    "# ------------\n",
    "def observables(LEC, ang, E, obj, observable):\n",
    "  \n",
    "    gA2  = 1.29*1.29;\n",
    "    C1S0 = LEC[0]\n",
    "    C3S1 = LEC[1]\n",
    "    C3P0 = LEC[2]\n",
    "    C3P2 = LEC[3]\n",
    "\n",
    "    # First solve the LS equation. This saves phase shifts in the object obj.\n",
    "    obj.solve_LS(E,[C1S0,C3P0,C3P2,C3S1,gA2])  \n",
    "    # Call the function that computes an observable at a certain angle. This will\n",
    "    # be computed with the saves phase shifts from the previous call.\n",
    "    obs = obj.compute_observable(observable,ang)\n",
    "\n",
    "    return obs"
   ]
  },
  {
   "cell_type": "code",
   "execution_count": 10,
   "metadata": {},
   "outputs": [],
   "source": [
    "# ------------\n",
    "# Model 1\n",
    "# ------------\n",
    "\n",
    "def phase_shift_model(LECs, chn_number, T_lab_i, obj, coupled=False):\n",
    "    \n",
    "    output = np.zeros(LECs.shape[1])\n",
    "    for i in range(LECs.shape[1]):\n",
    "        \n",
    "        phases = phase_shifts(LECs[:,i], obj, chn_number,T_lab_i)\n",
    "        \n",
    "        # channels 3 (3S1) and 7 (3P2) are coupled channels\n",
    "        # coupled == False corresponds to 3S1 and 3P2\n",
    "        # coupled == True corresponds to 3D1 and 3F2\n",
    "        if chn_number == 3 or chn_number == 5:\n",
    "            if coupled == False:\n",
    "                phase_shift = np.degrees(phases[1])\n",
    "            else:\n",
    "                phase_shift = np.degrees(phases[0])\n",
    "        else:\n",
    "            phase_shift = np.degrees(phases[3])\n",
    "        \n",
    "        output[i] = phase_shift\n",
    "        \n",
    "    return output\n",
    "\n",
    "\n",
    "def phase_shift_model_1dimensional(parameters, chn_number, T_lab_i, obj, coupled=False, LEC_name=None):\n",
    "    \n",
    "    LEC = parameters[0]\n",
    "    LECs = np.ones((4,len(LEC)))\n",
    "    LECs[0] *= -0.112927/100.0\n",
    "    LECs[1] *= -0.076340/100.0\n",
    "    LECs[2] *= 1.3e-8\n",
    "    LECs[3] *= 0.1e-8\n",
    "    \n",
    "    if LEC_name == 'C1S0':\n",
    "        LECs[0] = parameters\n",
    "        \n",
    "    if LEC_name == 'C3S1':\n",
    "        LECs[1] = parameters\n",
    "        \n",
    "    if LEC_name == 'C3P0':\n",
    "        LECs[2] = parameters\n",
    "        \n",
    "    if LEC_name == 'C3P2':\n",
    "        LECs[3] = parameters\n",
    "    \n",
    "    output = np.zeros(LECs.shape[1])\n",
    "    \n",
    "    for i in range(LECs.shape[1]):\n",
    "\n",
    "        phases = phase_shifts(LECs[:,i], obj, chn_number,T_lab_i)\n",
    "        \n",
    "        # channels 3 (3S1) and 7 (3P2) are coupled channels\n",
    "        # coupled == False corresponds to 3S1 and 3P2\n",
    "        # coupled == True corresponds to 3D1 and 3F2\n",
    "        if chn_number == 3 or chn_number == 5:\n",
    "            if coupled == False:\n",
    "                phase_shift = np.degrees(phases[1])\n",
    "            else:\n",
    "                phase_shift = np.degrees(phases[0])\n",
    "        else:\n",
    "            phase_shift = np.degrees(phases[3])\n",
    "        \n",
    "        output[i] = phase_shift\n",
    "\n",
    "    return output\n",
    "\n",
    "\n",
    "\n",
    "# ------------\n",
    "# Model 2\n",
    "# ------------\n",
    "\n",
    "def cross_section_model(LECs, angle, E, obj, observable):\n",
    "    \n",
    "    output = np.zeros(LECs.shape[1])\n",
    "    \n",
    "    for i in range(LECs.shape[1]):\n",
    "        obs = observables(LECs[:,i], angle, E, obj, observable)\n",
    "        \n",
    "        output[i] = obs\n",
    "        \n",
    "    return output"
   ]
  },
  {
   "cell_type": "code",
   "execution_count": 11,
   "metadata": {},
   "outputs": [
    {
     "data": {
      "text/plain": [
       "Text(0, 0.5, 'Observable Value [Various Units]')"
      ]
     },
     "execution_count": 11,
     "metadata": {},
     "output_type": "execute_result"
    },
    {
     "data": {
      "image/png": "[encoded data removed]",
      "text/plain": [
       "<Figure size 720x360 with 1 Axes>"
      ]
     },
     "metadata": {
      "needs_background": "light"
     },
     "output_type": "display_data"
    }
   ],
   "source": [
    "# sanity check of model output\n",
    "\n",
    "# LEC test values\n",
    "C1S0 = -0.112927/100.0\n",
    "C3S1 = -0.076340/100.0\n",
    "gA2  = 1.29*1.29;\n",
    "C3P0 = 1.3e-8;\n",
    "C3P2 = 0.1e-8;\n",
    "        \n",
    "LECs_test = np.array([C1S0,C3S1,C3P0,C3P2]).reshape(-1,1)\n",
    "\n",
    "model_output_test = np.zeros_like(obs_data_observables)\n",
    "\n",
    "for i in range(len(variables_observables)):\n",
    "    model_output_test[i] = cross_section_model(LECs_test, *variables_observables[i])\n",
    "    \n",
    "fig, ax = plt.subplots(figsize=(10,5))\n",
    "ax.scatter(energies_observables, obs_data_observables, color='red', marker='x', lw=3, s=70, label='Obs Data')\n",
    "ax.scatter(energies_observables, model_output_test, lw=2, ec='black', fc='None', s=70, label='Model Output')\n",
    "ax.legend(loc='best')\n",
    "ax.set_xlabel('Energy [MeV]', fontsize=25)\n",
    "ax.set_ylabel('Observable Value [Various Units]',  fontsize=20)"
   ]
  },
  {
   "cell_type": "markdown",
   "metadata": {},
   "source": [
    "# History Matching - Phase Shifts"
   ]
  },
  {
   "cell_type": "code",
   "execution_count": 12,
   "metadata": {},
   "outputs": [],
   "source": [
    "# define parameter space to search\n",
    "\n",
    "C1S0_bound = np.array([-0.16/100.0, 0/100.0]).reshape(1,-1)\n",
    "C3S1_bound = np.array([-0.2/100.0, 0.1/100.0]).reshape(1,-1)\n",
    "C3P0_bound = np.array([-1e-7, 2e-7]).reshape(1,-1)\n",
    "C3P2_bound = np.array([-1e-7, 1e-7]).reshape(1,-1)\n",
    "\n",
    "parameter_bounds = np.concatenate((C1S0_bound, C3S1_bound, \\\n",
    "                                   C3P0_bound, C3P2_bound), axis=0)\n"
   ]
  },
  {
   "cell_type": "code",
   "execution_count": 13,
   "metadata": {},
   "outputs": [],
   "source": [
    "volshapes = ['gaussian', 'hypercube', 'hypercube_rot', 'ellipsoid']"
   ]
  },
  {
   "cell_type": "code",
   "execution_count": 14,
   "metadata": {},
   "outputs": [],
   "source": [
    "nwaves = 1\n",
    "ndim = 4\n",
    "nsamples = 1 * (10**4)\n",
    "volshape = 'hypercube'"
   ]
  },
  {
   "cell_type": "code",
   "execution_count": 15,
   "metadata": {},
   "outputs": [],
   "source": [
    "# initialise history matching class\n",
    "HM = historymatch.HistoryMatch(ndim, filename='result_dict', emulator='GP', volume_shape=volshape)\n",
    "# initialise results class\n",
    "Results = historymatch.Results('resultfile')"
   ]
  },
  {
   "cell_type": "code",
   "execution_count": 16,
   "metadata": {},
   "outputs": [],
   "source": [
    "ToyModel = historymatch.Simulator(HM)\n",
    "ToyModel.set_simulator(phase_shift_model_1dimensional)"
   ]
  },
  {
   "cell_type": "code",
   "execution_count": 17,
   "metadata": {},
   "outputs": [],
   "source": [
    "results_1D_NI = []\n",
    "results_1D_samples = []"
   ]
  },
  {
   "cell_type": "code",
   "execution_count": 18,
   "metadata": {},
   "outputs": [
    {
     "name": "stderr",
     "output_type": "stream",
     "text": [
      "100%|███████████████████████████████████████████| 5/5 [00:10<00:00,  2.08s/it]"
     ]
    },
    {
     "name": "stdout",
     "output_type": "stream",
     "text": [
      "{0.0: 775, 1.0: 3192, 2.0: 493, 3.0: 2887, 4.0: 1193}\n",
      "Number of Non-Implausible Samples: 1460\n"
     ]
    },
    {
     "name": "stderr",
     "output_type": "stream",
     "text": [
      "\n"
     ]
    }
   ],
   "source": [
    "# parameters are independent of each other, so run 4 1D history matches to construct new parameter ranges\n",
    "\n",
    "HM.initialize_volume(parameter_bounds[0,0], parameter_bounds[0,1])\n",
    "\n",
    "wave_C1S0 = HM.run_wave(1, obs_data_ps[0:5], sigma_obs_ps[0:5], sigma_model_ps[0:5], \\\n",
    "                       sigma_method_ps[0:5], variables_ps_C1S0[0:5], nsamples=nsamples, \\\n",
    "                       ntraining=3, Imax=2, ndim=1)\n",
    "\n",
    "#HM.store_result(Results, wave=1, wave_results = wave_C1S0)\n",
    "\n",
    "results_1D_NI.append(wave_C1S0[0])\n",
    "results_1D_samples.append(wave_C1S0[1])"
   ]
  },
  {
   "cell_type": "code",
   "execution_count": 19,
   "metadata": {},
   "outputs": [
    {
     "name": "stderr",
     "output_type": "stream",
     "text": [
      "100%|███████████████████████████████████████████| 5/5 [00:47<00:00,  9.50s/it]"
     ]
    },
    {
     "name": "stdout",
     "output_type": "stream",
     "text": [
      "{0.0: 1768, 1.0: 3396, 2.0: 445, 3.0: 1330, 4.0: 328}\n",
      "Number of Non-Implausible Samples: 2733\n"
     ]
    },
    {
     "name": "stderr",
     "output_type": "stream",
     "text": [
      "\n"
     ]
    }
   ],
   "source": [
    "HM.initialize_volume(parameter_bounds[1,0], parameter_bounds[1,1])\n",
    "\n",
    "wave_C3S1 = HM.run_wave(1, obs_data_ps[5:10], sigma_obs_ps[5:10], sigma_model_ps[5:10], \\\n",
    "                       sigma_method_ps[5:10], variables_ps_C3S1[5:10], nsamples=nsamples, \\\n",
    "                       ntraining=3, Imax=2, ndim=1)\n",
    "\n",
    "#HM.store_result(Results, wave=2, wave_results = wave_C3S1)\n",
    "results_1D_NI.append(wave_C3S1[0])\n",
    "results_1D_samples.append(wave_C3S1[1])"
   ]
  },
  {
   "cell_type": "code",
   "execution_count": 20,
   "metadata": {},
   "outputs": [
    {
     "name": "stderr",
     "output_type": "stream",
     "text": [
      "100%|███████████████████████████████████████████| 5/5 [00:10<00:00,  2.05s/it]"
     ]
    },
    {
     "name": "stdout",
     "output_type": "stream",
     "text": [
      "{0.0: 8, 1.0: 35, 2.0: 10, 3.0: 949, 4.0: 13}\n",
      "Number of Non-Implausible Samples: 8985\n"
     ]
    },
    {
     "name": "stderr",
     "output_type": "stream",
     "text": [
      "\n"
     ]
    }
   ],
   "source": [
    "HM.initialize_volume(parameter_bounds[2,0], parameter_bounds[2,1])\n",
    "\n",
    "wave_C3P0 = HM.run_wave(1, obs_data_ps[10:15], sigma_obs_ps[10:15], sigma_model_ps[10:15], \\\n",
    "                       sigma_method_ps[10:15], variables_ps_C3P0[10:15], nsamples=nsamples, \\\n",
    "                       ntraining=3, Imax=2, ndim=1)\n",
    "\n",
    "#HM.store_result(Results, wave=3, wave_results = wave_C3P0)\n",
    "\n",
    "results_1D_NI.append(wave_C3P0[0])\n",
    "results_1D_samples.append(wave_C3P0[1])"
   ]
  },
  {
   "cell_type": "code",
   "execution_count": 21,
   "metadata": {},
   "outputs": [
    {
     "name": "stderr",
     "output_type": "stream",
     "text": [
      "100%|███████████████████████████████████████████| 5/5 [00:47<00:00,  9.48s/it]"
     ]
    },
    {
     "name": "stdout",
     "output_type": "stream",
     "text": [
      "{1.0: 2, 2.0: 2, 3.0: 1130, 4.0: 31}\n",
      "Number of Non-Implausible Samples: 8835\n"
     ]
    },
    {
     "name": "stderr",
     "output_type": "stream",
     "text": [
      "\n"
     ]
    }
   ],
   "source": [
    "HM.initialize_volume(parameter_bounds[3,0], parameter_bounds[3,1])\n",
    "\n",
    "wave_C3P2 = HM.run_wave(1, obs_data_ps[15:20], sigma_obs_ps[15:20], sigma_model_ps[15:20], \\\n",
    "                       sigma_method_ps[15:20], variables_ps_C3P2[15:20], nsamples=nsamples, \\\n",
    "                       ntraining=3, Imax=2, ndim=1)\n",
    "\n",
    "#HM.store_result(Results, wave=4, wave_results = wave_C3P2)\n",
    "\n",
    "results_1D_NI.append(wave_C3P2[0])\n",
    "results_1D_samples.append(wave_C3P2[1])"
   ]
  },
  {
   "cell_type": "code",
   "execution_count": 22,
   "metadata": {},
   "outputs": [],
   "source": [
    "for wave in range(4):\n",
    "    file = open(\"data/phase_shift_1D_nonimp_{}.txt\".format(wave+1), \"w\")\n",
    "    np.savetxt(file, results_1D_NI[wave])\n",
    "    file.close()\n",
    "    file2 = open(\"data/phase_shift_1D_samples_{}.txt\".format(wave+1), \"w\")\n",
    "    np.savetxt(file2, results_1D_samples[wave])\n",
    "    file2.close()"
   ]
  },
  {
   "cell_type": "code",
   "execution_count": 23,
   "metadata": {
    "scrolled": false
   },
   "outputs": [],
   "source": [
    "#ToyModel = historymatch.Simulator(HM)\n",
    "#ToyModel.set_simulator(phase_shift_model)\n",
    "\n",
    "#HM.initialize_volume(parameter_bounds[:,0], parameter_bounds[:,1])\n",
    "\n",
    "#start = time.time()\n",
    "\n",
    "#wave1 = HM.run_wave(1, obs_data_ps[0:4], sigma_obs_ps[0:4], sigma_model_ps[0:4], sigma_method_ps[0:4], variables_ps[0:4], nsamples=nsamples, ntraining=3, Imax=2)\n",
    "\n",
    "#end = time.time()"
   ]
  },
  {
   "cell_type": "markdown",
   "metadata": {},
   "source": [
    "# History Match - Scattering Observables"
   ]
  },
  {
   "cell_type": "code",
   "execution_count": 24,
   "metadata": {},
   "outputs": [],
   "source": [
    "parameter_bounds_wave_2 = np.zeros_like(parameter_bounds)\n",
    "\n",
    "for i in range(4):\n",
    "    parameter_bounds_wave_2[i] = [np.min(results_1D_NI[i][:,0]), np.max(results_1D_NI[i][:,0])]\n",
    "    \n",
    "HM.initialize_volume(parameter_bounds_wave_2[:,0], parameter_bounds_wave_2[:,1])"
   ]
  },
  {
   "cell_type": "code",
   "execution_count": 25,
   "metadata": {},
   "outputs": [],
   "source": [
    "ToyModel.set_simulator(cross_section_model)"
   ]
  },
  {
   "cell_type": "code",
   "execution_count": 26,
   "metadata": {},
   "outputs": [
    {
     "name": "stderr",
     "output_type": "stream",
     "text": [
      "100%|████████████████████████████████████████| 11/11 [29:35<00:00, 161.42s/it]"
     ]
    },
    {
     "name": "stdout",
     "output_type": "stream",
     "text": [
      "{0.0: 4807, 5.0: 107, 8.0: 2396, 9.0: 91149, 10.0: 754}\n",
      "Number of Non-Implausible Samples: 787\n"
     ]
    },
    {
     "name": "stderr",
     "output_type": "stream",
     "text": [
      "\n"
     ]
    }
   ],
   "source": [
    "start = time.time()\n",
    "\n",
    "results_wave2 = HM.run_wave(1, obs_data_observables, sigma_obs_observables, sigma_model_observables, sigma_method_observables, variables_observables, nsamples= (1*10**5), Imax=2)\n",
    "\n",
    "end = time.time()"
   ]
  },
  {
   "cell_type": "code",
   "execution_count": 27,
   "metadata": {},
   "outputs": [
    {
     "name": "stdout",
     "output_type": "stream",
     "text": [
      "11\n"
     ]
    }
   ],
   "source": [
    "print(len(sigma_model_observables))"
   ]
  },
  {
   "cell_type": "code",
   "execution_count": 28,
   "metadata": {},
   "outputs": [
    {
     "name": "stdout",
     "output_type": "stream",
     "text": [
      "Time for wave : 1775.6117916107178 s\n",
      "Time for wave : 0.49322549766964385 hours\n"
     ]
    }
   ],
   "source": [
    "print('Time for wave : ' + str(end - start) + ' s')\n",
    "print('Time for wave : ' + str((end - start)/3600) + ' hours')"
   ]
  },
  {
   "cell_type": "code",
   "execution_count": 29,
   "metadata": {},
   "outputs": [],
   "source": [
    "HM.store_result(Results, wave=1, wave_results = results_wave2)"
   ]
  },
  {
   "cell_type": "code",
   "execution_count": null,
   "metadata": {},
   "outputs": [],
   "source": []
  },
  {
   "cell_type": "code",
   "execution_count": 30,
   "metadata": {
    "scrolled": true
   },
   "outputs": [
    {
     "name": "stdout",
     "output_type": "stream",
     "text": [
      "volume fraction (hypercube) : 3.3487333616423056\n"
     ]
    },
    {
     "data": {
      "image/png": "[encoded data removed]",
      "text/plain": [
       "<Figure size 2160x2160 with 9 Axes>"
      ]
     },
     "metadata": {
      "needs_background": "light"
     },
     "output_type": "display_data"
    }
   ],
   "source": [
    "# plot corner plot of hypercube wave progression\n",
    "\n",
    "\n",
    "colors = ['darkgrey', 'grey', 'grey', 'black', 'red']\n",
    "#colors = ['darkgrey', 'red']\n",
    "linestyles = [':', '-.', '--','-','-','-', '-']\n",
    "theta_names = [r'$C1S0$', r'$C3S1$', r'$C3P0$', r'$C3P2$']\n",
    "dec_list = [1,1,1,0,0,0]\n",
    "\n",
    "fig, axes = plt.subplots(ndim-1, ndim-1, figsize=(30,30))\n",
    "\n",
    "for k in range(1,2):\n",
    "    \n",
    "    dims = ndim\n",
    "        \n",
    "    # compute bounds of HC nonimplausible samples\n",
    "    bounds_hypercube = utils.locate_boundaries(Results.nonimplausible[k-1], dims)\n",
    "    \n",
    "    volume = 1\n",
    "    initial_volume = 1\n",
    "    for i in range(dims):\n",
    "        volume *= np.abs(bounds_hypercube[i,1]-bounds_hypercube[i,0])\n",
    "        initial_volume *= np.abs(parameter_bounds[i,1]-parameter_bounds[i,0])\n",
    "    print('volume fraction (hypercube) : ' + str(100*volume/initial_volume))\n",
    "\n",
    "        \n",
    "    # plot hypercubes for each dimension\n",
    "    for i in range(dims-1):\n",
    "        for j in range(dims):\n",
    "            ax = axes[j-1,i]\n",
    "                \n",
    "            if i < j:\n",
    "                \n",
    "                if i != 0:\n",
    "                    None\n",
    "                    ax.axes.yaxis.set_visible(False)\n",
    "                else:\n",
    "                    ax.set_ylabel(theta_names[j])\n",
    "                    \n",
    "                if j == 3:\n",
    "                    ax.set_xlabel(theta_names[i])\n",
    "                else:\n",
    "                    None\n",
    "                    #ax.axes.xaxis.set_visible(False)\n",
    "                \n",
    "                    \n",
    "                #ax.grid(b=True, which='major', color='lightgrey', linestyle='--')\n",
    "                \n",
    "                #if k==0:\n",
    "                    #ax.scatter(Results.nonimplausible[k][:,i], Results.nonimplausible[k][:,j], alpha=0.5, s=1, color='black')\n",
    "                if k==1:\n",
    "                    ax.scatter(Results.nonimplausible[k-1][:,i], Results.nonimplausible[k-1][:,j], alpha=0.5, s=1, color='red')\n",
    "                \n",
    "                if k == 1:\n",
    "                    ax.plot([parameter_bounds_wave_2[i,0], parameter_bounds_wave_2[i,1]], [parameter_bounds_wave_2[j,0], parameter_bounds_wave_2[j,0]], color=colors[k-1], linestyle=linestyles[k-1], linewidth=4)\n",
    "                    ax.plot([parameter_bounds_wave_2[i,0], parameter_bounds_wave_2[i,1]], [parameter_bounds_wave_2[j,1], parameter_bounds_wave_2[j,1]], color=colors[k-1], linestyle=linestyles[k-1], linewidth=4)\n",
    "                \n",
    "                    ax.plot([parameter_bounds_wave_2[i,0], parameter_bounds_wave_2[i,0]], [parameter_bounds_wave_2[j,0], parameter_bounds_wave_2[j,1]], color=colors[k-1], linestyle=linestyles[k-1], linewidth=4)\n",
    "                    ax.plot([parameter_bounds_wave_2[i,1], parameter_bounds_wave_2[i,1]], [parameter_bounds_wave_2[j,0], parameter_bounds_wave_2[j,1]], color=colors[k-1], linestyle=linestyles[k-1], linewidth=4)\n",
    "                    \n",
    "                    \n",
    "                ax.plot([bounds_hypercube[i,0], bounds_hypercube[i,1]], [bounds_hypercube[j,0], bounds_hypercube[j,0]], color=colors[k], linestyle=linestyles[k], linewidth=4)\n",
    "                ax.plot([bounds_hypercube[i,0], bounds_hypercube[i,1]], [bounds_hypercube[j,1], bounds_hypercube[j,1]], color=colors[k], linestyle=linestyles[k], linewidth=4)\n",
    "                \n",
    "                ax.plot([bounds_hypercube[i,0], bounds_hypercube[i,0]], [bounds_hypercube[j,0], bounds_hypercube[j,1]], color=colors[k], linestyle=linestyles[k], linewidth=4)\n",
    "                ax.plot([bounds_hypercube[i,1], bounds_hypercube[i,1]], [bounds_hypercube[j,0], bounds_hypercube[j,1]], color=colors[k], linestyle=linestyles[k], linewidth=4)\n",
    "                \n",
    "                \n",
    "                # set limits to correspond to starting range\n",
    "                ax.set_xlim([parameter_bounds_wave_2[i,0],parameter_bounds_wave_2[i,1]])\n",
    "                ax.set_ylim([parameter_bounds_wave_2[j,0],parameter_bounds_wave_2[j,1]])\n",
    "\n",
    "                ax.set_xticks(np.linspace(parameter_bounds[i,0], parameter_bounds[i,1], 4))\n",
    "                #ax.set_xticklabels(np.around(np.linspace(initial_parameter_bounds[i,0], initial_parameter_bounds[i,1], 3),dec_list[i]), rotation = 45, ha=\"right\")\n",
    "                ax.set_yticks(np.linspace(parameter_bounds[j,0], parameter_bounds[j,1], 4))\n",
    "                #ax.set_yticklabels(np.around(np.linspace(initial_parameter_bounds[j,0], initial_parameter_bounds[j,1], 5),dec_list[j]), rotation = 45, ha=\"right\")\n",
    "                \n",
    "                ax.yaxis.set_major_locator(MaxNLocator(nbins=4,prune='upper'))\n",
    "                ax.xaxis.set_major_locator(MaxNLocator(nbins=4,prune='upper'))\n",
    "                \n",
    "            elif i == j:\n",
    "                if i == 1:\n",
    "                    pts = ax.scatter(0,0,color='black', s=0.01)\n",
    "                    lines = [Line2D([0], [0], color=colors[c], linewidth=3, linestyle=linestyles[c]) for c in range(len(colors))]\n",
    "                    lines.append(pts)\n",
    "                    #labels = ['Wave 1', 'Wave 2', 'Wave 3', 'Wave 4', 'Wave 5', 'Wave 5 Non-implausible samples']\n",
    "                    labels = ['Wave 1', 'Wave 2', 'Wave 2 Non-implausible samples']\n",
    "                    ax.legend(lines, labels, loc='lower right')\n",
    "                    ax.set_zorder(1)\n",
    "                    ax.axis('off') \n",
    "    \n",
    "            elif i==3:\n",
    "                #None\n",
    "                ax.axis('off')\n",
    "            elif i==2 and j==1:\n",
    "                None\n",
    "                ax.axis('off')\n",
    "                \n",
    "                \n",
    "#fig.delaxes(axes[3][0])\n",
    "#fig.delaxes(axes[3][1])\n",
    "axes[1,2].axis('off')\n",
    "\n",
    "fig.subplots_adjust(wspace=0, hspace=0)\n"
   ]
  },
  {
   "cell_type": "code",
   "execution_count": 31,
   "metadata": {},
   "outputs": [],
   "source": [
    "#for wave in range(1):\n",
    "    #file = open(\"data/observables_nonimp_{}_IMAX2_{}.txt\".format(wave+1,cutoff), \"w\")\n",
    "    #np.savetxt(file, Results.nonimplausible[wave])\n",
    "    #file.close()\n",
    "    #file2 = open(\"data/observables_samples_{}_IMAX2_{}.txt\".format(wave+1,cutoff), \"w\")\n",
    "    #np.savetxt(file2, Results.samples_I[wave])\n",
    "    #file2.close()"
   ]
  },
  {
   "cell_type": "code",
   "execution_count": 32,
   "metadata": {},
   "outputs": [],
   "source": [
    "dataset = pd.DataFrame({'C1SO': Results.nonimplausible[0][:, 0], 'C3S1': Results.nonimplausible[0][:, 1], 'C3P0': Results.nonimplausible[0][:, 2],'C3P2': Results.nonimplausible[0][:, 3], 'IM2': Results.nonimplausible[0][:, 4]})\n",
    "dataset.to_csv('nonimplausible_samples_{}.csv'.format(cutoff), index=False)\n",
    "\n",
    "dataset_samples = pd.DataFrame({'C1SO': Results.samples_I[0][:, 0], 'C3S1': Results.samples_I[0][:, 1], 'C3P0': Results.samples_I[0][:, 2],'C3P2': Results.samples_I[0][:, 3], 'IM2': Results.samples_I[0][:, 4]})\n",
    "dataset_samples.to_csv('all_samples_{}.csv'.format(cutoff), index=False)"
   ]
  },
  {
   "cell_type": "markdown",
   "metadata": {},
   "source": [
    "# Save results to file"
   ]
  },
  {
   "cell_type": "code",
   "execution_count": 33,
   "metadata": {},
   "outputs": [
    {
     "ename": "NameError",
     "evalue": "name 'obs_data' is not defined",
     "output_type": "error",
     "traceback": [
      "\u001b[0;31m---------------------------------------------------------------------------\u001b[0m",
      "\u001b[0;31mNameError\u001b[0m                                 Traceback (most recent call last)",
      "Input \u001b[0;32mIn [33]\u001b[0m, in \u001b[0;36m<module>\u001b[0;34m\u001b[0m\n\u001b[0;32m----> 1\u001b[0m dictionary \u001b[38;5;241m=\u001b[39m {\u001b[38;5;124m'\u001b[39m\u001b[38;5;124mNsamples : \u001b[39m\u001b[38;5;124m'\u001b[39m : \u001b[38;5;28mlen\u001b[39m(Results\u001b[38;5;241m.\u001b[39msamples_I[\u001b[38;5;241m0\u001b[39m]), \u001b[38;5;124m'\u001b[39m\u001b[38;5;124mNoutputs : \u001b[39m\u001b[38;5;124m'\u001b[39m : \u001b[38;5;28mlen\u001b[39m(\u001b[43mobs_data\u001b[49m)}\n\u001b[1;32m      3\u001b[0m keys \u001b[38;5;241m=\u001b[39m np\u001b[38;5;241m.\u001b[39marray([\u001b[38;5;124m'\u001b[39m\u001b[38;5;124mNsamples\u001b[39m\u001b[38;5;124m'\u001b[39m, \u001b[38;5;124m'\u001b[39m\u001b[38;5;124mNoutputs\u001b[39m\u001b[38;5;124m'\u001b[39m])\u001b[38;5;241m.\u001b[39mreshape(\u001b[38;5;241m1\u001b[39m,\u001b[38;5;241m-\u001b[39m\u001b[38;5;241m1\u001b[39m)\n\u001b[1;32m      4\u001b[0m vals \u001b[38;5;241m=\u001b[39m np\u001b[38;5;241m.\u001b[39marray([\u001b[38;5;28mlen\u001b[39m(Results\u001b[38;5;241m.\u001b[39msamples_I[\u001b[38;5;241m0\u001b[39m]), \u001b[38;5;28mlen\u001b[39m(obs_data)])\u001b[38;5;241m.\u001b[39mreshape(\u001b[38;5;241m1\u001b[39m,\u001b[38;5;241m-\u001b[39m\u001b[38;5;241m1\u001b[39m)\n",
      "\u001b[0;31mNameError\u001b[0m: name 'obs_data' is not defined"
     ]
    }
   ],
   "source": [
    "dictionary = {'Nsamples : ' : len(Results.samples_I[0]), 'Noutputs : ' : len(obs_data)}\n",
    "\n",
    "keys = np.array(['Nsamples', 'Noutputs']).reshape(1,-1)\n",
    "vals = np.array([len(Results.samples_I[0]), len(obs_data)]).reshape(1,-1)"
   ]
  },
  {
   "cell_type": "markdown",
   "metadata": {},
   "source": [
    "\n",
    "shape = volshape\n",
    "for wave in range(5):\n",
    "    file = open(\"data_ps/w{}_{}_nonimp.txt\".format(wave+1,shape), \"w\")\n",
    "    np.savetxt(file, Results.nonimplausible[wave])\n",
    "    file.close()\n",
    "    file3 = open(\"data_ps/w{}_{}_samples.txt\".format(wave+1,shape), \"w\")\n",
    "    np.savetxt(file3, Results.samples_I[wave])\n",
    "    file3.close()\n",
    "file2 = open(\"data_ps/details_{}.txt\".format(shape), \"w\")\n",
    "np.savetxt(file2, keys, fmt=\"%s\")\n",
    "np.savetxt(file2, vals, fmt=\"%d\")\n",
    "file2.close()"
   ]
  }
 ],
 "metadata": {
  "kernelspec": {
   "display_name": "Python 3 (ipykernel)",
   "language": "python",
   "name": "python3"
  },
  "language_info": {
   "codemirror_mode": {
    "name": "ipython",
    "version": 3
   },
   "file_extension": ".py",
   "mimetype": "text/x-python",
   "name": "python",
   "nbconvert_exporter": "python",
   "pygments_lexer": "ipython3",
   "version": "3.8.0"
  }
 },
 "nbformat": 4,
 "nbformat_minor": 4
}
