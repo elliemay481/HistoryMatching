{
 "cells": [
  {
   "cell_type": "code",
   "execution_count": 1,
   "metadata": {},
   "outputs": [],
   "source": [
    "# import internal files\n",
    "from historymatch import emulators\n",
    "from historymatch import sample\n",
    "from historymatch import historymatch\n",
    "from historymatch import plot\n",
    "\n",
    "import numpy as np\n",
    "import matplotlib.pyplot as plt\n",
    "from sklearn.cluster import KMeans\n",
    "from scipy import stats\n",
    "\n",
    "plt.rcParams.update({'font.size': 10})\n",
    "\n",
    "np.random.seed(4)\n",
    "\n",
    "import importlib"
   ]
  },
  {
   "cell_type": "code",
   "execution_count": 2,
   "metadata": {},
   "outputs": [],
   "source": [
    "def model_eqn_1(x, theta_0, theta_1, theta_2):\n",
    "    return theta_0 + theta_1*(x) + theta_2*(x**2)\n",
    "\n",
    "function1 = np.vectorize(model_eqn_1)"
   ]
  },
  {
   "cell_type": "code",
   "execution_count": 3,
   "metadata": {},
   "outputs": [],
   "source": [
    "def model_eqn_2(x, theta_0, theta_1, theta_2):\n",
    "    return theta_0 - theta_1*np.sin(x) + (theta_2**1)*np.cos(x)\n",
    "\n",
    "function2 = np.vectorize(model_eqn_2)"
   ]
  },
  {
   "cell_type": "code",
   "execution_count": 4,
   "metadata": {},
   "outputs": [],
   "source": [
    "# define parameter space\n",
    "var_method = 0\n",
    "\n",
    "theta_0_bound = np.array([-1, 1]).reshape(1,-1)\n",
    "theta_1_bound = np.array([-1, 1]).reshape(1,-1)\n",
    "theta_2_bound = np.array([-1, 1]).reshape(1,-1)\n",
    "\n",
    "parameter_bounds = np.concatenate((theta_0_bound, theta_1_bound, theta_2_bound), axis=0)\n",
    "\n",
    "theta_0_vals = np.linspace(parameter_bounds[0,0], parameter_bounds[0,1], 100)\n",
    "theta_1_vals = np.linspace(parameter_bounds[1,0], parameter_bounds[1,1], 100)\n",
    "theta_2_vals = np.linspace(parameter_bounds[2,0], parameter_bounds[2,1], 100)\n",
    "\n",
    "theta_vals = np.concatenate((theta_0_vals.reshape(1,-1), theta_1_vals.reshape(1,-1), theta_2_vals.reshape(1,-1)), axis=0)"
   ]
  },
  {
   "cell_type": "code",
   "execution_count": 5,
   "metadata": {},
   "outputs": [],
   "source": [
    "Nx = 5\n",
    "\n",
    "def toy_model(theta_0, theta_1, theta_2):\n",
    "    \n",
    "    x_bound = np.array([0.1, 1])\n",
    "    Nx = 5\n",
    "    xvals = np.linspace(x_bound[0], x_bound[-1], Nx)\n",
    "\n",
    "    outputs =  []\n",
    "    for x in xvals:\n",
    "        output = theta_0 + (theta_1**1)*(x) + theta_2*(x**2)\n",
    "        outputs.append(output)\n",
    "    for x in xvals:\n",
    "        output = theta_0 - theta_1*np.sin(x) + (theta_2**1)*np.cos(x)\n",
    "        outputs.append(output)\n",
    "    return np.array(outputs)"
   ]
  },
  {
   "cell_type": "code",
   "execution_count": 6,
   "metadata": {},
   "outputs": [],
   "source": [
    "# generate observational data with some uncertainty\n",
    "true_parameters = [-0.1, 0.3, 0.4]\n",
    "\n",
    "'''output_ratio = (toy_model(-1,-1,-1) - toy_model(1,1,1)) / (toy_model(-1,-1,-1) - toy_model(1,1,1))[0]\n",
    "\n",
    "var_obs = output_ratio*0.001 # observational uncertainty variance\n",
    "\n",
    "\n",
    "error_obs = np.zeros(2*Nx)\n",
    "for i in range(2*Nx):\n",
    "    error_obs[i] = np.random.normal(0, np.sqrt(var_obs[i]))\n",
    "\n",
    "\n",
    "obs_data = toy_model(*true_parameters) + error_obs'''\n",
    "\n",
    "\n",
    "var_obs = np.ones(2*Nx)*0.01 # observational uncertainty variance\n",
    "\n",
    "error_obs = np.random.normal(0, np.sqrt(var_obs), 2*Nx)\n",
    "\n",
    "obs_data = toy_model(*true_parameters) + error_obs\n"
   ]
  },
  {
   "cell_type": "code",
   "execution_count": 7,
   "metadata": {},
   "outputs": [],
   "source": [
    "nwaves = 3\n",
    "ndim = 3\n",
    "volshape = 'hypercube'"
   ]
  },
  {
   "cell_type": "code",
   "execution_count": 8,
   "metadata": {},
   "outputs": [],
   "source": [
    "importlib.reload(historymatch)\n",
    "\n",
    "# initialise history matching class\n",
    "HM = historymatch.HistoryMatch(ndim, 'GP', volshape)"
   ]
  },
  {
   "cell_type": "code",
   "execution_count": 9,
   "metadata": {
    "scrolled": true
   },
   "outputs": [
    {
     "name": "stdout",
     "output_type": "stream",
     "text": [
      "(3, 2)\n",
      "(3, 2)\n",
      "Running wave 1\n",
      "(1,)\n",
      "(8,)\n",
      "Emulating output 0...\n",
      "(1,)\n",
      "(8,)\n",
      "Emulating output 1...\n",
      "(1,)\n",
      "(8,)\n",
      "Emulating output 2...\n",
      "(1,)\n",
      "(8,)\n",
      "Emulating output 3...\n",
      "(1,)\n",
      "(8,)\n",
      "Emulating output 4...\n",
      "(1,)\n",
      "(8,)\n",
      "Emulating output 5...\n",
      "(1,)\n",
      "(8,)\n",
      "Emulating output 6...\n",
      "(1,)\n",
      "(8,)\n",
      "Emulating output 7...\n",
      "(1,)\n",
      "(8,)\n",
      "Emulating output 8...\n",
      "(1,)\n",
      "(8,)\n",
      "Emulating output 9...\n"
     ]
    },
    {
     "ename": "NameError",
     "evalue": "name 'nonimplausible' is not defined",
     "output_type": "error",
     "traceback": [
      "\u001b[0;31m---------------------------------------------------------------------------\u001b[0m",
      "\u001b[0;31mNameError\u001b[0m                                 Traceback (most recent call last)",
      "\u001b[0;32m<ipython-input-9-11a0290a3f7b>\u001b[0m in \u001b[0;36m<module>\u001b[0;34m\u001b[0m\n\u001b[1;32m      5\u001b[0m \u001b[0mHM\u001b[0m\u001b[0;34m.\u001b[0m\u001b[0minitialize_volume\u001b[0m\u001b[0;34m(\u001b[0m\u001b[0;34m[\u001b[0m\u001b[0;34m-\u001b[0m\u001b[0;36m1\u001b[0m\u001b[0;34m,\u001b[0m\u001b[0;34m-\u001b[0m\u001b[0;36m1\u001b[0m\u001b[0;34m,\u001b[0m\u001b[0;34m-\u001b[0m\u001b[0;36m1\u001b[0m\u001b[0;34m]\u001b[0m\u001b[0;34m,\u001b[0m \u001b[0;34m[\u001b[0m\u001b[0;36m1\u001b[0m\u001b[0;34m,\u001b[0m\u001b[0;36m1\u001b[0m\u001b[0;34m,\u001b[0m\u001b[0;36m1\u001b[0m\u001b[0;34m]\u001b[0m\u001b[0;34m)\u001b[0m\u001b[0;34m\u001b[0m\u001b[0;34m\u001b[0m\u001b[0m\n\u001b[1;32m      6\u001b[0m \u001b[0;34m\u001b[0m\u001b[0m\n\u001b[0;32m----> 7\u001b[0;31m \u001b[0mresults\u001b[0m \u001b[0;34m=\u001b[0m \u001b[0mHM\u001b[0m\u001b[0;34m.\u001b[0m\u001b[0mrun\u001b[0m\u001b[0;34m(\u001b[0m\u001b[0mnwaves\u001b[0m\u001b[0;34m=\u001b[0m\u001b[0mnwaves\u001b[0m\u001b[0;34m)\u001b[0m\u001b[0;34m\u001b[0m\u001b[0;34m\u001b[0m\u001b[0m\n\u001b[0m",
      "\u001b[0;32m~/Documents/Uni/Thesis/Code/HistoryMatching/historymatch/historymatch.py\u001b[0m in \u001b[0;36mrun\u001b[0;34m(self, nwaves)\u001b[0m\n\u001b[1;32m    280\u001b[0m             \u001b[0;31m# run history matching wave\u001b[0m\u001b[0;34m\u001b[0m\u001b[0;34m\u001b[0m\u001b[0;34m\u001b[0m\u001b[0m\n\u001b[1;32m    281\u001b[0m             \u001b[0mself\u001b[0m\u001b[0;34m.\u001b[0m\u001b[0mnonimplausible_bounds\u001b[0m\u001b[0;34m,\u001b[0m \u001b[0mnonimplausible_samples\u001b[0m\u001b[0;34m,\u001b[0m \u001b[0mI_samples\u001b[0m\u001b[0;34m,\u001b[0m \u001b[0mmu\u001b[0m\u001b[0;34m,\u001b[0m \u001b[0msd\u001b[0m\u001b[0;34m,\u001b[0m \u001b[0moutput_convergence\u001b[0m\u001b[0;34m,\u001b[0m\u001b[0;31m\\\u001b[0m\u001b[0;34m\u001b[0m\u001b[0;34m\u001b[0m\u001b[0m\n\u001b[0;32m--> 282\u001b[0;31m                                         \u001b[0;34m=\u001b[0m \u001b[0mself\u001b[0m\u001b[0;34m.\u001b[0m\u001b[0mwave\u001b[0m\u001b[0;34m(\u001b[0m\u001b[0mtheta_train\u001b[0m\u001b[0;34m,\u001b[0m \u001b[0mtheta_samples\u001b[0m\u001b[0;34m)\u001b[0m\u001b[0;34m\u001b[0m\u001b[0;34m\u001b[0m\u001b[0m\n\u001b[0m\u001b[1;32m    283\u001b[0m \u001b[0;34m\u001b[0m\u001b[0m\n\u001b[1;32m    284\u001b[0m             \u001b[0mprint\u001b[0m\u001b[0;34m(\u001b[0m\u001b[0;34m'Convergence : '\u001b[0m \u001b[0;34m+\u001b[0m \u001b[0mstr\u001b[0m\u001b[0;34m(\u001b[0m\u001b[0mnp\u001b[0m\u001b[0;34m.\u001b[0m\u001b[0mall\u001b[0m\u001b[0;34m(\u001b[0m\u001b[0moutput_convergence\u001b[0m\u001b[0;34m)\u001b[0m\u001b[0;34m)\u001b[0m\u001b[0;34m)\u001b[0m\u001b[0;34m\u001b[0m\u001b[0;34m\u001b[0m\u001b[0m\n",
      "\u001b[0;32m~/Documents/Uni/Thesis/Code/HistoryMatching/historymatch/historymatch.py\u001b[0m in \u001b[0;36mwave\u001b[0;34m(self, theta_train, theta_samples)\u001b[0m\n\u001b[1;32m    228\u001b[0m         \u001b[0;32melif\u001b[0m \u001b[0mself\u001b[0m\u001b[0;34m.\u001b[0m\u001b[0mshape\u001b[0m \u001b[0;34m==\u001b[0m \u001b[0;34m'hypercube_rot'\u001b[0m\u001b[0;34m:\u001b[0m\u001b[0;34m\u001b[0m\u001b[0;34m\u001b[0m\u001b[0m\n\u001b[1;32m    229\u001b[0m             \u001b[0;31m# ***** fix **********\u001b[0m\u001b[0;34m\u001b[0m\u001b[0;34m\u001b[0m\u001b[0;34m\u001b[0m\u001b[0m\n\u001b[0;32m--> 230\u001b[0;31m             \u001b[0mtraining_rot\u001b[0m\u001b[0;34m,\u001b[0m \u001b[0msamples_rot\u001b[0m \u001b[0;34m=\u001b[0m \u001b[0msample\u001b[0m\u001b[0;34m.\u001b[0m\u001b[0mrotated_hypercube_samples\u001b[0m\u001b[0;34m(\u001b[0m\u001b[0mself\u001b[0m\u001b[0;34m.\u001b[0m\u001b[0mndim\u001b[0m\u001b[0;34m,\u001b[0m \u001b[0mnonimplausible\u001b[0m\u001b[0;34m[\u001b[0m\u001b[0;34m:\u001b[0m\u001b[0;34m,\u001b[0m\u001b[0;34m:\u001b[0m\u001b[0;34m-\u001b[0m\u001b[0;36m1\u001b[0m\u001b[0;34m]\u001b[0m\u001b[0;34m,\u001b[0m \u001b[0mself\u001b[0m\u001b[0;34m.\u001b[0m\u001b[0mnsamples\u001b[0m\u001b[0;34m,\u001b[0m \u001b[0mself\u001b[0m\u001b[0;34m.\u001b[0m\u001b[0mntraining\u001b[0m\u001b[0;34m)\u001b[0m\u001b[0;34m\u001b[0m\u001b[0;34m\u001b[0m\u001b[0m\n\u001b[0m\u001b[1;32m    231\u001b[0m             \u001b[0mself\u001b[0m\u001b[0;34m.\u001b[0m\u001b[0mnonimplausible_bounds\u001b[0m \u001b[0;34m=\u001b[0m \u001b[0msamples_rot\u001b[0m\u001b[0;34m\u001b[0m\u001b[0;34m\u001b[0m\u001b[0m\n\u001b[1;32m    232\u001b[0m         \u001b[0;32melse\u001b[0m\u001b[0;34m:\u001b[0m\u001b[0;34m\u001b[0m\u001b[0;34m\u001b[0m\u001b[0m\n",
      "\u001b[0;31mNameError\u001b[0m: name 'nonimplausible' is not defined"
     ]
    }
   ],
   "source": [
    "\n",
    "\n",
    "ToyModel = historymatch.Simulator(HM)\n",
    "ToyModel.set_simulator(toy_model)\n",
    "\n",
    "HM.set_observations(obs_data, np.sqrt(var_obs))\n",
    "HM.initialize_volume([-1,-1,-1], [1,1,1])\n",
    "\n",
    "results = HM.run(nwaves=nwaves)"
   ]
  },
  {
   "cell_type": "code",
   "execution_count": null,
   "metadata": {},
   "outputs": [],
   "source": [
    "importlib.reload(plot)\n",
    "\n",
    "fig, axes = plt.subplots(ndim,ndim,figsize=(10,10))\n",
    "\n",
    "plot.plotcorner(results.samples[2], parameter_bounds, 3, Fig=(fig,axes), labels=('theta1', 'theta2', 'theta3'))\n",
    "axes[1,0].scatter(true_parameters[0],true_parameters[1], color='red')\n",
    "axes[2,0].scatter(true_parameters[0],true_parameters[2], color='red')\n",
    "axes[2,1].scatter(true_parameters[1],true_parameters[2], color='red')"
   ]
  },
  {
   "cell_type": "code",
   "execution_count": null,
   "metadata": {},
   "outputs": [],
   "source": []
  },
  {
   "cell_type": "code",
   "execution_count": null,
   "metadata": {},
   "outputs": [],
   "source": [
    "# save results for plotting\n",
    "\n",
    "\n",
    "if volshape == 'ellipsoid':\n",
    "    with open('data/3D_historymatch_ellipsoid_samples.txt', 'w') as file:\n",
    "        for i in range(len(results.samples)):\n",
    "            np.savetxt(file, results.samples[i])\n",
    "\n",
    "    with open('data/3D_historymatch_ellipsoid_w1.txt', 'w') as file:\n",
    "        np.savetxt(file, results.regions[0])\n",
    "    with open('data/3D_historymatch_ellipsoid_w2.txt', 'w') as file:\n",
    "        np.savetxt(file, results.regions[1])\n",
    "    with open('data/3D_historymatch_ellipsoid_w3.txt', 'w') as file:\n",
    "        np.savetxt(file, results.regions[2])\n",
    "        \n",
    "elif volshape == 'hypercube':\n",
    "\n",
    "    with open('data/3D_historymatch_hypercube_samples.txt', 'w') as file:\n",
    "        for i in range(len(results.samples)):\n",
    "            np.savetxt(file, results.samples[i])\n",
    "\n",
    "    with open('data/3D_historymatch_hypercube_w1.txt', 'w') as file:\n",
    "        np.savetxt(file, results.regions[0])\n",
    "    with open('data/3D_historymatch_hypercube_w2.txt', 'w') as file:\n",
    "        np.savetxt(file, results.regions[1])\n",
    "    with open('data/3D_historymatch_hypercube_w3.txt', 'w') as file:\n",
    "        np.savetxt(file, results.regions[2])\n",
    "        \n",
    "elif volshape == 'hypercube_rot':\n",
    "\n",
    "    with open('data/3D_historymatch_hypercube_r_samples.txt', 'w') as file:\n",
    "        for i in range(len(results.samples)):\n",
    "            np.savetxt(file, results.samples[i])\n",
    "\n",
    "    with open('data/3D_historymatch_hypercube_r_w1.txt', 'w') as file:\n",
    "        np.savetxt(file, results.regions[0])\n",
    "    with open('data/3D_historymatch_hypercube_r_w2.txt', 'w') as file:\n",
    "        np.savetxt(file, results.regions[1])\n",
    "    with open('data/3D_historymatch_hypercube_r_w3.txt', 'w') as file:\n",
    "        np.savetxt(file, results.nonimp_volumes[2])\n",
    "\n",
    "#with open('data/EL_Itrain.txt', 'w') as file:\n",
    "    #np.savetxt(file, results.Itrain)\n",
    "'''\n",
    "with open('data/HC_Itrain.txt', 'w') as file:\n",
    "    for i in range(len(results.Itrain)):\n",
    "        np.savetxt(file, results.Itrain[i])\n",
    "        \n",
    "with open('data/HC_Idata.txt', 'w') as file:\n",
    "    for i in range(len(results.Idata)):\n",
    "        np.savetxt(file, results.Idata[i])\n",
    "'''\n"
   ]
  },
  {
   "cell_type": "code",
   "execution_count": null,
   "metadata": {},
   "outputs": [],
   "source": []
  },
  {
   "cell_type": "code",
   "execution_count": null,
   "metadata": {},
   "outputs": [],
   "source": []
  },
  {
   "cell_type": "code",
   "execution_count": null,
   "metadata": {},
   "outputs": [],
   "source": []
  },
  {
   "cell_type": "code",
   "execution_count": null,
   "metadata": {},
   "outputs": [],
   "source": []
  },
  {
   "cell_type": "code",
   "execution_count": null,
   "metadata": {},
   "outputs": [],
   "source": []
  },
  {
   "cell_type": "code",
   "execution_count": null,
   "metadata": {},
   "outputs": [],
   "source": []
  }
 ],
 "metadata": {
  "kernelspec": {
   "display_name": "Python 3",
   "language": "python",
   "name": "python3"
  },
  "language_info": {
   "codemirror_mode": {
    "name": "ipython",
    "version": 3
   },
   "file_extension": ".py",
   "mimetype": "text/x-python",
   "name": "python",
   "nbconvert_exporter": "python",
   "pygments_lexer": "ipython3",
   "version": "3.8.8"
  }
 },
 "nbformat": 4,
 "nbformat_minor": 4
}
