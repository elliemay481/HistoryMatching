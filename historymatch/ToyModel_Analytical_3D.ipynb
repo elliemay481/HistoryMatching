{
 "cells": [
  {
   "cell_type": "code",
   "execution_count": 1,
   "metadata": {},
   "outputs": [],
   "source": [
    "import numpy as np\n",
    "import matplotlib.pyplot as plt\n",
    "import random\n",
    "from matplotlib.patches import Ellipse\n",
    "\n",
    "from scipy.interpolate import griddata\n",
    "\n",
    "plt.rcParams.update({'font.size': 12})\n",
    "\n",
    "np.random.seed(4)\n",
    "\n",
    "from scipy import stats\n",
    "from scipy.stats import norm, uniform\n",
    "import scipy.optimize\n",
    "from numpy.linalg import inv"
   ]
  },
  {
   "cell_type": "code",
   "execution_count": 2,
   "metadata": {},
   "outputs": [],
   "source": [
    "# import internal files\n",
    "import emulators\n",
    "import utils\n",
    "import historymatch\n",
    "import plot"
   ]
  },
  {
   "cell_type": "code",
   "execution_count": 3,
   "metadata": {},
   "outputs": [],
   "source": [
    "def model_eqn_1(x, theta_0, theta_1, theta_2):\n",
    "    return theta_0 + theta_1*(x) + theta_2*(x**2)\n",
    "    \n",
    "function1 = np.vectorize(model_eqn_1)"
   ]
  },
  {
   "cell_type": "code",
   "execution_count": 4,
   "metadata": {},
   "outputs": [],
   "source": [
    "def model_eqn_2(x, theta_0, theta_1, theta_2):\n",
    "    return theta_0 - theta_1*np.sin(x) + theta_2*np.cos(x)\n",
    "\n",
    "function2 = np.vectorize(model_eqn_2)"
   ]
  },
  {
   "cell_type": "code",
   "execution_count": 5,
   "metadata": {},
   "outputs": [],
   "source": [
    "def toy_model3D(theta_1, theta_2, theta_3):\n",
    "    \n",
    "    x_bound = np.array([0.1, 1])\n",
    "    Nx = 4\n",
    "    xvals = np.linspace(x_bound[0], x_bound[-1], Nx)\n",
    "\n",
    "    outputs =  []\n",
    "    for x in xvals:\n",
    "        output = theta_1 + theta_2*(x) + theta_3*(x**2)\n",
    "        outputs.append(output)\n",
    "    for x in xvals:\n",
    "        output = theta_1 - theta_2*np.sin(x) + theta_3*np.cos(x)\n",
    "        outputs.append(output)\n",
    "    return np.array(outputs)"
   ]
  },
  {
   "cell_type": "code",
   "execution_count": 6,
   "metadata": {},
   "outputs": [],
   "source": [
    "# define parameter space\n",
    "x_bound = np.array([0.1, 1])\n",
    "Nx = 4\n",
    "xvals = np.linspace(x_bound[0], x_bound[-1], Nx)\n",
    "\n",
    "theta_0_bound = np.array([-1, 1]).reshape(1,-1)\n",
    "theta_1_bound = np.array([-1, 1]).reshape(1,-1)\n",
    "theta_2_bound = np.array([-1, 1]).reshape(1,-1)\n",
    "\n",
    "parameter_bounds = np.concatenate((theta_0_bound, theta_1_bound, theta_2_bound), axis=0)\n",
    "\n",
    "#parameter_bounds = np.concatenate((theta_0_bound, theta_1_bound), axis=0)\n",
    "\n",
    "theta_0_vals = np.linspace(parameter_bounds[0,0], parameter_bounds[0,1], 100)\n",
    "theta_1_vals = np.linspace(parameter_bounds[1,0], parameter_bounds[1,1], 100)\n",
    "theta_2_vals = np.linspace(parameter_bounds[2,0], parameter_bounds[2,1], 100)\n",
    "\n",
    "\n",
    "theta_vals = np.concatenate((theta_0_vals.reshape(1,-1), theta_1_vals.reshape(1,-1), theta_2_vals.reshape(1,-1)), axis=0)\n",
    "\n",
    "#theta_vals = np.concatenate((theta_0_vals.reshape(1,-1), theta_1_vals.reshape(1,-1)), axis=0)"
   ]
  },
  {
   "cell_type": "code",
   "execution_count": null,
   "metadata": {},
   "outputs": [],
   "source": []
  },
  {
   "cell_type": "code",
   "execution_count": 7,
   "metadata": {},
   "outputs": [],
   "source": [
    "# for testing: true datapoints\n",
    "true_parameters = [-0.1, 0.3, 0.6]\n",
    "ndim = len(true_parameters)\n",
    "\n",
    "var_exp_f1 = 0.01        # observational uncertainty variance\n",
    "var_exp_f2 = 0.01\n",
    "\n",
    "error_f1 = np.random.normal(0, var_exp_f1, len(xvals))\n",
    "error_f2 = np.random.normal(0, var_exp_f2, len(xvals))\n",
    "\n",
    "#z_1 = function1(xvals, true_parameters[0], true_parameters[1], true_parameters[2])+ np.random.normal(0, var_exp_f1) # observed datapoint\n",
    "z_1 = function1(xvals, true_parameters[0], true_parameters[1], true_parameters[2]) + error_f1 # observed datapoint\n",
    "\n",
    "z_2 = function2(xvals, true_parameters[0], true_parameters[1], true_parameters[2]) + error_f2  # observed datapoint\n",
    "\n",
    "#z_1 = function1(xvals, true_parameters[0], true_parameters[1]) + error_f1 # observed datapoint\n",
    "#z_2 = function2(xvals, true_parameters[0], true_parameters[1]) + error_f2  # observed datapoint\n",
    "\n"
   ]
  },
  {
   "cell_type": "code",
   "execution_count": 8,
   "metadata": {},
   "outputs": [],
   "source": [
    "#obs_data_all = toy_model3D(*true_parameters) + error_f1"
   ]
  },
  {
   "cell_type": "code",
   "execution_count": 9,
   "metadata": {},
   "outputs": [
    {
     "data": {
      "text/plain": [
       "Text(0, 0.5, '$z_{2}$')"
      ]
     },
     "execution_count": 9,
     "metadata": {},
     "output_type": "execute_result"
    },
    {
     "data": {
      "image/png": "[encoded data removed]",
      "text/plain": [
       "<Figure size 720x360 with 2 Axes>"
      ]
     },
     "metadata": {
      "needs_background": "light"
     },
     "output_type": "display_data"
    }
   ],
   "source": [
    "fig, (ax1, ax2) = plt.subplots(1,2, figsize=(10,5))\n",
    "\n",
    "\n",
    "ax1.plot(xvals, z_1)\n",
    "ax2.plot(xvals, z_2)\n",
    "\n",
    "ax1.set_title('Observational Data, Function 1')\n",
    "ax1.set_title('Observational Data, Function 2')\n",
    "\n",
    "ax1.set_xlabel('x')\n",
    "ax1.set_ylabel(r'$z_{1}$')\n",
    "ax1.set_xlabel('x')\n",
    "ax1.set_ylabel(r'$z_{2}$')"
   ]
  },
  {
   "cell_type": "code",
   "execution_count": 10,
   "metadata": {},
   "outputs": [
    {
     "name": "stdout",
     "output_type": "stream",
     "text": [
      "[[1.   0.1  0.01]\n",
      " [1.   0.4  0.16]\n",
      " [1.   0.7  0.49]\n",
      " [1.   1.   1.  ]]\n"
     ]
    }
   ],
   "source": [
    "def design_matrix_f1(x, p=3):\n",
    "    X_d = np.zeros((len(x),p))\n",
    "    for i in range(p):\n",
    "        X_d[:,i] = x**i\n",
    "    return X_d\n",
    "\n",
    "def design_matrix_f2(x, p=3):\n",
    "    X_d = np.zeros((len(x),p))\n",
    "    X_d[:,0] = 1\n",
    "    X_d[:,1] = -np.sin(x)\n",
    "    X_d[:,2] = np.cos(x)\n",
    "    return X_d\n",
    "\n",
    "\n",
    "# Create design matrix\n",
    "X1 = design_matrix_f1(xvals, p=3)\n",
    "print(X1)\n",
    "X2 = design_matrix_f2(xvals, p=3)\n"
   ]
  },
  {
   "cell_type": "code",
   "execution_count": 11,
   "metadata": {},
   "outputs": [],
   "source": [
    "def A_matrix(X_d, variance):\n",
    "    for i in range(X_d.shape[0]):\n",
    "        X_d[i] = X_d[i] / np.sqrt(variance)\n",
    "    return X_d"
   ]
  },
  {
   "cell_type": "code",
   "execution_count": 12,
   "metadata": {},
   "outputs": [],
   "source": [
    "A1 = A_matrix(X1, var_exp_f1)\n",
    "b1 = z_1 / np.sqrt(var_exp_f1)\n",
    "\n",
    "A2 = A_matrix(X2, var_exp_f2)\n",
    "b2 = z_2 / np.sqrt(var_exp_f2)"
   ]
  },
  {
   "cell_type": "code",
   "execution_count": 13,
   "metadata": {},
   "outputs": [],
   "source": [
    "def solve_theta(A, b):\n",
    "    theta_best = ((np.linalg.inv(A.T.dot(A))).dot(A.T)).dot(b)\n",
    "    return theta_best.flatten()"
   ]
  },
  {
   "cell_type": "code",
   "execution_count": 14,
   "metadata": {},
   "outputs": [
    {
     "name": "stdout",
     "output_type": "stream",
     "text": [
      "[[10.   1.   0.1]\n",
      " [10.   4.   1.6]\n",
      " [10.   7.   4.9]\n",
      " [10.  10.  10. ]]\n",
      "[-0.09362872  0.26355168  0.63444772]\n",
      "[-0.63494383  1.20999513  3.94040911  8.06935985]\n"
     ]
    }
   ],
   "source": [
    "print(A1)\n",
    "\n",
    "thet = solve_theta(A1,b1)\n",
    "\n",
    "print(thet)\n",
    "\n",
    "print(b1)"
   ]
  },
  {
   "cell_type": "code",
   "execution_count": 15,
   "metadata": {},
   "outputs": [],
   "source": [
    "def H_matrix(A):\n",
    "    return np.linalg.inv(A.T.dot(A))"
   ]
  },
  {
   "cell_type": "code",
   "execution_count": 16,
   "metadata": {},
   "outputs": [],
   "source": [
    "def covariance(X_d, variance):\n",
    "    return variance*np.linalg.inv(X_d.T.dot(X_d))"
   ]
  },
  {
   "cell_type": "code",
   "execution_count": 17,
   "metadata": {},
   "outputs": [],
   "source": [
    "cov_matrix_f1 = covariance(X1, var_exp_f1)\n",
    "cov_matrix_f2 = covariance(X2, var_exp_f2)\n",
    "theta_f1 = solve_theta(A1, b1)\n",
    "theta_f2 = solve_theta(A2, b2)\n",
    "\n",
    "true_thetas = [theta_f1, theta_f2]\n",
    "\n",
    "\n",
    "H1 = H_matrix(A1)\n",
    "H2 = H_matrix(A2)\n"
   ]
  },
  {
   "cell_type": "code",
   "execution_count": 18,
   "metadata": {},
   "outputs": [
    {
     "name": "stdout",
     "output_type": "stream",
     "text": [
      "[[ 0.00500388 -0.00037699 -0.00613499]\n",
      " [-0.00037699  0.00342433  0.00045998]\n",
      " [-0.00613499  0.00045998  0.01003366]]\n",
      "[[ 0.00500388 -0.00037699 -0.00613499]\n",
      " [-0.00037699  0.00342433  0.00045998]\n",
      " [-0.00613499  0.00045998  0.01003366]]\n",
      "[[ 0.00500388 -0.00037699 -0.00613499]\n",
      " [-0.00037699  0.00342433  0.00045998]\n",
      " [-0.00613499  0.00045998  0.01003366]]\n"
     ]
    }
   ],
   "source": [
    "# calculate product of posteriors\n",
    "H3 = inv(inv(H1) + inv(H2))\n",
    "\n",
    "H32 =  H1.dot( inv(H1 + H2).dot(H2) )\n",
    "\n",
    "L1 = inv(np.linalg.cholesky(H1 + H2)).dot(H1)\n",
    "L2 = inv(np.linalg.cholesky(H1 + H2)).dot(H2)\n",
    "\n",
    "H33 = np.dot(L1.T, L2)\n",
    "\n",
    "TM_mean = np.dot(np.dot(H3,inv(H1)),theta_f1) + np.dot(np.dot(H3,inv(H2)),theta_f2)\n",
    "\n",
    "print(H3)\n",
    "print(H32)\n",
    "print(H33)"
   ]
  },
  {
   "cell_type": "code",
   "execution_count": 19,
   "metadata": {},
   "outputs": [],
   "source": [
    "def get_cov_ellipse(cov, centre, nstd, ax, color):\n",
    "    \"\"\"\n",
    "    Return a matplotlib Ellipse patch representing the covariance matrix\n",
    "    cov centred at centre and scaled by the factor nstd.\n",
    "\n",
    "    \"\"\"\n",
    "\n",
    "    # Find and sort eigenvalues and eigenvectors into descending order\n",
    "    eigvals, eigvecs = np.linalg.eigh(cov)\n",
    "    order = eigvals.argsort()[::-1]\n",
    "    eigvals, eigvecs = eigvals[order], eigvecs[:, order]\n",
    "\n",
    "    # The anti-clockwise angle to rotate our ellipse by \n",
    "    vx, vy = eigvecs[:,0][0], eigvecs[:,0][1]\n",
    "    theta = np.arctan2(vy, vx)\n",
    "\n",
    "    # Width and height of ellipse to draw\n",
    "    width, height = 2 * nstd * np.sqrt(np.abs(eigvals))\n",
    "    \n",
    "    t = np.linspace(0, 2*np.pi, 100)\n",
    "    Ell = np.array([0.5*width*np.cos(t) , 0.5*height*np.sin(t)]) \n",
    "    R_rot = np.array([[np.cos(theta) , -np.sin(theta)],[np.sin(theta), np.cos(theta)]])  \n",
    "    Ell_rot = np.zeros((2,Ell.shape[1]))\n",
    "    for i in range(Ell.shape[1]):\n",
    "        Ell_rot[:,i] = np.dot(R_rot,Ell[:,i])\n",
    "    \n",
    "    ax.plot( centre[0]+Ell_rot[0,:] , centre[1]+Ell_rot[1,:], color=color)\n",
    "    #ax.plot(Ell_rot[:,0], Ell_rot[:,1])"
   ]
  },
  {
   "cell_type": "code",
   "execution_count": 20,
   "metadata": {},
   "outputs": [],
   "source": [
    "def plot_ellipses(fig, parameter_bounds, true_parameters, H, theta_best, theta_vals, color):\n",
    "    theta_names = [r'$\\theta_{1}$', r'$\\theta_{2}$', r'$\\theta_{3}$']\n",
    "    N = len(theta_best)\n",
    "    for i in range(N):\n",
    "        for j in range(N):\n",
    "            ax = fig.axes[i + N*j]\n",
    "            if i != 0:\n",
    "                ax.axes.yaxis.set_visible(False)\n",
    "                \n",
    "            if i == j:\n",
    "                if color == 'mediumaquamarine':\n",
    "                    ax_right = ax.twinx()\n",
    "                    ax_right.plot(theta_vals[i], stats.norm.pdf(theta_vals[i], theta_best[i], np.sqrt(H[i,i])), color=color)\n",
    "                    ax_right.set_title(str(theta_names[i]) + '=' + str(round(theta_best[i], 2)), fontsize=14)\n",
    "                \n",
    "            elif i < j:\n",
    "                \n",
    "                cov_matrix = np.array([[H[i,i], H[i,j]],[H[j,i], H[j,j]]])\n",
    "                get_cov_ellipse(cov_matrix, [theta_best[i], theta_best[j]], 3, ax, color)\n",
    "                ax.set_ylabel(theta_names[j])\n",
    "                ax.set_xlabel(theta_names[i])\n",
    "                ax.set_xlim([parameter_bounds[i,0], parameter_bounds[i,1]])\n",
    "                ax.set_ylim([parameter_bounds[j,0], parameter_bounds[j,1]])\n",
    "                \n",
    "            else:\n",
    "                ax.axis('off')"
   ]
  },
  {
   "cell_type": "code",
   "execution_count": 21,
   "metadata": {},
   "outputs": [
    {
     "data": {
      "text/plain": [
       "<matplotlib.legend.Legend at 0x7fbc18aacc70>"
      ]
     },
     "execution_count": 21,
     "metadata": {},
     "output_type": "execute_result"
    },
    {
     "data": {
      "image/png": "[encoded data removed]",
      "text/plain": [
       "<Figure size 576x576 with 12 Axes>"
      ]
     },
     "metadata": {
      "needs_background": "light"
     },
     "output_type": "display_data"
    }
   ],
   "source": [
    "color_list = ['plum', 'mediumaquamarine', 'red']\n",
    "N = ndim\n",
    "fig, axes = plt.subplots(N,N,figsize=(8,8))\n",
    "\n",
    "ax = fig.axes[5]\n",
    "plot_ellipses(fig, parameter_bounds, true_parameters, H1, theta_f1, theta_vals, color_list[0])\n",
    "plot_ellipses(fig, parameter_bounds, true_parameters, H2, theta_f2, theta_vals, color_list[1])\n",
    "plot_ellipses(fig, parameter_bounds, true_parameters, H3, TM_mean, theta_vals, color_list[2])\n",
    "\n",
    "\n",
    "ax.scatter(1,1,color=color_list[0],label='Function 1')\n",
    "ax.scatter(1,1,color=color_list[1],label='Function 2')\n",
    "ax.legend(loc='center')"
   ]
  },
  {
   "cell_type": "code",
   "execution_count": 22,
   "metadata": {},
   "outputs": [],
   "source": [
    "file2 = open(\"3D_analytic_mean.txt\", \"w\")\n",
    "\n",
    "np.savetxt(file2, TM_mean)\n",
    "    \n",
    "file2.close()\n",
    "\n",
    "file1 = open(\"3D_analytic_cov.txt\", \"w\")\n",
    "\n",
    "for i in range(H3.shape[0]):\n",
    "    np.savetxt(file1, H3[i])\n",
    "    \n",
    "file1.close()\n",
    "\n",
    "\n"
   ]
  },
  {
   "cell_type": "code",
   "execution_count": null,
   "metadata": {},
   "outputs": [],
   "source": []
  },
  {
   "cell_type": "code",
   "execution_count": null,
   "metadata": {},
   "outputs": [],
   "source": []
  },
  {
   "cell_type": "code",
   "execution_count": 23,
   "metadata": {},
   "outputs": [
    {
     "name": "stdout",
     "output_type": "stream",
     "text": [
      "[[-0.06349438  0.12099951  0.39404091  0.80693599]\n",
      " [ 0.46286946  0.31996532  0.15916294 -0.02227416]]\n"
     ]
    }
   ],
   "source": [
    "# create squared-exponential kernel\n",
    "sigma_cov = 0.1        # sqrt variance of covariance function\n",
    "beta = 0         # prior expectation\n",
    "theta = 1\n",
    "var_method=0\n",
    "\n",
    "sigma_n = 0.1\n",
    "\n",
    "#kern = kernels.SE()\n",
    "\n",
    "# simulation parameters\n",
    "Ntraining = 30          # number of training points\n",
    "ndim = 3    # model dimensions\n",
    "Nsamples = 5000    # number of test points\n",
    "\n",
    "#true_model = [model_eqn_1]\n",
    "true_model = [model_eqn_1, model_eqn_2]\n",
    "#obs_data = z_1.reshape(1,-1)\n",
    "obs_data = np.concatenate((z_1.reshape(1,-1),z_2.reshape(1,-1)), axis=0)\n",
    "\n",
    "print(obs_data)\n"
   ]
  },
  {
   "cell_type": "code",
   "execution_count": 24,
   "metadata": {},
   "outputs": [
    {
     "name": "stdout",
     "output_type": "stream",
     "text": [
      "[1.23 2.28 3.87 6.  ]\n",
      "[3.78534566 2.9843463  2.00609119 0.93796495]\n"
     ]
    }
   ],
   "source": [
    "thetatest = [1,2,3]\n",
    "\n",
    "for i in range(len(true_model)):\n",
    "    print(true_model[i](xvals,1,2,3))"
   ]
  },
  {
   "cell_type": "code",
   "execution_count": 25,
   "metadata": {
    "scrolled": true
   },
   "outputs": [
    {
     "ename": "IndentationError",
     "evalue": "unexpected indent (<ipython-input-25-776a459c344f>, line 5)",
     "output_type": "error",
     "traceback": [
      "\u001b[0;36m  File \u001b[0;32m\"<ipython-input-25-776a459c344f>\"\u001b[0;36m, line \u001b[0;32m5\u001b[0m\n\u001b[0;31m    parameter_bounds, var_method, var_exp_f1, sigma_cov,\u001b[0m\n\u001b[0m    ^\u001b[0m\n\u001b[0;31mIndentationError\u001b[0m\u001b[0;31m:\u001b[0m unexpected indent\n"
     ]
    }
   ],
   "source": [
    "n_waves = 3\n",
    "\n",
    "\n",
    "#ctr, cov, nonimp, ell = historymatch.history_match(true_model, obs_data, xvals, kern, ndim, Nsamples, Ntraining,\n",
    "                           parameter_bounds, var_method, var_exp_f1, sigma_cov,\n",
    "                           beta, theta, sigma_n, [H1,H2], true_thetas,\n",
    "                           noise=False, waves=n_waves)"
   ]
  },
  {
   "cell_type": "code",
   "execution_count": null,
   "metadata": {},
   "outputs": [],
   "source": [
    "def plot_ellipsoid_3d(ell, ax):\n",
    "    \"\"\"Plot the 3-d Ellipsoid ell on the Axes3D ax.\"\"\"\n",
    "\n",
    "    # points on unit sphere\n",
    "    u = np.linspace(0.0, 2.0 * np.pi, 100)\n",
    "    v = np.linspace(0.0, np.pi, 100)\n",
    "    z = np.outer(np.cos(u), np.sin(v))\n",
    "    y = np.outer(np.sin(u), np.sin(v))\n",
    "    x = np.outer(np.ones_like(u), np.cos(v))\n",
    "\n",
    "    # transform points to ellipsoid\n",
    "    for i in range(len(x)):\n",
    "        for j in range(len(x)):\n",
    "            x[i,j], y[i,j], z[i,j] = ell.ctr + np.dot(ell.axes,\n",
    "                                                      [x[i,j],y[i,j],z[i,j]])\n",
    "\n",
    "    ax.plot_wireframe(x, y, z,  rstride=4, cstride=4, color='#2980b9', alpha=0.2)"
   ]
  },
  {
   "cell_type": "code",
   "execution_count": null,
   "metadata": {},
   "outputs": [],
   "source": []
  },
  {
   "cell_type": "code",
   "execution_count": null,
   "metadata": {},
   "outputs": [],
   "source": []
  },
  {
   "cell_type": "code",
   "execution_count": null,
   "metadata": {},
   "outputs": [],
   "source": []
  }
 ],
 "metadata": {
  "kernelspec": {
   "display_name": "Python 3",
   "language": "python",
   "name": "python3"
  },
  "language_info": {
   "codemirror_mode": {
    "name": "ipython",
    "version": 3
   },
   "file_extension": ".py",
   "mimetype": "text/x-python",
   "name": "python",
   "nbconvert_exporter": "python",
   "pygments_lexer": "ipython3",
   "version": "3.9.1"
  }
 },
 "nbformat": 4,
 "nbformat_minor": 4
}
