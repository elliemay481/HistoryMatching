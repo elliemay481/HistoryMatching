{
 "cells": [
  {
   "cell_type": "code",
   "execution_count": 92,
   "metadata": {},
   "outputs": [],
   "source": [
    "# import internal files\n",
    "import emulators\n",
    "import sample\n",
    "import historymatch\n",
    "import plot\n",
    "\n",
    "import numpy as np\n",
    "import matplotlib.pyplot as plt\n",
    "\n",
    "plt.rcParams.update({'font.size': 10})\n",
    "\n",
    "import importlib\n",
    "import time\n",
    "from scipy import stats\n",
    "from scipy.stats import norm, uniform\n",
    "import scipy.optimize"
   ]
  },
  {
   "cell_type": "code",
   "execution_count": null,
   "metadata": {},
   "outputs": [],
   "source": []
  },
  {
   "cell_type": "code",
   "execution_count": null,
   "metadata": {},
   "outputs": [],
   "source": []
  },
  {
   "cell_type": "code",
   "execution_count": 93,
   "metadata": {},
   "outputs": [],
   "source": [
    "ndim = 6"
   ]
  },
  {
   "cell_type": "code",
   "execution_count": 283,
   "metadata": {},
   "outputs": [],
   "source": [
    "Nx = 8\n",
    "x_bound = np.array([0.1, 0.9])\n",
    "xvals = np.linspace(x_bound[0], x_bound[-1], Nx)\n",
    "\n",
    "\n",
    "def toy_model6D(theta_1, theta_2, theta_3, theta_4, theta_5, theta_6):\n",
    "    \n",
    "    x_bound = np.array([0.1, 0.9])\n",
    "    Nx = 8\n",
    "    xvals = np.linspace(x_bound[0], x_bound[-1], Nx)\n",
    "\n",
    "    outputs =  []\n",
    "    for x in xvals:\n",
    "        output = theta_1 + theta_2*(x) + (theta_3**1)*(x**2) + theta_4*(x**3) \\\n",
    "               + theta_5*(10*x**4) + theta_6*(1/x)\n",
    "        outputs.append(output)\n",
    "    for x in xvals:\n",
    "        output = theta_1 + theta_2*np.sin(x) + theta_3*() + (theta_4**1)*np.cos(x) \\\n",
    "               + theta_5*np.cos(2*x) - theta_6*(np.cos(x)*np.sin(x))\n",
    "        outputs.append(output)\n",
    "    return np.array(outputs)\n",
    "\n",
    "def toy_model3D(theta_1, theta_2, theta_3):\n",
    "    \n",
    "    x_bound = np.array([0.1, 1])\n",
    "    Nx = 4\n",
    "    xvals = np.linspace(x_bound[0], x_bound[-1], Nx)\n",
    "\n",
    "    outputs =  []\n",
    "    for x in xvals:\n",
    "        output = theta_1 + theta_2*(x) + (theta_3**1)*(x**2)\n",
    "        outputs.append(output)\n",
    "    for x in xvals:\n",
    "        output = theta_1 + theta_2*np.sin(x) + theta_3*np.cos(2*x)\n",
    "        outputs.append(output)\n",
    "    return np.array(outputs)"
   ]
  },
  {
   "cell_type": "code",
   "execution_count": 273,
   "metadata": {},
   "outputs": [
    {
     "name": "stdout",
     "output_type": "stream",
     "text": [
      "[1.4133346  0.61842226 0.45160001 0.47281908 0.32604558 0.40484004\n",
      " 0.38712119 0.37564722]\n"
     ]
    }
   ],
   "source": [
    "# generate observational data with some uncertainty\n",
    "true_parameters = [-0.1, 0.3, 0.6, -0.8, 0.2, 0.15]\n",
    "\n",
    "var_obs = 0.001 # observational uncertainty variance\n",
    "\n",
    "error_obs = np.random.normal(0, np.sqrt(var_obs), 2*Nx)\n",
    "\n",
    "obs_data = toy_model6D(*true_parameters) + error_obs\n",
    "\n",
    "print(obs_data[:Nx])\n",
    "\n"
   ]
  },
  {
   "cell_type": "code",
   "execution_count": 274,
   "metadata": {},
   "outputs": [],
   "source": [
    "parameter_bounds = np.ones((ndim,2))\n",
    "parameter_bounds[:,0] = -parameter_bounds[:,0]\n",
    "\n",
    "theta_0_vals = np.linspace(parameter_bounds[0,0], parameter_bounds[0,1], 100)\n",
    "theta_1_vals = np.linspace(parameter_bounds[1,0], parameter_bounds[1,1], 100)\n",
    "theta_2_vals = np.linspace(parameter_bounds[2,0], parameter_bounds[2,1], 100)\n",
    "theta_3_vals = np.linspace(parameter_bounds[1,0], parameter_bounds[1,1], 100)\n",
    "theta_4_vals = np.linspace(parameter_bounds[2,0], parameter_bounds[2,1], 100)\n",
    "theta_5_vals = np.linspace(parameter_bounds[1,0], parameter_bounds[1,1], 100)\n",
    "\n",
    "\n",
    "\n",
    "theta_vals = np.concatenate((theta_0_vals.reshape(1,-1), theta_1_vals.reshape(1,-1), theta_2_vals.reshape(1,-1)\\\n",
    "                            , theta_3_vals.reshape(1,-1), theta_4_vals.reshape(1,-1), theta_5_vals.reshape(1,-1)), axis=0)"
   ]
  },
  {
   "cell_type": "code",
   "execution_count": 284,
   "metadata": {},
   "outputs": [],
   "source": [
    "def design_matrix_f1(x):\n",
    "    X_d = np.zeros((len(x),6))\n",
    "    for i in range(4):\n",
    "        X_d[:,i] = x**i\n",
    "    X_d[:,4] = 10*x**4\n",
    "    X_d[:,5] = 1/x\n",
    "    return X_d\n",
    "\n",
    "def design_matrix_f2(x):\n",
    "    X_d = np.zeros((len(x),6))\n",
    "    X_d[:,0] = 1\n",
    "    X_d[:,1] = np.sin(x)\n",
    "    X_d[:,2] = np.sin(2*x)\n",
    "    X_d[:,3] = np.cos(x)\n",
    "    X_d[:,4] = np.cos(2*x)\n",
    "    X_d[:,5] = -np.cos(x)*np.sin(x)\n",
    "    return X_d"
   ]
  },
  {
   "cell_type": "code",
   "execution_count": 285,
   "metadata": {},
   "outputs": [
    {
     "name": "stdout",
     "output_type": "stream",
     "text": [
      "[[1.00000000e+00 1.00000000e-01 1.00000000e-02 1.00000000e-03\n",
      "  1.00000000e-02 2.00000000e-01]\n",
      " [1.00000000e+00 2.14285714e-01 4.59183673e-02 9.83965015e-03\n",
      "  9.83965015e-02 9.18367347e-01]\n",
      " [1.00000000e+00 3.28571429e-01 1.07959184e-01 3.54723032e-02\n",
      "  3.54723032e-01 2.15918367e+00]\n",
      " [1.00000000e+00 4.42857143e-01 1.96122449e-01 8.68542274e-02\n",
      "  8.68542274e-01 3.92244898e+00]\n",
      " [1.00000000e+00 5.57142857e-01 3.10408163e-01 1.72941691e-01\n",
      "  1.72941691e+00 6.20816327e+00]\n",
      " [1.00000000e+00 6.71428571e-01 4.50816327e-01 3.02690962e-01\n",
      "  3.02690962e+00 9.01632653e+00]\n",
      " [1.00000000e+00 7.85714286e-01 6.17346939e-01 4.85058309e-01\n",
      "  4.85058309e+00 1.23469388e+01]\n",
      " [1.00000000e+00 9.00000000e-01 8.10000000e-01 7.29000000e-01\n",
      "  7.29000000e+00 1.62000000e+01]]\n"
     ]
    }
   ],
   "source": [
    "# Create design matrix\n",
    "X1 = design_matrix_f1(xvals)\n",
    "print(X1)\n",
    "X2 = design_matrix_f2(xvals)"
   ]
  },
  {
   "cell_type": "code",
   "execution_count": 286,
   "metadata": {
    "scrolled": true
   },
   "outputs": [],
   "source": [
    "z_1 = obs_data[:Nx]\n",
    "z_2 = obs_data[Nx:]"
   ]
  },
  {
   "cell_type": "code",
   "execution_count": 287,
   "metadata": {},
   "outputs": [],
   "source": [
    "def A_matrix(X_d, variance):\n",
    "    for i in range(X_d.shape[0]):\n",
    "        X_d[i] = X_d[i] / np.sqrt(variance)\n",
    "    return X_d"
   ]
  },
  {
   "cell_type": "code",
   "execution_count": 288,
   "metadata": {},
   "outputs": [],
   "source": [
    "A1 = A_matrix(X1, var_obs)\n",
    "b1 = z_1 / np.sqrt(var_obs)\n",
    "\n",
    "A2 = A_matrix(X2, var_obs)\n",
    "b2 = z_2 / np.sqrt(var_obs)"
   ]
  },
  {
   "cell_type": "code",
   "execution_count": 289,
   "metadata": {},
   "outputs": [],
   "source": [
    "def solve_theta(A, b):\n",
    "    theta_best = ((np.linalg.inv(A.T.dot(A))).dot(A.T)).dot(b)\n",
    "    return theta_best.flatten()"
   ]
  },
  {
   "cell_type": "code",
   "execution_count": 290,
   "metadata": {},
   "outputs": [
    {
     "name": "stdout",
     "output_type": "stream",
     "text": [
      "[-1.85505912  1.3529347  -1.51714049  1.58111984 -0.35729095 -2.64435686]\n",
      "[-16.93943921 -13.54717537 -10.24318841  -7.07554286  -4.11629302\n",
      "  -1.45894464   0.7856207    2.4945566 ]\n",
      "[-16.22783829 -12.37997999  -9.1031232   -5.22868565  -2.98546067\n",
      "   0.25814876   1.71079273   3.12225658]\n"
     ]
    }
   ],
   "source": [
    "\n",
    "thet = solve_theta(A2,b2)\n",
    "\n",
    "print(thet)\n",
    "print(np.dot(A2,thet))\n",
    "print(b2)\n",
    "\n",
    "true_parameters = [-0.1, 0.3, 0.6, -0.8, 0.2, 0.15]"
   ]
  },
  {
   "cell_type": "code",
   "execution_count": 282,
   "metadata": {},
   "outputs": [],
   "source": [
    "def H_matrix(A):\n",
    "    return np.linalg.inv(A.T.dot(A))\n",
    "\n",
    "def covariance(X_d, variance):\n",
    "    return variance*np.linalg.inv(X_d.T.dot(X_d))\n"
   ]
  },
  {
   "cell_type": "code",
   "execution_count": 210,
   "metadata": {},
   "outputs": [
    {
     "name": "stdout",
     "output_type": "stream",
     "text": [
      "[ -0.87965049   5.3117147  -12.5486394   13.89056448  -0.3820844\n",
      "   0.18658852]\n"
     ]
    }
   ],
   "source": [
    "cov_matrix_f1 = covariance(X1, var_obs)\n",
    "cov_matrix_f2 = covariance(X2, var_obs)\n",
    "theta_f1 = solve_theta(A1, b1)\n",
    "theta_f2 = solve_theta(A2, b2)\n",
    "\n",
    "true_thetas = [theta_f1, theta_f2]\n",
    "\n",
    "\n",
    "H1 = H_matrix(A1)\n",
    "H2 = H_matrix(A2)\n",
    "\n",
    "ndim = 6\n",
    "\n",
    "theta_no_var = solve_theta(X1, z_1)\n",
    "print(theta_f1)"
   ]
  },
  {
   "cell_type": "code",
   "execution_count": 106,
   "metadata": {},
   "outputs": [],
   "source": [
    "def get_cov_ellipse(cov, centre, nstd, ax, color):\n",
    "    \"\"\"\n",
    "    Return a matplotlib Ellipse patch representing the covariance matrix\n",
    "    cov centred at centre and scaled by the factor nstd.\n",
    "\n",
    "    \"\"\"\n",
    "\n",
    "    # Find and sort eigenvalues and eigenvectors into descending order\n",
    "    eigvals, eigvecs = np.linalg.eigh(cov)\n",
    "    order = eigvals.argsort()[::-1]\n",
    "    eigvals, eigvecs = eigvals[order], eigvecs[:, order]\n",
    "\n",
    "    # The anti-clockwise angle to rotate our ellipse by \n",
    "    vx, vy = eigvecs[:,0][0], eigvecs[:,0][1]\n",
    "    theta = np.arctan2(vy, vx)\n",
    "\n",
    "    # Width and height of ellipse to draw\n",
    "    width, height = 2 * nstd * np.sqrt(np.abs(eigvals))\n",
    "    \n",
    "    t = np.linspace(0, 2*np.pi, 100)\n",
    "    Ell = np.array([0.5*width*np.cos(t) , 0.5*height*np.sin(t)]) \n",
    "    R_rot = np.array([[np.cos(theta) , -np.sin(theta)],[np.sin(theta), np.cos(theta)]])  \n",
    "    Ell_rot = np.zeros((2,Ell.shape[1]))\n",
    "    for i in range(Ell.shape[1]):\n",
    "        Ell_rot[:,i] = np.dot(R_rot,Ell[:,i])\n",
    "    \n",
    "    ax.plot( centre[0]+Ell_rot[0,:] , centre[1]+Ell_rot[1,:], color=color)\n",
    "    #ax.plot(Ell_rot[:,0], Ell_rot[:,1])"
   ]
  },
  {
   "cell_type": "code",
   "execution_count": 147,
   "metadata": {},
   "outputs": [],
   "source": [
    "def plot_ellipses(fig, parameter_bounds, true_parameters, H, theta_best, theta_vals, color):\n",
    "    theta_names = [r'$\\theta_{1}$', r'$\\theta_{2}$', r'$\\theta_{3}$', r'$\\theta_{4}$', r'$\\theta_{5}$', r'$\\theta_{6}$']\n",
    "    N = len(theta_best)\n",
    "    for i in range(N):\n",
    "        for j in range(N):\n",
    "            ax = fig.axes[i + N*j]\n",
    "            if i != 0:\n",
    "                ax.axes.yaxis.set_visible(False)\n",
    "                \n",
    "            if i == j:\n",
    "                if color == 'mediumaquamarine':\n",
    "                    ax_right = ax.twinx()\n",
    "                    ax_right.plot(theta_vals[i], stats.norm.pdf(theta_vals[i], theta_best[i], np.sqrt(H[i,i])), color=color)\n",
    "                    ax_right.set_title(str(theta_names[i]) + '=' + str(round(theta_best[i], 2)), fontsize=14)\n",
    "                \n",
    "            elif i < j:\n",
    "                \n",
    "                cov_matrix = np.array([[H[i,i], H[i,j]],[H[j,i], H[j,j]]])\n",
    "                get_cov_ellipse(cov_matrix, [theta_best[i], theta_best[j]], 3, ax, color)\n",
    "                #ax.set_ylabel(theta_names[j])\n",
    "                #ax.set_xlabel(theta_names[i])\n",
    "                ax.set_xlim([parameter_bounds[i,0], parameter_bounds[i,1]])\n",
    "                ax.set_ylim([parameter_bounds[j,0], parameter_bounds[j,1]])\n",
    "                \n",
    "            else:\n",
    "                ax.axis('off')"
   ]
  },
  {
   "cell_type": "code",
   "execution_count": 152,
   "metadata": {},
   "outputs": [
    {
     "data": {
      "text/plain": [
       "<matplotlib.legend.Legend at 0x7fba7e52bb50>"
      ]
     },
     "execution_count": 152,
     "metadata": {},
     "output_type": "execute_result"
    },
    {
     "data": {
      "image/png": "[encoded data removed]",
      "text/plain": [
       "<Figure size 576x576 with 36 Axes>"
      ]
     },
     "metadata": {
      "needs_background": "light"
     },
     "output_type": "display_data"
    }
   ],
   "source": [
    "color_list = ['plum', 'mediumaquamarine']\n",
    "N = ndim\n",
    "fig, axes = plt.subplots(N,N,figsize=(8,8))\n",
    "\n",
    "ax = fig.axes[5]\n",
    "plot_ellipses(fig, parameter_bounds, true_parameters, H1, theta_f1, theta_vals, color_list[0])\n",
    "#plot_ellipses(fig, parameter_bounds, true_parameters, H2, theta_f2, theta_vals, color_list[1])\n",
    "ax.scatter(1,1,color=color_list[0],label='Function 1')\n",
    "ax.scatter(1,1,color=color_list[1],label='Function 2')\n",
    "ax.legend(loc='center')"
   ]
  },
  {
   "cell_type": "code",
   "execution_count": 146,
   "metadata": {},
   "outputs": [
    {
     "ename": "NameError",
     "evalue": "name 'GP' is not defined",
     "output_type": "error",
     "traceback": [
      "\u001b[0;31m---------------------------------------------------------------------------\u001b[0m",
      "\u001b[0;31mNameError\u001b[0m                                 Traceback (most recent call last)",
      "\u001b[0;32m<ipython-input-146-91919198e2f8>\u001b[0m in \u001b[0;36m<module>\u001b[0;34m\u001b[0m\n\u001b[0;32m----> 1\u001b[0;31m \u001b[0mGP\u001b[0m\u001b[0;34m.\u001b[0m\u001b[0moptimize\u001b[0m\u001b[0;34m(\u001b[0m\u001b[0;34m)\u001b[0m\u001b[0;34m\u001b[0m\u001b[0;34m\u001b[0m\u001b[0m\n\u001b[0m",
      "\u001b[0;31mNameError\u001b[0m: name 'GP' is not defined"
     ]
    }
   ],
   "source": []
  },
  {
   "cell_type": "code",
   "execution_count": null,
   "metadata": {},
   "outputs": [],
   "source": [
    "\n",
    "z = -0.06387078"
   ]
  },
  {
   "cell_type": "code",
   "execution_count": null,
   "metadata": {},
   "outputs": [],
   "source": [
    "print(sd1[0])\n",
    "print(sd2[0])\n",
    "print(mu1 - Y_3D_test)\n",
    "print(mu2 - Y_3D_test)"
   ]
  },
  {
   "cell_type": "code",
   "execution_count": null,
   "metadata": {},
   "outputs": [],
   "source": [
    "HMtest = historymatch.HistoryMatch(z,\n",
    "                               3, 'GP', 'ellipsoid')"
   ]
  },
  {
   "cell_type": "code",
   "execution_count": null,
   "metadata": {},
   "outputs": [],
   "source": [
    "imp1 = HMtest.implausibility(mu1, z, sd1, 0, var_obs)\n",
    "imp2 = HMtest.implausibility(mu2, z, sd2, 0, var_obs)\n",
    "print(imp1)\n",
    "print(imp2)"
   ]
  },
  {
   "cell_type": "code",
   "execution_count": null,
   "metadata": {},
   "outputs": [],
   "source": [
    "samp1 = np.concatenate((X_3D_test, imp1.reshape(-1,1)), axis=1)\n",
    "samp2 = np.concatenate((X_3D_test, imp2.reshape(-1,1)), axis=1)"
   ]
  },
  {
   "cell_type": "code",
   "execution_count": null,
   "metadata": {},
   "outputs": [],
   "source": []
  },
  {
   "cell_type": "code",
   "execution_count": null,
   "metadata": {},
   "outputs": [],
   "source": [
    "fig, (ax1, ax2) = plt.subplots(1,2, figsize=(15,7))\n",
    "\n",
    "plot.plot_implausibility2D(samp1, parameter_bounds, [0,1], bins=20, Fig=(fig, ax1), colorbar=False, \n",
    "                            labels=None, plot_kwargs=None)\n",
    "plot.plot_implausibility2D(samp2, parameter_bounds, [0,1], bins=20, Fig=(fig, ax2), colorbar=False, \n",
    "                            labels=None, plot_kwargs=None)"
   ]
  },
  {
   "cell_type": "code",
   "execution_count": null,
   "metadata": {},
   "outputs": [],
   "source": []
  },
  {
   "cell_type": "code",
   "execution_count": null,
   "metadata": {},
   "outputs": [],
   "source": []
  }
 ],
 "metadata": {
  "kernelspec": {
   "display_name": "Python 3",
   "language": "python",
   "name": "python3"
  },
  "language_info": {
   "codemirror_mode": {
    "name": "ipython",
    "version": 3
   },
   "file_extension": ".py",
   "mimetype": "text/x-python",
   "name": "python",
   "nbconvert_exporter": "python",
   "pygments_lexer": "ipython3",
   "version": "3.9.1"
  }
 },
 "nbformat": 4,
 "nbformat_minor": 4
}
