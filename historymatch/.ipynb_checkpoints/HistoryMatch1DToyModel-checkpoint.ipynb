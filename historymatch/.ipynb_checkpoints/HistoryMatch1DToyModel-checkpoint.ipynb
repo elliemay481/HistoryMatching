{
 "cells": [
  {
   "cell_type": "code",
   "execution_count": 1,
   "metadata": {},
   "outputs": [],
   "source": [
    "import numpy as np\n",
    "import matplotlib.pyplot as plt\n",
    "import GPy\n",
    "from hist_match import kernels, emulator\n",
    "\n",
    "plt.rcParams.update({'font.size': 18})"
   ]
  },
  {
   "cell_type": "code",
   "execution_count": 2,
   "metadata": {},
   "outputs": [],
   "source": [
    "def true_model(x, t):\n",
    "    f0  = 1\n",
    "    return f0 * np.exp(x * t)"
   ]
  },
  {
   "cell_type": "code",
   "execution_count": 3,
   "metadata": {},
   "outputs": [],
   "source": [
    "# sample points for training set\n",
    "y_train = np.zeros(5)\n",
    "x_train = np.arange(0.1, 0.6, 0.1)\n",
    "for i in range(len(x_train)):\n",
    "    y_train[i] = true_model(x_train[i], 3.5)\n",
    "\n",
    "# define parameter space\n",
    "x_test = np.linspace(0.075, 0.525, 100)\n",
    "    \n",
    "sigma_e = 0.025   # observational error\n",
    "z = 3.2     # observed datapoint"
   ]
  },
  {
   "cell_type": "code",
   "execution_count": 4,
   "metadata": {},
   "outputs": [
    {
     "data": {
      "text/plain": [
       "<matplotlib.legend.Legend at 0x7fa778279d90>"
      ]
     },
     "execution_count": 4,
     "metadata": {},
     "output_type": "execute_result"
    },
    {
     "data": {
      "image/png": "[encoded data removed]",
      "text/plain": [
       "<Figure size 720x504 with 1 Axes>"
      ]
     },
     "metadata": {
      "needs_background": "light"
     },
     "output_type": "display_data"
    }
   ],
   "source": [
    "plt.rcParams.update({'font.size': 18})\n",
    "fig,ax = plt.subplots(figsize=(10,7))\n",
    "ax.scatter(x_train, y_train, color='red', label='Model Evaluations')\n",
    "ax.axhline(z, color='black', label='Observed Data')\n",
    "ax.axhline(z-(3*sigma_e), linestyle='dashed', color='black', label='$\\pm 3 \\sigma_{e}$')\n",
    "ax.axhline(z+(3*sigma_e), linestyle='dashed', color='black')\n",
    "ax.set_xlabel('Rate Parameter Value x')\n",
    "ax.set_ylabel('Concentration of $f_{t=3.5}(x)$')\n",
    "ax.legend(loc='best')"
   ]
  },
  {
   "cell_type": "code",
   "execution_count": 5,
   "metadata": {},
   "outputs": [],
   "source": [
    "# reshape vectors for use in kernel\n",
    "x_train_T = np.reshape(x_train, (5,1))\n",
    "y_train_T = np.reshape(y_train, (5,1))\n",
    "x_test_T = np.reshape(x_test, (len(x_test),1))"
   ]
  },
  {
   "cell_type": "code",
   "execution_count": 6,
   "metadata": {},
   "outputs": [],
   "source": [
    "# create squared-exponential kernel\n",
    "d = 1              # no. of dimensions\n",
    "sigma = 1.5        # sqrt variance of covariance function\n",
    "theta = 0.14       # length scale\n",
    "beta = 3.5         # prior expectation\n",
    "\n",
    "def kernel(x1, x2, sigma, theta):\n",
    "    # (norm of x1 - x2)^2 = norm x1 ^2 + norm x2 ^2 - 2 x1.x2   (ignore sqs as sqrt below)\n",
    "    # norm of x1 = sqrt(x1_1 ^2 + x1_2^2 + ...)  (sum each column, equivalent to each input vector)\n",
    "    \n",
    "    # x1 is m x d array\n",
    "    # x2 is n x d array\n",
    "    # (m*n) combinations so want (m x n) covariance matrix eventually\n",
    "    # norm(x1)(column vector) - norm(x2)(row vector) gives (m x n) array corresponding to each x1 and x2 combination\n",
    "    # x1 dot x2.T gives equivalent (m x n) matrix of combinations\n",
    "    \n",
    "    \n",
    "    if x1.ndim == 1:\n",
    "        x1 = x1.reshape(-1, 1)\n",
    "    if x2.ndim == 1:\n",
    "        x2 = x2.reshape(-1, 1)\n",
    "        \n",
    "    \n",
    "    norm_sq = np.sum(x1**2, axis=1).reshape(-1, 1) + np.sum(x2**2, axis=1)  - 2 * np.dot(x1, x2.T)\n",
    "    K = sigma**2 * np.exp(- norm_sq / ((theta**2)))\n",
    "    return K\n",
    "\n"
   ]
  },
  {
   "cell_type": "code",
   "execution_count": null,
   "metadata": {},
   "outputs": [],
   "source": []
  },
  {
   "cell_type": "code",
   "execution_count": null,
   "metadata": {},
   "outputs": [],
   "source": []
  },
  {
   "cell_type": "code",
   "execution_count": 12,
   "metadata": {},
   "outputs": [],
   "source": [
    "# create posterior (using eqn 2.19 in Rasmussen)\n",
    "\n",
    "def emulator(X_train, X_test, Y_train, sigma, theta, beta):\n",
    "    \n",
    "    K_XX = kernel(X_train, X_train, sigma, theta)\n",
    "    K_XsX = kernel(X_test, X_train, sigma, theta)\n",
    "    K_XXs = kernel(X_train, X_test, sigma, theta)\n",
    "    K_XsXs = kernel(X_test, X_test, sigma, theta)\n",
    "    K_XX_inv = np.linalg.inv(K_XX)\n",
    "    \n",
    "    mu = beta + K_XsX.dot(K_XX_inv).dot(Y_train - beta)\n",
    "    cov = K_XsXs - K_XsX.dot(K_XX_inv).dot(K_XXs)\n",
    "    \n",
    "    \n",
    "    sd = np.sqrt(np.diag(cov))\n",
    "    print(sd)\n",
    "    \n",
    "    return mu, cov, sd"
   ]
  },
  {
   "cell_type": "code",
   "execution_count": 13,
   "metadata": {},
   "outputs": [],
   "source": [
    "# define implausibility measure\n",
    "\n",
    "def implausibility(E, z, var, var_md, var_obs):\n",
    "    \n",
    "    # E - emulator expectation\n",
    "    # z - observational data\n",
    "    # var - credible interval\n",
    "    # var_md - model discrepency error\n",
    "    # var_obs - observational error\n",
    "    \n",
    "    return np.sqrt( ( E - z )**2  /  ( var + var_md + var_obs ) )"
   ]
  },
  {
   "cell_type": "code",
   "execution_count": 14,
   "metadata": {},
   "outputs": [],
   "source": [
    "def plot_wave(X_train, X_test, Y_train, implaus_array, mu, sd, wave, ax=None):\n",
    "    ax = ax\n",
    "    ax.scatter(X_train, Y_train, color='red')\n",
    "    ax.fill_between(X_test, mu.ravel() + 3*sd, mu.ravel() - 3*sd, alpha=0.2)\n",
    "    ax.plot(X_test, mu)\n",
    "    ax.set_title('Wave {}'.format(wave))\n",
    "    ax.set_xlabel('Rate Parameter Value x')\n",
    "    ax.set_ylabel('Concentration of $f_{t=3.5}(x)$')\n",
    "    \n",
    "    ax.axhline(z, color='black', label='Observed Data')\n",
    "    ax.axhline(z-(3*sigma_e), linestyle='dashed', color='black', label='$\\pm 3 \\sigma_{e}$')\n",
    "    ax.axhline(z+(3*sigma_e), linestyle='dashed', color='black')\n",
    "    \n",
    "    for i in range(len(x_test)):\n",
    "        if implaus_array[i] > 3.5:\n",
    "            ax.scatter(X_test[i], 1, color='red', marker='s')\n",
    "        elif implaus_array[i] < 3:\n",
    "            ax.scatter(X_test[i], 1, color='green', marker='s')\n",
    "        else:\n",
    "            ax.scatter(X_test[i], 1, color='orange', marker='s')"
   ]
  },
  {
   "cell_type": "code",
   "execution_count": 15,
   "metadata": {},
   "outputs": [],
   "source": [
    "def history_match(X_train_0, X_test_0, Y_train_0, sigma, theta, beta, waves=1):\n",
    "    \n",
    "    # sigma - sqrt variance (covariance function)\n",
    "    # theta - length scale (covariance function)\n",
    "    # brta - prior expectation\n",
    "    \n",
    "    # X_train_0 = initial nonimplausible region, etc\n",
    "    X_train = X_train_0\n",
    "    X_test = X_test_0\n",
    "    Y_train = Y_train_0\n",
    "    \n",
    "    fig, axes = plt.subplots(waves, 1, figsize=(12,8*waves))\n",
    "    ax_list = fig.axes\n",
    "    print(ax_list)\n",
    "    \n",
    "    for j in range(waves):\n",
    "        \n",
    "        ax=ax_list[j]\n",
    "        \n",
    "        N_points = len(X_train)\n",
    "        \n",
    "        # reshape vectors for use in kernel\n",
    "        #X_train_T = np.reshape(X_train, (N_points,1))\n",
    "        #Y_train_T = np.reshape(Y_train, (N_points,1))\n",
    "        #X_test_T = np.reshape(X_test, (len(x_test),1))\n",
    "        X_train_T = X_train\n",
    "        Y_train_T = Y_train\n",
    "        X_test_T = X_test\n",
    "\n",
    "        # evaluate emulator\n",
    "        mu, covariance, sd = emulator(X_train_T, X_test_T, Y_train_T, sigma, theta, beta)\n",
    "\n",
    "        # evaluate implausibility over parameter space\n",
    "        implaus_array = np.zeros(len(mu.ravel()))\n",
    "        for i in range(len(mu.ravel())):\n",
    "            fx = mu.ravel()[i]\n",
    "            implaus_array[i] = implausibility(fx, z, np.diag(covariance)[i], 0, sigma_e**2)\n",
    "        \n",
    "        # plot emulator and implausibilities\n",
    "        plot_wave(X_train, X_test, Y_train, implaus_array, mu, sd, j, ax=ax)\n",
    "\n",
    "        # define new non-implausible region\n",
    "        A = np.where(implaus_array > 3.5)\n",
    "        x_test2 = np.delete(x_test, A)\n",
    "        \n",
    "        # select well-spaced training points in new nonimp region\n",
    "        X1 = x_test2[0] + ( (x_test2[-1] - x_test2[0])/3 )\n",
    "        X2 = x_test2[-1] - ( (x_test2[-1] - x_test2[0])/3 )\n",
    "        \n",
    "        # generate new training points over new nonimplausible region\n",
    "        X_train = np.append(X_train, [X1, X2])\n",
    "        Y_train = np.append(Y_train, [true_model(X1, 3.5), true_model(X2,3.5)])\n",
    "    \n",
    "    plt.savefig(\"1D_histmatch.png\", facecolor='white', transparent=False)"
   ]
  },
  {
   "cell_type": "code",
   "execution_count": 16,
   "metadata": {
    "scrolled": true
   },
   "outputs": [
    {
     "name": "stdout",
     "output_type": "stream",
     "text": [
      "[<AxesSubplot:>, <AxesSubplot:>]\n"
     ]
    },
    {
     "ename": "UnboundLocalError",
     "evalue": "local variable 'sd' referenced before assignment",
     "output_type": "error",
     "traceback": [
      "\u001b[0;31m---------------------------------------------------------------------------\u001b[0m",
      "\u001b[0;31mUnboundLocalError\u001b[0m                         Traceback (most recent call last)",
      "\u001b[0;32m<ipython-input-16-b5d3ffec0161>\u001b[0m in \u001b[0;36m<module>\u001b[0;34m\u001b[0m\n\u001b[0;32m----> 1\u001b[0;31m \u001b[0mchi2\u001b[0m \u001b[0;34m=\u001b[0m \u001b[0mhistory_match\u001b[0m\u001b[0;34m(\u001b[0m\u001b[0mx_train\u001b[0m\u001b[0;34m,\u001b[0m \u001b[0mx_test\u001b[0m\u001b[0;34m,\u001b[0m \u001b[0my_train\u001b[0m\u001b[0;34m,\u001b[0m \u001b[0msigma\u001b[0m\u001b[0;34m,\u001b[0m \u001b[0mtheta\u001b[0m\u001b[0;34m,\u001b[0m \u001b[0mbeta\u001b[0m\u001b[0;34m,\u001b[0m \u001b[0;36m2\u001b[0m\u001b[0;34m)\u001b[0m\u001b[0;34m\u001b[0m\u001b[0;34m\u001b[0m\u001b[0m\n\u001b[0m",
      "\u001b[0;32m<ipython-input-15-bfa14e50efb1>\u001b[0m in \u001b[0;36mhistory_match\u001b[0;34m(X_train_0, X_test_0, Y_train_0, sigma, theta, beta, waves)\u001b[0m\n\u001b[1;32m     29\u001b[0m \u001b[0;34m\u001b[0m\u001b[0m\n\u001b[1;32m     30\u001b[0m         \u001b[0;31m# evaluate emulator\u001b[0m\u001b[0;34m\u001b[0m\u001b[0;34m\u001b[0m\u001b[0;34m\u001b[0m\u001b[0m\n\u001b[0;32m---> 31\u001b[0;31m         \u001b[0mmu\u001b[0m\u001b[0;34m,\u001b[0m \u001b[0mcovariance\u001b[0m\u001b[0;34m,\u001b[0m \u001b[0msd\u001b[0m \u001b[0;34m=\u001b[0m \u001b[0memulator\u001b[0m\u001b[0;34m(\u001b[0m\u001b[0mX_train_T\u001b[0m\u001b[0;34m,\u001b[0m \u001b[0mX_test_T\u001b[0m\u001b[0;34m,\u001b[0m \u001b[0mY_train_T\u001b[0m\u001b[0;34m,\u001b[0m \u001b[0msigma\u001b[0m\u001b[0;34m,\u001b[0m \u001b[0mtheta\u001b[0m\u001b[0;34m,\u001b[0m \u001b[0mbeta\u001b[0m\u001b[0;34m)\u001b[0m\u001b[0;34m\u001b[0m\u001b[0;34m\u001b[0m\u001b[0m\n\u001b[0m\u001b[1;32m     32\u001b[0m \u001b[0;34m\u001b[0m\u001b[0m\n\u001b[1;32m     33\u001b[0m         \u001b[0;31m# evaluate implausibility over parameter space\u001b[0m\u001b[0;34m\u001b[0m\u001b[0;34m\u001b[0m\u001b[0;34m\u001b[0m\u001b[0m\n",
      "\u001b[0;32m<ipython-input-12-9a360b56d8e9>\u001b[0m in \u001b[0;36memulator\u001b[0;34m(X_train, X_test, Y_train, sigma, theta, beta)\u001b[0m\n\u001b[1;32m     12\u001b[0m     \u001b[0mcov\u001b[0m \u001b[0;34m=\u001b[0m \u001b[0mK_XsXs\u001b[0m \u001b[0;34m-\u001b[0m \u001b[0mK_XsX\u001b[0m\u001b[0;34m.\u001b[0m\u001b[0mdot\u001b[0m\u001b[0;34m(\u001b[0m\u001b[0mK_XX_inv\u001b[0m\u001b[0;34m)\u001b[0m\u001b[0;34m.\u001b[0m\u001b[0mdot\u001b[0m\u001b[0;34m(\u001b[0m\u001b[0mK_XXs\u001b[0m\u001b[0;34m)\u001b[0m\u001b[0;34m\u001b[0m\u001b[0;34m\u001b[0m\u001b[0m\n\u001b[1;32m     13\u001b[0m \u001b[0;34m\u001b[0m\u001b[0m\n\u001b[0;32m---> 14\u001b[0;31m     \u001b[0mprint\u001b[0m\u001b[0;34m(\u001b[0m\u001b[0msd\u001b[0m\u001b[0;34m)\u001b[0m\u001b[0;34m\u001b[0m\u001b[0;34m\u001b[0m\u001b[0m\n\u001b[0m\u001b[1;32m     15\u001b[0m     \u001b[0msd\u001b[0m \u001b[0;34m=\u001b[0m \u001b[0mnp\u001b[0m\u001b[0;34m.\u001b[0m\u001b[0msqrt\u001b[0m\u001b[0;34m(\u001b[0m\u001b[0mnp\u001b[0m\u001b[0;34m.\u001b[0m\u001b[0mdiag\u001b[0m\u001b[0;34m(\u001b[0m\u001b[0mcov\u001b[0m\u001b[0;34m)\u001b[0m\u001b[0;34m)\u001b[0m\u001b[0;34m\u001b[0m\u001b[0;34m\u001b[0m\u001b[0m\n\u001b[1;32m     16\u001b[0m \u001b[0;34m\u001b[0m\u001b[0m\n",
      "\u001b[0;31mUnboundLocalError\u001b[0m: local variable 'sd' referenced before assignment"
     ]
    },
    {
     "data": {
      "image/png": "[encoded data removed]",
      "text/plain": [
       "<Figure size 864x1152 with 2 Axes>"
      ]
     },
     "metadata": {
      "needs_background": "light"
     },
     "output_type": "display_data"
    }
   ],
   "source": [
    "chi2 = history_match(x_train, x_test, y_train, sigma, theta, beta, 2)"
   ]
  },
  {
   "cell_type": "code",
   "execution_count": null,
   "metadata": {},
   "outputs": [],
   "source": []
  },
  {
   "cell_type": "code",
   "execution_count": null,
   "metadata": {},
   "outputs": [],
   "source": []
  },
  {
   "cell_type": "code",
   "execution_count": null,
   "metadata": {},
   "outputs": [],
   "source": []
  },
  {
   "cell_type": "code",
   "execution_count": null,
   "metadata": {},
   "outputs": [],
   "source": []
  }
 ],
 "metadata": {
  "kernelspec": {
   "display_name": "Python 3",
   "language": "python",
   "name": "python3"
  },
  "language_info": {
   "codemirror_mode": {
    "name": "ipython",
    "version": 3
   },
   "file_extension": ".py",
   "mimetype": "text/x-python",
   "name": "python",
   "nbconvert_exporter": "python",
   "pygments_lexer": "ipython3",
   "version": "3.8.8"
  }
 },
 "nbformat": 4,
 "nbformat_minor": 4
}
