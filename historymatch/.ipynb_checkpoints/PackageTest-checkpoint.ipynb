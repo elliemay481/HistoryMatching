{
 "cells": [
  {
   "cell_type": "code",
   "execution_count": 1,
   "metadata": {},
   "outputs": [],
   "source": [
    "# import internal files\n",
    "import emulators\n",
    "import sample\n",
    "import historymatch\n",
    "import plot\n",
    "\n",
    "import numpy as np\n",
    "import matplotlib.pyplot as plt\n",
    "from sklearn.cluster import KMeans\n",
    "from scipy import stats\n",
    "\n",
    "plt.rcParams.update({'font.size': 10})\n",
    "\n",
    "np.random.seed(4)\n",
    "\n",
    "import importlib"
   ]
  },
  {
   "cell_type": "code",
   "execution_count": 2,
   "metadata": {},
   "outputs": [],
   "source": [
    "def model_eqn_1(x, theta_0, theta_1, theta_2):\n",
    "    return theta_0 + theta_1*(x) + theta_2*(x**2)\n",
    "\n",
    "function1 = np.vectorize(model_eqn_1)"
   ]
  },
  {
   "cell_type": "code",
   "execution_count": 3,
   "metadata": {},
   "outputs": [],
   "source": [
    "def model_eqn_2(x, theta_0, theta_1, theta_2):\n",
    "    return theta_0 - theta_1*np.sin(x) + (theta_2**1)*np.cos(x)\n",
    "\n",
    "function2 = np.vectorize(model_eqn_2)"
   ]
  },
  {
   "cell_type": "code",
   "execution_count": 4,
   "metadata": {},
   "outputs": [],
   "source": [
    "# define parameter space\n",
    "var_method = 0.01\n",
    "\n",
    "theta_0_bound = np.array([-1, 1]).reshape(1,-1)\n",
    "theta_1_bound = np.array([-1, 1]).reshape(1,-1)\n",
    "theta_2_bound = np.array([-1, 1]).reshape(1,-1)\n",
    "\n",
    "parameter_bounds = np.concatenate((theta_0_bound, theta_1_bound, theta_2_bound), axis=0)\n",
    "\n",
    "theta_0_vals = np.linspace(parameter_bounds[0,0], parameter_bounds[0,1], 100)\n",
    "theta_1_vals = np.linspace(parameter_bounds[1,0], parameter_bounds[1,1], 100)\n",
    "theta_2_vals = np.linspace(parameter_bounds[2,0], parameter_bounds[2,1], 100)\n",
    "\n",
    "theta_vals = np.concatenate((theta_0_vals.reshape(1,-1), theta_1_vals.reshape(1,-1), theta_2_vals.reshape(1,-1)), axis=0)"
   ]
  },
  {
   "cell_type": "code",
   "execution_count": 5,
   "metadata": {},
   "outputs": [],
   "source": [
    "Nx = 8\n",
    "\n",
    "def toy_model(theta_0, theta_1, theta_2):\n",
    "    \n",
    "    x_bound = np.array([0.1, 1])\n",
    "    Nx = 8\n",
    "    xvals = np.linspace(x_bound[0], x_bound[-1], Nx)\n",
    "\n",
    "    outputs =  []\n",
    "    for x in xvals:\n",
    "        output = theta_0 + (theta_1**1)*(x) + theta_2*(x**2)\n",
    "        outputs.append(output)\n",
    "    for x in xvals:\n",
    "        output = theta_0 - theta_1*np.sin(x) + (theta_2**1)*np.cos(x)\n",
    "        #output = theta_0 - theta_1*(x**(3/2)) + (theta_2**1)*np.cos(x)\n",
    "        outputs.append(output)\n",
    "    return np.array(outputs)"
   ]
  },
  {
   "cell_type": "code",
   "execution_count": 6,
   "metadata": {},
   "outputs": [],
   "source": [
    "# generate observational data with some uncertainty\n",
    "true_parameters = [-0.1, 0.3, 0.6]\n",
    "\n",
    "output_ratio = (toy_model(-1,-1,-1) - toy_model(1,1,1)) / (toy_model(-1,-1,-1) - toy_model(1,1,1))[0]\n",
    "\n",
    "var_obs = output_ratio*0.01 # observational uncertainty variance\n",
    "\n",
    "\n",
    "error_obs = np.zeros(2*Nx)\n",
    "for i in range(2*Nx):\n",
    "    error_obs[i] = np.random.normal(0, np.sqrt(var_obs[i]))\n",
    "\n",
    "\n",
    "obs_data = toy_model(*true_parameters) + error_obs\n",
    "\n",
    "\n",
    "\n",
    "\n",
    "#var_obs = np.ones(2*Nx)*0.01 # observational uncertainty variance\n",
    "\n",
    "#error_obs = np.random.normal(0, np.sqrt(var_obs), 2*Nx)\n",
    "\n",
    "#obs_data = toy_model(*true_parameters) + error_obs\n"
   ]
  },
  {
   "cell_type": "code",
   "execution_count": 7,
   "metadata": {},
   "outputs": [],
   "source": [
    "nwaves = 3\n",
    "ndim = 3"
   ]
  },
  {
   "cell_type": "code",
   "execution_count": 8,
   "metadata": {},
   "outputs": [],
   "source": [
    "importlib.reload(historymatch)\n",
    "\n",
    "# initialise history matching class\n",
    "HM = historymatch.HistoryMatch(obs_data,\n",
    "                               ndim, 'GP', 'ellipsoid')"
   ]
  },
  {
   "cell_type": "code",
   "execution_count": 9,
   "metadata": {
    "scrolled": true
   },
   "outputs": [
    {
     "name": "stdout",
     "output_type": "stream",
     "text": [
      "(3, 2)\n",
      "(3, 2)\n",
      "Running wave 1\n",
      "Emulating...\n",
      "0.5564245647851075\n",
      "[0.02291498 0.00770194 0.01850191 ... 0.00507841 0.02329743 0.01389893]\n",
      "Mean emulator s.d lower than obs\n",
      "Emulating...\n",
      "0.538003935022774\n",
      "[0.02215637 0.00744696 0.0178894  ... 0.00491029 0.02252616 0.0134388 ]\n",
      "Mean emulator s.d lower than obs\n",
      "Emulating...\n",
      "0.5292686052013543\n",
      "[0.02179662 0.00732605 0.01759894 ... 0.00483056 0.02216041 0.0132206 ]\n",
      "Mean emulator s.d lower than obs\n",
      "Emulating...\n",
      "0.5339903953821981\n",
      "[0.02199108 0.00739141 0.01775594 ... 0.00487366 0.02235811 0.01333854]\n",
      "Mean emulator s.d lower than obs\n",
      "Emulating...\n",
      "0.5569492292952075\n",
      "[0.02293658 0.0077092  0.01851936 ... 0.0050832  0.02331939 0.01391203]\n",
      "Mean emulator s.d lower than obs\n",
      "Emulating...\n",
      "0.6025981138142458\n",
      "[0.02481652 0.00834107 0.02003725 ... 0.00549983 0.02523071 0.0150523 ]\n",
      "Mean emulator s.d lower than obs\n",
      "Emulating...\n",
      "0.6737784273651047\n",
      "[0.02774791 0.00932633 0.02240409 ... 0.00614948 0.02821102 0.01683031]\n",
      "Mean emulator s.d lower than obs\n",
      "Emulating...\n",
      "0.771338423108147\n",
      "[0.03176567 0.01067674 0.0256481  ... 0.0070399  0.03229584 0.01926726]\n",
      "Mean emulator s.d lower than obs\n",
      "Emulating...\n",
      "0.8152986726521666\n",
      "[0.03357607 0.01128523 0.02710984 ... 0.00744112 0.03413645 0.02036534]\n",
      "Mean emulator s.d lower than obs\n",
      "Emulating...\n",
      "0.8432762257822194\n",
      "[0.03472826 0.01167249 0.02804014 ... 0.00769646 0.03530787 0.02106419]\n",
      "Mean emulator s.d lower than obs\n",
      "Emulating...\n",
      "0.8691940593175368\n",
      "[0.03579562 0.01203124 0.02890194 ... 0.00793301 0.03639305 0.02171159]\n",
      "Mean emulator s.d lower than obs\n",
      "Emulating...\n",
      "0.8924858983766966\n",
      "[0.03675483 0.01235365 0.02967643 ... 0.00814559 0.03736827 0.0222934 ]\n",
      "Mean emulator s.d lower than obs\n",
      "Emulating...\n",
      "0.912719942815276\n",
      "[0.03758812 0.01263372 0.03034924 ... 0.00833027 0.03821547 0.02279883]\n",
      "Mean emulator s.d lower than obs\n",
      "Emulating...\n",
      "0.9295962986656884\n",
      "[0.03828314 0.01286732 0.0309104  ... 0.00848429 0.03892208 0.02322038]\n",
      "Mean emulator s.d lower than obs\n",
      "Emulating...\n",
      "0.9429423282739806\n",
      "[0.03883276 0.01305206 0.03135418 ... 0.0086061  0.03948088 0.02355375]\n",
      "Mean emulator s.d lower than obs\n",
      "Emulating...\n",
      "0.952706277749467\n",
      "[0.03923486 0.01318721 0.03167884 ... 0.00869522 0.03988969 0.02379765]\n",
      "Mean emulator s.d lower than obs\n",
      "Relative nonimplausible volume remaining: 0.061\n",
      "Running wave 2\n",
      "Emulating...\n",
      "0.168146309664656\n",
      "[1.58956680e-03 3.09566385e-04 6.68514638e-05 ... 1.90548587e-04\n",
      " 4.25840724e-05 1.22709564e-04]\n",
      "Mean emulator s.d lower than obs\n",
      "Emulating...\n",
      "0.16262764739238447\n",
      "[1.53770543e-03 3.00082368e-04 7.81771861e-05 ... 1.80428342e-04\n",
      " 6.17937481e-05 1.30225269e-04]\n",
      "Mean emulator s.d lower than obs\n",
      "Emulating...\n",
      "0.15593465176346163\n",
      "[1.47398683e-03 2.83394766e-04 5.18302974e-05 ... 1.72315281e-04\n",
      " 2.89225546e-05 1.13152895e-04]\n",
      "Mean emulator s.d lower than obs\n",
      "Emulating...\n",
      "0.15032795325916537\n",
      "[1.42105869e-03 2.73682326e-04 6.25244284e-05 ... 1.63856539e-04\n",
      " 2.34224118e-05 1.11310005e-04]\n",
      "Mean emulator s.d lower than obs\n",
      "Emulating...\n",
      "0.149180141489475\n",
      "[1.41063854e-03 2.77291353e-04 6.70460742e-05 ... 1.76894543e-04\n",
      " 5.39310264e-05 1.17965577e-04]\n",
      "Mean emulator s.d lower than obs\n",
      "Emulating...\n",
      "0.15645835529320593\n",
      "[1.47970204e-03 2.89627560e-04 7.05190723e-05 ... 1.74380321e-04\n",
      " 4.04986085e-05 1.25520766e-04]\n",
      "Mean emulator s.d lower than obs\n",
      "Emulating...\n",
      "0.1752242776027255\n",
      "[1.65640520e-03 3.19948080e-04 6.53423936e-05 ... 1.97602849e-04\n",
      " 2.28196990e-05 1.16454301e-04]\n",
      "Mean emulator s.d lower than obs\n",
      "Emulating...\n",
      "0.20638764984798705\n",
      "[1.95168881e-03 3.84246155e-04 9.42409424e-05 ... 2.36983231e-04\n",
      " 8.32815770e-05 1.64704573e-04]\n",
      "Mean emulator s.d lower than obs\n",
      "Emulating...\n",
      "0.1263531779386081\n",
      "[1.19437508e-03 2.33371428e-04 6.55585071e-05 ... 1.42157377e-04\n",
      " 7.30705816e-06 9.70156546e-05]\n",
      "Mean emulator s.d lower than obs\n",
      "Emulating...\n",
      "0.12341863862819707\n",
      "[1.16659055e-03 2.27535838e-04 2.68394596e-05 ... 1.36369300e-04\n",
      " 1.28586327e-05 8.61167271e-05]\n",
      "Mean emulator s.d lower than obs\n",
      "Emulating...\n",
      "0.12213283215431672\n",
      "[1.15511779e-03 2.31986567e-04 5.78620141e-05 ... 1.41522315e-04\n",
      " 3.32524173e-05 9.74755088e-05]\n",
      "Mean emulator s.d lower than obs\n",
      "Emulating...\n",
      "0.12313993980167283\n",
      "[1.16438771e-03 2.31824002e-04 5.33084252e-05 ... 1.39512000e-04\n",
      " 3.79910005e-05 9.31564985e-05]\n",
      "Mean emulator s.d lower than obs\n",
      "Emulating...\n",
      "0.12695262090878032\n",
      "[1.20040337e-03 2.32908609e-04 4.30935535e-05 ... 1.40626245e-04\n",
      " 2.39943115e-05 1.01413694e-04]\n",
      "Mean emulator s.d lower than obs\n",
      "Emulating...\n",
      "0.13381669531745574\n",
      "[1.26531223e-03 2.47063257e-04 4.83338598e-05 ... 1.52817377e-04\n",
      " 3.51250928e-05 1.01980668e-04]\n",
      "Mean emulator s.d lower than obs\n",
      "Emulating...\n",
      "0.1436579357017968\n",
      "[1.35905195e-03 2.65702141e-04 6.69944620e-05 ... 1.62155988e-04\n",
      " 1.22325269e-05 1.17001060e-04]\n",
      "Mean emulator s.d lower than obs\n",
      "Emulating...\n",
      "0.15613228619256186\n",
      "[1.47601040e-03 2.86012679e-04 5.45445882e-05 ... 1.76006954e-04\n",
      " 2.44402880e-05 1.09905871e-04]\n",
      "Mean emulator s.d lower than obs\n",
      "Relative nonimplausible volume remaining: 0.08\n",
      "Running wave 3\n",
      "Emulating...\n",
      "0.13766741493077286\n",
      "[1.51253826e-04 2.45949433e-05 2.05955358e-05 ... 1.61381041e-05\n",
      " 6.93701845e-06 8.25610625e-05]\n",
      "Mean emulator s.d lower than obs\n",
      "Emulating...\n",
      "0.12566356788598024\n",
      "[1.36939151e-04 1.52138907e-05 1.14259269e-05 ... 5.63454314e-06\n",
      " 1.52055745e-06 7.61485375e-05]\n",
      "Mean emulator s.d lower than obs\n",
      "Emulating...\n",
      "0.11091131749576721\n",
      "[1.19925526e-04 2.03049482e-05 1.50021382e-05 ... 1.07251680e-05\n",
      " 6.32761695e-06 6.80397413e-05]\n",
      "Mean emulator s.d lower than obs\n",
      "Emulating...\n",
      "0.09767863824407247\n",
      "[1.07818036e-04 2.57918918e-05 2.81540301e-05 ... 2.39542143e-05\n",
      " 2.55151391e-05 6.20741754e-05]\n",
      "Mean emulator s.d lower than obs\n",
      "Emulating...\n",
      "0.0944534939188282\n",
      "[1.03210793e-04 1.63323425e-05 1.91773516e-05 ... 1.06421714e-05\n",
      " 1.03655924e-05 6.05650287e-05]\n",
      "Mean emulator s.d lower than obs\n",
      "Emulating...\n",
      "0.11047627811537322\n",
      "[1.19121552e-04 2.24667472e-05 7.26770542e-06 ... 2.52216762e-05\n",
      " 1.26000153e-05 6.62564409e-05]\n",
      "Mean emulator s.d lower than obs\n",
      "Emulating...\n",
      "0.14665029573495283\n",
      "[1.58499969e-04 3.00751650e-05 3.33010080e-05 ... 3.33276759e-05\n",
      " 1.11320619e-05 9.10155709e-05]\n",
      "Mean emulator s.d lower than obs\n",
      "Emulating...\n",
      "0.19822166776313505\n",
      "[2.13670944e-04 3.91958306e-05 2.80020891e-05 ... 8.97289007e-06\n",
      " 2.07801052e-05 1.15536167e-04]\n",
      "Mean emulator s.d lower than obs\n",
      "Emulating...\n",
      "0.11878197385274653\n",
      "[1.29800162e-04 3.24145238e-05 1.49213767e-05 ... 2.32536080e-05\n",
      " 1.38678187e-05 7.15998334e-05]\n",
      "Mean emulator s.d lower than obs\n",
      "Emulating...\n",
      "0.1148302255771628\n",
      "[1.26014236e-04 9.79726312e-06 2.55507340e-05 ... 2.08968937e-05\n",
      " 1.03703043e-05 7.17559009e-05]\n",
      "Mean emulator s.d lower than obs\n",
      "Emulating...\n",
      "0.11141192905536679\n",
      "[1.23986882e-04 2.08291822e-05 2.38731931e-05 ... 1.31509673e-05\n",
      " 1.73151522e-05 7.04169767e-05]\n",
      "Mean emulator s.d lower than obs\n",
      "Emulating...\n",
      "0.10969124817098617\n",
      "[1.20636106e-04 2.50823449e-05 7.80566924e-06 ... 2.26132474e-05\n",
      " 1.61144387e-05 7.17954757e-05]\n",
      "Mean emulator s.d lower than obs\n",
      "Emulating...\n",
      "0.11092056470497948\n",
      "[1.18450859e-04 1.15733563e-05 1.65283944e-05 ... 2.59458163e-05\n",
      " 1.82217636e-05 6.09998448e-05]\n",
      "Mean emulator s.d lower than obs\n",
      "Emulating...\n",
      "0.11610219619495377\n",
      "[1.26354467e-04 1.95276898e-05 1.48422868e-05 ... 2.22885685e-05\n",
      " 1.98137009e-05 7.24037539e-05]\n",
      "Mean emulator s.d lower than obs\n",
      "Emulating...\n",
      "0.1256516000069057\n",
      "[1.37813246e-04 1.63524863e-06 1.58351971e-05 ... 2.72481425e-05\n",
      " 1.50154552e-05 7.51292518e-05]\n",
      "Mean emulator s.d lower than obs\n",
      "Emulating...\n",
      "0.13931958873425895\n",
      "[1.51933886e-04 2.59844887e-05 1.09396445e-05 ... 1.90594071e-05\n",
      " 1.66038849e-05 8.20046093e-05]\n",
      "Mean emulator s.d lower than obs\n",
      "Relative nonimplausible volume remaining: 0.076\n"
     ]
    }
   ],
   "source": [
    "\n",
    "\n",
    "ToyModel = historymatch.Simulator(HM)\n",
    "ToyModel.set_simulator(toy_model)\n",
    "\n",
    "HM.set_observations(obs_data, np.sqrt(var_obs))\n",
    "HM.initialize_volume([-1,-1,-1], [1,1,1])\n",
    "\n",
    "results = HM.run(nwaves=nwaves)"
   ]
  },
  {
   "cell_type": "code",
   "execution_count": 19,
   "metadata": {},
   "outputs": [
    {
     "data": {
      "text/plain": [
       "<matplotlib.collections.PathCollection at 0x7f8b8a9097c0>"
      ]
     },
     "execution_count": 19,
     "metadata": {},
     "output_type": "execute_result"
    },
    {
     "data": {
      "image/png": "[encoded data removed]",
      "text/plain": [
       "<Figure size 720x720 with 9 Axes>"
      ]
     },
     "metadata": {
      "needs_background": "light"
     },
     "output_type": "display_data"
    }
   ],
   "source": [
    "importlib.reload(plot)\n",
    "\n",
    "fig, axes = plt.subplots(ndim,ndim,figsize=(10,10))\n",
    "#plot.opticaldepth_1D(results.samples[0], parameter_bounds[0], parameter = 0, bins=20, Fig=(fig,ax1))\n",
    "    \n",
    "#plot.plot_implausibility2D(results.samples[0], parameter_bounds, [0,1], bins=20)\n",
    "\n",
    "plot.plotcorner(results.samples[0], parameter_bounds, 3, Fig=(fig,axes), labels=('theta1', 'theta2', 'theta3'))\n",
    "axes[1,0].scatter(true_parameters[0],true_parameters[1], color='red')\n",
    "axes[2,0].scatter(true_parameters[0],true_parameters[2], color='red')\n",
    "axes[2,1].scatter(true_parameters[1],true_parameters[2], color='red')"
   ]
  },
  {
   "cell_type": "code",
   "execution_count": 11,
   "metadata": {},
   "outputs": [
    {
     "data": {
      "text/plain": [
       "(5000, 4)"
      ]
     },
     "execution_count": 11,
     "metadata": {},
     "output_type": "execute_result"
    }
   ],
   "source": [
    "results.samples[1].shape"
   ]
  },
  {
   "cell_type": "code",
   "execution_count": 20,
   "metadata": {},
   "outputs": [
    {
     "name": "stdout",
     "output_type": "stream",
     "text": [
      "[[ 0.00500388 -0.00037699 -0.00613499]\n",
      " [-0.00037699  0.00342433  0.00045998]\n",
      " [-0.00613499  0.00045998  0.01003366]]\n"
     ]
    }
   ],
   "source": [
    "with open('data/3D_historymatch_ellipsoid_w1.txt', 'w') as file:\n",
    "    np.savetxt(file, results.regions[0])\n",
    "with open('data/3D_historymatch_ellipsoid_w2.txt', 'w') as file:\n",
    "    np.savetxt(file, results.regions[1])\n",
    "with open('data/3D_historymatch_ellipsoid_w3.txt', 'w') as file:\n",
    "    np.savetxt(file, results.regions[2])\n",
    "\n",
    "\n",
    "\n",
    "analytic_mean = np.loadtxt(\"3D_analytic_mean.txt\").reshape(3,)\n",
    "analytic_cov = np.loadtxt(\"3D_analytic_cov.txt\").reshape(3,3)\n",
    "\n",
    "print(analytic_cov)"
   ]
  },
  {
   "cell_type": "code",
   "execution_count": 13,
   "metadata": {},
   "outputs": [],
   "source": [
    "with open('data/3D_historymatch_ellipsoid_8z_testpts.txt', 'w') as file3:\n",
    "    for i in range(len(results.test_pts)):\n",
    "        np.savetxt(file3, results.test_pts[i])"
   ]
  },
  {
   "cell_type": "code",
   "execution_count": 14,
   "metadata": {},
   "outputs": [
    {
     "name": "stdout",
     "output_type": "stream",
     "text": [
      "(5000, 2)\n"
     ]
    }
   ],
   "source": [
    "emulator_output_w1 = np.concatenate((results.emulator_mu[0].reshape(-1,1), results.emulator_sd[0].reshape(-1,1)), axis=1)\n",
    "print(emulator_output_w1.shape)"
   ]
  },
  {
   "cell_type": "code",
   "execution_count": 15,
   "metadata": {},
   "outputs": [],
   "source": [
    "true_output = np.zeros(results.test_pts[0].shape[0])\n",
    "\n",
    "for i in range(results.test_pts[0].shape[0]):\n",
    "    true_output[i] = toy_model(*results.test_pts[0][i])[-1]\n",
    "\n",
    "\n",
    "with open('data/3D_historymatch_ellipsoid_8z_true_output.txt', 'w') as file2:\n",
    "    np.savetxt(file2, true_output)\n",
    "    \n",
    "with open('data/3D_historymatch_ellipsoid_8z_emulator_output.txt', 'w') as file4:\n",
    "    np.savetxt(file4, emulator_output_w1)"
   ]
  },
  {
   "cell_type": "code",
   "execution_count": 16,
   "metadata": {},
   "outputs": [],
   "source": [
    "def get_cov_ellipse(cov, centre, nstd, ax, color):\n",
    "    \"\"\"\n",
    "    Return a matplotlib Ellipse patch representing the covariance matrix\n",
    "    cov centred at centre and scaled by the factor nstd.\n",
    "\n",
    "    \"\"\"\n",
    "\n",
    "    # Find and sort eigenvalues and eigenvectors into descending order\n",
    "    eigvals, eigvecs = np.linalg.eigh(cov)\n",
    "    order = eigvals.argsort()[::-1]\n",
    "    eigvals, eigvecs = eigvals[order], eigvecs[:, order]\n",
    "\n",
    "    # The anti-clockwise angle to rotate our ellipse by \n",
    "    vx, vy = eigvecs[:,0][0], eigvecs[:,0][1]\n",
    "    theta = np.arctan2(vy, vx)\n",
    "\n",
    "    # Width and height of ellipse to draw\n",
    "    width, height = 2 * nstd * np.sqrt(np.abs(eigvals))\n",
    "    \n",
    "    t = np.linspace(0, 2*np.pi, 100)\n",
    "    Ell = np.array([0.5*width*np.cos(t) , 0.5*height*np.sin(t)]) \n",
    "    R_rot = np.array([[np.cos(theta) , -np.sin(theta)],[np.sin(theta), np.cos(theta)]])  \n",
    "    Ell_rot = np.zeros((2,Ell.shape[1]))\n",
    "    for i in range(Ell.shape[1]):\n",
    "        Ell_rot[:,i] = np.dot(R_rot,Ell[:,i])\n",
    "    \n",
    "    ax.plot( centre[0]+Ell_rot[0,:] , centre[1]+Ell_rot[1,:], color=color)"
   ]
  },
  {
   "cell_type": "code",
   "execution_count": 17,
   "metadata": {},
   "outputs": [
    {
     "data": {
      "image/png": "[encoded data removed]",
      "text/plain": [
       "<Figure size 720x720 with 9 Axes>"
      ]
     },
     "metadata": {
      "needs_background": "light"
     },
     "output_type": "display_data"
    }
   ],
   "source": [
    "fig, axes = plt.subplots(ndim,ndim,figsize=(10,10))\n",
    "#plot.opticaldepth_1D(results.samples[0], parameter_bounds[0], parameter = 0, bins=20, Fig=(fig,ax1))\n",
    "    \n",
    "#plot.plot_implausibility2D(results.samples[0], parameter_bounds, [0,1], bins=20)\n",
    "\n",
    "plot.plotcorner(results.samples[1], parameter_bounds, 3, Fig=(fig,axes), labels=('theta1', 'theta2', 'theta3'))\n",
    "\n",
    "H = analytic_cov\n",
    "\n",
    "get_cov_ellipse(np.array([[H[0,0], H[0,1]],[H[1,0], H[1,1]]]), [analytic_mean[0], analytic_mean[1]], 3, axes[1,0], 'red')\n",
    "get_cov_ellipse(np.array([[H[0,0], H[0,2]],[H[2,0], H[2,2]]]), [analytic_mean[0], analytic_mean[2]], 3, axes[2,0], 'red')\n",
    "get_cov_ellipse(np.array([[H[1,1], H[1,2]],[H[2,1], H[2,2]]]), [analytic_mean[1], analytic_mean[2]], 3, axes[2,1], 'red')\n",
    "\n",
    "\n",
    "#axes[1,0].scatter(true_parameters[0],true_parameters[1], color='red')\n",
    "#axes[2,0].scatter(true_parameters[0],true_parameters[2], color='red')\n",
    "#axes[2,1].scatter(true_parameters[1],true_parameters[2], color='red')"
   ]
  },
  {
   "cell_type": "code",
   "execution_count": null,
   "metadata": {},
   "outputs": [],
   "source": []
  }
 ],
 "metadata": {
  "kernelspec": {
   "display_name": "Python 3",
   "language": "python",
   "name": "python3"
  },
  "language_info": {
   "codemirror_mode": {
    "name": "ipython",
    "version": 3
   },
   "file_extension": ".py",
   "mimetype": "text/x-python",
   "name": "python",
   "nbconvert_exporter": "python",
   "pygments_lexer": "ipython3",
   "version": "3.9.1"
  }
 },
 "nbformat": 4,
 "nbformat_minor": 4
}
