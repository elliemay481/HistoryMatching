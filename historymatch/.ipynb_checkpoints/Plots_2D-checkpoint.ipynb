{
 "cells": [
  {
   "cell_type": "code",
   "execution_count": 1,
   "metadata": {},
   "outputs": [],
   "source": [
    "import numpy as np\n",
    "import plot\n",
    "from scipy import stats\n",
    "import matplotlib.pyplot as plt\n",
    "from matplotlib import rc\n",
    "import matplotlib.patches as mpatches\n",
    "from mpl_toolkits.mplot3d import Axes3D\n",
    "import corner"
   ]
  },
  {
   "cell_type": "code",
   "execution_count": 2,
   "metadata": {},
   "outputs": [],
   "source": [
    "SMALL_SIZE = 22\n",
    "MEDIUM_SIZE = 24\n",
    "BIGGER_SIZE = 26\n",
    "\n",
    "plt.rc('font', size=SMALL_SIZE)          # controls default text sizes\n",
    "plt.rc('axes', titlesize=SMALL_SIZE)     # fontsize of the axes title\n",
    "plt.rc('axes', labelsize=MEDIUM_SIZE)    # fontsize of the x and y labels\n",
    "plt.rc('xtick', labelsize=SMALL_SIZE)    # fontsize of the tick labels\n",
    "plt.rc('ytick', labelsize=SMALL_SIZE)    # fontsize of the tick labels\n",
    "plt.rc('legend', fontsize=SMALL_SIZE)    # legend fontsize\n",
    "plt.rc('figure', titlesize=BIGGER_SIZE)  # fontsize of the figure title\n",
    "\n",
    "#rc('font',**{'family':'serif'})\n",
    "#rc('text', usetex=True)"
   ]
  },
  {
   "cell_type": "code",
   "execution_count": 6,
   "metadata": {},
   "outputs": [],
   "source": [
    "ndim = 2\n",
    "nwaves = 3"
   ]
  },
  {
   "cell_type": "code",
   "execution_count": 19,
   "metadata": {},
   "outputs": [],
   "source": [
    "EL = np.loadtxt('data/2D_historymatch_ellipsoid_samples.txt').reshape((nwaves*8000,3))\n",
    "HC = np.loadtxt('data/2D_historymatch_hypercube_samples.txt').reshape((nwaves*8000,3))\n",
    "HC_r = np.loadtxt('data/2D_historymatch_hypercube_samples.txt').reshape((nwaves*8000,3))\n",
    "#HM_data_EL_12 = np.loadtxt('3D_historymatch_ellipsoid_12z.txt').reshape((nwaves*5000,4))\n",
    "#HM_data_EL_test = np.loadtxt('data/3D_historymatch_ellipsoid_8z_test.txt').reshape((nwaves*5000,4))\n",
    "#HM_data_HC = np.loadtxt('data/3D_historymatch_hypercube.txt').reshape((nwaves*5000,4))\n",
    "\n",
    "HC_w1 = np.loadtxt('data/2D_historymatch_hypercube_w1.txt')\n",
    "HC_w2 = np.loadtxt('data/2D_historymatch_hypercube_w2.txt')\n",
    "HC_w3 = np.loadtxt('data/2D_historymatch_hypercube_w3.txt')\n",
    "\n",
    "EL_w1 = np.loadtxt('data/2D_historymatch_ellipsoid_w1.txt')\n",
    "EL_w2 = np.loadtxt('data/2D_historymatch_ellipsoid_w2.txt')\n",
    "EL_w3 = np.loadtxt('data/2D_historymatch_ellipsoid_w3.txt')\n",
    "\n",
    "HC_r_w1 = np.loadtxt('data/2D_historymatch_hypercube_r_w1.txt')\n",
    "HC_r_w2 = np.loadtxt('data/2D_historymatch_hypercube_r_w2.txt')\n",
    "HC_r_w3 = np.loadtxt('data/2D_historymatch_hypercube_r_w3.txt')\n"
   ]
  },
  {
   "cell_type": "code",
   "execution_count": 9,
   "metadata": {},
   "outputs": [],
   "source": [
    "theta_0_bound = np.array([-1, 1]).reshape(1,-1)\n",
    "theta_1_bound = np.array([-1, 1]).reshape(1,-1)\n",
    "theta_2_bound = np.array([-1, 1]).reshape(1,-1)\n",
    "parameter_bounds = np.concatenate((theta_0_bound, theta_1_bound, theta_2_bound), axis=0)\n",
    "\n",
    "theta_0_vals = np.linspace(parameter_bounds[0,0], parameter_bounds[0,1], 100)\n",
    "theta_1_vals = np.linspace(parameter_bounds[1,0], parameter_bounds[1,1], 100)\n",
    "theta_2_vals = np.linspace(parameter_bounds[2,0], parameter_bounds[2,1], 100)\n",
    "theta_vals = np.concatenate((theta_0_vals.reshape(1,-1), theta_1_vals.reshape(1,-1), theta_2_vals.reshape(1,-1)), axis=0)"
   ]
  },
  {
   "cell_type": "code",
   "execution_count": 10,
   "metadata": {},
   "outputs": [],
   "source": [
    "def get_cov_ellipse(cov, centre, nstd, ax, color):\n",
    "    \"\"\"\n",
    "    Return a matplotlib Ellipse patch representing the covariance matrix\n",
    "    cov centred at centre and scaled by the factor nstd.\n",
    "\n",
    "    \"\"\"\n",
    "\n",
    "    # Find and sort eigenvalues and eigenvectors into descending order\n",
    "    eigvals, eigvecs = np.linalg.eigh(cov)\n",
    "    order = eigvals.argsort()[::-1]\n",
    "    eigvals, eigvecs = eigvals[order], eigvecs[:, order]\n",
    "\n",
    "    # The anti-clockwise angle to rotate our ellipse by \n",
    "    vx, vy = eigvecs[:,0][0], eigvecs[:,0][1]\n",
    "    theta = np.arctan2(vy, vx)\n",
    "\n",
    "    # Width and height of ellipse to draw\n",
    "    width, height = 2 * np.sqrt(5.991*np.abs(eigvals))\n",
    "    \n",
    "    \n",
    "    \n",
    "    t = np.linspace(0, 2*np.pi, 100)\n",
    "    Ell = np.array([0.5*width*np.cos(t) , 0.5*height*np.sin(t)]) \n",
    "    R_rot = np.array([[np.cos(theta) , -np.sin(theta)],[np.sin(theta), np.cos(theta)]])  \n",
    "    Ell_rot = np.zeros((2,Ell.shape[1]))\n",
    "    for i in range(Ell.shape[1]):\n",
    "        Ell_rot[:,i] = np.dot(R_rot,Ell[:,i])\n",
    "    \n",
    "    ax.plot( centre[0]+Ell_rot[0,:] , centre[1]+Ell_rot[1,:], linewidth='3', color=color)"
   ]
  },
  {
   "cell_type": "code",
   "execution_count": 11,
   "metadata": {},
   "outputs": [
    {
     "name": "stdout",
     "output_type": "stream",
     "text": [
      "[-0.2424296   0.10259977]\n",
      "[-0.01198187  0.5039929 ]\n"
     ]
    }
   ],
   "source": [
    "HM_cov_w1 = np.cov(EL_w1.T[:-1])\n",
    "HM_mean_w1 = np.mean(EL_w1.T[:-1], axis=1)\n",
    "\n",
    "HM_cov_w2 = np.cov(EL_w2.T[:-1])\n",
    "HM_mean_w2 = np.mean(EL_w2.T[:-1], axis=1)\n",
    "\n",
    "HM_cov_w3 = np.cov(EL_w3.T[:-1])\n",
    "HM_mean_w3 = np.mean(EL_w3.T[:-1], axis=1)\n",
    "\n",
    "p1 = np.percentile(EL_w3.T[:-1], 2.5, axis=1)\n",
    "p2 = np.percentile(EL_w3.T[:-1], 97.5, axis=1)\n",
    "\n",
    "\n",
    "#HM_cov_12 = np.cov(final_wave_EL_12.T[:-1])\n",
    "#HM_mean_12 = np.mean(final_wave_EL_12.T[:-1], axis=1)\n",
    "\n",
    "#HM_cov_test = np.cov(final_wave_EL_test.T[:-1])\n",
    "#HM_mean_test = np.mean(final_wave_EL_test.T[:-1], axis=1)\n",
    "print(p1)\n",
    "print(p2)"
   ]
  },
  {
   "cell_type": "code",
   "execution_count": null,
   "metadata": {},
   "outputs": [],
   "source": []
  },
  {
   "cell_type": "code",
   "execution_count": 23,
   "metadata": {},
   "outputs": [
    {
     "name": "stdout",
     "output_type": "stream",
     "text": [
      "wave 1 gaussian: 23.299236566764847\n",
      "wave 2 gaussian: 19.3701879596625\n",
      "wave 3 gaussian: 17.436889830140824\n"
     ]
    }
   ],
   "source": [
    "# volume calculations\n",
    "\n",
    "# hyperellipse (https://online.stat.psu.edu/stat505/lesson/4/4.6)\n",
    "    \n",
    "initial_volume = 2**ndim\n",
    "\n",
    "def volume_ellipse(cov, p):\n",
    "    \n",
    "    # find axes lengths\n",
    "    eigvals, eigvecs = np.linalg.eigh(cov)\n",
    "    idx = np.sum(cov).argsort()\n",
    "    eigvals_temp = eigvals[idx]\n",
    "    idx = eigvals_temp.argsort()\n",
    "    eigvals = eigvals[idx]\n",
    "    eigvecs = eigvecs[:,idx]\n",
    "\n",
    "    # Set of all spherical angles to draw our ellipsoid\n",
    "    n_points = 100\n",
    "    theta = np.linspace(0, 2*np.pi, n_points)\n",
    "    phi = np.linspace(0, np.pi, n_points)\n",
    "\n",
    "    # Width, height and depth of ellipsoid\n",
    "    #axes = np.sqrt(12.838) * np.sqrt(eigvals) # 99.5\n",
    "    axes = np.sqrt(7.815) * np.sqrt(eigvals) # 95\n",
    "\n",
    "    \n",
    "    vol = (np.pi**(p/2))*2*np.prod(axes)\n",
    "    \n",
    "    if p == 2:\n",
    "        return np.pi * np.prod(axes)\n",
    "    if p == 3:\n",
    "        return vol / (p * np.sqrt(np.pi)/2)\n",
    "    elif p == 4:\n",
    "        return vol / (p*2)\n",
    "\n",
    "volume_ellipsoid_1 = volume_ellipse(np.cov(EL_w1[:,:-1].T),3)\n",
    "print('wave 1 gaussian: ' + str((volume_ellipsoid_1/initial_volume)*100))\n",
    "\n",
    "volume_ellipsoid_2 = volume_ellipse(np.cov(EL_w2[:,:-1].T),3)\n",
    "print('wave 2 gaussian: ' + str((volume_ellipsoid_2/initial_volume)*100))\n",
    "\n",
    "volume_ellipsoid_3 = volume_ellipse(np.cov(EL_w3[:,:-1].T),3)\n",
    "print('wave 3 gaussian: ' + str((volume_ellipsoid_3/initial_volume)*100))"
   ]
  },
  {
   "cell_type": "code",
   "execution_count": null,
   "metadata": {},
   "outputs": [],
   "source": []
  },
  {
   "cell_type": "code",
   "execution_count": null,
   "metadata": {},
   "outputs": [],
   "source": []
  },
  {
   "cell_type": "code",
   "execution_count": null,
   "metadata": {},
   "outputs": [],
   "source": []
  },
  {
   "cell_type": "code",
   "execution_count": 13,
   "metadata": {},
   "outputs": [
    {
     "name": "stdout",
     "output_type": "stream",
     "text": [
      "wave 1 hypercube: 5.247265625000002\n",
      "wave 2 hypercube: 5.238084877880861\n",
      "wave 3 hypercube: 5.221074197239943\n"
     ]
    }
   ],
   "source": [
    "# hypercube volumes\n",
    "\n",
    "initial_volume = 2**ndim\n",
    "\n",
    "volume_hypercube_1 = 1\n",
    "for i in range(ndim):\n",
    "    min_theta = np.min(HC_w1[:,i].T[:-1])\n",
    "    max_theta = np.max(HC_w1[:,i].T[:-1])\n",
    "    \n",
    "    volume_hypercube_1 *= (max_theta-min_theta)\n",
    "    \n",
    "print('wave 1 hypercube: ' + str((volume_hypercube_1/initial_volume)*100))\n",
    "\n",
    "volume_hypercube_2 = 1\n",
    "for i in range(ndim):\n",
    "    min_theta = np.min(HC_w2[:,i].T[:-1])\n",
    "    max_theta = np.max(HC_w2[:,i].T[:-1])\n",
    "    \n",
    "    volume_hypercube_2 *= (max_theta-min_theta)\n",
    "    \n",
    "print('wave 2 hypercube: ' + str((volume_hypercube_2/initial_volume)*100))\n",
    "\n",
    "volume_hypercube_3 = 1\n",
    "for i in range(ndim):\n",
    "    min_theta = np.min(HC_w3[:,i].T[:-1])\n",
    "    max_theta = np.max(HC_w3[:,i].T[:-1])\n",
    "    \n",
    "    volume_hypercube_3 *= (max_theta-min_theta)\n",
    "    \n",
    "print('wave 3 hypercube: ' + str((volume_hypercube_3/initial_volume)*100))"
   ]
  },
  {
   "cell_type": "code",
   "execution_count": 14,
   "metadata": {},
   "outputs": [
    {
     "name": "stdout",
     "output_type": "stream",
     "text": [
      "wave 1 rotated hypercube: 5.553575153887694\n",
      "wave 2 rotated hypercube: 5.544654657957068\n",
      "wave 3 rotated hypercube: 5.499909793828601\n"
     ]
    }
   ],
   "source": [
    "w1_HC_r_x = 0.34636690584647534\n",
    "w1_HC_r_y = 0.6413517065454605\n",
    "\n",
    "w2_HC_r_x = 0.35244166684235434\n",
    "w2_HC_r_y = 0.6292848070585443\n",
    "\n",
    "w3_HC_r_x = 0.3505354556974782\n",
    "w3_HC_r_y = 0.627600969252614\n",
    "\n",
    "print('wave 1 rotated hypercube: ' + str(((w1_HC_r_x*w1_HC_r_y)/initial_volume)*100))\n",
    "print('wave 2 rotated hypercube: ' + str(((w2_HC_r_x*w2_HC_r_y)/initial_volume)*100))\n",
    "print('wave 3 rotated hypercube: ' + str(((w3_HC_r_x*w3_HC_r_y)/initial_volume)*100))"
   ]
  },
  {
   "cell_type": "code",
   "execution_count": 15,
   "metadata": {},
   "outputs": [],
   "source": [
    "# remaining wave 1 hyper_rot: 301\n",
    "# remaining wave 2 hyper_rot: 4930\n",
    "# "
   ]
  },
  {
   "cell_type": "code",
   "execution_count": 22,
   "metadata": {},
   "outputs": [
    {
     "data": {
      "text/plain": [
       "<matplotlib.collections.PathCollection at 0x7fab19c37670>"
      ]
     },
     "execution_count": 22,
     "metadata": {},
     "output_type": "execute_result"
    },
    {
     "data": {
      "image/png": "[encoded data removed]",
      "text/plain": [
       "<Figure size 432x288 with 1 Axes>"
      ]
     },
     "metadata": {
      "needs_background": "light"
     },
     "output_type": "display_data"
    }
   ],
   "source": [
    "fig, ax = plt.subplots()\n",
    "#ax.scatter(HC[16000:][:,0],HC[16000:][:,1])\n",
    "ax.scatter(HC_r[16000:][:,0],HC_r[16000:][:,1])\n",
    "ax.scatter(EL[16000:][:,0],EL[16000:][:,1])\n"
   ]
  },
  {
   "cell_type": "code",
   "execution_count": null,
   "metadata": {},
   "outputs": [],
   "source": []
  }
 ],
 "metadata": {
  "kernelspec": {
   "display_name": "Python 3",
   "language": "python",
   "name": "python3"
  },
  "language_info": {
   "codemirror_mode": {
    "name": "ipython",
    "version": 3
   },
   "file_extension": ".py",
   "mimetype": "text/x-python",
   "name": "python",
   "nbconvert_exporter": "python",
   "pygments_lexer": "ipython3",
   "version": "3.9.1"
  }
 },
 "nbformat": 4,
 "nbformat_minor": 4
}
