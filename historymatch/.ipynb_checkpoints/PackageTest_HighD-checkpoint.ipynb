{
 "cells": [
  {
   "cell_type": "code",
   "execution_count": 1,
   "metadata": {},
   "outputs": [],
   "source": [
    "# import internal files\n",
    "import emulators\n",
    "import sample\n",
    "import historymatch\n",
    "import plot\n",
    "\n",
    "import numpy as np\n",
    "import matplotlib.pyplot as plt\n",
    "\n",
    "plt.rcParams.update({'font.size': 10})\n",
    "\n",
    "import importlib\n",
    "import time"
   ]
  },
  {
   "cell_type": "code",
   "execution_count": null,
   "metadata": {},
   "outputs": [],
   "source": []
  },
  {
   "cell_type": "code",
   "execution_count": 2,
   "metadata": {},
   "outputs": [],
   "source": [
    "# define parameter space\n",
    "\n",
    "#theta_0_vals = np.linspace(parameter_bounds[0,0], parameter_bounds[0,1], 100)\n",
    "#theta_1_vals = np.linspace(parameter_bounds[1,0], parameter_bounds[1,1], 100)\n",
    "#theta_2_vals = np.linspace(parameter_bounds[2,0], parameter_bounds[2,1], 100)\n",
    "\n",
    "#theta_vals = np.concatenate((theta_0_vals.reshape(1,-1), theta_1_vals.reshape(1,-1), theta_2_vals.reshape(1,-1)), axis=0)"
   ]
  },
  {
   "cell_type": "code",
   "execution_count": 3,
   "metadata": {},
   "outputs": [],
   "source": [
    "parameter_bounds = np.ones((10,2))\n",
    "parameter_bounds[:,0] = -parameter_bounds[:,0]"
   ]
  },
  {
   "cell_type": "code",
   "execution_count": 4,
   "metadata": {},
   "outputs": [],
   "source": [
    "Nx = 4\n",
    "\n",
    "def toy_model6D(theta_1, theta_2, theta_3, theta_4, theta_5, theta_6):\n",
    "    \n",
    "    x_bound = np.array([0.1, 1])\n",
    "    Nx = 4\n",
    "    xvals = np.linspace(x_bound[0], x_bound[-1], Nx)\n",
    "\n",
    "    outputs =  []\n",
    "    for x in xvals:\n",
    "        output = theta_1 + theta_2*(x) + (theta_3**1)*(x**2) + theta_4*(x**3) \\\n",
    "               + theta_5*(10*x**4) + theta_6*(1/x)\n",
    "        outputs.append(output)\n",
    "    for x in xvals:\n",
    "        output = theta_1 + theta_2*np.sin(x) + theta_3*np.sin(2*x) + (theta_4**1)*np.cos(x) \\\n",
    "               + theta_5*np.cos(2*x) - theta_6*(np.cos(x)*np.sin(x))\n",
    "        outputs.append(output)\n",
    "    return np.array(outputs)\n",
    "\n",
    "def toy_model3D(theta_1, theta_2, theta_3):\n",
    "    \n",
    "    x_bound = np.array([0.1, 1])\n",
    "    Nx = 4\n",
    "    xvals = np.linspace(x_bound[0], x_bound[-1], Nx)\n",
    "\n",
    "    outputs =  []\n",
    "    for x in xvals:\n",
    "        output = theta_1 + theta_2*(x) + (theta_3**1)*(x**2)\n",
    "        outputs.append(output)\n",
    "    for x in xvals:\n",
    "        output = theta_1 + theta_2*np.sin(x) + theta_3*np.cos(2*x)\n",
    "        outputs.append(output)\n",
    "    return np.array(outputs)"
   ]
  },
  {
   "cell_type": "code",
   "execution_count": 5,
   "metadata": {},
   "outputs": [
    {
     "name": "stdout",
     "output_type": "stream",
     "text": [
      "[ 1.45757908  0.48138957  0.79704403  2.11769792 -0.52145734 -0.23948317\n",
      "  0.03124162  0.12893472]\n"
     ]
    }
   ],
   "source": [
    "# generate observational data with some uncertainty\n",
    "true_parameters_3D = [-0.1, 0.3, 0.6]\n",
    "true_parameters_6D = [-0.1, 0.3, 0.6, -0.8, 0.2, 0.15]\n",
    "\n",
    "var_obs = 0.001 # observational uncertainty variance\n",
    "\n",
    "error_obs = np.random.normal(0, np.sqrt(var_obs), 2*Nx)\n",
    "\n",
    "obs_data = toy_model6D(*true_parameters_6D) + error_obs\n",
    "\n",
    "print(obs_data)"
   ]
  },
  {
   "cell_type": "code",
   "execution_count": 6,
   "metadata": {},
   "outputs": [],
   "source": [
    "nwaves = 4\n",
    "ndim = 6"
   ]
  },
  {
   "cell_type": "code",
   "execution_count": 7,
   "metadata": {},
   "outputs": [],
   "source": [
    "importlib.reload(historymatch)\n",
    "\n",
    "\n",
    "\n",
    "# initialise history matching class\n",
    "HM = historymatch.HistoryMatch(obs_data,\n",
    "                               ndim, 'GP', 'ellipsoid')"
   ]
  },
  {
   "cell_type": "code",
   "execution_count": 8,
   "metadata": {
    "scrolled": true
   },
   "outputs": [],
   "source": [
    "\n",
    "\n",
    "ToyModel = historymatch.Simulator(HM)\n",
    "ToyModel.set_simulator(toy_model6D)\n",
    "\n",
    "HM.set_observations(obs_data, np.sqrt(var_obs))\n",
    "HM.initialize_volume(parameter_bounds[:,0], parameter_bounds[:,1])\n",
    "\n"
   ]
  },
  {
   "cell_type": "code",
   "execution_count": 9,
   "metadata": {},
   "outputs": [
    {
     "name": "stdout",
     "output_type": "stream",
     "text": [
      "(10, 2)\n",
      "(10, 2)\n",
      "Running wave 1\n",
      "Emulating...\n",
      "0.2171927004572682\n",
      "0.03162277660168379\n",
      "Emulating...\n",
      "0.2171927004572682\n",
      "0.03162277660168379\n",
      "Emulating...\n",
      "0.2171927004572682\n",
      "0.03162277660168379\n",
      "Emulating...\n",
      "0.2171927004572682\n",
      "0.03162277660168379\n",
      "Emulating...\n",
      "0.2171927004572682\n",
      "0.03162277660168379\n",
      "Emulating...\n",
      "0.2171927004572682\n",
      "0.03162277660168379\n",
      "Emulating...\n",
      "0.2171927004572682\n",
      "0.03162277660168379\n",
      "Emulating...\n",
      "0.2171927004572682\n",
      "0.03162277660168379\n",
      "[[ 0.9986  0.3834 -0.1678 -0.7838  0.9246  0.915 ]\n",
      " [ 0.6026 -0.4874  0.4898  0.9946  0.9746  0.3898]\n",
      " [-0.8406  0.921  -0.539  -0.063   0.6934  0.0174]\n",
      " ...\n",
      " [-0.6762  0.1354  0.9514 -0.1862  0.9522  0.7098]\n",
      " [-0.4734  0.5042  0.2406  0.9506  0.5966  0.293 ]\n",
      " [-0.6142  0.049   0.3522 -0.9038  0.2162  0.599 ]]\n",
      "Relative nonimplausible volume remaining: 0.714\n",
      "Running wave 2\n",
      "Emulating...\n",
      "0.174613025275535\n",
      "0.03162277660168379\n",
      "Emulating...\n",
      "0.174613025275535\n",
      "0.03162277660168379\n",
      "Emulating...\n",
      "0.174613025275535\n",
      "0.03162277660168379\n",
      "Emulating...\n",
      "0.174613025275535\n",
      "0.03162277660168379\n",
      "Emulating...\n",
      "0.174613025275535\n",
      "0.03162277660168379\n",
      "Emulating...\n",
      "0.174613025275535\n",
      "0.03162277660168379\n",
      "Emulating...\n",
      "0.174613025275535\n",
      "0.03162277660168379\n",
      "Emulating...\n",
      "0.174613025275535\n",
      "0.03162277660168379\n",
      "[[-0.97183566 -0.02452924  0.78919667 -0.50690492  0.18811058  0.35980154]\n",
      " [-0.98743645  0.04176554 -0.09665765 -0.9786822   0.68910754  0.20469386]\n",
      " [-0.53375284 -0.2320654  -0.27900564 -0.96122237  0.4756398   0.49383137]\n",
      " ...\n",
      " [-0.46864509  0.28654947  0.65978844  0.16143164 -0.05388397  0.25437628]\n",
      " [-0.12541397  0.97349105  0.63114149  0.13427862  0.31276255  0.31987962]\n",
      " [-0.87013865 -0.24057668  0.12370299  0.20791314  0.70850454  0.85697148]]\n",
      "Relative nonimplausible volume remaining: 0.566\n",
      "Running wave 3\n",
      "Emulating...\n",
      "0.1445283501487907\n",
      "0.03162277660168379\n",
      "Emulating...\n",
      "0.1445283501487907\n",
      "0.03162277660168379\n",
      "Emulating...\n",
      "0.1445283501487907\n",
      "0.03162277660168379\n",
      "Emulating...\n",
      "0.1445283501487907\n",
      "0.03162277660168379\n",
      "Emulating...\n",
      "0.1445283501487907\n",
      "0.03162277660168379\n",
      "Emulating...\n",
      "0.1445283501487907\n",
      "0.03162277660168379\n",
      "Emulating...\n",
      "0.1445283501487907\n",
      "0.03162277660168379\n",
      "Emulating...\n",
      "0.1445283501487907\n",
      "0.03162277660168379\n",
      "[[-0.99038395  0.08822411  0.27055538  0.58438389 -0.1146969   0.3201144 ]\n",
      " [ 0.26078255  0.81456766  0.09185719  0.56761354  0.33358754  0.33043004]\n",
      " [ 0.55911315  0.76060951 -0.4190074  -0.14152286  0.65770963 -0.08000722]\n",
      " ...\n",
      " [-0.6567816   0.12821126 -0.56224364  0.66021858  0.41633015  0.39605622]\n",
      " [-0.90668837  0.44369985  0.43702944  0.87242323  0.02795729  0.05285353]\n",
      " [-0.7345721   0.56004852 -0.02495651  0.31141035  0.10349947  0.30121796]]\n",
      "Relative nonimplausible volume remaining: 0.467\n",
      "Running wave 4\n",
      "Emulating...\n",
      "0.142122348023508\n",
      "0.03162277660168379\n",
      "Emulating...\n",
      "0.142122348023508\n",
      "0.03162277660168379\n",
      "Emulating...\n",
      "0.142122348023508\n",
      "0.03162277660168379\n",
      "Emulating...\n",
      "0.142122348023508\n",
      "0.03162277660168379\n",
      "Emulating...\n",
      "0.142122348023508\n",
      "0.03162277660168379\n",
      "Emulating...\n",
      "0.142122348023508\n",
      "0.03162277660168379\n",
      "Emulating...\n",
      "0.142122348023508\n",
      "0.03162277660168379\n",
      "Emulating...\n",
      "0.142122348023508\n",
      "0.03162277660168379\n",
      "[[ 0.55375751  0.29382605  0.21367889 -0.81613068  0.54812812 -0.05531014]\n",
      " [ 0.7020148   0.59899113  0.39329433 -0.98685436  0.20528105 -0.12751888]\n",
      " [-0.90705689  0.7601904  -0.79233965  0.9425351   0.02393419  0.29500275]\n",
      " ...\n",
      " [ 0.43576206 -0.13771999  0.78285814 -0.81525692  0.58615708  0.25811036]\n",
      " [-0.30004989 -0.69051073  0.34100359 -0.26406446  0.52177921 -0.12762134]\n",
      " [-0.39888369  0.77003584  0.51599452 -0.63450927  0.28643597 -0.24195629]]\n",
      "Relative nonimplausible volume remaining: 0.548\n"
     ]
    }
   ],
   "source": [
    "start = time.time()\n",
    "results = HM.run(nwaves=nwaves)"
   ]
  },
  {
   "cell_type": "code",
   "execution_count": 10,
   "metadata": {},
   "outputs": [
    {
     "name": "stdout",
     "output_type": "stream",
     "text": [
      "58.0067880153656\n"
     ]
    }
   ],
   "source": [
    "end = time.time()\n",
    "print(end - start)"
   ]
  },
  {
   "cell_type": "code",
   "execution_count": 11,
   "metadata": {},
   "outputs": [
    {
     "data": {
      "text/plain": [
       "<matplotlib.collections.PathCollection at 0x7f84571caf40>"
      ]
     },
     "execution_count": 11,
     "metadata": {},
     "output_type": "execute_result"
    },
    {
     "data": {
      "image/png": "[encoded data removed]",
      "text/plain": [
       "<Figure size 720x720 with 36 Axes>"
      ]
     },
     "metadata": {
      "needs_background": "light"
     },
     "output_type": "display_data"
    }
   ],
   "source": [
    "importlib.reload(plot)\n",
    "\n",
    "fig, axes = plt.subplots(ndim,ndim,figsize=(10,10))\n",
    "#plot.opticaldepth_1D(results.samples[0], parameter_bounds[0], parameter = 0, bins=20, Fig=(fig,ax1))\n",
    "    \n",
    "#plot.plot_implausibility2D(results.samples[0], parameter_bounds, [0,1], bins=20)\n",
    "\n",
    "plot.plotcorner(results.samples[3], parameter_bounds, ndim, Fig=(fig,axes))\n",
    "axes[1,0].scatter(true_parameters_3D[0],true_parameters_3D[1], color='red')\n",
    "axes[2,0].scatter(true_parameters_3D[0],true_parameters_3D[2], color='red')\n",
    "axes[2,1].scatter(true_parameters_3D[1],true_parameters_3D[2], color='red')\n",
    "\n",
    "#plt.savefig('6D.png')"
   ]
  },
  {
   "cell_type": "code",
   "execution_count": 12,
   "metadata": {},
   "outputs": [],
   "source": [
    "#fig = plt.figure(figsize=(10,8))\n",
    "#ax = plt.axes(projection='3d')\n",
    "\n",
    "#theta_test = results.test_pts\n",
    "#nonimp = results.regions\n",
    "\n",
    "#ax.scatter(theta_test[2][:,0], theta_test[2][:,1], theta_test[2][:,2], s=3, color='blue', alpha=0.1)\n",
    "#ax.scatter(nonimp[1][:,0], nonimp[1][:,1], nonimp[1][:,2], color='red')\n",
    "\n",
    "#print(np.max(theta_test[1][:,0]))\n",
    "#print(np.max(nonimp[1][:,0]))\n",
    "\n",
    "\n",
    "\n"
   ]
  },
  {
   "cell_type": "code",
   "execution_count": 13,
   "metadata": {},
   "outputs": [
    {
     "ename": "NameError",
     "evalue": "name 'model_eqn_1' is not defined",
     "output_type": "error",
     "traceback": [
      "\u001b[0;31m---------------------------------------------------------------------------\u001b[0m",
      "\u001b[0;31mNameError\u001b[0m                                 Traceback (most recent call last)",
      "\u001b[0;32m<ipython-input-13-59d58b1e3783>\u001b[0m in \u001b[0;36m<module>\u001b[0;34m\u001b[0m\n\u001b[1;32m      8\u001b[0m \u001b[0mX_3D\u001b[0m \u001b[0;34m=\u001b[0m \u001b[0mnp\u001b[0m\u001b[0;34m.\u001b[0m\u001b[0mc_\u001b[0m\u001b[0;34m[\u001b[0m\u001b[0mgx\u001b[0m\u001b[0;34m.\u001b[0m\u001b[0mravel\u001b[0m\u001b[0;34m(\u001b[0m\u001b[0;34m)\u001b[0m\u001b[0;34m,\u001b[0m \u001b[0mgy\u001b[0m\u001b[0;34m.\u001b[0m\u001b[0mravel\u001b[0m\u001b[0;34m(\u001b[0m\u001b[0;34m)\u001b[0m\u001b[0;34m,\u001b[0m \u001b[0mgz\u001b[0m\u001b[0;34m.\u001b[0m\u001b[0mravel\u001b[0m\u001b[0;34m(\u001b[0m\u001b[0;34m)\u001b[0m\u001b[0;34m]\u001b[0m\u001b[0;34m\u001b[0m\u001b[0;34m\u001b[0m\u001b[0m\n\u001b[1;32m      9\u001b[0m \u001b[0;34m\u001b[0m\u001b[0m\n\u001b[0;32m---> 10\u001b[0;31m \u001b[0mY_3D_train\u001b[0m \u001b[0;34m=\u001b[0m \u001b[0mmodel_eqn_1\u001b[0m\u001b[0;34m(\u001b[0m\u001b[0;36m0.1\u001b[0m\u001b[0;34m,\u001b[0m \u001b[0mX_3D_train\u001b[0m\u001b[0;34m[\u001b[0m\u001b[0;34m:\u001b[0m\u001b[0;34m,\u001b[0m\u001b[0;36m0\u001b[0m\u001b[0;34m]\u001b[0m\u001b[0;34m,\u001b[0m \u001b[0mX_3D_train\u001b[0m\u001b[0;34m[\u001b[0m\u001b[0;34m:\u001b[0m\u001b[0;34m,\u001b[0m\u001b[0;36m1\u001b[0m\u001b[0;34m]\u001b[0m\u001b[0;34m,\u001b[0m \u001b[0mX_3D_train\u001b[0m\u001b[0;34m[\u001b[0m\u001b[0;34m:\u001b[0m\u001b[0;34m,\u001b[0m\u001b[0;36m2\u001b[0m\u001b[0;34m]\u001b[0m\u001b[0;34m)\u001b[0m\u001b[0;34m\u001b[0m\u001b[0;34m\u001b[0m\u001b[0m\n\u001b[0m",
      "\u001b[0;31mNameError\u001b[0m: name 'model_eqn_1' is not defined"
     ]
    }
   ],
   "source": [
    "X_3D_train = np.random.uniform(-1, 1, (20, 3))\n",
    "\n",
    "X_3D_test = np.random.uniform(-1, 1, (5000, 3))\n",
    "\n",
    "rx, ry, rz = np.linspace(-1, 1, 20), np.linspace(-1, 1, 20), np.linspace(-1, 1, 20)\n",
    "gx, gy, gz = np.meshgrid(rx, ry, rz)\n",
    "\n",
    "X_3D = np.c_[gx.ravel(), gy.ravel(), gz.ravel()]\n",
    "\n",
    "Y_3D_train = model_eqn_1(0.1, X_3D_train[:,0], X_3D_train[:,1], X_3D_train[:,2])"
   ]
  },
  {
   "cell_type": "code",
   "execution_count": null,
   "metadata": {},
   "outputs": [],
   "source": [
    "Y_3D_test = model_eqn_1(0.1, X_3D_test[:,0], X_3D_test[:,1], X_3D_test[:,2])"
   ]
  },
  {
   "cell_type": "code",
   "execution_count": null,
   "metadata": {},
   "outputs": [],
   "source": [
    "#print(Y_3D_test)"
   ]
  },
  {
   "cell_type": "code",
   "execution_count": null,
   "metadata": {},
   "outputs": [],
   "source": [
    "importlib.reload(emulators)\n",
    "GP = emulators.Gaussian_Process(X_3D_train, X_3D_test, Y_3D_train)\n",
    "mu1, cov1, sd1 = GP.emulate()\n",
    "print(GP.sigma_f)\n",
    "#print(mu1)"
   ]
  },
  {
   "cell_type": "code",
   "execution_count": null,
   "metadata": {},
   "outputs": [],
   "source": [
    "GP.optimize()"
   ]
  },
  {
   "cell_type": "code",
   "execution_count": null,
   "metadata": {},
   "outputs": [],
   "source": [
    "mu2, cov2, sd2 = GP.emulate()\n",
    "print(GP.l)\n",
    "\n",
    "z = -0.06387078"
   ]
  },
  {
   "cell_type": "code",
   "execution_count": null,
   "metadata": {},
   "outputs": [],
   "source": [
    "print(sd1[0])\n",
    "print(sd2[0])\n",
    "print(mu1 - Y_3D_test)\n",
    "print(mu2 - Y_3D_test)"
   ]
  },
  {
   "cell_type": "code",
   "execution_count": null,
   "metadata": {},
   "outputs": [],
   "source": [
    "HMtest = historymatch.HistoryMatch(z,\n",
    "                               3, 'GP', 'ellipsoid')"
   ]
  },
  {
   "cell_type": "code",
   "execution_count": null,
   "metadata": {},
   "outputs": [],
   "source": [
    "imp1 = HMtest.implausibility(mu1, z, sd1, 0, var_obs)\n",
    "imp2 = HMtest.implausibility(mu2, z, sd2, 0, var_obs)\n",
    "print(imp1)\n",
    "print(imp2)"
   ]
  },
  {
   "cell_type": "code",
   "execution_count": null,
   "metadata": {},
   "outputs": [],
   "source": [
    "samp1 = np.concatenate((X_3D_test, imp1.reshape(-1,1)), axis=1)\n",
    "samp2 = np.concatenate((X_3D_test, imp2.reshape(-1,1)), axis=1)"
   ]
  },
  {
   "cell_type": "code",
   "execution_count": null,
   "metadata": {},
   "outputs": [],
   "source": []
  },
  {
   "cell_type": "code",
   "execution_count": null,
   "metadata": {},
   "outputs": [],
   "source": [
    "fig, (ax1, ax2) = plt.subplots(1,2, figsize=(15,7))\n",
    "\n",
    "plot.plot_implausibility2D(samp1, parameter_bounds, [0,1], bins=20, Fig=(fig, ax1), colorbar=False, \n",
    "                            labels=None, plot_kwargs=None)\n",
    "plot.plot_implausibility2D(samp2, parameter_bounds, [0,1], bins=20, Fig=(fig, ax2), colorbar=False, \n",
    "                            labels=None, plot_kwargs=None)"
   ]
  },
  {
   "cell_type": "code",
   "execution_count": null,
   "metadata": {},
   "outputs": [],
   "source": []
  },
  {
   "cell_type": "code",
   "execution_count": null,
   "metadata": {},
   "outputs": [],
   "source": []
  }
 ],
 "metadata": {
  "kernelspec": {
   "display_name": "Python 3",
   "language": "python",
   "name": "python3"
  },
  "language_info": {
   "codemirror_mode": {
    "name": "ipython",
    "version": 3
   },
   "file_extension": ".py",
   "mimetype": "text/x-python",
   "name": "python",
   "nbconvert_exporter": "python",
   "pygments_lexer": "ipython3",
   "version": "3.8.8"
  }
 },
 "nbformat": 4,
 "nbformat_minor": 4
}
