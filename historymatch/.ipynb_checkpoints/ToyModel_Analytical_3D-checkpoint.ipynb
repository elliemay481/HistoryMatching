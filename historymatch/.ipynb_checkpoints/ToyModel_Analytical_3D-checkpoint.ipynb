{
 "cells": [
  {
   "cell_type": "code",
   "execution_count": 1,
   "metadata": {},
   "outputs": [],
   "source": [
    "import numpy as np\n",
    "import matplotlib.pyplot as plt\n",
    "import random\n",
    "from matplotlib.patches import Ellipse\n",
    "\n",
    "from scipy.interpolate import griddata\n",
    "\n",
    "plt.rcParams.update({'font.size': 12})\n",
    "\n",
    "np.random.seed(4)\n",
    "\n",
    "from scipy import stats\n",
    "from scipy.stats import norm, uniform\n",
    "import scipy.optimize\n",
    "from numpy.linalg import inv, det"
   ]
  },
  {
   "cell_type": "code",
   "execution_count": 2,
   "metadata": {},
   "outputs": [],
   "source": [
    "# import internal files\n",
    "import emulators\n",
    "import utils\n",
    "import historymatch\n",
    "import plot"
   ]
  },
  {
   "cell_type": "code",
   "execution_count": 25,
   "metadata": {},
   "outputs": [],
   "source": [
    "def model_eqn_1(x, theta_0, theta_1, theta_2):\n",
    "    return theta_0 + theta_1*(x) + theta_2*(x**2)\n",
    "    \n",
    "function1 = np.vectorize(model_eqn_1)"
   ]
  },
  {
   "cell_type": "code",
   "execution_count": 26,
   "metadata": {},
   "outputs": [],
   "source": [
    "def model_eqn_2(x, theta_0, theta_1, theta_2):\n",
    "    return theta_0 - theta_1*np.sin(x) + theta_2*np.cos(x)\n",
    "\n",
    "function2 = np.vectorize(model_eqn_2)"
   ]
  },
  {
   "cell_type": "code",
   "execution_count": 27,
   "metadata": {},
   "outputs": [],
   "source": [
    "def model_eqn_1(x, theta_0, theta_1, theta_2):\n",
    "    return theta_0 + theta_1*(x) + theta_2*(x**2)\n",
    "    \n",
    "function3 = np.vectorize(model_eqn_1)"
   ]
  },
  {
   "cell_type": "code",
   "execution_count": 28,
   "metadata": {},
   "outputs": [],
   "source": [
    "def toy_model3D(theta_1, theta_2, theta_3):\n",
    "    \n",
    "    x_bound = np.array([0.1, 1])\n",
    "    Nx = 8\n",
    "    xvals = np.linspace(x_bound[0], x_bound[-1], Nx)\n",
    "\n",
    "    outputs =  []\n",
    "    for x in xvals:\n",
    "        output = theta_1 + theta_2*(x) + theta_3*(x**2)\n",
    "        outputs.append(output)\n",
    "    for x in xvals:\n",
    "        output = theta_1 - theta_2*np.sin(x) + theta_3*np.cos(x)\n",
    "        outputs.append(output)\n",
    "        \n",
    "    return np.array(outputs)"
   ]
  },
  {
   "cell_type": "code",
   "execution_count": 29,
   "metadata": {},
   "outputs": [],
   "source": [
    "# define parameter space\n",
    "x_bound = np.array([0.1, 1])\n",
    "Nx = 8\n",
    "xvals = np.linspace(x_bound[0], x_bound[-1], Nx)\n",
    "\n",
    "theta_0_bound = np.array([-1, 1]).reshape(1,-1)\n",
    "theta_1_bound = np.array([-1, 1]).reshape(1,-1)\n",
    "theta_2_bound = np.array([-1, 1]).reshape(1,-1)\n",
    "\n",
    "parameter_bounds = np.concatenate((theta_0_bound, theta_1_bound, theta_2_bound), axis=0)\n",
    "\n",
    "#parameter_bounds = np.concatenate((theta_0_bound, theta_1_bound), axis=0)\n",
    "\n",
    "theta_0_vals = np.linspace(parameter_bounds[0,0], parameter_bounds[0,1], 100)\n",
    "theta_1_vals = np.linspace(parameter_bounds[1,0], parameter_bounds[1,1], 100)\n",
    "theta_2_vals = np.linspace(parameter_bounds[2,0], parameter_bounds[2,1], 100)\n",
    "\n",
    "\n",
    "theta_vals = np.concatenate((theta_0_vals.reshape(1,-1), theta_1_vals.reshape(1,-1), theta_2_vals.reshape(1,-1)), axis=0)\n",
    "\n",
    "#theta_vals = np.concatenate((theta_0_vals.reshape(1,-1), theta_1_vals.reshape(1,-1)), axis=0)\n",
    "\n"
   ]
  },
  {
   "cell_type": "code",
   "execution_count": 7,
   "metadata": {},
   "outputs": [
    {
     "name": "stdout",
     "output_type": "stream",
     "text": [
      "[ 0.00505617  0.05370438 -0.11517987  0.08638074 -0.05603154 -0.22783178\n",
      " -0.09971539  0.09840515  0.04341379 -0.14397236  0.07398215 -0.00994302\n",
      "  0.04494218  0.03247058 -0.10291294  0.0278502 ]\n"
     ]
    }
   ],
   "source": [
    "# generate observational data with some uncertainty\n",
    "true_parameters = [-0.1, 0.3, 0.4]\n",
    "true_parameters_2 = [-0.1, 0.3, -0.4]\n",
    "\n",
    "output_ratio = (toy_model3D(-1,-1,-1) - toy_model3D(1,1,1)) / (toy_model3D(-1,-1,-1) - toy_model3D(1,1,1))[0]\n",
    "\n",
    "var_obs = output_ratio*0.01 # observational uncertainty variance\n",
    "\n",
    "error_obs = np.zeros(2*Nx)\n",
    "for i in range(2*Nx):\n",
    "    error_obs[i] = np.random.normal(0, np.sqrt(var_obs[i]))\n",
    "\n",
    "print(error_obs)\n",
    "obs_data = toy_model3D(*true_parameters) + error_obs\n"
   ]
  },
  {
   "cell_type": "code",
   "execution_count": 8,
   "metadata": {},
   "outputs": [
    {
     "name": "stdout",
     "output_type": "stream",
     "text": [
      "0.1\n",
      "[-0.06068873  0.15469793  0.07233416  0.00461356 -0.09829917  0.00544327\n",
      "  0.01598929 -0.12089482]\n"
     ]
    }
   ],
   "source": [
    "# for testing: true datapoints\n",
    "true_parameters = [-0.1, 0.3, 0.4]\n",
    "ndim = len(true_parameters)\n",
    "\n",
    "var_exp_f1 = 0.01        # observational uncertainty variance\n",
    "var_exp_f2 = 0.01\n",
    "\n",
    "print(np.sqrt(var_exp_f1))\n",
    "\n",
    "error_f1 = np.random.normal(0, np.sqrt(var_exp_f1), len(xvals))\n",
    "error_f2 = np.random.normal(0, np.sqrt(var_exp_f2), len(xvals))\n",
    "\n",
    "#z_1 = function1(xvals, true_parameters[0], true_parameters[1], true_parameters[2])+ np.random.normal(0, var_exp_f1) # observed datapoint\n",
    "z_1 = function1(xvals, true_parameters[0], true_parameters[1], true_parameters[2]) + error_f1 # observed datapoint\n",
    "\n",
    "z_2 = function2(xvals, true_parameters[0], true_parameters[1], true_parameters[2]) + error_f2  # observed datapoint\n",
    "\n",
    "#z_1 = function1(xvals, true_parameters[0], true_parameters[1]) + error_f1 # observed datapoint\n",
    "#z_2 = function2(xvals, true_parameters[0], true_parameters[1]) + error_f2  # observed datapoint\n",
    "\n",
    "print(error_f1)\n",
    "#error_obs[:Nx]"
   ]
  },
  {
   "cell_type": "code",
   "execution_count": 9,
   "metadata": {},
   "outputs": [],
   "source": [
    "#obs_data_all = toy_model3D(*true_parameters) + error_f1"
   ]
  },
  {
   "cell_type": "code",
   "execution_count": 10,
   "metadata": {},
   "outputs": [
    {
     "data": {
      "text/plain": [
       "Text(0, 0.5, '$z_{2}$')"
      ]
     },
     "execution_count": 10,
     "metadata": {},
     "output_type": "execute_result"
    },
    {
     "data": {
      "image/png": "[encoded data removed]",
      "text/plain": [
       "<Figure size 720x360 with 2 Axes>"
      ]
     },
     "metadata": {
      "needs_background": "light"
     },
     "output_type": "display_data"
    }
   ],
   "source": [
    "fig, (ax1, ax2) = plt.subplots(1,2, figsize=(10,5))\n",
    "\n",
    "\n",
    "ax1.plot(xvals, z_1)\n",
    "ax2.plot(xvals, z_2)\n",
    "\n",
    "ax1.set_title('Observational Data, Function 1')\n",
    "ax1.set_title('Observational Data, Function 2')\n",
    "\n",
    "ax1.set_xlabel('x')\n",
    "ax1.set_ylabel(r'$z_{1}$')\n",
    "ax1.set_xlabel('x')\n",
    "ax1.set_ylabel(r'$z_{2}$')"
   ]
  },
  {
   "cell_type": "code",
   "execution_count": 11,
   "metadata": {},
   "outputs": [
    {
     "name": "stdout",
     "output_type": "stream",
     "text": [
      "[[1.         0.1        0.01      ]\n",
      " [1.         0.22857143 0.0522449 ]\n",
      " [1.         0.35714286 0.12755102]\n",
      " [1.         0.48571429 0.23591837]\n",
      " [1.         0.61428571 0.37734694]\n",
      " [1.         0.74285714 0.55183673]\n",
      " [1.         0.87142857 0.75938776]\n",
      " [1.         1.         1.        ]]\n"
     ]
    }
   ],
   "source": [
    "def design_matrix_f1(x, p=3):\n",
    "    X_d = np.zeros((len(x),p))\n",
    "    for i in range(p):\n",
    "        X_d[:,i] = x**i\n",
    "    return X_d\n",
    "\n",
    "def design_matrix_f2(x, p=3):\n",
    "    X_d = np.zeros((len(x),p))\n",
    "    X_d[:,0] = 1\n",
    "    X_d[:,1] = -np.sin(x)\n",
    "    X_d[:,2] = np.cos(x)\n",
    "    return X_d\n",
    "\n",
    "\n",
    "# Create design matrix\n",
    "X1 = design_matrix_f1(xvals, p=3)\n",
    "print(X1)\n",
    "X2 = design_matrix_f2(xvals, p=3)\n"
   ]
  },
  {
   "cell_type": "code",
   "execution_count": 12,
   "metadata": {},
   "outputs": [],
   "source": [
    "def A_matrix(X_d, variance):\n",
    "    for i in range(X_d.shape[0]):\n",
    "        X_d[i] = X_d[i] / np.sqrt(variance)\n",
    "    return X_d"
   ]
  },
  {
   "cell_type": "code",
   "execution_count": 13,
   "metadata": {},
   "outputs": [],
   "source": [
    "A1 = A_matrix(X1, var_exp_f1)\n",
    "b1 = z_1 / np.sqrt(var_exp_f1)\n",
    "\n",
    "A2 = A_matrix(X2, var_exp_f2)\n",
    "b2 = z_2 / np.sqrt(var_exp_f2)"
   ]
  },
  {
   "cell_type": "code",
   "execution_count": 14,
   "metadata": {},
   "outputs": [],
   "source": [
    "def solve_theta(A, b):\n",
    "    theta_best = ((np.linalg.inv(A.T.dot(A))).dot(A.T)).dot(b)\n",
    "    return theta_best.flatten()"
   ]
  },
  {
   "cell_type": "code",
   "execution_count": 15,
   "metadata": {},
   "outputs": [
    {
     "ename": "NameError",
     "evalue": "name 'thet' is not defined",
     "output_type": "error",
     "traceback": [
      "\u001b[0;31m---------------------------------------------------------------------------\u001b[0m",
      "\u001b[0;31mNameError\u001b[0m                                 Traceback (most recent call last)",
      "\u001b[0;32m<ipython-input-15-247cd2d6412b>\u001b[0m in \u001b[0;36m<module>\u001b[0;34m\u001b[0m\n\u001b[0;32m----> 1\u001b[0;31m \u001b[0mprint\u001b[0m\u001b[0;34m(\u001b[0m\u001b[0mthet\u001b[0m\u001b[0;34m)\u001b[0m\u001b[0;34m\u001b[0m\u001b[0;34m\u001b[0m\u001b[0m\n\u001b[0m",
      "\u001b[0;31mNameError\u001b[0m: name 'thet' is not defined"
     ]
    }
   ],
   "source": [
    "\n",
    "print(thet)\n"
   ]
  },
  {
   "cell_type": "code",
   "execution_count": 16,
   "metadata": {},
   "outputs": [],
   "source": [
    "def H_matrix(A):\n",
    "    return np.linalg.inv(A.T.dot(A))"
   ]
  },
  {
   "cell_type": "code",
   "execution_count": 17,
   "metadata": {},
   "outputs": [],
   "source": [
    "def covariance(X_d, variance):\n",
    "    return variance*np.linalg.inv(X_d.T.dot(X_d))"
   ]
  },
  {
   "cell_type": "code",
   "execution_count": 18,
   "metadata": {},
   "outputs": [],
   "source": [
    "cov_matrix_f1 = covariance(X1, var_exp_f1)\n",
    "cov_matrix_f2 = covariance(X2, var_exp_f2)\n",
    "theta_f1 = solve_theta(A1, b1)\n",
    "theta_f2 = solve_theta(A2, b2)\n",
    "\n",
    "true_thetas = [theta_f1, theta_f2]\n",
    "\n",
    "\n",
    "H1 = H_matrix(A1)\n",
    "H2 = H_matrix(A2)\n"
   ]
  },
  {
   "cell_type": "code",
   "execution_count": 19,
   "metadata": {},
   "outputs": [
    {
     "name": "stdout",
     "output_type": "stream",
     "text": [
      "[[ 0.00277993 -0.00051504 -0.00355456]\n",
      " [-0.00051504  0.00189196  0.00077661]\n",
      " [-0.00355456  0.00077661  0.00586626]]\n",
      "[[ 0.00277993 -0.00051504 -0.00355456]\n",
      " [-0.00051504  0.00189196  0.00077661]\n",
      " [-0.00355456  0.00077661  0.00586626]]\n",
      "[[ 0.00277993 -0.00051504 -0.00355456]\n",
      " [-0.00051504  0.00189196  0.00077661]\n",
      " [-0.00355456  0.00077661  0.00586626]]\n"
     ]
    }
   ],
   "source": [
    "# calculate product of posteriors\n",
    "H3 = inv(inv(H1) + inv(H2))\n",
    "\n",
    "H32 =  H1.dot( inv(H1 + H2).dot(H2) )\n",
    "\n",
    "L1 = inv(np.linalg.cholesky(H1 + H2)).dot(H1)\n",
    "L2 = inv(np.linalg.cholesky(H1 + H2)).dot(H2)\n",
    "\n",
    "H33 = np.dot(L1.T, L2)\n",
    "\n",
    "TM_mean = np.dot(np.dot(H3,inv(H1)),theta_f1) + np.dot(np.dot(H3,inv(H2)),theta_f2)\n",
    "\n",
    "print(H3)\n",
    "print(H32)\n",
    "print(H33)"
   ]
  },
  {
   "cell_type": "code",
   "execution_count": 20,
   "metadata": {},
   "outputs": [],
   "source": [
    "def get_cov_ellipse(cov, centre, nstd, ax, color):\n",
    "    \"\"\"\n",
    "    Return a matplotlib Ellipse patch representing the covariance matrix\n",
    "    cov centred at centre and scaled by the factor nstd.\n",
    "\n",
    "    \"\"\"\n",
    "\n",
    "    # Find and sort eigenvalues and eigenvectors into descending order\n",
    "    eigvals, eigvecs = np.linalg.eigh(cov)\n",
    "    order = eigvals.argsort()[::-1]\n",
    "    eigvals, eigvecs = eigvals[order], eigvecs[:, order]\n",
    "\n",
    "    # The anti-clockwise angle to rotate our ellipse by \n",
    "    vx, vy = eigvecs[:,0][0], eigvecs[:,0][1]\n",
    "    theta = np.arctan2(vy, vx)\n",
    "\n",
    "    # Width and height of ellipse to draw\n",
    "    width, height = 2 * nstd * np.sqrt(np.abs(eigvals))\n",
    "    \n",
    "    t = np.linspace(0, 2*np.pi, 100)\n",
    "    Ell = np.array([0.5*width*np.cos(t) , 0.5*height*np.sin(t)]) \n",
    "    R_rot = np.array([[np.cos(theta) , -np.sin(theta)],[np.sin(theta), np.cos(theta)]])  \n",
    "    Ell_rot = np.zeros((2,Ell.shape[1]))\n",
    "    for i in range(Ell.shape[1]):\n",
    "        Ell_rot[:,i] = np.dot(R_rot,Ell[:,i])\n",
    "    \n",
    "    ax.plot( centre[0]+Ell_rot[0,:] , centre[1]+Ell_rot[1,:], color=color)\n",
    "    #ax.plot(Ell_rot[:,0], Ell_rot[:,1])"
   ]
  },
  {
   "cell_type": "code",
   "execution_count": 21,
   "metadata": {},
   "outputs": [],
   "source": [
    "def plot_ellipses(fig, parameter_bounds, true_parameters, H, theta_best, theta_vals, color):\n",
    "    theta_names = [r'$\\theta_{1}$', r'$\\theta_{2}$', r'$\\theta_{3}$']\n",
    "    N = len(theta_best)\n",
    "    for i in range(N):\n",
    "        for j in range(N):\n",
    "            ax = fig.axes[i + N*j]\n",
    "            if i != 0:\n",
    "                ax.axes.yaxis.set_visible(False)\n",
    "                \n",
    "            if i == j:\n",
    "                if color == 'mediumaquamarine':\n",
    "                    ax_right = ax.twinx()\n",
    "                    ax_right.plot(theta_vals[i], stats.norm.pdf(theta_vals[i], theta_best[i], np.sqrt(H[i,i])), color=color)\n",
    "                    ax_right.set_title(str(theta_names[i]) + '=' + str(round(theta_best[i], 2)), fontsize=14)\n",
    "                \n",
    "            elif i < j:\n",
    "                \n",
    "                cov_matrix = np.array([[H[i,i], H[i,j]],[H[j,i], H[j,j]]])\n",
    "                get_cov_ellipse(cov_matrix, [theta_best[i], theta_best[j]], 3, ax, color)\n",
    "                ax.set_ylabel(theta_names[j])\n",
    "                ax.set_xlabel(theta_names[i])\n",
    "                ax.set_xlim([parameter_bounds[i,0], parameter_bounds[i,1]])\n",
    "                ax.set_ylim([parameter_bounds[j,0], parameter_bounds[j,1]])\n",
    "                \n",
    "            else:\n",
    "                ax.axis('off')"
   ]
  },
  {
   "cell_type": "code",
   "execution_count": 22,
   "metadata": {},
   "outputs": [
    {
     "name": "stdout",
     "output_type": "stream",
     "text": [
      "[-0.08324214  0.27387206  0.40537014]\n"
     ]
    },
    {
     "data": {
      "image/png": "[encoded data removed]",
      "text/plain": [
       "<Figure size 576x576 with 12 Axes>"
      ]
     },
     "metadata": {
      "needs_background": "light"
     },
     "output_type": "display_data"
    }
   ],
   "source": [
    "color_list = ['plum', 'mediumaquamarine', 'red']\n",
    "N = ndim\n",
    "fig, axes = plt.subplots(N,N,figsize=(8,8))\n",
    "\n",
    "ax = fig.axes[5]\n",
    "plot_ellipses(fig, parameter_bounds, true_parameters, H1, theta_f1, theta_vals, color_list[0])\n",
    "plot_ellipses(fig, parameter_bounds, true_parameters, H2, theta_f2, theta_vals, color_list[1])\n",
    "plot_ellipses(fig, parameter_bounds, true_parameters, H3, TM_mean, theta_vals, color_list[2])\n",
    "\n",
    "\n",
    "ax.scatter(1,1,color=color_list[0],label='Function 1')\n",
    "ax.scatter(1,1,color=color_list[1],label='Function 2')\n",
    "ax.legend(loc='center')\n",
    "\n",
    "print(TM_mean)"
   ]
  },
  {
   "cell_type": "code",
   "execution_count": 23,
   "metadata": {},
   "outputs": [],
   "source": [
    "file2 = open(\"3D_analytic_mean.txt\", \"w\")\n",
    "\n",
    "np.savetxt(file2, TM_mean)\n",
    "    \n",
    "file2.close()\n",
    "\n",
    "file1 = open(\"3D_analytic_cov.txt\", \"w\")\n",
    "\n",
    "for i in range(H3.shape[0]):\n",
    "    np.savetxt(file1, H3[i])\n",
    "    \n",
    "file1.close()\n",
    "\n",
    "\n"
   ]
  },
  {
   "cell_type": "code",
   "execution_count": 24,
   "metadata": {},
   "outputs": [
    {
     "name": "stdout",
     "output_type": "stream",
     "text": [
      "0.021449732108071055\n"
     ]
    },
    {
     "data": {
      "text/plain": [
       "[<matplotlib.lines.Line2D at 0x7fb9d1432820>]"
      ]
     },
     "execution_count": 24,
     "metadata": {},
     "output_type": "execute_result"
    },
    {
     "data": {
      "image/png": "[encoded data removed]",
      "text/plain": [
       "<Figure size 432x288 with 1 Axes>"
      ]
     },
     "metadata": {
      "needs_background": "light"
     },
     "output_type": "display_data"
    }
   ],
   "source": [
    "fig, ax = plt.subplots()\n",
    "\n",
    "#ax.plot(theta_vals[0], stats.norm.pdf(theta_0_vals, theta_f1[0] , np.sqrt(H1[0,0])), color='orangered', linewidth=3)\n",
    "#ax.plot(theta_vals[0], stats.norm.pdf(theta_0_vals, theta_f2[0] , np.sqrt(H2[0,0])), color='blue', linewidth=3)\n",
    "\n",
    "prod = stats.norm.pdf(theta_0_vals, TM_mean[0] , np.sqrt(H3[0,0]))\n",
    "\n",
    "constant = (1 / np.sqrt(det(2*np.pi*(H1+H2)))) * \\\n",
    "        np.exp(-0.5*np.dot((theta_f1-theta_f2), np.dot(inv(H1 + H2), (theta_f1-theta_f2))))\n",
    "\n",
    "print(constant)\n",
    "#ax.plot(theta_vals[0], prod, color='pink', linewidth=3)\n",
    "\n",
    "HM_data_EL_w3 = np.loadtxt('data/3D_historymatch_ellipsoid_w3.txt')\n",
    "HM_cov_w3 = np.cov(HM_data_EL_w3.T[:-1])\n",
    "HM_mean_w3 = np.mean(HM_data_EL_w3.T[:-1], axis=1)\n",
    "\n",
    "def gaussian(x, mu, sig):\n",
    "    return np.exp(-np.power(x - mu, 2.) / (2 * np.power(sig, 2.)))\n",
    "\n",
    "ax.plot(theta_vals[0], gaussian(theta_vals[0],  TM_mean[0], np.sqrt(H3[0,0])))\n",
    "ax.plot(theta_vals[0], gaussian(theta_vals[0],  HM_mean_w3[0], np.sqrt(HM_cov_w3[0,0])))\n",
    "\n",
    "#ax.plot(theta_vals[i], stats.norm.pdf(theta_vals[0], HM_mean_w3[0], np.sqrt(HM_cov_w3[0,0])), color='grey', linestyle='--', linewidth=3, label='Nonimplausible Vol.')\n",
    "#ax.plot(theta_vals[i], f, color='grey', linestyle='--', linewidth=3, label='Nonimplausible Vol.')"
   ]
  },
  {
   "cell_type": "code",
   "execution_count": null,
   "metadata": {},
   "outputs": [],
   "source": []
  },
  {
   "cell_type": "code",
   "execution_count": null,
   "metadata": {},
   "outputs": [],
   "source": []
  }
 ],
 "metadata": {
  "kernelspec": {
   "display_name": "Python 3",
   "language": "python",
   "name": "python3"
  },
  "language_info": {
   "codemirror_mode": {
    "name": "ipython",
    "version": 3
   },
   "file_extension": ".py",
   "mimetype": "text/x-python",
   "name": "python",
   "nbconvert_exporter": "python",
   "pygments_lexer": "ipython3",
   "version": "3.9.1"
  }
 },
 "nbformat": 4,
 "nbformat_minor": 4
}
