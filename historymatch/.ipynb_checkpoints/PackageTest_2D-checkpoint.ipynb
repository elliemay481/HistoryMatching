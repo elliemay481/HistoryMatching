{
 "cells": [
  {
   "cell_type": "code",
   "execution_count": 13,
   "metadata": {},
   "outputs": [],
   "source": [
    "# import internal files\n",
    "import emulators\n",
    "import sample\n",
    "import historymatch\n",
    "import plot\n",
    "\n",
    "import numpy as np\n",
    "import matplotlib.pyplot as plt\n",
    "from sklearn.cluster import KMeans\n",
    "from scipy import stats\n",
    "\n",
    "plt.rcParams.update({'font.size': 10})\n",
    "\n",
    "np.random.seed(4)\n",
    "\n",
    "import importlib"
   ]
  },
  {
   "cell_type": "code",
   "execution_count": 14,
   "metadata": {},
   "outputs": [],
   "source": [
    "def model_eqn_1(x, theta_0, theta_1):\n",
    "    return theta_0*(x) + theta_1*(x)\n",
    "\n",
    "function1 = np.vectorize(model_eqn_1)"
   ]
  },
  {
   "cell_type": "code",
   "execution_count": 15,
   "metadata": {},
   "outputs": [],
   "source": [
    "def model_eqn_2(x, theta_0, theta_1):\n",
    "    return theta_0*(x**2) + (theta_1)*(x**2)\n",
    "\n",
    "function2 = np.vectorize(model_eqn_2)"
   ]
  },
  {
   "cell_type": "code",
   "execution_count": 16,
   "metadata": {},
   "outputs": [],
   "source": [
    "# define parameter space\n",
    "var_method = 0\n",
    "\n",
    "theta_0_bound = np.array([-1, 1]).reshape(1,-1)\n",
    "theta_1_bound = np.array([-1, 1]).reshape(1,-1)\n",
    "\n",
    "parameter_bounds = np.concatenate((theta_0_bound, theta_1_bound), axis=0)\n",
    "\n",
    "theta_0_vals = np.linspace(parameter_bounds[0,0], parameter_bounds[0,1], 100)\n",
    "theta_1_vals = np.linspace(parameter_bounds[1,0], parameter_bounds[1,1], 100)\n",
    "\n",
    "theta_vals = np.concatenate((theta_0_vals.reshape(1,-1), theta_1_vals.reshape(1,-1)), axis=0)"
   ]
  },
  {
   "cell_type": "code",
   "execution_count": 17,
   "metadata": {},
   "outputs": [],
   "source": [
    "Nx = 3\n",
    "\n",
    "def toy_model(theta_0, theta_1):\n",
    "    \n",
    "    x_bound = np.array([0.1, 1])\n",
    "    Nx = 3\n",
    "    xvals = np.linspace(x_bound[0], x_bound[-1], Nx)\n",
    "\n",
    "    outputs =  []\n",
    "    for x in xvals:\n",
    "        output = theta_0 + (theta_1**1)*(x)\n",
    "        outputs.append(output)\n",
    "    for x in xvals:\n",
    "        output = theta_0 - theta_1*np.sin(x)\n",
    "        outputs.append(output)\n",
    "    return np.array(outputs)"
   ]
  },
  {
   "cell_type": "code",
   "execution_count": 18,
   "metadata": {},
   "outputs": [],
   "source": [
    "# generate observational data with some uncertainty\n",
    "true_parameters = [-0.1, 0.3]\n",
    "\n",
    "'''output_ratio = (toy_model(-1,-1,-1) - toy_model(1,1,1)) / (toy_model(-1,-1,-1) - toy_model(1,1,1))[0]\n",
    "\n",
    "var_obs = output_ratio*0.001 # observational uncertainty variance\n",
    "\n",
    "\n",
    "error_obs = np.zeros(2*Nx)\n",
    "for i in range(2*Nx):\n",
    "    error_obs[i] = np.random.normal(0, np.sqrt(var_obs[i]))\n",
    "\n",
    "\n",
    "obs_data = toy_model(*true_parameters) + error_obs'''\n",
    "\n",
    "\n",
    "\n",
    "\n",
    "var_obs = np.ones(2*Nx)*0.01 # observational uncertainty variance\n",
    "\n",
    "error_obs = np.random.normal(0, np.sqrt(var_obs), 2*Nx)\n",
    "\n",
    "obs_data = toy_model(*true_parameters) + error_obs\n"
   ]
  },
  {
   "cell_type": "code",
   "execution_count": 19,
   "metadata": {},
   "outputs": [],
   "source": [
    "nwaves = 1\n",
    "ndim = 2\n",
    "volshape = 'ellipsoid'"
   ]
  },
  {
   "cell_type": "code",
   "execution_count": 20,
   "metadata": {},
   "outputs": [],
   "source": [
    "importlib.reload(historymatch)\n",
    "\n",
    "# initialise history matching class\n",
    "HM = historymatch.HistoryMatch(obs_data,\n",
    "                               ndim, 'GP', volshape)"
   ]
  },
  {
   "cell_type": "code",
   "execution_count": 21,
   "metadata": {
    "scrolled": true
   },
   "outputs": [
    {
     "name": "stdout",
     "output_type": "stream",
     "text": [
      "(2, 2)\n",
      "(2, 2)\n",
      "Running wave 1\n",
      "Emulating output 0...\n",
      "Emulating output 1...\n",
      "Emulating output 2...\n",
      "Emulating output 3...\n",
      "Emulating output 4...\n",
      "Emulating output 5...\n",
      "Emulating output 6...\n",
      "Emulating output 7...\n",
      "Emulating output 8...\n",
      "Emulating output 9...\n",
      "(8000, 3)\n",
      "(301, 3)\n",
      "Convergence : True\n",
      "Relative nonimplausible volume remaining: 0.056\n"
     ]
    }
   ],
   "source": [
    "\n",
    "\n",
    "ToyModel = historymatch.Simulator(HM)\n",
    "ToyModel.set_simulator(toy_model)\n",
    "\n",
    "HM.set_observations(obs_data, np.sqrt(var_obs))\n",
    "HM.initialize_volume([-1,-1], [1,1])\n",
    "\n",
    "results = HM.run(nwaves=nwaves)"
   ]
  },
  {
   "cell_type": "code",
   "execution_count": 22,
   "metadata": {},
   "outputs": [
    {
     "data": {
      "image/png": "[encoded data removed]",
      "text/plain": [
       "<Figure size 720x720 with 4 Axes>"
      ]
     },
     "metadata": {
      "needs_background": "light"
     },
     "output_type": "display_data"
    }
   ],
   "source": [
    "importlib.reload(plot)\n",
    "\n",
    "fig, axes = plt.subplots(ndim,ndim,figsize=(10,10))\n",
    "#plot.opticaldepth_1D(results.samples[0], parameter_bounds[0], parameter = 0, bins=20, Fig=(fig,ax1))\n",
    "    \n",
    "#plot.plot_implausibility2D(results.samples[0], parameter_bounds, [0,1], bins=20)\n",
    "\n",
    "plot.plotcorner(results.samples[0], parameter_bounds, ndim, Fig=(fig,axes), labels=('theta1', 'theta2', 'theta3'))\n",
    "#axes[1,0].scatter(true_parameters[0],true_parameters[1], color='red')\n",
    "#axes[2,0].scatter(true_parameters[0],true_parameters[2], color='red')\n",
    "#axes[2,1].scatter(true_parameters[1],true_parameters[2], color='red')"
   ]
  },
  {
   "cell_type": "code",
   "execution_count": 11,
   "metadata": {},
   "outputs": [
    {
     "ename": "IndexError",
     "evalue": "list index out of range",
     "output_type": "error",
     "traceback": [
      "\u001b[0;31m---------------------------------------------------------------------------\u001b[0m",
      "\u001b[0;31mIndexError\u001b[0m                                Traceback (most recent call last)",
      "\u001b[0;32m<ipython-input-11-94d60a08a9cd>\u001b[0m in \u001b[0;36m<module>\u001b[0;34m\u001b[0m\n\u001b[0;32m----> 1\u001b[0;31m \u001b[0mresults\u001b[0m\u001b[0;34m.\u001b[0m\u001b[0msamples\u001b[0m\u001b[0;34m[\u001b[0m\u001b[0;36m1\u001b[0m\u001b[0;34m]\u001b[0m\u001b[0;34m.\u001b[0m\u001b[0mshape\u001b[0m\u001b[0;34m\u001b[0m\u001b[0;34m\u001b[0m\u001b[0m\n\u001b[0m",
      "\u001b[0;31mIndexError\u001b[0m: list index out of range"
     ]
    }
   ],
   "source": [
    "results.samples[1].shape"
   ]
  },
  {
   "cell_type": "code",
   "execution_count": null,
   "metadata": {},
   "outputs": [],
   "source": [
    "if volshape == 'ellipsoid':\n",
    "    with open('data/2D_historymatch_ellipsoid_samples.txt', 'w') as file:\n",
    "        for i in range(len(results.samples)):\n",
    "            np.savetxt(file, results.samples[i])\n",
    "\n",
    "    with open('data/2D_historymatch_ellipsoid_w1.txt', 'w') as file:\n",
    "        np.savetxt(file, results.regions[0])\n",
    "    with open('data/2D_historymatch_ellipsoid_w2.txt', 'w') as file:\n",
    "        np.savetxt(file, results.regions[1])\n",
    "    with open('data/2D_historymatch_ellipsoid_w3.txt', 'w') as file:\n",
    "        np.savetxt(file, results.regions[2])\n",
    "        \n",
    "elif volshape == 'hypercube':\n",
    "\n",
    "    with open('data/2D_historymatch_hypercube_samples.txt', 'w') as file:\n",
    "        for i in range(len(results.samples)):\n",
    "            np.savetxt(file, results.samples[i])\n",
    "\n",
    "    with open('data/2D_historymatch_hypercube_w1.txt', 'w') as file:\n",
    "        np.savetxt(file, results.regions[0])\n",
    "    with open('data/2D_historymatch_hypercube_w2.txt', 'w') as file:\n",
    "        np.savetxt(file, results.regions[1])\n",
    "    with open('data/2D_historymatch_hypercube_w3.txt', 'w') as file:\n",
    "        np.savetxt(file, results.regions[2])\n",
    "        \n",
    "elif volshape == 'hypercube_rot':\n",
    "\n",
    "    with open('data/2D_historymatch_hypercube_r_samples.txt', 'w') as file:\n",
    "        for i in range(len(results.samples)):\n",
    "            np.savetxt(file, results.samples[i])\n",
    "\n",
    "    with open('data/2D_historymatch_hypercube_r_w1.txt', 'w') as file:\n",
    "        np.savetxt(file, results.regions[0])\n",
    "    with open('data/2D_historymatch_hypercube_r_w2.txt', 'w') as file:\n",
    "        np.savetxt(file, results.regions[1])\n",
    "    with open('data/2D_historymatch_hypercube_r_w3.txt', 'w') as file:\n",
    "        np.savetxt(file, results.regions[2])\n",
    "        \n",
    "\n"
   ]
  },
  {
   "cell_type": "code",
   "execution_count": null,
   "metadata": {},
   "outputs": [],
   "source": []
  },
  {
   "cell_type": "code",
   "execution_count": null,
   "metadata": {},
   "outputs": [],
   "source": []
  },
  {
   "cell_type": "code",
   "execution_count": null,
   "metadata": {},
   "outputs": [],
   "source": []
  },
  {
   "cell_type": "code",
   "execution_count": null,
   "metadata": {},
   "outputs": [],
   "source": []
  },
  {
   "cell_type": "code",
   "execution_count": null,
   "metadata": {},
   "outputs": [],
   "source": []
  },
  {
   "cell_type": "code",
   "execution_count": null,
   "metadata": {},
   "outputs": [],
   "source": []
  }
 ],
 "metadata": {
  "kernelspec": {
   "display_name": "Python 3",
   "language": "python",
   "name": "python3"
  },
  "language_info": {
   "codemirror_mode": {
    "name": "ipython",
    "version": 3
   },
   "file_extension": ".py",
   "mimetype": "text/x-python",
   "name": "python",
   "nbconvert_exporter": "python",
   "pygments_lexer": "ipython3",
   "version": "3.9.1"
  }
 },
 "nbformat": 4,
 "nbformat_minor": 4
}
