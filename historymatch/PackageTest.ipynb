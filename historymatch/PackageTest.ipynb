{
 "cells": [
  {
   "cell_type": "code",
   "execution_count": 1,
   "metadata": {},
   "outputs": [],
   "source": [
    "# import internal files\n",
    "import emulators\n",
    "import sample\n",
    "import historymatch\n",
    "import plot\n",
    "\n",
    "import numpy as np\n",
    "import matplotlib.pyplot as plt\n",
    "from sklearn.cluster import KMeans\n",
    "from scipy import stats\n",
    "\n",
    "plt.rcParams.update({'font.size': 10})\n",
    "\n",
    "np.random.seed(4)\n",
    "\n",
    "import importlib"
   ]
  },
  {
   "cell_type": "code",
   "execution_count": 2,
   "metadata": {},
   "outputs": [],
   "source": [
    "def model_eqn_1(x, theta_0, theta_1, theta_2):\n",
    "    return theta_0 + theta_1*(x) + theta_2*(x**2)\n",
    "\n",
    "function1 = np.vectorize(model_eqn_1)"
   ]
  },
  {
   "cell_type": "code",
   "execution_count": 3,
   "metadata": {},
   "outputs": [],
   "source": [
    "def model_eqn_2(x, theta_0, theta_1, theta_2):\n",
    "    return theta_0 - theta_1*np.sin(x) + (theta_2**1)*np.cos(x)\n",
    "\n",
    "function2 = np.vectorize(model_eqn_2)"
   ]
  },
  {
   "cell_type": "code",
   "execution_count": 4,
   "metadata": {},
   "outputs": [],
   "source": [
    "# define parameter space\n",
    "var_method = 0.01\n",
    "\n",
    "theta_0_bound = np.array([-1, 1]).reshape(1,-1)\n",
    "theta_1_bound = np.array([-1, 1]).reshape(1,-1)\n",
    "theta_2_bound = np.array([-1, 1]).reshape(1,-1)\n",
    "\n",
    "parameter_bounds = np.concatenate((theta_0_bound, theta_1_bound, theta_2_bound), axis=0)\n",
    "\n",
    "theta_0_vals = np.linspace(parameter_bounds[0,0], parameter_bounds[0,1], 100)\n",
    "theta_1_vals = np.linspace(parameter_bounds[1,0], parameter_bounds[1,1], 100)\n",
    "theta_2_vals = np.linspace(parameter_bounds[2,0], parameter_bounds[2,1], 100)\n",
    "\n",
    "theta_vals = np.concatenate((theta_0_vals.reshape(1,-1), theta_1_vals.reshape(1,-1), theta_2_vals.reshape(1,-1)), axis=0)"
   ]
  },
  {
   "cell_type": "code",
   "execution_count": 5,
   "metadata": {},
   "outputs": [],
   "source": [
    "Nx = 8\n",
    "\n",
    "def toy_model(theta_0, theta_1, theta_2):\n",
    "    \n",
    "    x_bound = np.array([0.1, 1])\n",
    "    Nx = 8\n",
    "    xvals = np.linspace(x_bound[0], x_bound[-1], Nx)\n",
    "\n",
    "    outputs =  []\n",
    "    for x in xvals:\n",
    "        output = theta_0 + (theta_1**1)*(x) + theta_2*(x**2)\n",
    "        outputs.append(output)\n",
    "    for x in xvals:\n",
    "        output = theta_0 - theta_1*np.sin(x) + (theta_2**1)*np.cos(x)\n",
    "        outputs.append(output)\n",
    "    return np.array(outputs)"
   ]
  },
  {
   "cell_type": "code",
   "execution_count": 6,
   "metadata": {},
   "outputs": [],
   "source": [
    "# generate observational data with some uncertainty\n",
    "true_parameters = [-0.1, 0.3, 0.6]\n",
    "\n",
    "#output_ratio = (toy_model(-1,-1,-1) - toy_model(1,1,1)) / (toy_model(-1,-1,-1) - toy_model(1,1,1))[0]\n",
    "\n",
    "#var_obs = output_ratio*0.01 # observational uncertainty variance\n",
    "\n",
    "\n",
    "#error_obs = np.zeros(2*Nx)\n",
    "#for i in range(2*Nx):\n",
    "    #error_obs[i] = np.random.normal(0, np.sqrt(var_obs[i]))\n",
    "\n",
    "\n",
    "#obs_data = toy_model_4D(*true_parameters_4D) + error_obs\n",
    "\n",
    "\n",
    "\n",
    "\n",
    "var_obs = np.ones(2*Nx)*0.01 # observational uncertainty variance\n",
    "\n",
    "error_obs = np.random.normal(0, np.sqrt(var_obs), 2*Nx)\n",
    "\n",
    "obs_data = toy_model(*true_parameters) + error_obs\n"
   ]
  },
  {
   "cell_type": "code",
   "execution_count": 7,
   "metadata": {},
   "outputs": [],
   "source": [
    "nwaves = 3\n",
    "ndim = 3"
   ]
  },
  {
   "cell_type": "code",
   "execution_count": 8,
   "metadata": {},
   "outputs": [],
   "source": [
    "importlib.reload(historymatch)\n",
    "\n",
    "# initialise history matching class\n",
    "HM = historymatch.HistoryMatch(obs_data,\n",
    "                               ndim, 'GP', 'ellipsoid')"
   ]
  },
  {
   "cell_type": "code",
   "execution_count": 9,
   "metadata": {
    "scrolled": true
   },
   "outputs": [
    {
     "name": "stdout",
     "output_type": "stream",
     "text": [
      "(3, 2)\n",
      "(3, 2)\n",
      "Running wave 1\n",
      "Emulating...\n",
      "[0.01560712 0.01231947 0.01514028 ... 0.01023211 0.01515396 0.0153347 ]\n",
      "Mean emulator s.d lower than obs\n",
      "Emulating...\n",
      "[0.0157133  0.01239253 0.01527287 ... 0.01029065 0.01525896 0.01545909]\n",
      "Mean emulator s.d lower than obs\n",
      "Emulating...\n",
      "[0.01595478 0.01255661 0.01557468 ... 0.01042189 0.0154948  0.0157401 ]\n",
      "Mean emulator s.d lower than obs\n",
      "Emulating...\n",
      "[0.01636418 0.01282841 0.01608683 ... 0.01063844 0.01588549 0.01621062]\n",
      "Mean emulator s.d lower than obs\n",
      "Emulating...\n",
      "[0.01698169 0.01322397 0.01685945 ... 0.01095145 0.01645437 0.0169069 ]\n",
      "Mean emulator s.d lower than obs\n",
      "Emulating...\n",
      "[0.01784688 0.01375173 0.01793997 ... 0.01136446 0.01721467 0.01785759]\n",
      "Mean emulator s.d lower than obs\n",
      "Emulating...\n",
      "[0.01899272 0.0144102  0.01936387 ... 0.01187094 0.01816664 0.01907802]\n",
      "Mean emulator s.d lower than obs\n",
      "Emulating...\n",
      "[0.02044351 0.01519172 0.02115138 ... 0.01245706 0.0193032  0.0205721 ]\n",
      "Mean emulator s.d lower than obs\n",
      "Emulating...\n",
      "[0.01861395 0.0141971  0.01889426 ... 0.0117082  0.01785806 0.01867901]\n",
      "Mean emulator s.d lower than obs\n",
      "Emulating...\n",
      "[0.01870975 0.0142514  0.01901315 ... 0.01174978 0.01793664 0.01878032]\n",
      "Mean emulator s.d lower than obs\n",
      "Emulating...\n",
      "[0.01880093 0.01430282 0.01912622 ... 0.01178909 0.01801109 0.01887649]\n",
      "Mean emulator s.d lower than obs\n",
      "Emulating...\n",
      "[0.01888356 0.01434921 0.01922864 ... 0.01182449 0.01807828 0.01896344]\n",
      "Mean emulator s.d lower than obs\n",
      "Emulating...\n",
      "[0.01895445 0.01438886 0.01931648 ... 0.01185469 0.01813572 0.01903789]\n",
      "Mean emulator s.d lower than obs\n",
      "Emulating...\n",
      "[0.0190113  0.01442054 0.01938687 ... 0.01187881 0.01818163 0.01909749]\n",
      "Mean emulator s.d lower than obs\n",
      "Emulating...\n",
      "[0.01905271 0.01444357 0.01943814 ... 0.01189632 0.01821501 0.01914085]\n",
      "Mean emulator s.d lower than obs\n",
      "Emulating...\n",
      "[0.01907832 0.01445778 0.01946983 ... 0.01190711 0.01823562 0.01916763]\n",
      "Mean emulator s.d lower than obs\n",
      "Relative nonimplausible volume remaining: 0.038\n",
      "Running wave 2\n",
      "Emulating...\n",
      "[0.0036917  0.0055464  0.00688519 ... 0.01173007 0.00536888 0.00340075]\n",
      "Mean emulator s.d lower than obs\n",
      "Emulating...\n",
      "[0.00360061 0.00544116 0.00668738 ... 0.01116591 0.00524004 0.00330051]\n",
      "Mean emulator s.d lower than obs\n",
      "Emulating...\n",
      "[0.00348353 0.00529427 0.00643574 ... 0.01046649 0.00506356 0.00317644]\n",
      "Mean emulator s.d lower than obs\n",
      "Emulating...\n",
      "[0.00336832 0.00513231 0.00618574 ... 0.00981211 0.00487422 0.00306089]\n",
      "Mean emulator s.d lower than obs\n",
      "Emulating...\n",
      "[0.00333204 0.00507702 0.00610559 ... 0.00961407 0.00481081 0.00302606]\n",
      "Mean emulator s.d lower than obs\n",
      "Emulating...\n",
      "[0.00345608 0.00525743 0.00637659 ... 0.01030725 0.00501999 0.00314826]\n",
      "Mean emulator s.d lower than obs\n",
      "Emulating...\n",
      "[0.00370067 0.00555645 0.00690489 ... 0.01178652 0.00538126 0.00341078]\n",
      "Mean emulator s.d lower than obs\n",
      "Emulating...\n",
      "[0.00397333 0.00584833 0.0075383  ... 0.01356904 0.00574089 0.00372484]\n",
      "Mean emulator s.d lower than obs\n",
      "Emulating...\n",
      "[0.00352381 0.00534657 0.00652228 ... 0.01070353 0.00512588 0.00321844]\n",
      "Mean emulator s.d lower than obs\n",
      "Emulating...\n",
      "[0.00348847 0.00530079 0.00644635 ... 0.01049533 0.00507129 0.00318154]\n",
      "Mean emulator s.d lower than obs\n",
      "Emulating...\n",
      "[0.00346004 0.00526281 0.00638514 ... 0.0103301  0.00502633 0.0031523 ]\n",
      "Mean emulator s.d lower than obs\n",
      "Emulating...\n",
      "[0.00344983 0.0052489  0.00636311 ... 0.0102713  0.00500995 0.0031419 ]\n",
      "Mean emulator s.d lower than obs\n",
      "Emulating...\n",
      "[0.00346854 0.00527428 0.00640347 ... 0.01037931 0.00503989 0.00316101]\n",
      "Mean emulator s.d lower than obs\n",
      "Emulating...\n",
      "[0.00352092 0.00534288 0.00651607 ... 0.01068638 0.00512146 0.0032154 ]\n",
      "Mean emulator s.d lower than obs\n",
      "Emulating...\n",
      "[0.00360301 0.00544402 0.00669256 ... 0.01118056 0.00524352 0.00330312]\n",
      "Mean emulator s.d lower than obs\n",
      "Emulating...\n",
      "[0.00370487 0.00556112 0.00691411 ... 0.01181294 0.00538702 0.00341547]\n",
      "Mean emulator s.d lower than obs\n",
      "Relative nonimplausible volume remaining: 0.07\n",
      "Running wave 3\n",
      "Emulating...\n",
      "[0.00474945 0.00505092 0.00855885 ... 0.00322771 0.00672084 0.00399892]\n",
      "Mean emulator s.d lower than obs\n",
      "Emulating...\n",
      "[0.00473398 0.00503899 0.00851827 ... 0.00322465 0.0066927  0.00398868]\n",
      "Mean emulator s.d lower than obs\n",
      "Emulating...\n",
      "[0.0047214  0.00502934 0.00848572 ... 0.00322215 0.00667018 0.00398037]\n",
      "Mean emulator s.d lower than obs\n",
      "Emulating...\n",
      "[0.00473589 0.00504046 0.00852326 ... 0.00322503 0.00669616 0.00398994]\n",
      "Mean emulator s.d lower than obs\n",
      "Emulating...\n",
      "[0.00480124 0.00509148 0.00869979 ... 0.00323783 0.00681908 0.00403353]\n",
      "Mean emulator s.d lower than obs\n",
      "Emulating...\n",
      "[0.00491634 0.00518604 0.00904709 ... 0.00325972 0.007065   0.00411259]\n",
      "Mean emulator s.d lower than obs\n",
      "Emulating...\n",
      "[0.00505801 0.00531351 0.00955816 ... 0.00328572 0.00743768 0.00421532]\n",
      "Mean emulator s.d lower than obs\n",
      "Emulating...\n",
      "[0.00521064 0.00546525 0.01022429 ... 0.00331311 0.00794235 0.00433384]\n",
      "Mean emulator s.d lower than obs\n",
      "Emulating...\n",
      "[0.00502657 0.00528405 0.00943577 ... 0.00328002 0.00734724 0.00419193]\n",
      "Mean emulator s.d lower than obs\n",
      "Emulating...\n",
      "[0.00500974 0.00526856 0.0093724  ... 0.00327696 0.00730072 0.00417956]\n",
      "Mean emulator s.d lower than obs\n",
      "Emulating...\n",
      "[0.004987   0.00524793 0.00928914 ... 0.00327279 0.00723988 0.00416298]\n",
      "Mean emulator s.d lower than obs\n",
      "Emulating...\n",
      "[0.00495953 0.00522348 0.00919212 ... 0.00326774 0.00716943 0.0041432 ]\n",
      "Mean emulator s.d lower than obs\n",
      "Emulating...\n",
      "[0.00492946 0.00519729 0.00909021 ... 0.00326217 0.00709594 0.00412183]\n",
      "Mean emulator s.d lower than obs\n",
      "Emulating...\n",
      "[0.00490029 0.00517242 0.00899539 ... 0.00325671 0.00702802 0.00410136]\n",
      "Mean emulator s.d lower than obs\n",
      "Emulating...\n",
      "[0.00487708 0.00515299 0.00892263 ... 0.00325234 0.00697621 0.00408524]\n",
      "Mean emulator s.d lower than obs\n",
      "Emulating...\n",
      "[0.00486588 0.00514373 0.00888834 ... 0.00325022 0.00695188 0.00407752]\n",
      "Mean emulator s.d lower than obs\n",
      "Relative nonimplausible volume remaining: 0.074\n"
     ]
    }
   ],
   "source": [
    "\n",
    "\n",
    "ToyModel = historymatch.Simulator(HM)\n",
    "ToyModel.set_simulator(toy_model)\n",
    "\n",
    "HM.set_observations(obs_data, np.sqrt(var_obs))\n",
    "HM.initialize_volume([-1,-1,-1], [1,1,1])\n",
    "\n",
    "results = HM.run(nwaves=nwaves)"
   ]
  },
  {
   "cell_type": "code",
   "execution_count": 15,
   "metadata": {},
   "outputs": [
    {
     "data": {
      "text/plain": [
       "<matplotlib.collections.PathCollection at 0x7efc292eb880>"
      ]
     },
     "execution_count": 15,
     "metadata": {},
     "output_type": "execute_result"
    },
    {
     "data": {
      "image/png": "[encoded data removed]",
      "text/plain": [
       "<Figure size 720x720 with 9 Axes>"
      ]
     },
     "metadata": {
      "needs_background": "light"
     },
     "output_type": "display_data"
    }
   ],
   "source": [
    "importlib.reload(plot)\n",
    "\n",
    "fig, axes = plt.subplots(ndim,ndim,figsize=(10,10))\n",
    "#plot.opticaldepth_1D(results.samples[0], parameter_bounds[0], parameter = 0, bins=20, Fig=(fig,ax1))\n",
    "    \n",
    "#plot.plot_implausibility2D(results.samples[0], parameter_bounds, [0,1], bins=20)\n",
    "\n",
    "plot.plotcorner(results.samples[2], parameter_bounds, 3, Fig=(fig,axes), labels=('theta1', 'theta2', 'theta3'))\n",
    "axes[1,0].scatter(true_parameters[0],true_parameters[1], color='red')\n",
    "axes[2,0].scatter(true_parameters[0],true_parameters[2], color='red')\n",
    "axes[2,1].scatter(true_parameters[1],true_parameters[2], color='red')"
   ]
  },
  {
   "cell_type": "code",
   "execution_count": 16,
   "metadata": {},
   "outputs": [
    {
     "data": {
      "text/plain": [
       "(5000, 4)"
      ]
     },
     "execution_count": 16,
     "metadata": {},
     "output_type": "execute_result"
    }
   ],
   "source": [
    "results.samples[1].shape"
   ]
  },
  {
   "cell_type": "code",
   "execution_count": 18,
   "metadata": {},
   "outputs": [
    {
     "name": "stdout",
     "output_type": "stream",
     "text": [
      "[[ 0.00500388 -0.00037699 -0.00613499]\n",
      " [-0.00037699  0.00342433  0.00045998]\n",
      " [-0.00613499  0.00045998  0.01003366]]\n"
     ]
    }
   ],
   "source": [
    "with open('data/3D_historymatch_ellipsoid_8z_test.txt', 'w') as file:\n",
    "    for i in range(len(results.samples)):\n",
    "        np.savetxt(file, results.samples[i])\n",
    "\n",
    "\n",
    "\n",
    "analytic_mean = np.loadtxt(\"3D_analytic_mean.txt\").reshape(3,)\n",
    "analytic_cov = np.loadtxt(\"3D_analytic_cov.txt\").reshape(3,3)\n",
    "\n",
    "print(analytic_cov)"
   ]
  },
  {
   "cell_type": "code",
   "execution_count": 13,
   "metadata": {},
   "outputs": [],
   "source": [
    "def get_cov_ellipse(cov, centre, nstd, ax, color):\n",
    "    \"\"\"\n",
    "    Return a matplotlib Ellipse patch representing the covariance matrix\n",
    "    cov centred at centre and scaled by the factor nstd.\n",
    "\n",
    "    \"\"\"\n",
    "\n",
    "    # Find and sort eigenvalues and eigenvectors into descending order\n",
    "    eigvals, eigvecs = np.linalg.eigh(cov)\n",
    "    order = eigvals.argsort()[::-1]\n",
    "    eigvals, eigvecs = eigvals[order], eigvecs[:, order]\n",
    "\n",
    "    # The anti-clockwise angle to rotate our ellipse by \n",
    "    vx, vy = eigvecs[:,0][0], eigvecs[:,0][1]\n",
    "    theta = np.arctan2(vy, vx)\n",
    "\n",
    "    # Width and height of ellipse to draw\n",
    "    width, height = 2 * nstd * np.sqrt(np.abs(eigvals))\n",
    "    \n",
    "    t = np.linspace(0, 2*np.pi, 100)\n",
    "    Ell = np.array([0.5*width*np.cos(t) , 0.5*height*np.sin(t)]) \n",
    "    R_rot = np.array([[np.cos(theta) , -np.sin(theta)],[np.sin(theta), np.cos(theta)]])  \n",
    "    Ell_rot = np.zeros((2,Ell.shape[1]))\n",
    "    for i in range(Ell.shape[1]):\n",
    "        Ell_rot[:,i] = np.dot(R_rot,Ell[:,i])\n",
    "    \n",
    "    ax.plot( centre[0]+Ell_rot[0,:] , centre[1]+Ell_rot[1,:], color=color)"
   ]
  },
  {
   "cell_type": "code",
   "execution_count": 14,
   "metadata": {},
   "outputs": [
    {
     "data": {
      "image/png": "[encoded data removed]",
      "text/plain": [
       "<Figure size 720x720 with 9 Axes>"
      ]
     },
     "metadata": {
      "needs_background": "light"
     },
     "output_type": "display_data"
    }
   ],
   "source": [
    "fig, axes = plt.subplots(ndim,ndim,figsize=(10,10))\n",
    "#plot.opticaldepth_1D(results.samples[0], parameter_bounds[0], parameter = 0, bins=20, Fig=(fig,ax1))\n",
    "    \n",
    "#plot.plot_implausibility2D(results.samples[0], parameter_bounds, [0,1], bins=20)\n",
    "\n",
    "plot.plotcorner(results.samples[1], parameter_bounds, 3, Fig=(fig,axes), labels=('theta1', 'theta2', 'theta3'))\n",
    "\n",
    "H = analytic_cov\n",
    "\n",
    "get_cov_ellipse(np.array([[H[0,0], H[0,1]],[H[1,0], H[1,1]]]), [analytic_mean[0], analytic_mean[1]], 3, axes[1,0], 'red')\n",
    "get_cov_ellipse(np.array([[H[0,0], H[0,2]],[H[2,0], H[2,2]]]), [analytic_mean[0], analytic_mean[2]], 3, axes[2,0], 'red')\n",
    "get_cov_ellipse(np.array([[H[1,1], H[1,2]],[H[2,1], H[2,2]]]), [analytic_mean[1], analytic_mean[2]], 3, axes[2,1], 'red')\n",
    "\n",
    "\n",
    "#axes[1,0].scatter(true_parameters[0],true_parameters[1], color='red')\n",
    "#axes[2,0].scatter(true_parameters[0],true_parameters[2], color='red')\n",
    "#axes[2,1].scatter(true_parameters[1],true_parameters[2], color='red')"
   ]
  },
  {
   "cell_type": "code",
   "execution_count": null,
   "metadata": {},
   "outputs": [],
   "source": []
  }
 ],
 "metadata": {
  "kernelspec": {
   "display_name": "Python 3",
   "language": "python",
   "name": "python3"
  },
  "language_info": {
   "codemirror_mode": {
    "name": "ipython",
    "version": 3
   },
   "file_extension": ".py",
   "mimetype": "text/x-python",
   "name": "python",
   "nbconvert_exporter": "python",
   "pygments_lexer": "ipython3",
   "version": "3.8.8"
  }
 },
 "nbformat": 4,
 "nbformat_minor": 4
}
