{
 "cells": [
  {
   "cell_type": "code",
   "execution_count": 1,
   "metadata": {},
   "outputs": [],
   "source": [
    "import numpy as np\n",
    "import matplotlib.pyplot as plt\n",
    "import random\n",
    "from matplotlib.patches import Ellipse\n",
    "\n",
    "from scipy.interpolate import griddata\n",
    "\n",
    "plt.rcParams.update({'font.size': 12})\n",
    "\n",
    "np.random.seed(4)\n",
    "\n",
    "from scipy import stats\n",
    "from scipy.stats import norm, uniform\n",
    "import scipy.optimize\n",
    "from numpy.linalg import inv"
   ]
  },
  {
   "cell_type": "code",
   "execution_count": 2,
   "metadata": {},
   "outputs": [],
   "source": [
    "# import internal files\n",
    "import emulators\n",
    "import utils\n",
    "import historymatch\n",
    "import plot"
   ]
  },
  {
   "cell_type": "code",
   "execution_count": 3,
   "metadata": {},
   "outputs": [],
   "source": [
    "def model_eqn_1(x, theta_0, theta_1, theta_2, theta_3):\n",
    "    return theta_0 + theta_1*(x) + theta_2*(x**2) + theta_3*(4*x**3)\n",
    "    \n",
    "function1 = np.vectorize(model_eqn_1)"
   ]
  },
  {
   "cell_type": "code",
   "execution_count": 4,
   "metadata": {},
   "outputs": [],
   "source": [
    "def model_eqn_2(x, theta_0, theta_1, theta_2, theta_3):\n",
    "    #return theta_0 - theta_1*np.sin(x) + theta_2*np.cos(2*x) + theta_3*(x**2)\n",
    "    #return theta_0 + theta_1*(x) + theta_2*(x**(3/2)) + theta_3*(x**(5/2))\n",
    "    return theta_0 - theta_1*(x) + theta_2*(x**2) - 2*theta_3*(x**3)\n",
    "    #return 5*theta_0 - theta_1*(2*x**2) + theta_2*np.cos(2*x) + theta_3*np.exp(x)\n",
    "\n",
    "function2 = np.vectorize(model_eqn_2)"
   ]
  },
  {
   "cell_type": "code",
   "execution_count": null,
   "metadata": {},
   "outputs": [],
   "source": []
  },
  {
   "cell_type": "code",
   "execution_count": 5,
   "metadata": {},
   "outputs": [],
   "source": [
    "# define parameter space\n",
    "x_bound = np.array([-1, 1])\n",
    "Nx = 100\n",
    "xvals = np.linspace(x_bound[0], x_bound[-1], Nx)\n",
    "\n",
    "theta_0_bound = np.array([-1, 1]).reshape(1,-1)\n",
    "theta_1_bound = np.array([-1, 1]).reshape(1,-1)\n",
    "theta_2_bound = np.array([-1, 1]).reshape(1,-1)\n",
    "theta_3_bound = np.array([-1, 1]).reshape(1,-1)\n",
    "\n",
    "parameter_bounds = np.concatenate((theta_0_bound, theta_1_bound, theta_2_bound, theta_3_bound), axis=0)\n",
    "\n",
    "#parameter_bounds = np.concatenate((theta_0_bound, theta_1_bound), axis=0)\n",
    "\n",
    "theta_0_vals = np.linspace(parameter_bounds[0,0], parameter_bounds[0,1], 100)\n",
    "theta_1_vals = np.linspace(parameter_bounds[1,0], parameter_bounds[1,1], 100)\n",
    "theta_2_vals = np.linspace(parameter_bounds[2,0], parameter_bounds[2,1], 100)\n",
    "theta_3_vals = np.linspace(parameter_bounds[2,0], parameter_bounds[2,1], 100)\n",
    "\n",
    "\n",
    "theta_vals = np.concatenate((theta_0_vals.reshape(1,-1), theta_1_vals.reshape(1,-1), theta_2_vals.reshape(1,-1), theta_3_vals.reshape(1,-1)), axis=0)\n",
    "\n",
    "#theta_vals = np.concatenate((theta_0_vals.reshape(1,-1), theta_1_vals.reshape(1,-1)), axis=0)"
   ]
  },
  {
   "cell_type": "code",
   "execution_count": 6,
   "metadata": {},
   "outputs": [],
   "source": [
    "\n",
    "def toy_model_4D(theta_0, theta_1, theta_2, theta_3):\n",
    "    \n",
    "    outputs =  []\n",
    "    for x in xvals:\n",
    "        output = theta_0 + theta_1*(x) + theta_2*(x**2) + 4*theta_3*(x**3)\n",
    "        outputs.append(output)\n",
    "    for x in xvals:\n",
    "        output = theta_0 - theta_1*(x) + theta_2*(x**2) - 2*theta_3*(x**3)\n",
    "        #output = 5*theta_0 - theta_1*(2*x**2) + theta_2*np.cos(2*x) + theta_3*np.exp(x)\n",
    "        outputs.append(output)\n",
    "    return np.array(outputs)"
   ]
  },
  {
   "cell_type": "code",
   "execution_count": 89,
   "metadata": {},
   "outputs": [
    {
     "name": "stdout",
     "output_type": "stream",
     "text": [
      "[ 1.4         1.30303752  1.2100771   1.1210396   1.03584586  0.95441673\n",
      "  0.87667307  0.80253571  0.73192552  0.66476334  0.60097001  0.54046639\n",
      "  0.48317333  0.42901168  0.37790228  0.32976598  0.28452364  0.2420961\n",
      "  0.20240421  0.16536882  0.13091078  0.09895094  0.06941015  0.04220926\n",
      "  0.01726911 -0.00548944 -0.02614555 -0.04477836 -0.06146703 -0.07629071\n",
      " -0.08932855 -0.10065969 -0.1103633  -0.11851852 -0.1252045  -0.13050039\n",
      " -0.13448535 -0.13723852 -0.13883906 -0.13936611 -0.13889883 -0.13751637\n",
      " -0.13529788 -0.13232251 -0.12866941 -0.12441773 -0.11964662 -0.11443524\n",
      " -0.10886273 -0.10300825 -0.09695094 -0.09076996 -0.08454445 -0.07835358\n",
      " -0.07227648 -0.06639232 -0.06078023 -0.05551938 -0.05068891 -0.04636798\n",
      " -0.04263572 -0.03957131 -0.03725388 -0.03576258 -0.03517658 -0.03557501\n",
      " -0.03703704 -0.0396418  -0.04346846 -0.04859615 -0.05510405 -0.06307128\n",
      " -0.07257701 -0.08370039 -0.09652056 -0.11111668 -0.12756789 -0.14595336\n",
      " -0.16635223 -0.18884365 -0.21350676 -0.24042074 -0.26966471 -0.30131784\n",
      " -0.33545928 -0.37216817 -0.41152366 -0.45360492 -0.49849108 -0.54626131\n",
      " -0.59699474 -0.65077054 -0.70766784 -0.76776581 -0.8311436  -0.89788034\n",
      " -0.96805521 -1.04174734 -1.11903588 -1.2       ]\n"
     ]
    }
   ],
   "source": [
    "# for testing: true datapoints\n",
    "\n",
    "true_parameters = [-0.1, 0.3, 0.2, -0.4]\n",
    "\n",
    "ndim = len(true_parameters)\n",
    "\n",
    "output_range = (toy_model_4D(-1,-1,-1,-1) - toy_model_4D(1,1,1,1))\n",
    "\n",
    "#sigma_obs = np.abs(output_range)*0.01 # observational uncertainty variance\n",
    "\n",
    "sigma_obs = np.ones(2*Nx)*1\n",
    "#var_obs = np.concatenate((np.ones(Nx)*0.1, np.ones(Nx)*0.1)) # observational uncertainty variance\n",
    "\n",
    "#var_obs = np.abs(output_ratio)*0.1 # observational uncertainty variance\n",
    "\n",
    "error_obs = np.zeros(2*Nx)\n",
    "for i in range(2*Nx):\n",
    "    error_obs[i] = 1 * np.random.normal(0, sigma_obs[i])\n",
    "\n",
    "\n",
    "z_1 = function1(xvals, true_parameters[0], true_parameters[1], true_parameters[2], true_parameters[3])# observed datapoint\n",
    "\n",
    "\n",
    "print(z_1)\n",
    "\n",
    "z_2 = function2(xvals, true_parameters[0], true_parameters[1], true_parameters[2], true_parameters[3]) + error_obs[Nx:]  # observed datapoint\n",
    "\n"
   ]
  },
  {
   "cell_type": "code",
   "execution_count": 76,
   "metadata": {},
   "outputs": [],
   "source": [
    "#obs_data_all = toy_model3D(*true_parameters) + error_f1"
   ]
  },
  {
   "cell_type": "code",
   "execution_count": 77,
   "metadata": {},
   "outputs": [
    {
     "data": {
      "text/plain": [
       "Text(0, 0.5, '$z_{2}$')"
      ]
     },
     "execution_count": 77,
     "metadata": {},
     "output_type": "execute_result"
    },
    {
     "data": {
      "image/png": "[encoded data removed]",
      "text/plain": [
       "<Figure size 720x360 with 2 Axes>"
      ]
     },
     "metadata": {
      "needs_background": "light"
     },
     "output_type": "display_data"
    }
   ],
   "source": [
    "fig, (ax1, ax2) = plt.subplots(1,2, figsize=(10,5))\n",
    "\n",
    "\n",
    "ax1.plot(xvals, z_1)\n",
    "ax2.plot(xvals, z_2)\n",
    "\n",
    "ax1.set_title('Observational Data, Function 1')\n",
    "ax2.set_title('Observational Data, Function 2')\n",
    "\n",
    "ax1.set_xlabel('x')\n",
    "ax1.set_ylabel(r'$z_{1}$')\n",
    "ax1.set_xlabel('x')\n",
    "ax1.set_ylabel(r'$z_{2}$')"
   ]
  },
  {
   "cell_type": "code",
   "execution_count": 84,
   "metadata": {},
   "outputs": [],
   "source": [
    "def design_matrix_f1(x, p=4):\n",
    "    X_d = np.zeros((len(x),p))\n",
    "    X_d[:,0] = 1\n",
    "    X_d[:,1] = x\n",
    "    X_d[:,2] = x**2\n",
    "    X_d[:,3] = 4*x**3\n",
    "    return X_d\n",
    "\n",
    "def design_matrix_f2(x, p=3):\n",
    "    X_d = np.zeros((len(x),p))\n",
    "    X_d[:,0] = 1\n",
    "    X_d[:,1] = -x\n",
    "    X_d[:,2] = x**2\n",
    "    X_d[:,3] = -2*x**3\n",
    "    return X_d\n",
    "\n",
    "\n",
    "\n",
    "# Create design matrix\n",
    "X1 = design_matrix_f1(xvals, p=4)\n",
    "X2 = design_matrix_f2(xvals, p=4)\n"
   ]
  },
  {
   "cell_type": "code",
   "execution_count": 85,
   "metadata": {},
   "outputs": [],
   "source": [
    "def A_matrix(X_d, variance):\n",
    "    for i in range(X_d.shape[0]):\n",
    "        X_d[i] = X_d[i] / np.sqrt(variance[i])\n",
    "    return X_d"
   ]
  },
  {
   "cell_type": "code",
   "execution_count": 86,
   "metadata": {},
   "outputs": [],
   "source": [
    "A1 = A_matrix(X1, sigma_obs[:Nx])\n",
    "b1 = z_1 / sigma_obs[:Nx]\n",
    "\n",
    "A2 = A_matrix(X2, sigma_obs[Nx:])\n",
    "b2 = z_2 / sigma_obs[Nx:]"
   ]
  },
  {
   "cell_type": "code",
   "execution_count": 87,
   "metadata": {},
   "outputs": [],
   "source": [
    "def solve_theta(A, b):\n",
    "    theta_best = ((np.linalg.inv(A.T.dot(A))).dot(A.T)).dot(b)\n",
    "    return theta_best.flatten()\n",
    "\n",
    "\n",
    "def solve_normal_equation(X_d, y):\n",
    "    \"\"\"\n",
    "    Solve the normal equation.\n",
    "    \n",
    "    Args:\n",
    "        X_d: Design matrix of shape (m,n) with 'm' independent data\n",
    "               and 'n' features.\n",
    "        y: Dependent data of shape (m,1).\n",
    "                  \n",
    "    Returns:\n",
    "        theta_best: Best parameters, array of shape (n,).\n",
    "    \"\"\"\n",
    "    theta_best = ((np.linalg.inv(X_d.T.dot(X_d))).dot(X_d.T)).dot(y)\n",
    "    return theta_best.flatten()"
   ]
  },
  {
   "cell_type": "code",
   "execution_count": 90,
   "metadata": {},
   "outputs": [
    {
     "name": "stdout",
     "output_type": "stream",
     "text": [
      "[ 1.4         1.30303752  1.2100771   1.1210396   1.03584586  0.95441673\n",
      "  0.87667307  0.80253571  0.73192552  0.66476334  0.60097001  0.54046639\n",
      "  0.48317333  0.42901168  0.37790228  0.32976598  0.28452364  0.2420961\n",
      "  0.20240421  0.16536882  0.13091078  0.09895094  0.06941015  0.04220926\n",
      "  0.01726911 -0.00548944 -0.02614555 -0.04477836 -0.06146703 -0.07629071\n",
      " -0.08932855 -0.10065969 -0.1103633  -0.11851852 -0.1252045  -0.13050039\n",
      " -0.13448535 -0.13723852 -0.13883906 -0.13936611 -0.13889883 -0.13751637\n",
      " -0.13529788 -0.13232251 -0.12866941 -0.12441773 -0.11964662 -0.11443524\n",
      " -0.10886273 -0.10300825 -0.09695094 -0.09076996 -0.08454445 -0.07835358\n",
      " -0.07227648 -0.06639232 -0.06078023 -0.05551938 -0.05068891 -0.04636798\n",
      " -0.04263572 -0.03957131 -0.03725388 -0.03576258 -0.03517658 -0.03557501\n",
      " -0.03703704 -0.0396418  -0.04346846 -0.04859615 -0.05510405 -0.06307128\n",
      " -0.07257701 -0.08370039 -0.09652056 -0.11111668 -0.12756789 -0.14595336\n",
      " -0.16635223 -0.18884365 -0.21350676 -0.24042074 -0.26966471 -0.30131784\n",
      " -0.33545928 -0.37216817 -0.41152366 -0.45360492 -0.49849108 -0.54626131\n",
      " -0.59699474 -0.65077054 -0.70766784 -0.76776581 -0.8311436  -0.89788034\n",
      " -0.96805521 -1.04174734 -1.11903588 -1.2       ]\n"
     ]
    }
   ],
   "source": [
    "#thet = solve_theta(X1,z_1)\n",
    "\n",
    "thet = solve_normal_equation(X1, z_1)\n",
    "\n",
    "print(z_1)\n",
    "# [-0.1, 0.3, 0.2, -0.4]"
   ]
  },
  {
   "cell_type": "code",
   "execution_count": 83,
   "metadata": {},
   "outputs": [],
   "source": [
    "def H_matrix(A):\n",
    "    return np.linalg.inv(A.T.dot(A))"
   ]
  },
  {
   "cell_type": "code",
   "execution_count": null,
   "metadata": {},
   "outputs": [],
   "source": [
    "def covariance(X_d, variance):\n",
    "    return variance*np.linalg.inv(X_d.T.dot(X_d))"
   ]
  },
  {
   "cell_type": "code",
   "execution_count": null,
   "metadata": {},
   "outputs": [],
   "source": [
    "#cov_matrix_f1 = covariance(X1, var_obs[:Nx])\n",
    "#cov_matrix_f2 = covariance(X2, var_exp_f2)\n",
    "theta_f1 = solve_theta(A1, b1)\n",
    "theta_f2 = solve_theta(A2, b2)\n",
    "\n",
    "true_thetas = [theta_f1, theta_f2]\n",
    "\n",
    "\n",
    "H1 = H_matrix(A1)\n",
    "H2 = H_matrix(A2)\n"
   ]
  },
  {
   "cell_type": "code",
   "execution_count": null,
   "metadata": {},
   "outputs": [],
   "source": [
    "# calculate product of posteriors\n",
    "H3 = inv(inv(H1) + inv(H2))\n",
    "\n",
    "H32 =  H1.dot( inv(H1 + H2).dot(H2) )\n",
    "\n",
    "L1 = inv(np.linalg.cholesky(H1 + H2)).dot(H1)\n",
    "L2 = inv(np.linalg.cholesky(H1 + H2)).dot(H2)\n",
    "\n",
    "H33 = np.dot(L1.T, L2)\n",
    "\n",
    "TM_mean = np.dot(np.dot(H3,inv(H1)),theta_f1) + np.dot(np.dot(H3,inv(H2)),theta_f2)\n",
    "\n",
    "print(H3.dot((np.dot(inv(H1),theta_f1) + np.dot(inv(H2),theta_f2))))\n",
    "\n",
    "print(TM_mean)"
   ]
  },
  {
   "cell_type": "code",
   "execution_count": null,
   "metadata": {},
   "outputs": [],
   "source": [
    "def get_cov_ellipse(cov, centre, nstd, ax, color):\n",
    "    \"\"\"\n",
    "    Return a matplotlib Ellipse patch representing the covariance matrix\n",
    "    cov centred at centre and scaled by the factor nstd.\n",
    "\n",
    "    \"\"\"\n",
    "\n",
    "    # Find and sort eigenvalues and eigenvectors into descending order\n",
    "    eigvals, eigvecs = np.linalg.eigh(cov)\n",
    "    order = eigvals.argsort()[::-1]\n",
    "    eigvals, eigvecs = eigvals[order], eigvecs[:, order]\n",
    "\n",
    "    # The anti-clockwise angle to rotate our ellipse by \n",
    "    vx, vy = eigvecs[:,0][0], eigvecs[:,0][1]\n",
    "    theta = np.arctan2(vy, vx)\n",
    "\n",
    "    # Width and height of ellipse to draw\n",
    "    width, height = 2 * nstd * np.sqrt(np.abs(eigvals))\n",
    "    \n",
    "    t = np.linspace(0, 2*np.pi, 100)\n",
    "    Ell = np.array([0.5*width*np.cos(t) , 0.5*height*np.sin(t)]) \n",
    "    R_rot = np.array([[np.cos(theta) , -np.sin(theta)],[np.sin(theta), np.cos(theta)]])  \n",
    "    Ell_rot = np.zeros((2,Ell.shape[1]))\n",
    "    for i in range(Ell.shape[1]):\n",
    "        Ell_rot[:,i] = np.dot(R_rot,Ell[:,i])\n",
    "    \n",
    "    ax.plot( centre[0]+Ell_rot[0,:] , centre[1]+Ell_rot[1,:], color=color)\n",
    "    #ax.plot(Ell_rot[:,0], Ell_rot[:,1])"
   ]
  },
  {
   "cell_type": "code",
   "execution_count": null,
   "metadata": {},
   "outputs": [],
   "source": [
    "def plot_ellipses(fig, parameter_bounds, true_parameters, H, theta_best, theta_vals, color):\n",
    "    theta_names = [r'$\\theta_{1}$', r'$\\theta_{2}$', r'$\\theta_{3}$', r'$\\theta_{4}$']\n",
    "    N = len(theta_best)\n",
    "    \n",
    "    for i in range(N):\n",
    "        for j in range(N):\n",
    "            ax = fig.axes[i + N*j]\n",
    "            if i != 0:\n",
    "                ax.axes.yaxis.set_visible(False)\n",
    "                \n",
    "            if i == j:\n",
    "                if color == 'mediumaquamarine':\n",
    "                    ax_right = ax.twinx()\n",
    "                    ax_right.plot(theta_vals[i], stats.norm.pdf(theta_vals[i], theta_best[i], np.sqrt(H[i,i])), color=color)\n",
    "                    ax_right.set_title(str(theta_names[i]) + '=' + str(round(theta_best[i], 2)), fontsize=14)\n",
    "                \n",
    "            elif i < j:\n",
    "                \n",
    "                cov_matrix = np.array([[H[i,i], H[i,j]],[H[j,i], H[j,j]]])\n",
    "                get_cov_ellipse(cov_matrix, [theta_best[i], theta_best[j]], 3, ax, color)\n",
    "                ax.set_ylabel(theta_names[j])\n",
    "                ax.set_xlabel(theta_names[i])\n",
    "                ax.set_xlim([parameter_bounds[i,0], parameter_bounds[i,1]])\n",
    "                ax.set_ylim([parameter_bounds[j,0], parameter_bounds[j,1]])\n",
    "                #ax.set_ylim([-5, 5])\n",
    "                \n",
    "            else:\n",
    "                ax.axis('off')"
   ]
  },
  {
   "cell_type": "code",
   "execution_count": null,
   "metadata": {},
   "outputs": [],
   "source": [
    "color_list = ['plum', 'mediumaquamarine', 'red']\n",
    "N = ndim\n",
    "fig, axes = plt.subplots(N,N,figsize=(8,8))\n",
    "\n",
    "ax = fig.axes[5]\n",
    "plot_ellipses(fig, parameter_bounds, true_parameters, H1, theta_f1, theta_vals, color_list[0])\n",
    "plot_ellipses(fig, parameter_bounds, true_parameters, H2, theta_f2, theta_vals, color_list[1])\n",
    "plot_ellipses(fig, parameter_bounds, true_parameters, H3, TM_mean, theta_vals, color_list[2])\n",
    "\n",
    "\n",
    "ax.scatter(1,1,color=color_list[0],label='Function 1')\n",
    "ax.scatter(1,1,color=color_list[1],label='Function 2')\n",
    "ax.legend(loc='center')\n",
    "\n"
   ]
  },
  {
   "cell_type": "code",
   "execution_count": null,
   "metadata": {},
   "outputs": [],
   "source": [
    "file2 = open(\"4D_analytic_mean.txt\", \"w\")\n",
    "\n",
    "np.savetxt(file2, TM_mean)\n",
    "    \n",
    "file2.close()\n",
    "\n",
    "file1 = open(\"4D_analytic_cov.txt\", \"w\")\n",
    "\n",
    "for i in range(H3.shape[0]):\n",
    "    np.savetxt(file1, H3[i])\n",
    "    \n",
    "file1.close()\n",
    "\n",
    "\n",
    "true_parameters = [-0.1, 0.3, 0.2, -0.4]\n",
    "print(TM_mean)\n"
   ]
  },
  {
   "cell_type": "code",
   "execution_count": null,
   "metadata": {},
   "outputs": [],
   "source": [
    "# calculate product of posteriors\n",
    "\n",
    "C1 = np.array([[0.7,0.9],[0.9, 1.9]])\n",
    "C2 = np.array([[0.5,0],[0, 1.2]])\n",
    "\n",
    "C3 = inv(inv(C1) + inv(C2))\n",
    "\n",
    "mean = np.dot(np.dot(C3,inv(C1)),[4,6]) + np.dot(np.dot(C3,inv(C2)),[3,8])\n",
    "print(mean)"
   ]
  },
  {
   "cell_type": "code",
   "execution_count": null,
   "metadata": {},
   "outputs": [],
   "source": []
  },
  {
   "cell_type": "code",
   "execution_count": null,
   "metadata": {},
   "outputs": [],
   "source": []
  },
  {
   "cell_type": "code",
   "execution_count": null,
   "metadata": {},
   "outputs": [],
   "source": []
  },
  {
   "cell_type": "code",
   "execution_count": null,
   "metadata": {
    "scrolled": true
   },
   "outputs": [],
   "source": []
  },
  {
   "cell_type": "code",
   "execution_count": null,
   "metadata": {},
   "outputs": [],
   "source": []
  },
  {
   "cell_type": "code",
   "execution_count": null,
   "metadata": {},
   "outputs": [],
   "source": []
  },
  {
   "cell_type": "code",
   "execution_count": null,
   "metadata": {},
   "outputs": [],
   "source": []
  },
  {
   "cell_type": "code",
   "execution_count": null,
   "metadata": {},
   "outputs": [],
   "source": []
  }
 ],
 "metadata": {
  "kernelspec": {
   "display_name": "Python 3",
   "language": "python",
   "name": "python3"
  },
  "language_info": {
   "codemirror_mode": {
    "name": "ipython",
    "version": 3
   },
   "file_extension": ".py",
   "mimetype": "text/x-python",
   "name": "python",
   "nbconvert_exporter": "python",
   "pygments_lexer": "ipython3",
   "version": "3.8.8"
  }
 },
 "nbformat": 4,
 "nbformat_minor": 4
}
