{
 "cells": [
  {
   "cell_type": "code",
   "execution_count": 10,
   "metadata": {},
   "outputs": [],
   "source": [
    "import numpy as np\n",
    "import matplotlib.pyplot as plt\n",
    "from sklearn.preprocessing import PolynomialFeatures"
   ]
  },
  {
   "cell_type": "code",
   "execution_count": 11,
   "metadata": {},
   "outputs": [],
   "source": [
    "def design_matrix(X, degree=2):\n",
    "    \"\"\"\n",
    "    Returns a design matrix.\n",
    "    \n",
    "    Args:\n",
    "        X: Array of shape (m,1) with 'm' independent data.\n",
    "        degree: Integer with the degree of the polynomial. \n",
    "                  Note that a degree-n polynomial has n+1 coefficients.\n",
    "                  \n",
    "    Returns:\n",
    "        X_d: Design matrix of shape (m,  order+1).\n",
    "    \"\"\"\n",
    "    \n",
    "    X_d = np.ones((len(X),1))                  # Create array of 1's\n",
    "    for i in range(1, degree+1):               # Iterate through number of polynomial orders\n",
    "        X_d = np.append(X_d, X**i, axis=1)     # Add columns of X^i to array\n",
    "    return X_d"
   ]
  },
  {
   "cell_type": "code",
   "execution_count": 34,
   "metadata": {},
   "outputs": [],
   "source": [
    "m = 200 # Number of data\n",
    "\n",
    "# X are picked uniform random [0,2]\n",
    "X = 2 * np.random.rand(m, 1)\n",
    "# Linear relation to the predicted value, but with Gaussian noise (mean=0, variance=1)\n",
    "y = (-0.3 * X**3 ) + (0.5 * X**2 ) + ( X ) + 0.4 + ( 0.1 * np.random.randn(m, 1))"
   ]
  },
  {
   "cell_type": "code",
   "execution_count": 35,
   "metadata": {},
   "outputs": [],
   "source": [
    "def solve_normal_equation(X_d, y):\n",
    "    \"\"\"\n",
    "    Solve the normal equation.\n",
    "    \n",
    "    Args:\n",
    "        X_d: Design matrix of shape (m,n) with 'm' independent data\n",
    "               and 'n' features.\n",
    "        y: Dependent data of shape (m,1).\n",
    "                  \n",
    "    Returns:\n",
    "        theta_best: Best parameters, array of shape (n,).\n",
    "    \"\"\"\n",
    "    theta_best = ((np.linalg.inv(X_d.T.dot(X_d))).dot(X_d.T)).dot(y)\n",
    "    return theta_best.flatten()"
   ]
  },
  {
   "cell_type": "code",
   "execution_count": 36,
   "metadata": {},
   "outputs": [
    {
     "name": "stdout",
     "output_type": "stream",
     "text": [
      "Coefficients from normal equation: [ 0.39157226  1.00154944  0.48321736 -0.2886678 ]\n",
      "Coefficients from true data generator: [0.4, 1, 0.5, -0.3]\n"
     ]
    }
   ],
   "source": [
    "X_d = design_matrix(X, 3)                                 # Generate design matrix, degree = 2\n",
    "theta = solve_normal_equation(X_d, y)                     # Solve normal equation\n",
    "true_coef = [0.4, 1, 0.5, -0.3]\n",
    "print(\"Coefficients from normal equation: {}\".format(theta))\n",
    "print(\"Coefficients from true data generator: {}\".format(true_coef))"
   ]
  },
  {
   "cell_type": "code",
   "execution_count": 37,
   "metadata": {},
   "outputs": [
    {
     "data": {
      "image/png": "[encoded data removed]",
      "text/plain": [
       "<Figure size 720x576 with 1 Axes>"
      ]
     },
     "metadata": {
      "needs_background": "light"
     },
     "output_type": "display_data"
    }
   ],
   "source": [
    "X_new = np.linspace(0, 2, 100).reshape(100, 1)            # Generate 100 X values between 0 and 2\n",
    "poly_transform = PolynomialFeatures(degree=3)\n",
    "X_poly = poly_transform.fit_transform(X_new)              # Generate polynomial matrix from X values\n",
    "y_new = X_poly.dot(theta)                                 # Predict y values using theta\n",
    "\n",
    "\n",
    "fig, ax = plt.subplots(figsize=(10,8))\n",
    "ax.plot(X_new, y_new, color='red', label=\"Model Prediction\")      # Plot predicted values\n",
    "ax.plot(X, y, \"b.\",label=\"True Data\")                             # Plot true values\n",
    "ax.set_xlabel('X')\n",
    "ax.set_ylabel('y')\n",
    "ax.legend(loc='best');"
   ]
  },
  {
   "cell_type": "code",
   "execution_count": 38,
   "metadata": {},
   "outputs": [],
   "source": [
    "def A_matrix(X_d, variance):\n",
    "    for i in range(X_d.shape[0]):\n",
    "        X_d[i] = X_d[i] / np.sqrt(variance[i])\n",
    "    return X_d"
   ]
  },
  {
   "cell_type": "code",
   "execution_count": null,
   "metadata": {},
   "outputs": [],
   "source": [
    "A1 = A_matrix(X1, var_obs)\n",
    "b1 = z_1 / np.sqrt(var_obs)\n",
    "\n",
    "A2 = A_matrix(X2, var_obs)\n",
    "b2 = z_2 / np.sqrt(var_obs)"
   ]
  }
 ],
 "metadata": {
  "kernelspec": {
   "display_name": "Python 3",
   "language": "python",
   "name": "python3"
  },
  "language_info": {
   "codemirror_mode": {
    "name": "ipython",
    "version": 3
   },
   "file_extension": ".py",
   "mimetype": "text/x-python",
   "name": "python",
   "nbconvert_exporter": "python",
   "pygments_lexer": "ipython3",
   "version": "3.8.8"
  }
 },
 "nbformat": 4,
 "nbformat_minor": 4
}
