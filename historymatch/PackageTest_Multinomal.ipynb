{
 "cells": [
  {
   "cell_type": "code",
   "execution_count": 1,
   "metadata": {},
   "outputs": [],
   "source": [
    "# import internal files\n",
    "import emulators\n",
    "import sample\n",
    "import historymatch\n",
    "import plot\n",
    "\n",
    "import numpy as np\n",
    "import matplotlib.pyplot as plt\n",
    "from sklearn.cluster import KMeans\n",
    "from scipy import stats\n",
    "\n",
    "plt.rcParams.update({'font.size': 10})\n",
    "\n",
    "np.random.seed(4)\n",
    "\n",
    "import importlib"
   ]
  },
  {
   "cell_type": "code",
   "execution_count": 2,
   "metadata": {},
   "outputs": [],
   "source": [
    "def model_eqn_1(x, theta_0, theta_1, theta_2):\n",
    "    return theta_0 + theta_1*(x) + theta_2*(x**2)\n",
    "\n",
    "function1 = np.vectorize(model_eqn_1)"
   ]
  },
  {
   "cell_type": "code",
   "execution_count": 3,
   "metadata": {},
   "outputs": [],
   "source": [
    "def model_eqn_2(x, theta_0, theta_1, theta_2):\n",
    "    return theta_0 - theta_1*np.sin(x) + (theta_2**1)*np.cos(x)\n",
    "\n",
    "function2 = np.vectorize(model_eqn_2)"
   ]
  },
  {
   "cell_type": "code",
   "execution_count": 4,
   "metadata": {},
   "outputs": [],
   "source": [
    "# define parameter space\n",
    "var_method = 0\n",
    "\n",
    "theta_0_bound = np.array([-1, 1]).reshape(1,-1)\n",
    "theta_1_bound = np.array([-1, 1]).reshape(1,-1)\n",
    "theta_2_bound = np.array([-1, 1]).reshape(1,-1)\n",
    "\n",
    "parameter_bounds = np.concatenate((theta_0_bound, theta_1_bound, theta_2_bound), axis=0)\n",
    "\n",
    "theta_0_vals = np.linspace(parameter_bounds[0,0], parameter_bounds[0,1], 100)\n",
    "theta_1_vals = np.linspace(parameter_bounds[1,0], parameter_bounds[1,1], 100)\n",
    "theta_2_vals = np.linspace(parameter_bounds[2,0], parameter_bounds[2,1], 100)\n",
    "\n",
    "theta_vals = np.concatenate((theta_0_vals.reshape(1,-1), theta_1_vals.reshape(1,-1), theta_2_vals.reshape(1,-1)), axis=0)"
   ]
  },
  {
   "cell_type": "code",
   "execution_count": 1,
   "metadata": {},
   "outputs": [],
   "source": [
    "Nx = 5\n",
    "\n",
    "def toy_model(theta_0, theta_1, theta_2):\n",
    "    \n",
    "    x_bound = np.array([0.1, 1])\n",
    "    Nx = 5\n",
    "    xvals = np.linspace(x_bound[0], x_bound[-1], Nx)\n",
    "\n",
    "    outputs =  []\n",
    "    for x in xvals:\n",
    "        output = theta_0 + (theta_1**1)*(x) + theta_2*(x**2)\n",
    "        outputs.append(output)\n",
    "    for x in xvals:\n",
    "        output = theta_0 - theta_1*np.sin(x) + (theta_2**1)*np.cos(x)\n",
    "        outputs.append(output)\n",
    "    for x in xvals:\n",
    "        output = theta_0 + (theta_1**1)*(x) + theta_2*(x**2)\n",
    "        outputs.append(output)\n",
    "    return np.array(outputs)\n"
   ]
  },
  {
   "cell_type": "code",
   "execution_count": 6,
   "metadata": {},
   "outputs": [],
   "source": [
    "# generate observational data with some uncertainty\n",
    "true_parameters = [-0.1, 0.3, 0.4]\n",
    "\n",
    "'''output_ratio = (toy_model(-1,-1,-1) - toy_model(1,1,1)) / (toy_model(-1,-1,-1) - toy_model(1,1,1))[0]\n",
    "\n",
    "var_obs = output_ratio*0.001 # observational uncertainty variance\n",
    "\n",
    "\n",
    "error_obs = np.zeros(2*Nx)\n",
    "for i in range(2*Nx):\n",
    "    error_obs[i] = np.random.normal(0, np.sqrt(var_obs[i]))\n",
    "\n",
    "\n",
    "obs_data = toy_model(*true_parameters) + error_obs'''\n",
    "\n",
    "\n",
    "\n",
    "\n",
    "var_obs = np.ones(2*Nx)*0.01 # observational uncertainty variance\n",
    "\n",
    "error_obs = np.random.normal(0, np.sqrt(var_obs), 2*Nx)\n",
    "\n",
    "obs_data = toy_model(*true_parameters) + error_obs\n"
   ]
  },
  {
   "cell_type": "code",
   "execution_count": 19,
   "metadata": {},
   "outputs": [],
   "source": [
    "nwaves = 4\n",
    "ndim = 3\n",
    "volshape = 'hypercube'"
   ]
  },
  {
   "cell_type": "code",
   "execution_count": 20,
   "metadata": {},
   "outputs": [],
   "source": [
    "importlib.reload(historymatch)\n",
    "\n",
    "# initialise history matching class\n",
    "HM = historymatch.HistoryMatch(obs_data,\n",
    "                               ndim, 'GP', volshape)"
   ]
  },
  {
   "cell_type": "code",
   "execution_count": 21,
   "metadata": {
    "scrolled": true
   },
   "outputs": [
    {
     "name": "stdout",
     "output_type": "stream",
     "text": [
      "(3, 2)\n",
      "(3, 2)\n",
      "Running wave 1\n",
      "Emulating output 0...\n",
      "Emulating output 1...\n",
      "Emulating output 2...\n",
      "Emulating output 3...\n",
      "Emulating output 4...\n",
      "Emulating output 5...\n",
      "Emulating output 6...\n",
      "Emulating output 7...\n",
      "Emulating output 8...\n",
      "Emulating output 9...\n",
      "(8000, 4)\n",
      "(236, 4)\n",
      "Convergence : False\n",
      "(3, 2)\n",
      "(3, 2)\n",
      "Relative nonimplausible volume remaining: 0.205\n",
      "Running wave 2\n",
      "Emulating output 0...\n",
      "Emulating output 1...\n",
      "Emulating output 2...\n",
      "Emulating output 3...\n",
      "Emulating output 4...\n",
      "Emulating output 5...\n",
      "Emulating output 6...\n",
      "Emulating output 7...\n",
      "Emulating output 8...\n",
      "Emulating output 9...\n",
      "(8000, 4)\n",
      "(456, 4)\n",
      "Convergence : True\n",
      "(3, 2)\n",
      "(3, 2)\n",
      "Relative nonimplausible volume remaining: 0.061\n",
      "Running wave 3\n",
      "Emulating output 0...\n",
      "Emulating output 1...\n",
      "Emulating output 2...\n",
      "Emulating output 3...\n",
      "Emulating output 4...\n",
      "Emulating output 5...\n",
      "Emulating output 6...\n",
      "Emulating output 7...\n",
      "Emulating output 8...\n",
      "Emulating output 9...\n",
      "(8000, 4)\n",
      "(1608, 4)\n",
      "Convergence : True\n",
      "(3, 2)\n",
      "(3, 2)\n",
      "Relative nonimplausible volume remaining: 0.059\n",
      "Running wave 4\n",
      "Emulating output 0...\n",
      "Emulating output 1...\n",
      "Emulating output 2...\n",
      "Emulating output 3...\n",
      "Emulating output 4...\n",
      "Emulating output 5...\n",
      "Emulating output 6...\n",
      "Emulating output 7...\n",
      "Emulating output 8...\n",
      "Emulating output 9...\n",
      "(8000, 4)\n",
      "(1608, 4)\n",
      "Convergence : True\n",
      "(3, 2)\n",
      "(3, 2)\n",
      "Relative nonimplausible volume remaining: 0.057\n"
     ]
    }
   ],
   "source": [
    "\n",
    "\n",
    "ToyModel = historymatch.Simulator(HM)\n",
    "ToyModel.set_simulator(toy_model)\n",
    "\n",
    "HM.set_observations(obs_data, np.sqrt(var_obs))\n",
    "HM.initialize_volume([-1,-1,-1], [1,1,1])\n",
    "\n",
    "results = HM.run(nwaves=nwaves)"
   ]
  },
  {
   "cell_type": "code",
   "execution_count": 22,
   "metadata": {},
   "outputs": [
    {
     "data": {
      "text/plain": [
       "<matplotlib.collections.PathCollection at 0x7f819389a730>"
      ]
     },
     "execution_count": 22,
     "metadata": {},
     "output_type": "execute_result"
    },
    {
     "data": {
      "image/png": "[encoded data removed]",
      "text/plain": [
       "<Figure size 720x720 with 9 Axes>"
      ]
     },
     "metadata": {
      "needs_background": "light"
     },
     "output_type": "display_data"
    }
   ],
   "source": [
    "importlib.reload(plot)\n",
    "\n",
    "fig, axes = plt.subplots(ndim,ndim,figsize=(10,10))\n",
    "#plot.opticaldepth_1D(results.samples[0], parameter_bounds[0], parameter = 0, bins=20, Fig=(fig,ax1))\n",
    "    \n",
    "#plot.plot_implausibility2D(results.samples[0], parameter_bounds, [0,1], bins=20)\n",
    "\n",
    "plot.plotcorner(results.samples[1], parameter_bounds, 3, Fig=(fig,axes), labels=('theta1', 'theta2', 'theta3'))\n",
    "axes[1,0].scatter(true_parameters[0],true_parameters[1], color='red')\n",
    "axes[2,0].scatter(true_parameters[0],true_parameters[2], color='red')\n",
    "axes[2,1].scatter(true_parameters[1],true_parameters[2], color='red')"
   ]
  },
  {
   "cell_type": "code",
   "execution_count": 23,
   "metadata": {},
   "outputs": [
    {
     "data": {
      "text/plain": [
       "(8000, 4)"
      ]
     },
     "execution_count": 23,
     "metadata": {},
     "output_type": "execute_result"
    }
   ],
   "source": [
    "results.samples[1].shape"
   ]
  },
  {
   "cell_type": "code",
   "execution_count": 24,
   "metadata": {},
   "outputs": [
    {
     "name": "stdout",
     "output_type": "stream",
     "text": [
      "(8000,)\n"
     ]
    }
   ],
   "source": [
    "if volshape == 'ellipsoid':\n",
    "    with open('data/3D_historymatch_ellipsoid_samples.txt', 'w') as file:\n",
    "        for i in range(len(results.samples)):\n",
    "            np.savetxt(file, results.samples[i])\n",
    "\n",
    "    with open('data/3D_historymatch_ellipsoid_w1.txt', 'w') as file:\n",
    "        np.savetxt(file, results.regions[0])\n",
    "    with open('data/3D_historymatch_ellipsoid_w2.txt', 'w') as file:\n",
    "        np.savetxt(file, results.regions[1])\n",
    "    with open('data/3D_historymatch_ellipsoid_w3.txt', 'w') as file:\n",
    "        np.savetxt(file, results.regions[2])\n",
    "        \n",
    "else:\n",
    "\n",
    "    with open('data/3D_historymatch_hypercube_samples.txt', 'w') as file:\n",
    "        for i in range(len(results.samples)):\n",
    "            np.savetxt(file, results.samples[i])\n",
    "\n",
    "    with open('data/3D_historymatch_hypercube_w1.txt', 'w') as file:\n",
    "        np.savetxt(file, results.regions[0])\n",
    "    with open('data/3D_historymatch_hypercube_w2.txt', 'w') as file:\n",
    "        np.savetxt(file, results.regions[1])\n",
    "    with open('data/3D_historymatch_hypercube_w3.txt', 'w') as file:\n",
    "        np.savetxt(file, results.regions[2])\n",
    "\n",
    "#with open('data/EL_Itrain.txt', 'w') as file:\n",
    "    #np.savetxt(file, results.Itrain)\n",
    "'''\n",
    "with open('data/HC_Itrain.txt', 'w') as file:\n",
    "    for i in range(len(results.Itrain)):\n",
    "        np.savetxt(file, results.Itrain[i])\n",
    "        \n",
    "with open('data/HC_Idata.txt', 'w') as file:\n",
    "    for i in range(len(results.Idata)):\n",
    "        np.savetxt(file, results.Idata[i])\n",
    "'''\n",
    "print(results.Idata[0].shape)\n",
    "\n",
    "analytic_mean = np.loadtxt(\"3D_analytic_mean.txt\").reshape(3,)\n",
    "analytic_cov = np.loadtxt(\"3D_analytic_cov.txt\").reshape(3,3)\n",
    "\n",
    "#print(results.samples[i])"
   ]
  },
  {
   "cell_type": "code",
   "execution_count": 13,
   "metadata": {},
   "outputs": [],
   "source": [
    "with open('data/3D_historymatch_hypercube_8z_testpts.txt', 'w') as file3:\n",
    "    for i in range(len(results.test_pts)):\n",
    "        np.savetxt(file3, results.test_pts[i])"
   ]
  },
  {
   "cell_type": "code",
   "execution_count": 14,
   "metadata": {},
   "outputs": [
    {
     "name": "stdout",
     "output_type": "stream",
     "text": [
      "(8000, 2)\n"
     ]
    }
   ],
   "source": [
    "emulator_output_w1 = np.concatenate((results.emulator_mu[0].reshape(-1,1), results.emulator_sd[0].reshape(-1,1)), axis=1)\n",
    "print(emulator_output_w1.shape)"
   ]
  },
  {
   "cell_type": "code",
   "execution_count": 15,
   "metadata": {},
   "outputs": [
    {
     "data": {
      "text/plain": [
       "\"\\nprint(np.min(results.test_pts[1][:,0]))\\nprint(np.max(results.test_pts[1][:,0]))\\n\\nwith open('data/3D_HC_true_output.txt', 'w') as file2:\\n    for i in range(nwaves):\\n        np.savetxt(file2, results.z_grid[i])\\n\\n    \\nwith open('data/3D_HC_emulator_output.txt', 'w') as file4:\\n    for i in range(nwaves):\\n        np.savetxt(file4, np.concatenate((results.emulator_mu[i].reshape(-1,1), results.emulator_sd[i].reshape(-1,1)), axis=1))\""
      ]
     },
     "execution_count": 15,
     "metadata": {},
     "output_type": "execute_result"
    }
   ],
   "source": [
    "'''with open('data/3D_historymatch_ellipsoid_8z_true_output.txt', 'w') as file2:\n",
    "\n",
    "    for i in range(nwaves):\n",
    "        # for plotting\n",
    "        theta1 = np.linspace(np.min(results.test_pts[i][:,0]),np.max(results.test_pts[i][:,0]),100)\n",
    "        theta2 = 0.3*np.ones(100)\n",
    "        theta3 = 0.4*np.ones(100)\n",
    "        test_grid = np.concatenate((theta1.reshape(-1,1), theta2.reshape(-1,1), theta3.reshape(-1,1)), axis=1)\n",
    "\n",
    "        true_output = np.zeros(100)\n",
    "        for i in range(100):\n",
    "            true_output[i] = toy_model(*test_grid[i])[-1]\n",
    "\n",
    "        np.savetxt(file2, true_output)\n",
    "\n",
    "\n",
    "#theta1 = np.linspace(-1,1,100)\n",
    "#theta2 = -1*np.ones(100)\n",
    "#theta3 = -1*np.ones(100)\n",
    "\n",
    "#test_grid = np.concatenate((theta1.reshape(-1,1), theta2.reshape(-1,1), theta3.reshape(-1,1)), axis=1)'''\n",
    "\n",
    "'''\n",
    "print(np.min(results.test_pts[1][:,0]))\n",
    "print(np.max(results.test_pts[1][:,0]))\n",
    "\n",
    "with open('data/3D_HC_true_output.txt', 'w') as file2:\n",
    "    for i in range(nwaves):\n",
    "        np.savetxt(file2, results.z_grid[i])\n",
    "\n",
    "    \n",
    "with open('data/3D_HC_emulator_output.txt', 'w') as file4:\n",
    "    for i in range(nwaves):\n",
    "        np.savetxt(file4, np.concatenate((results.emulator_mu[i].reshape(-1,1), results.emulator_sd[i].reshape(-1,1)), axis=1))'''"
   ]
  },
  {
   "cell_type": "code",
   "execution_count": 16,
   "metadata": {},
   "outputs": [],
   "source": [
    "def get_cov_ellipse(cov, centre, nstd, ax, color):\n",
    "    \"\"\"\n",
    "    Return a matplotlib Ellipse patch representing the covariance matrix\n",
    "    cov centred at centre and scaled by the factor nstd.\n",
    "\n",
    "    \"\"\"\n",
    "\n",
    "    # Find and sort eigenvalues and eigenvectors into descending order\n",
    "    eigvals, eigvecs = np.linalg.eigh(cov)\n",
    "    order = eigvals.argsort()[::-1]\n",
    "    eigvals, eigvecs = eigvals[order], eigvecs[:, order]\n",
    "\n",
    "    # The anti-clockwise angle to rotate our ellipse by \n",
    "    vx, vy = eigvecs[:,0][0], eigvecs[:,0][1]\n",
    "    theta = np.arctan2(vy, vx)\n",
    "\n",
    "    # Width and height of ellipse to draw\n",
    "    width, height = 2 * nstd * np.sqrt(np.abs(eigvals))\n",
    "    \n",
    "    t = np.linspace(0, 2*np.pi, 100)\n",
    "    Ell = np.array([0.5*width*np.cos(t) , 0.5*height*np.sin(t)]) \n",
    "    R_rot = np.array([[np.cos(theta) , -np.sin(theta)],[np.sin(theta), np.cos(theta)]])  \n",
    "    Ell_rot = np.zeros((2,Ell.shape[1]))\n",
    "    for i in range(Ell.shape[1]):\n",
    "        Ell_rot[:,i] = np.dot(R_rot,Ell[:,i])\n",
    "    \n",
    "    ax.plot( centre[0]+Ell_rot[0,:] , centre[1]+Ell_rot[1,:], color=color)"
   ]
  },
  {
   "cell_type": "code",
   "execution_count": 17,
   "metadata": {},
   "outputs": [
    {
     "data": {
      "image/png": "[encoded data removed]",
      "text/plain": [
       "<Figure size 720x720 with 9 Axes>"
      ]
     },
     "metadata": {
      "needs_background": "light"
     },
     "output_type": "display_data"
    }
   ],
   "source": [
    "fig, axes = plt.subplots(ndim,ndim,figsize=(10,10))\n",
    "#plot.opticaldepth_1D(results.samples[0], parameter_bounds[0], parameter = 0, bins=20, Fig=(fig,ax1))\n",
    "    \n",
    "#plot.plot_implausibility2D(results.samples[0], parameter_bounds, [0,1], bins=20)\n",
    "\n",
    "plot.plotcorner(results.samples[1], parameter_bounds, 3, Fig=(fig,axes), labels=('theta1', 'theta2', 'theta3'))\n",
    "\n",
    "H = analytic_cov\n",
    "\n",
    "get_cov_ellipse(np.array([[H[0,0], H[0,1]],[H[1,0], H[1,1]]]), [analytic_mean[0], analytic_mean[1]], 3, axes[1,0], 'red')\n",
    "get_cov_ellipse(np.array([[H[0,0], H[0,2]],[H[2,0], H[2,2]]]), [analytic_mean[0], analytic_mean[2]], 3, axes[2,0], 'red')\n",
    "get_cov_ellipse(np.array([[H[1,1], H[1,2]],[H[2,1], H[2,2]]]), [analytic_mean[1], analytic_mean[2]], 3, axes[2,1], 'red')\n",
    "\n",
    "\n",
    "#axes[1,0].scatter(true_parameters[0],true_parameters[1], color='red')\n",
    "#axes[2,0].scatter(true_parameters[0],true_parameters[2], color='red')\n",
    "#axes[2,1].scatter(true_parameters[1],true_parameters[2], color='red')"
   ]
  },
  {
   "cell_type": "code",
   "execution_count": null,
   "metadata": {},
   "outputs": [],
   "source": []
  }
 ],
 "metadata": {
  "kernelspec": {
   "display_name": "Python 3",
   "language": "python",
   "name": "python3"
  },
  "language_info": {
   "codemirror_mode": {
    "name": "ipython",
    "version": 3
   },
   "file_extension": ".py",
   "mimetype": "text/x-python",
   "name": "python",
   "nbconvert_exporter": "python",
   "pygments_lexer": "ipython3",
   "version": "3.8.8"
  }
 },
 "nbformat": 4,
 "nbformat_minor": 4
}
