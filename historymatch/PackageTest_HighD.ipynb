{
 "cells": [
  {
   "cell_type": "code",
   "execution_count": 1,
   "metadata": {},
   "outputs": [],
   "source": [
    "# import internal files\n",
    "import emulators\n",
    "import sample\n",
    "import historymatch\n",
    "import plot\n",
    "\n",
    "import numpy as np\n",
    "import matplotlib.pyplot as plt\n",
    "\n",
    "plt.rcParams.update({'font.size': 10})\n",
    "\n",
    "import importlib\n",
    "import time"
   ]
  },
  {
   "cell_type": "code",
   "execution_count": 2,
   "metadata": {},
   "outputs": [],
   "source": [
    "ndim = 4"
   ]
  },
  {
   "cell_type": "code",
   "execution_count": 3,
   "metadata": {},
   "outputs": [],
   "source": [
    "# define parameter space\n",
    "\n",
    "#theta_0_vals = np.linspace(parameter_bounds[0,0], parameter_bounds[0,1], 100)\n",
    "#theta_1_vals = np.linspace(parameter_bounds[1,0], parameter_bounds[1,1], 100)\n",
    "#theta_2_vals = np.linspace(parameter_bounds[2,0], parameter_bounds[2,1], 100)\n",
    "\n",
    "#theta_vals = np.concatenate((theta_0_vals.reshape(1,-1), theta_1_vals.reshape(1,-1), theta_2_vals.reshape(1,-1)), axis=0)"
   ]
  },
  {
   "cell_type": "code",
   "execution_count": 4,
   "metadata": {},
   "outputs": [],
   "source": [
    "#parameter_bounds = np.ones((ndim,2))\n",
    "#parameter_bounds[:,0] = -1*parameter_bounds[:,0]\n",
    "#parameter_bounds[:,1] = 2*parameter_bounds[:,1]\n",
    "\n",
    "# for 5D\n",
    "parameter_bounds = np.ones((ndim,2))\n",
    "parameter_bounds[:,0] = -1\n",
    "parameter_bounds[:,1] = 1"
   ]
  },
  {
   "cell_type": "code",
   "execution_count": 5,
   "metadata": {},
   "outputs": [],
   "source": [
    "Nx = 8\n",
    "x_bound = np.array([0.1, 1])\n",
    "xvals = np.linspace(x_bound[0], x_bound[-1], Nx)\n",
    "\n",
    "def toy_model6D(theta_1, theta_2, theta_3, theta_4, theta_5, theta_6):\n",
    "    \n",
    "    x_bound = np.array([0.1, 1])\n",
    "    Nx = 4\n",
    "    xvals = np.linspace(x_bound[0], x_bound[-1], Nx)\n",
    "\n",
    "    outputs =  []\n",
    "    for x in xvals:\n",
    "        output = theta_1 + theta_2*(x) + (theta_3**1)*(x**2) + theta_4*(x**3) \\\n",
    "               + theta_5*(10*x**4) + theta_6*(16*x**5)\n",
    "        outputs.append(output)\n",
    "    for x in xvals:\n",
    "        output = -theta_1 + theta_2*np.sin(x) + theta_3*np.sin(2*x) + (theta_4**1)*np.cos(x) \\\n",
    "               + theta_5*np.cos(2*x) + theta_6*(x)\n",
    "        outputs.append(output)\n",
    "    return np.array(outputs)\n",
    "\n",
    "def toy_model3D(theta_1, theta_2, theta_3):\n",
    "    \n",
    "    x_bound = np.array([0.1, 1])\n",
    "    Nx = 4\n",
    "    xvals = np.linspace(x_bound[0], x_bound[-1], Nx)\n",
    "\n",
    "    outputs =  []\n",
    "    for x in xvals:\n",
    "        output = theta_1 + theta_2*(x) + (theta_3)*(x**2)\n",
    "        outputs.append(output)\n",
    "    for x in xvals:\n",
    "        output = theta_1 + theta_2*np.sin(x) + theta_3*np.cos(2*x)\n",
    "        outputs.append(output)\n",
    "    return np.array(outputs)\n",
    "\n",
    "def toy_model_5D(theta_0, theta_1, theta_2, theta_3, theta_4):\n",
    "    \n",
    "    x_bound = np.array([0.1, 1])\n",
    "    Nx = 4\n",
    "    xvals = np.linspace(x_bound[0], x_bound[-1], Nx)\n",
    "\n",
    "    outputs =  []\n",
    "    for x in xvals:\n",
    "        output = 0.5*theta_0 + 5*theta_1*(x) + 5*theta_2*(x**2) + 5*theta_3*(x**3) + theta_4*(10*x**4 - 0.5)\n",
    "        outputs.append(output)\n",
    "    for x in xvals:\n",
    "        output = 0.5*theta_0 - 5*theta_1*np.sin(x) + 5*theta_2*np.cos(2*x) + 5*theta_3*np.exp(x) + theta_4*(1/(2*x)-0.5)\n",
    "        outputs.append(output)\n",
    "    return np.array(outputs)\n",
    "\n",
    "def toy_model_4D(theta_0, theta_1, theta_2, theta_3):\n",
    "    \n",
    "    x_bound = np.array([0.1, 1])\n",
    "    Nx = 8\n",
    "    xvals = np.linspace(x_bound[0], x_bound[-1], Nx)\n",
    "\n",
    "    outputs =  []\n",
    "    for x in xvals:\n",
    "        output = theta_0 + theta_1*(x) + theta_2*(x**2) + theta_3*(x**3)\n",
    "        outputs.append(output)\n",
    "    for x in xvals:\n",
    "        output = theta_0 - theta_1*(x**2) + theta_2*np.cos(2*x) + theta_3*np.exp(x)\n",
    "        outputs.append(output)\n",
    "    return np.array(outputs)"
   ]
  },
  {
   "cell_type": "code",
   "execution_count": 6,
   "metadata": {},
   "outputs": [
    {
     "name": "stdout",
     "output_type": "stream",
     "text": [
      "[0.005      0.00581799 0.0068868  0.00826382 0.01000644 0.01217205\n",
      " 0.01481804 0.0180018  0.01383995 0.01395984 0.013759   0.01329225\n",
      " 0.01263084 0.01185902 0.01106986 0.01036064]\n",
      "[-0.06112514 -0.04686483 -0.01559475  0.08945649  0.14327174 -0.06692296\n",
      " -0.09185157  0.126891   -0.35824547 -0.41821796 -0.44808012 -0.77944758\n",
      " -0.9861079  -1.05402792 -1.43214958 -1.58923189]\n"
     ]
    }
   ],
   "source": [
    "# generate observational data with some uncertainty\n",
    "true_parameters_3D = [-0.1, 0.3, 0.6]\n",
    "true_parameters_6D = [-0.1, 0.3, 0.6, -0.8, 0.2, 0.15]\n",
    "true_parameters_5D = [-0.1, 0.3, 0.6, -0.4, 0.15]\n",
    "true_parameters_4D = [-0.1, 0.3, 0.2, -0.4]\n",
    "\n",
    "output_ratio = (toy_model_4D(-1,-1,-1,-1) - toy_model_4D(1,1,1,1)) / (toy_model_4D(-1,-1,-1,-1) - toy_model_4D(1,1,1,1))[0]\n",
    "\n",
    "var_obs = output_ratio*0.005 # observational uncertainty variance\n",
    "\n",
    "\n",
    "\n",
    "error_obs = np.zeros(2*Nx)\n",
    "for i in range(2*Nx):\n",
    "    error_obs[i] = np.random.normal(0, np.sqrt(var_obs[i]))\n",
    "\n",
    "\n",
    "obs_data = toy_model_4D(*true_parameters_4D) + error_obs\n",
    "\n",
    "print(var_obs)\n",
    "print(obs_data)"
   ]
  },
  {
   "cell_type": "code",
   "execution_count": 7,
   "metadata": {},
   "outputs": [],
   "source": [
    "nwaves = 3"
   ]
  },
  {
   "cell_type": "code",
   "execution_count": 8,
   "metadata": {},
   "outputs": [],
   "source": [
    "importlib.reload(historymatch)\n",
    "\n",
    "\n",
    "\n",
    "# initialise history matching class\n",
    "HM = historymatch.HistoryMatch(obs_data,\n",
    "                               ndim, 'GP', 'ellipsoid')"
   ]
  },
  {
   "cell_type": "code",
   "execution_count": 9,
   "metadata": {
    "scrolled": true
   },
   "outputs": [],
   "source": [
    "\n",
    "\n",
    "ToyModel = historymatch.Simulator(HM)\n",
    "ToyModel.set_simulator(toy_model_4D)\n",
    "\n",
    "HM.set_observations(obs_data, np.sqrt(var_obs))\n",
    "HM.initialize_volume(parameter_bounds[:,0], parameter_bounds[:,1])\n",
    "\n"
   ]
  },
  {
   "cell_type": "code",
   "execution_count": 10,
   "metadata": {},
   "outputs": [
    {
     "name": "stdout",
     "output_type": "stream",
     "text": [
      "(4, 2)\n",
      "(4, 2)\n",
      "Running wave 1\n",
      "Emulating...\n",
      "[0.27984468 0.16049067 0.1508634  ... 0.13678892 0.14064134 0.15199794]\n",
      "Emulating...\n",
      "[0.28756459 0.16491803 0.15502517 ... 0.14056243 0.14452112 0.15619101]\n",
      "Emulating...\n",
      "[0.30011969 0.17211837 0.16179359 ... 0.1466994  0.15083093 0.16301033]\n",
      "Emulating...\n",
      "[0.32003708 0.18354097 0.17253099 ... 0.15643508 0.1608408  0.17382848]\n",
      "Emulating...\n",
      "[0.35052868 0.20102787 0.18896892 ... 0.17133946 0.17616494 0.19039002]\n",
      "Emulating...\n",
      "[0.39521491 0.22665539 0.21305912 ... 0.19318223 0.19862287 0.2146614 ]\n",
      "Emulating...\n",
      "[0.45782769 0.26256376 0.24681348 ... 0.22378754 0.23009013 0.2486696 ]\n",
      "Emulating...\n",
      "[0.54198837 0.31082984 0.29218424 ... 0.26492553 0.2723867  0.29438156]\n",
      "Emulating...\n",
      "[0.46848676 0.26867673 0.25255975 ... 0.22899773 0.23544705 0.25445909]\n",
      "Emulating...\n",
      "[0.49378772 0.2831868  0.26619942 ... 0.24136491 0.24816253 0.26820132]\n",
      "Emulating...\n",
      "[0.5260274  0.30167623 0.28357973 ... 0.25712377 0.26436521 0.28571235]\n",
      "Emulating...\n",
      "[0.56945917 0.32658431 0.30699366 ... 0.27835334 0.28619268 0.30930236]\n",
      "Emulating...\n",
      "[0.62699027 0.35957834 0.3380085  ... 0.30647471 0.31510604 0.34055043]\n",
      "Emulating...\n",
      "[0.69941762 0.40111537 0.37705386 ... 0.34187742 0.3515058  0.37988943]\n",
      "Emulating...\n",
      "[0.7856489  0.45056892 0.42354087 ... 0.38402753 0.39484299 0.42672604]\n",
      "Emulating...\n",
      "[0.88358383 0.50673452 0.47633729 ... 0.43189841 0.44406208 0.4799195 ]\n",
      "Relative nonimplausible volume remaining: 0.994\n",
      "Running wave 2\n",
      "Emulating...\n",
      "[0.17283428 0.09845642 0.14804502 ... 0.1322913  0.13159282 0.14355443]\n",
      "Emulating...\n",
      "[0.1621396  0.09236411 0.13888426 ... 0.12410535 0.12345009 0.13467154]\n",
      "Emulating...\n",
      "[0.15583836 0.08877456 0.13348679 ... 0.11928223 0.11865244 0.12943779]\n",
      "Emulating...\n",
      "[0.15668944 0.08925939 0.13421581 ... 0.11993367 0.11930044 0.13014469]\n",
      "Emulating...\n",
      "[0.16829886 0.09587279 0.14416012 ... 0.12881979 0.12813964 0.13978736]\n",
      "Emulating...\n",
      "[0.19397341 0.1104985  0.16615222 ... 0.14847167 0.14768776 0.16111239]\n",
      "Emulating...\n",
      "[0.23578463 0.13431659 0.20196655 ... 0.18047494 0.17952205 0.19584037]\n",
      "Emulating...\n",
      "[0.29481905 0.16794602 0.25253378 ... 0.22566122 0.22446976 0.24487377]\n",
      "Emulating...\n",
      "[0.22515402 0.12826078 0.19286066 ... 0.17233803 0.1714281  0.18701069]\n",
      "Emulating...\n",
      "[0.21641002 0.12327969 0.18537079 ... 0.16564517 0.16477058 0.17974801]\n",
      "Emulating...\n",
      "[0.20985154 0.1195436  0.17975298 ... 0.16062516 0.15977708 0.17430061]\n",
      "Emulating...\n",
      "[0.21845959 0.12444724 0.1871264  ... 0.16721395 0.16633108 0.18145036]\n",
      "Emulating...\n",
      "[0.25316181 0.14421564 0.21685135 ... 0.19377583 0.19275271 0.21027368]\n",
      "Emulating...\n",
      "[0.31483179 0.17934643 0.26967614 ... 0.24097943 0.23970709 0.26149615]\n",
      "Emulating...\n",
      "[0.39717223 0.22625232 0.34020667 ... 0.30400469 0.30239958 0.32988731]\n",
      "Emulating...\n",
      "[0.49336169 0.28104741 0.42259987 ... 0.37763029 0.37563645 0.40978131]\n",
      "Relative nonimplausible volume remaining: 14.774\n",
      "Running wave 3\n",
      "Emulating...\n",
      "[0.0566164  0.06481703 0.09746173 ... 0.14656271 0.11134339 0.06288428]\n",
      "Emulating...\n",
      "[0.0588101  0.06732848 0.10123805 ... 0.15224154 0.11565759 0.06532084]\n",
      "Emulating...\n",
      "[0.06016183 0.06887601 0.10356498 ... 0.15574077 0.11831595 0.06682222]\n",
      "Emulating...\n",
      "[0.06111041 0.06996198 0.1051979  ... 0.15819636 0.12018145 0.06787581]\n",
      "Emulating...\n",
      "[0.06296961 0.07209048 0.10839841 ... 0.16300927 0.12383781 0.06994085]\n",
      "Emulating...\n",
      "[0.06806446 0.0779233  0.11716889 ... 0.17619829 0.13385748 0.07559973]\n",
      "Emulating...\n",
      "[0.07919811 0.0906696  0.13633479 ... 0.20501993 0.15575322 0.08796596]\n",
      "Emulating...\n",
      "[0.09846689 0.11272938 0.16950483 ... 0.25490096 0.19364774 0.10936795]\n",
      "Emulating...\n",
      "[0.10337107 0.1183439  0.17794708 ... 0.2675964  0.20329244 0.11481506]\n",
      "Emulating...\n",
      "[0.1023349  0.11715765 0.17616338 ... 0.26491407 0.20125468 0.11366417]\n",
      "Emulating...\n",
      "[0.09913793 0.11349761 0.17065999 ... 0.25663808 0.19496743 0.11011327]\n",
      "Emulating...\n",
      "[0.09580747 0.10968476 0.16492681 ... 0.24801654 0.18841766 0.10641411]\n",
      "Emulating...\n",
      "[0.09501709 0.10877989 0.16356621 ... 0.24597047 0.18686327 0.10553622]\n",
      "Emulating...\n",
      "[0.0993564  0.11374773 0.17103607 ... 0.25720363 0.19539707 0.11035593]\n",
      "Emulating...\n",
      "[0.11018957 0.12615003 0.18968472 ... 0.28524743 0.21670189 0.12238842]\n",
      "Emulating...\n",
      "[0.12729969 0.14573848 0.21913876 ... 0.32954035 0.25035113 0.14139276]\n",
      "Relative nonimplausible volume remaining: 8.688\n"
     ]
    }
   ],
   "source": [
    "start = time.time()\n",
    "results = HM.run(nwaves=nwaves)"
   ]
  },
  {
   "cell_type": "code",
   "execution_count": 11,
   "metadata": {},
   "outputs": [
    {
     "name": "stdout",
     "output_type": "stream",
     "text": [
      "91.34433007240295\n"
     ]
    }
   ],
   "source": [
    "end = time.time()\n",
    "print(end - start)"
   ]
  },
  {
   "cell_type": "code",
   "execution_count": 12,
   "metadata": {},
   "outputs": [],
   "source": [
    "#with open('data/4D_historymatch_ellipsoid_8z.txt', 'w') as file:\n",
    "    #for i in range(len(results.samples)):\n",
    "        #np.savetxt(file, results.samples[i])"
   ]
  },
  {
   "cell_type": "code",
   "execution_count": 13,
   "metadata": {},
   "outputs": [
    {
     "data": {
      "text/plain": [
       "<matplotlib.collections.PathCollection at 0x7fb9d0895bb0>"
      ]
     },
     "execution_count": 13,
     "metadata": {},
     "output_type": "execute_result"
    },
    {
     "data": {
      "image/png": "[encoded data removed]",
      "text/plain": [
       "<Figure size 720x720 with 16 Axes>"
      ]
     },
     "metadata": {
      "needs_background": "light"
     },
     "output_type": "display_data"
    }
   ],
   "source": [
    "importlib.reload(plot)\n",
    "\n",
    "fig, axes = plt.subplots(ndim,ndim,figsize=(10,10))\n",
    "labels = ['1','2','3','4','5','6']\n",
    "#plot.opticaldepth_1D(results.samples[0], parameter_bounds[0], parameter = 0, bins=20, Fig=(fig,ax1))\n",
    "    \n",
    "#plot.plot_implausibility2D(results.samples[0], parameter_bounds, [0,1], bins=20)\n",
    "\n",
    "plot.plotcorner(results.samples[2], parameter_bounds, ndim, Fig=(fig,axes), labels=labels)\n",
    "axes[1,0].scatter(true_parameters_5D[0],true_parameters_5D[1], color='red')\n",
    "axes[2,0].scatter(true_parameters_5D[0],true_parameters_5D[2], color='red')\n",
    "axes[3,0].scatter(true_parameters_5D[0],true_parameters_5D[3], color='red')\n",
    "#axes[4,0].scatter(true_parameters_5D[0],true_parameters_5D[4], color='red')\n",
    "axes[2,1].scatter(true_parameters_5D[1],true_parameters_5D[2], color='red')\n",
    "axes[3,1].scatter(true_parameters_5D[1],true_parameters_5D[3], color='red')\n",
    "#axes[4,1].scatter(true_parameters_5D[1],true_parameters_5D[4], color='red')\n",
    "axes[3,2].scatter(true_parameters_5D[2],true_parameters_5D[3], color='red')\n",
    "#axes[4,2].scatter(true_parameters_5D[2],true_parameters_5D[4], color='red')\n",
    "#axes[4,3].scatter(true_parameters_5D[3],true_parameters_5D[4], color='red')\n",
    "\n",
    "#axes[2,1].scatter(true_parameters_3D[1],true_parameters_3D[2], color='red')\n",
    "\n",
    "#plt.savefig('6D.png')"
   ]
  },
  {
   "cell_type": "code",
   "execution_count": 14,
   "metadata": {},
   "outputs": [],
   "source": [
    "def get_cov_ellipse(cov, centre, nstd, ax, color):\n",
    "    \"\"\"\n",
    "    Return a matplotlib Ellipse patch representing the covariance matrix\n",
    "    cov centred at centre and scaled by the factor nstd.\n",
    "\n",
    "    \"\"\"\n",
    "\n",
    "    # Find and sort eigenvalues and eigenvectors into descending order\n",
    "    eigvals, eigvecs = np.linalg.eigh(cov)\n",
    "    order = eigvals.argsort()[::-1]\n",
    "    eigvals, eigvecs = eigvals[order], eigvecs[:, order]\n",
    "\n",
    "    # The anti-clockwise angle to rotate our ellipse by \n",
    "    vx, vy = eigvecs[:,0][0], eigvecs[:,0][1]\n",
    "    theta = np.arctan2(vy, vx)\n",
    "    \n",
    "    width0, height0 = np.sqrt(np.abs(eigvals))\n",
    "\n",
    "    # Width and height of ellipse to draw\n",
    "    width, height = 2 * nstd * np.sqrt(np.abs(eigvals))\n",
    "    \n",
    "    t = np.linspace(0, 2*np.pi, 100)\n",
    "    Ell = np.array([0.5*width*np.cos(t) , 0.5*height*np.sin(t)]) \n",
    "    R_rot = np.array([[np.cos(theta) , -np.sin(theta)],[np.sin(theta), np.cos(theta)]])  \n",
    "    Ell_rot = np.zeros((2,Ell.shape[1]))\n",
    "    for i in range(Ell.shape[1]):\n",
    "        Ell_rot[:,i] = np.dot(R_rot,Ell[:,i])\n",
    "    \n",
    "    ax.plot( centre[0]+Ell_rot[0,:] , centre[1]+Ell_rot[1,:], color=color)\n",
    "    \n",
    "    return theta, width, height"
   ]
  },
  {
   "cell_type": "code",
   "execution_count": 15,
   "metadata": {},
   "outputs": [],
   "source": [
    "analytic_mean = np.loadtxt(\"4D_analytic_mean.txt\").reshape(4,)\n",
    "analytic_cov = np.loadtxt(\"4D_analytic_cov.txt\").reshape(4,4)\n"
   ]
  },
  {
   "cell_type": "code",
   "execution_count": 16,
   "metadata": {},
   "outputs": [
    {
     "ename": "IndexError",
     "evalue": "list index out of range",
     "output_type": "error",
     "traceback": [
      "\u001b[0;31m---------------------------------------------------------------------------\u001b[0m",
      "\u001b[0;31mIndexError\u001b[0m                                Traceback (most recent call last)",
      "\u001b[0;32m<ipython-input-16-96d2f5758357>\u001b[0m in \u001b[0;36m<module>\u001b[0;34m\u001b[0m\n\u001b[1;32m      7\u001b[0m \u001b[0;31m#plot.plot_implausibility2D(results.samples[0], parameter_bounds, [0,1], bins=20)\u001b[0m\u001b[0;34m\u001b[0m\u001b[0;34m\u001b[0m\u001b[0;34m\u001b[0m\u001b[0m\n\u001b[1;32m      8\u001b[0m \u001b[0;34m\u001b[0m\u001b[0m\n\u001b[0;32m----> 9\u001b[0;31m \u001b[0mplot\u001b[0m\u001b[0;34m.\u001b[0m\u001b[0mplotcorner\u001b[0m\u001b[0;34m(\u001b[0m\u001b[0mresults\u001b[0m\u001b[0;34m.\u001b[0m\u001b[0msamples\u001b[0m\u001b[0;34m[\u001b[0m\u001b[0;36m3\u001b[0m\u001b[0;34m]\u001b[0m\u001b[0;34m,\u001b[0m \u001b[0mparameter_bounds\u001b[0m\u001b[0;34m,\u001b[0m \u001b[0mndim\u001b[0m\u001b[0;34m,\u001b[0m \u001b[0mFig\u001b[0m\u001b[0;34m=\u001b[0m\u001b[0;34m(\u001b[0m\u001b[0mfig\u001b[0m\u001b[0;34m,\u001b[0m\u001b[0maxes\u001b[0m\u001b[0;34m)\u001b[0m\u001b[0;34m,\u001b[0m \u001b[0mlabels\u001b[0m\u001b[0;34m=\u001b[0m\u001b[0mlabels\u001b[0m\u001b[0;34m)\u001b[0m\u001b[0;34m\u001b[0m\u001b[0;34m\u001b[0m\u001b[0m\n\u001b[0m\u001b[1;32m     10\u001b[0m \u001b[0;34m\u001b[0m\u001b[0m\n\u001b[1;32m     11\u001b[0m \u001b[0maxes\u001b[0m\u001b[0;34m[\u001b[0m\u001b[0;36m1\u001b[0m\u001b[0;34m,\u001b[0m\u001b[0;36m0\u001b[0m\u001b[0;34m]\u001b[0m\u001b[0;34m.\u001b[0m\u001b[0mscatter\u001b[0m\u001b[0;34m(\u001b[0m\u001b[0mtrue_parameters_5D\u001b[0m\u001b[0;34m[\u001b[0m\u001b[0;36m0\u001b[0m\u001b[0;34m]\u001b[0m\u001b[0;34m,\u001b[0m\u001b[0mtrue_parameters_5D\u001b[0m\u001b[0;34m[\u001b[0m\u001b[0;36m1\u001b[0m\u001b[0;34m]\u001b[0m\u001b[0;34m,\u001b[0m \u001b[0mcolor\u001b[0m\u001b[0;34m=\u001b[0m\u001b[0;34m'red'\u001b[0m\u001b[0;34m)\u001b[0m\u001b[0;34m\u001b[0m\u001b[0;34m\u001b[0m\u001b[0m\n",
      "\u001b[0;31mIndexError\u001b[0m: list index out of range"
     ]
    },
    {
     "data": {
      "image/png": "[encoded data removed]",
      "text/plain": [
       "<Figure size 720x720 with 16 Axes>"
      ]
     },
     "metadata": {
      "needs_background": "light"
     },
     "output_type": "display_data"
    }
   ],
   "source": [
    "importlib.reload(plot)\n",
    "\n",
    "fig, axes = plt.subplots(ndim,ndim,figsize=(10,10))\n",
    "labels = ['1','2','3','4','5','6']\n",
    "#plot.opticaldepth_1D(results.samples[0], parameter_bounds[0], parameter = 0, bins=20, Fig=(fig,ax1))\n",
    "    \n",
    "#plot.plot_implausibility2D(results.samples[0], parameter_bounds, [0,1], bins=20)\n",
    "\n",
    "plot.plotcorner(results.samples[3], parameter_bounds, ndim, Fig=(fig,axes), labels=labels)\n",
    "\n",
    "axes[1,0].scatter(true_parameters_5D[0],true_parameters_5D[1], color='red')\n",
    "axes[2,0].scatter(true_parameters_5D[0],true_parameters_5D[2], color='red')\n",
    "axes[3,0].scatter(true_parameters_5D[0],true_parameters_5D[3], color='red')\n",
    "\n",
    "axes[2,1].scatter(true_parameters_5D[1],true_parameters_5D[2], color='red')\n",
    "axes[3,1].scatter(true_parameters_5D[1],true_parameters_5D[3], color='red')\n",
    "\n",
    "axes[3,2].scatter(true_parameters_5D[2],true_parameters_5D[3], color='red')\n",
    "\n",
    "\n",
    "H = analytic_cov\n",
    "\n",
    "get_cov_ellipse(np.array([[H[0,0], H[0,1]],[H[1,0], H[1,1]]]), [analytic_mean[0], analytic_mean[1]], 3, axes[1,0], 'red')\n",
    "get_cov_ellipse(np.array([[H[0,0], H[0,2]],[H[2,0], H[2,2]]]), [analytic_mean[0], analytic_mean[2]], 3, axes[2,0], 'red')\n",
    "get_cov_ellipse(np.array([[H[1,1], H[1,2]],[H[2,1], H[2,2]]]), [analytic_mean[1], analytic_mean[2]], 3, axes[2,1], 'red')\n",
    "get_cov_ellipse(np.array([[H[0,0], H[0,3]],[H[3,0], H[3,3]]]), [analytic_mean[0], analytic_mean[3]], 3, axes[3,0], 'red')\n",
    "get_cov_ellipse(np.array([[H[2,2], H[2,3]],[H[3,2], H[3,3]]]), [analytic_mean[2], analytic_mean[3]], 3, axes[3,2], 'red')\n",
    "get_cov_ellipse(np.array([[H[1,1], H[1,3]],[H[3,1], H[3,3]]]), [analytic_mean[1], analytic_mean[3]], 3, axes[3,1], 'red')\n",
    "\n",
    "\n",
    "#axes[1,0].scatter(true_parameters[0],true_parameters[1], color='red')\n",
    "#axes[2,0].scatter(true_parameters[0],true_parameters[2], color='red')\n",
    "#axes[2,1].scatter(true_parameters[1],true_parameters[2], color='red')"
   ]
  },
  {
   "cell_type": "code",
   "execution_count": null,
   "metadata": {},
   "outputs": [],
   "source": [
    "fig, (ax1, ax2) = plt.subplots(1, 2, figsize=(15,5))\n",
    "\n",
    "mu = results.emulator_mu[0]\n",
    "sd = results.emulator_sd[0]\n",
    "\n",
    "ax1.scatter(results.test_pts[0][:,0], mu, s=2)\n",
    "\n",
    "true = toy_model_5D(results.train_pts[0][:,0], results.train_pts[0][:,1], results.train_pts[0][:,2], results.train_pts[0][:,3], results.train_pts[0][:,4])[-1]\n",
    "\n",
    "ax2.scatter(results.train_pts[0][:,0], true, s=10, color='red')\n",
    "#ax2.scatter(results.train_pts[0][:,0], results.z_train[0], s=1, color='black')\n",
    "\n",
    "\n",
    "ax1.fill_between(results.test_pts[0][:,0], mu + 3*sd, mu - 3*sd, alpha=0.2)\n",
    "ax2.fill_between(results.train_pts[0][:,0], true + 3*np.sqrt(np.var(true)), true - 3*np.sqrt(np.var(true)), alpha=0.2)\n",
    "\n",
    "##print(true - 3*np.sqrt(np.var(true)))\n",
    "#ax2.scatter(results.train_pts[0][:,0], results.z_train[0], color='red')\n",
    "\n",
    "\n",
    "#ax2.axhline(np.mean(results.z_train[0]) + 3*np.sqrt(np.var(results.train_pts[0][:,0])))\n",
    "#ax2.axhline(np.mean(true) + 3*np.sqrt(np.var(true)))\n",
    "#ax2.axhline(np.mean(results.z_train[0]), color='red')\n",
    "\n"
   ]
  },
  {
   "cell_type": "code",
   "execution_count": null,
   "metadata": {},
   "outputs": [],
   "source": [
    "import GPy\n",
    "\n",
    "rbf = GPy.kern.RBF(input_dim=5, variance=np.sqrt(np.var(results.z_train[0])), lengthscale=1.0)\n",
    "m = GPy.models.GPRegression(results.train_pts[0], results.z_train[0].reshape(-1,1), rbf)\n",
    "#m.optimize()\n",
    "display(m)\n",
    "# create simple GP model\n",
    "meangpy, sdgpy = m.predict(results.test_pts[0])\n",
    " b b\n",
    "meangpy = meangpy.reshape(5000,)\n",
    "sdgpy = np.sqrt(sdgpy.reshape(5000,))\n",
    "\n",
    "plt.scatter(results.train_pts[0][:,0], results.z_train[0], color='red')\n",
    "plt.scatter(results.test_pts[0][:,0], meangpy, s=2)\n",
    "plt.fill_between(results.test_pts[0][:,0], meangpy + 3*sdgpy, meangpy - 3*sdgpy, alpha=0.2)"
   ]
  },
  {
   "cell_type": "code",
   "execution_count": null,
   "metadata": {},
   "outputs": [],
   "source": [
    "X_3D_train = np.random.uniform(-1, 1, (20, 3))\n",
    "\n",
    "X_3D_test = np.random.uniform(-1, 1, (5000, 3))\n",
    "\n",
    "rx, ry, rz = np.linspace(-1, 1, 20), np.linspace(-1, 1, 20), np.linspace(-1, 1, 20)\n",
    "gx, gy, gz = np.meshgrid(rx, ry, rz)\n",
    "\n",
    "X_3D = np.c_[gx.ravel(), gy.ravel(), gz.ravel()]\n",
    "\n",
    "Y_3D_train = model_eqn_1(0.1, X_3D_train[:,0], X_3D_train[:,1], X_3D_train[:,2])"
   ]
  },
  {
   "cell_type": "code",
   "execution_count": null,
   "metadata": {},
   "outputs": [],
   "source": [
    "Y_3D_test = model_eqn_1(0.1, X_3D_test[:,0], X_3D_test[:,1], X_3D_test[:,2])"
   ]
  },
  {
   "cell_type": "code",
   "execution_count": null,
   "metadata": {},
   "outputs": [],
   "source": [
    "#print(Y_3D_test)"
   ]
  },
  {
   "cell_type": "code",
   "execution_count": null,
   "metadata": {},
   "outputs": [],
   "source": [
    "importlib.reload(emulators)\n",
    "GP = emulators.Gaussian_Process(X_3D_train, X_3D_test, Y_3D_train)\n",
    "mu1, cov1, sd1 = GP.emulate()\n",
    "print(GP.sigma_f)\n",
    "#print(mu1)"
   ]
  },
  {
   "cell_type": "code",
   "execution_count": null,
   "metadata": {},
   "outputs": [],
   "source": [
    "GP.optimize()"
   ]
  },
  {
   "cell_type": "code",
   "execution_count": null,
   "metadata": {},
   "outputs": [],
   "source": [
    "mu2, cov2, sd2 = GP.emulate()\n",
    "print(GP.l)\n",
    "\n",
    "z = -0.06387078"
   ]
  },
  {
   "cell_type": "code",
   "execution_count": null,
   "metadata": {},
   "outputs": [],
   "source": [
    "print(sd1[0])\n",
    "print(sd2[0])\n",
    "print(mu1 - Y_3D_test)\n",
    "print(mu2 - Y_3D_test)"
   ]
  },
  {
   "cell_type": "code",
   "execution_count": null,
   "metadata": {},
   "outputs": [],
   "source": [
    "HMtest = historymatch.HistoryMatch(z,\n",
    "                               3, 'GP', 'ellipsoid')"
   ]
  },
  {
   "cell_type": "code",
   "execution_count": null,
   "metadata": {},
   "outputs": [],
   "source": [
    "imp1 = HMtest.implausibility(mu1, z, sd1, 0, var_obs)\n",
    "imp2 = HMtest.implausibility(mu2, z, sd2, 0, var_obs)\n",
    "print(imp1)\n",
    "print(imp2)"
   ]
  },
  {
   "cell_type": "code",
   "execution_count": null,
   "metadata": {},
   "outputs": [],
   "source": [
    "samp1 = np.concatenate((X_3D_test, imp1.reshape(-1,1)), axis=1)\n",
    "samp2 = np.concatenate((X_3D_test, imp2.reshape(-1,1)), axis=1)"
   ]
  },
  {
   "cell_type": "code",
   "execution_count": null,
   "metadata": {},
   "outputs": [],
   "source": []
  },
  {
   "cell_type": "code",
   "execution_count": null,
   "metadata": {},
   "outputs": [],
   "source": [
    "fig, (ax1, ax2) = plt.subplots(1,2, figsize=(15,7))\n",
    "\n",
    "plot.plot_implausibility2D(samp1, parameter_bounds, [0,1], bins=20, Fig=(fig, ax1), colorbar=False, \n",
    "                            labels=None, plot_kwargs=None)\n",
    "plot.plot_implausibility2D(samp2, parameter_bounds, [0,1], bins=20, Fig=(fig, ax2), colorbar=False, \n",
    "                            labels=None, plot_kwargs=None)"
   ]
  },
  {
   "cell_type": "code",
   "execution_count": null,
   "metadata": {},
   "outputs": [],
   "source": []
  },
  {
   "cell_type": "code",
   "execution_count": null,
   "metadata": {},
   "outputs": [],
   "source": []
  }
 ],
 "metadata": {
  "kernelspec": {
   "display_name": "Python 3",
   "language": "python",
   "name": "python3"
  },
  "language_info": {
   "codemirror_mode": {
    "name": "ipython",
    "version": 3
   },
   "file_extension": ".py",
   "mimetype": "text/x-python",
   "name": "python",
   "nbconvert_exporter": "python",
   "pygments_lexer": "ipython3",
   "version": "3.9.1"
  }
 },
 "nbformat": 4,
 "nbformat_minor": 4
}
