{
 "cells": [
  {
   "cell_type": "code",
   "execution_count": 19,
   "metadata": {},
   "outputs": [],
   "source": [
    "# import internal files\n",
    "import emulators\n",
    "import sample\n",
    "import historymatch\n",
    "import plot\n",
    "\n",
    "import numpy as np\n",
    "import matplotlib.pyplot as plt\n",
    "\n",
    "plt.rcParams.update({'font.size': 10})\n",
    "\n",
    "import importlib\n",
    "import time"
   ]
  },
  {
   "cell_type": "code",
   "execution_count": 20,
   "metadata": {},
   "outputs": [],
   "source": [
    "ndim = 4"
   ]
  },
  {
   "cell_type": "code",
   "execution_count": 21,
   "metadata": {},
   "outputs": [],
   "source": [
    "# define parameter space\n",
    "\n",
    "#theta_0_vals = np.linspace(parameter_bounds[0,0], parameter_bounds[0,1], 100)\n",
    "#theta_1_vals = np.linspace(parameter_bounds[1,0], parameter_bounds[1,1], 100)\n",
    "#theta_2_vals = np.linspace(parameter_bounds[2,0], parameter_bounds[2,1], 100)\n",
    "\n",
    "#theta_vals = np.concatenate((theta_0_vals.reshape(1,-1), theta_1_vals.reshape(1,-1), theta_2_vals.reshape(1,-1)), axis=0)"
   ]
  },
  {
   "cell_type": "code",
   "execution_count": 22,
   "metadata": {},
   "outputs": [],
   "source": [
    "#parameter_bounds = np.ones((ndim,2))\n",
    "#parameter_bounds[:,0] = -1*parameter_bounds[:,0]\n",
    "#parameter_bounds[:,1] = 2*parameter_bounds[:,1]\n",
    "\n",
    "# for 5D\n",
    "parameter_bounds = np.ones((ndim,2))\n",
    "parameter_bounds[:,0] = -1\n",
    "parameter_bounds[:,1] = 1"
   ]
  },
  {
   "cell_type": "code",
   "execution_count": 39,
   "metadata": {},
   "outputs": [],
   "source": [
    "Nx = 8\n",
    "x_bound = np.array([0.1, 1])\n",
    "xvals = np.linspace(x_bound[0], x_bound[-1], Nx)\n",
    "\n",
    "def toy_model6D(theta_1, theta_2, theta_3, theta_4, theta_5, theta_6):\n",
    "    \n",
    "    x_bound = np.array([0.1, 1])\n",
    "    Nx = 4\n",
    "    xvals = np.linspace(x_bound[0], x_bound[-1], Nx)\n",
    "\n",
    "    outputs =  []\n",
    "    for x in xvals:\n",
    "        output = theta_1 + theta_2*(x) + (theta_3**1)*(x**2) + theta_4*(x**3) \\\n",
    "               + theta_5*(10*x**4) + theta_6*(16*x**5)\n",
    "        outputs.append(output)\n",
    "    for x in xvals:\n",
    "        output = -theta_1 + theta_2*np.sin(x) + theta_3*np.sin(2*x) + (theta_4**1)*np.cos(x) \\\n",
    "               + theta_5*np.cos(2*x) + theta_6*(x)\n",
    "        outputs.append(output)\n",
    "    return np.array(outputs)\n",
    "\n",
    "def toy_model3D(theta_1, theta_2, theta_3):\n",
    "    \n",
    "    x_bound = np.array([0.1, 1])\n",
    "    Nx = 4\n",
    "    xvals = np.linspace(x_bound[0], x_bound[-1], Nx)\n",
    "\n",
    "    outputs =  []\n",
    "    for x in xvals:\n",
    "        output = theta_1 + theta_2*(x) + (theta_3)*(x**2)\n",
    "        outputs.append(output)\n",
    "    for x in xvals:\n",
    "        output = theta_1 + theta_2*np.sin(x) + theta_3*np.cos(2*x)\n",
    "        outputs.append(output)\n",
    "    return np.array(outputs)\n",
    "\n",
    "def toy_model_5D(theta_0, theta_1, theta_2, theta_3, theta_4):\n",
    "    \n",
    "    x_bound = np.array([0.1, 1])\n",
    "    Nx = 4\n",
    "    xvals = np.linspace(x_bound[0], x_bound[-1], Nx)\n",
    "\n",
    "    outputs =  []\n",
    "    for x in xvals:\n",
    "        output = 0.5*theta_0 + 5*theta_1*(x) + 5*theta_2*(x**2) + 5*theta_3*(x**3) + theta_4*(x**4)\n",
    "        outputs.append(output)\n",
    "    for x in xvals:\n",
    "        output = 0.5*theta_0 - 5*theta_1*np.sin(x) + 5*theta_2*np.cos(2*x) + 5*theta_3*np.exp(x) + theta_4*(1/(2*x)-0.5)\n",
    "        outputs.append(output)\n",
    "    return np.array(outputs)\n",
    "\n",
    "def toy_model_4D(theta_0, theta_1, theta_2, theta_3):\n",
    "    \n",
    "    x_bound = np.array([0.1, 1])\n",
    "    Nx = 8\n",
    "    xvals = np.linspace(x_bound[0], x_bound[-1], Nx)\n",
    "\n",
    "    outputs =  []\n",
    "    for x in xvals:\n",
    "        output = theta_0 + theta_1*(x) + theta_2*(x**2) + theta_3*(x**3)\n",
    "        outputs.append(output)\n",
    "    for x in xvals:\n",
    "        output = theta_0 - theta_1*(x**2) + theta_2*np.cos(2*x) + theta_3*np.exp(x)\n",
    "        outputs.append(output)\n",
    "    return np.array(outputs)"
   ]
  },
  {
   "cell_type": "code",
   "execution_count": 40,
   "metadata": {},
   "outputs": [
    {
     "name": "stdout",
     "output_type": "stream",
     "text": [
      "[0.001      0.0011636  0.00137736 0.00165276 0.00200129 0.00243441\n",
      " 0.00296361 0.00360036 0.00276799 0.00279197 0.0027518  0.00265845\n",
      " 0.00252617 0.0023718  0.00221397 0.00207213]\n",
      "[-0.11984551 -0.01874928  0.01179915  0.03343708  0.0733618   0.01365011\n",
      "  0.08163696 -0.10168653 -0.2929019  -0.49008901 -0.52947318 -0.74354643\n",
      " -0.84565115 -1.05628251 -1.27662207 -1.48857171]\n"
     ]
    }
   ],
   "source": [
    "# generate observational data with some uncertainty\n",
    "true_parameters_3D = [-0.1, 0.3, 0.6]\n",
    "true_parameters_6D = [-0.1, 0.3, 0.6, -0.8, 0.2, 0.15]\n",
    "true_parameters_5D = [-0.1, 0.3, 0.6, -0.4, 0.15]\n",
    "true_parameters_4D = [-0.1, 0.3, 0.2, -0.4]\n",
    "\n",
    "output_ratio = (toy_model_4D(-1,-1,-1,-1) - toy_model_4D(1,1,1,1)) / (toy_model_4D(-1,-1,-1,-1) - toy_model_4D(1,1,1,1))[0]\n",
    "\n",
    "var_obs = output_ratio*0.001 # observational uncertainty variance\n",
    "\n",
    "\n",
    "\n",
    "error_obs = np.zeros(2*Nx)\n",
    "for i in range(2*Nx):\n",
    "    error_obs[i] = np.random.normal(0, np.sqrt(var_obs[i]))\n",
    "\n",
    "\n",
    "obs_data = toy_model_4D(*true_parameters_4D) + error_obs\n",
    "\n",
    "print(var_obs)\n",
    "print(obs_data)"
   ]
  },
  {
   "cell_type": "code",
   "execution_count": 48,
   "metadata": {},
   "outputs": [],
   "source": [
    "nwaves = 5"
   ]
  },
  {
   "cell_type": "code",
   "execution_count": 49,
   "metadata": {},
   "outputs": [],
   "source": [
    "importlib.reload(historymatch)\n",
    "\n",
    "\n",
    "\n",
    "# initialise history matching class\n",
    "HM = historymatch.HistoryMatch(obs_data,\n",
    "                               ndim, 'GP', 'hypercube')"
   ]
  },
  {
   "cell_type": "code",
   "execution_count": 50,
   "metadata": {
    "scrolled": true
   },
   "outputs": [],
   "source": [
    "\n",
    "\n",
    "ToyModel = historymatch.Simulator(HM)\n",
    "ToyModel.set_simulator(toy_model_4D)\n",
    "\n",
    "HM.set_observations(obs_data, np.sqrt(var_obs))\n",
    "HM.initialize_volume(parameter_bounds[:,0], parameter_bounds[:,1])\n",
    "\n"
   ]
  },
  {
   "cell_type": "code",
   "execution_count": 51,
   "metadata": {},
   "outputs": [
    {
     "name": "stdout",
     "output_type": "stream",
     "text": [
      "(4, 2)\n",
      "(4, 2)\n",
      "Running wave 1\n",
      "Emulating...\n",
      "Emulating...\n",
      "Emulating...\n",
      "Emulating...\n",
      "Emulating...\n",
      "Emulating...\n",
      "Emulating...\n",
      "Emulating...\n",
      "Emulating...\n",
      "Emulating...\n",
      "Emulating...\n",
      "Emulating...\n",
      "Emulating...\n",
      "Emulating...\n",
      "Emulating...\n",
      "Emulating...\n",
      "Convergence : False\n",
      "(4, 2)\n",
      "(4, 2)\n",
      "Relative nonimplausible volume remaining: 0.644\n",
      "Running wave 2\n",
      "Emulating...\n",
      "Emulating...\n",
      "Emulating...\n",
      "Emulating...\n",
      "Emulating...\n",
      "Emulating...\n",
      "Emulating...\n",
      "Emulating...\n",
      "Emulating...\n",
      "Emulating...\n",
      "Emulating...\n",
      "Emulating...\n",
      "Emulating...\n",
      "Emulating...\n",
      "Emulating...\n",
      "Emulating...\n",
      "Convergence : False\n",
      "(4, 2)\n",
      "(4, 2)\n",
      "Relative nonimplausible volume remaining: 0.055\n",
      "Running wave 3\n",
      "Emulating...\n",
      "Emulating...\n",
      "Emulating...\n",
      "Emulating...\n",
      "Emulating...\n",
      "Emulating...\n",
      "Emulating...\n",
      "Emulating...\n",
      "Emulating...\n",
      "Emulating...\n",
      "Emulating...\n",
      "Emulating...\n",
      "Emulating...\n",
      "Emulating...\n",
      "Emulating...\n",
      "Emulating...\n",
      "Convergence : False\n",
      "(4, 2)\n",
      "(4, 2)\n",
      "Relative nonimplausible volume remaining: 0.0\n",
      "Running wave 4\n",
      "Emulating...\n",
      "Emulating...\n",
      "Emulating...\n",
      "Emulating...\n",
      "Emulating...\n",
      "Emulating...\n",
      "Emulating...\n",
      "Emulating...\n",
      "Emulating...\n",
      "Emulating...\n",
      "Emulating...\n",
      "Emulating...\n",
      "Emulating...\n",
      "Emulating...\n",
      "Emulating...\n",
      "Emulating...\n",
      "Convergence : True\n",
      "(4, 2)\n",
      "(4, 2)\n",
      "Relative nonimplausible volume remaining: 0.0\n",
      "Running wave 5\n",
      "Emulating...\n",
      "Emulating...\n",
      "Emulating...\n",
      "Emulating...\n",
      "Emulating...\n",
      "Emulating...\n",
      "Emulating...\n",
      "Emulating...\n",
      "Emulating...\n",
      "Emulating...\n",
      "Emulating...\n",
      "Emulating...\n",
      "Emulating...\n",
      "Emulating...\n",
      "Emulating...\n",
      "Emulating...\n",
      "Convergence : True\n",
      "(4, 2)\n",
      "(4, 2)\n",
      "Relative nonimplausible volume remaining: 0.0\n"
     ]
    }
   ],
   "source": [
    "start = time.time()\n",
    "results = HM.run(nwaves=nwaves)"
   ]
  },
  {
   "cell_type": "code",
   "execution_count": 45,
   "metadata": {},
   "outputs": [
    {
     "name": "stdout",
     "output_type": "stream",
     "text": [
      "213.90921425819397\n"
     ]
    }
   ],
   "source": [
    "end = time.time()\n",
    "print(end - start)"
   ]
  },
  {
   "cell_type": "code",
   "execution_count": 54,
   "metadata": {},
   "outputs": [],
   "source": [
    "with open('data/4D_hypercube_w1.txt', 'w') as file:\n",
    "    np.savetxt(file, results.regions[0])\n",
    "with open('data/4D_hypercube_w2.txt', 'w') as file:\n",
    "    np.savetxt(file, results.regions[1])\n",
    "with open('data/4D_hypercube_w3.txt', 'w') as file:\n",
    "    np.savetxt(file, results.regions[2])\n",
    "with open('data/4D_hypercube_w4.txt', 'w') as file:\n",
    "    np.savetxt(file, results.regions[3])\n",
    "\n",
    "\n",
    "\n",
    "#with open('data/4D_historymatch_ellipsoid_8z.txt', 'w') as file:\n",
    "    #for i in range(len(results.samples)):\n",
    "        #np.savetxt(file, results.samples[i])"
   ]
  },
  {
   "cell_type": "code",
   "execution_count": 53,
   "metadata": {},
   "outputs": [
    {
     "data": {
      "text/plain": [
       "<matplotlib.collections.PathCollection at 0x7f673a262850>"
      ]
     },
     "execution_count": 53,
     "metadata": {},
     "output_type": "execute_result"
    },
    {
     "data": {
      "image/png": "[encoded data removed]",
      "text/plain": [
       "<Figure size 720x720 with 16 Axes>"
      ]
     },
     "metadata": {
      "needs_background": "light"
     },
     "output_type": "display_data"
    }
   ],
   "source": [
    "importlib.reload(plot)\n",
    "\n",
    "fig, axes = plt.subplots(ndim,ndim,figsize=(10,10))\n",
    "labels = ['1','2','3','4','5','6']\n",
    "#plot.opticaldepth_1D(results.samples[0], parameter_bounds[0], parameter = 0, bins=20, Fig=(fig,ax1))\n",
    "    \n",
    "#plot.plot_implausibility2D(results.samples[0], parameter_bounds, [0,1], bins=20)\n",
    "\n",
    "plot.plotcorner(results.samples[4], parameter_bounds, ndim, Fig=(fig,axes), labels=labels)\n",
    "\n",
    "true_parameters_4D = [-0.1, 0.3, 0.2, -0.4]\n",
    "\n",
    "\n",
    "axes[1,0].scatter(true_parameters_4D[0],true_parameters_4D[1], marker='x', color='red')\n",
    "axes[2,0].scatter(true_parameters_4D[0],true_parameters_4D[2], marker='x', color='red')\n",
    "axes[3,0].scatter(true_parameters_4D[0],true_parameters_4D[3], marker='x', color='red')\n",
    "#axes[4,0].scatter(true_parameters_5D[0],true_parameters_5D[4], color='red')\n",
    "axes[2,1].scatter(true_parameters_4D[1],true_parameters_4D[2], marker='x', color='red')\n",
    "axes[3,1].scatter(true_parameters_4D[1],true_parameters_4D[3], marker='x', color='red')\n",
    "#axes[4,1].scatter(true_parameters_5D[1],true_parameters_5D[4], color='red')\n",
    "axes[3,2].scatter(true_parameters_4D[2],true_parameters_4D[3], marker='x', color='red')\n",
    "#axes[4,2].scatter(true_parameters_5D[2],true_parameters_5D[4], color='red')\n",
    "#axes[4,3].scatter(true_parameters_5D[3],true_parameters_5D[4], color='red')\n",
    "\n",
    "#axes[2,1].scatter(true_parameters_3D[1],true_parameters_3D[2], color='red')\n",
    "\n",
    "#plt.savefig('6D.png')"
   ]
  },
  {
   "cell_type": "code",
   "execution_count": 14,
   "metadata": {},
   "outputs": [],
   "source": [
    "def get_cov_ellipse(cov, centre, nstd, ax, color):\n",
    "    \"\"\"\n",
    "    Return a matplotlib Ellipse patch representing the covariance matrix\n",
    "    cov centred at centre and scaled by the factor nstd.\n",
    "\n",
    "    \"\"\"\n",
    "\n",
    "    # Find and sort eigenvalues and eigenvectors into descending order\n",
    "    eigvals, eigvecs = np.linalg.eigh(cov)\n",
    "    order = eigvals.argsort()[::-1]\n",
    "    eigvals, eigvecs = eigvals[order], eigvecs[:, order]\n",
    "\n",
    "    # The anti-clockwise angle to rotate our ellipse by \n",
    "    vx, vy = eigvecs[:,0][0], eigvecs[:,0][1]\n",
    "    theta = np.arctan2(vy, vx)\n",
    "    \n",
    "    width0, height0 = np.sqrt(np.abs(eigvals))\n",
    "\n",
    "    # Width and height of ellipse to draw\n",
    "    width, height = 2 * nstd * np.sqrt(np.abs(eigvals))\n",
    "    \n",
    "    t = np.linspace(0, 2*np.pi, 100)\n",
    "    Ell = np.array([0.5*width*np.cos(t) , 0.5*height*np.sin(t)]) \n",
    "    R_rot = np.array([[np.cos(theta) , -np.sin(theta)],[np.sin(theta), np.cos(theta)]])  \n",
    "    Ell_rot = np.zeros((2,Ell.shape[1]))\n",
    "    for i in range(Ell.shape[1]):\n",
    "        Ell_rot[:,i] = np.dot(R_rot,Ell[:,i])\n",
    "    \n",
    "    ax.plot( centre[0]+Ell_rot[0,:] , centre[1]+Ell_rot[1,:], color=color)\n",
    "    \n",
    "    return theta, width, height"
   ]
  },
  {
   "cell_type": "code",
   "execution_count": 15,
   "metadata": {},
   "outputs": [],
   "source": [
    "analytic_mean = np.loadtxt(\"4D_analytic_mean.txt\").reshape(4,)\n",
    "analytic_cov = np.loadtxt(\"4D_analytic_cov.txt\").reshape(4,4)\n"
   ]
  },
  {
   "cell_type": "code",
   "execution_count": 16,
   "metadata": {},
   "outputs": [
    {
     "ename": "IndexError",
     "evalue": "list index out of range",
     "output_type": "error",
     "traceback": [
      "\u001b[0;31m---------------------------------------------------------------------------\u001b[0m",
      "\u001b[0;31mIndexError\u001b[0m                                Traceback (most recent call last)",
      "\u001b[0;32m<ipython-input-16-96d2f5758357>\u001b[0m in \u001b[0;36m<module>\u001b[0;34m\u001b[0m\n\u001b[1;32m      7\u001b[0m \u001b[0;31m#plot.plot_implausibility2D(results.samples[0], parameter_bounds, [0,1], bins=20)\u001b[0m\u001b[0;34m\u001b[0m\u001b[0;34m\u001b[0m\u001b[0;34m\u001b[0m\u001b[0m\n\u001b[1;32m      8\u001b[0m \u001b[0;34m\u001b[0m\u001b[0m\n\u001b[0;32m----> 9\u001b[0;31m \u001b[0mplot\u001b[0m\u001b[0;34m.\u001b[0m\u001b[0mplotcorner\u001b[0m\u001b[0;34m(\u001b[0m\u001b[0mresults\u001b[0m\u001b[0;34m.\u001b[0m\u001b[0msamples\u001b[0m\u001b[0;34m[\u001b[0m\u001b[0;36m3\u001b[0m\u001b[0;34m]\u001b[0m\u001b[0;34m,\u001b[0m \u001b[0mparameter_bounds\u001b[0m\u001b[0;34m,\u001b[0m \u001b[0mndim\u001b[0m\u001b[0;34m,\u001b[0m \u001b[0mFig\u001b[0m\u001b[0;34m=\u001b[0m\u001b[0;34m(\u001b[0m\u001b[0mfig\u001b[0m\u001b[0;34m,\u001b[0m\u001b[0maxes\u001b[0m\u001b[0;34m)\u001b[0m\u001b[0;34m,\u001b[0m \u001b[0mlabels\u001b[0m\u001b[0;34m=\u001b[0m\u001b[0mlabels\u001b[0m\u001b[0;34m)\u001b[0m\u001b[0;34m\u001b[0m\u001b[0;34m\u001b[0m\u001b[0m\n\u001b[0m\u001b[1;32m     10\u001b[0m \u001b[0;34m\u001b[0m\u001b[0m\n\u001b[1;32m     11\u001b[0m \u001b[0maxes\u001b[0m\u001b[0;34m[\u001b[0m\u001b[0;36m1\u001b[0m\u001b[0;34m,\u001b[0m\u001b[0;36m0\u001b[0m\u001b[0;34m]\u001b[0m\u001b[0;34m.\u001b[0m\u001b[0mscatter\u001b[0m\u001b[0;34m(\u001b[0m\u001b[0mtrue_parameters_5D\u001b[0m\u001b[0;34m[\u001b[0m\u001b[0;36m0\u001b[0m\u001b[0;34m]\u001b[0m\u001b[0;34m,\u001b[0m\u001b[0mtrue_parameters_5D\u001b[0m\u001b[0;34m[\u001b[0m\u001b[0;36m1\u001b[0m\u001b[0;34m]\u001b[0m\u001b[0;34m,\u001b[0m \u001b[0mcolor\u001b[0m\u001b[0;34m=\u001b[0m\u001b[0;34m'red'\u001b[0m\u001b[0;34m)\u001b[0m\u001b[0;34m\u001b[0m\u001b[0;34m\u001b[0m\u001b[0m\n",
      "\u001b[0;31mIndexError\u001b[0m: list index out of range"
     ]
    },
    {
     "data": {
      "image/png": "[encoded data removed]",
      "text/plain": [
       "<Figure size 720x720 with 16 Axes>"
      ]
     },
     "metadata": {
      "needs_background": "light"
     },
     "output_type": "display_data"
    }
   ],
   "source": [
    "importlib.reload(plot)\n",
    "\n",
    "fig, axes = plt.subplots(ndim,ndim,figsize=(10,10))\n",
    "labels = ['1','2','3','4','5','6']\n",
    "#plot.opticaldepth_1D(results.samples[0], parameter_bounds[0], parameter = 0, bins=20, Fig=(fig,ax1))\n",
    "    \n",
    "#plot.plot_implausibility2D(results.samples[0], parameter_bounds, [0,1], bins=20)\n",
    "\n",
    "plot.plotcorner(results.samples[3], parameter_bounds, ndim, Fig=(fig,axes), labels=labels)\n",
    "\n",
    "axes[1,0].scatter(true_parameters_5D[0],true_parameters_5D[1], color='red')\n",
    "axes[2,0].scatter(true_parameters_5D[0],true_parameters_5D[2], color='red')\n",
    "axes[3,0].scatter(true_parameters_5D[0],true_parameters_5D[3], color='red')\n",
    "\n",
    "axes[2,1].scatter(true_parameters_5D[1],true_parameters_5D[2], color='red')\n",
    "axes[3,1].scatter(true_parameters_5D[1],true_parameters_5D[3], color='red')\n",
    "\n",
    "axes[3,2].scatter(true_parameters_5D[2],true_parameters_5D[3], color='red')\n",
    "\n",
    "\n",
    "H = analytic_cov\n",
    "\n",
    "get_cov_ellipse(np.array([[H[0,0], H[0,1]],[H[1,0], H[1,1]]]), [analytic_mean[0], analytic_mean[1]], 3, axes[1,0], 'red')\n",
    "get_cov_ellipse(np.array([[H[0,0], H[0,2]],[H[2,0], H[2,2]]]), [analytic_mean[0], analytic_mean[2]], 3, axes[2,0], 'red')\n",
    "get_cov_ellipse(np.array([[H[1,1], H[1,2]],[H[2,1], H[2,2]]]), [analytic_mean[1], analytic_mean[2]], 3, axes[2,1], 'red')\n",
    "get_cov_ellipse(np.array([[H[0,0], H[0,3]],[H[3,0], H[3,3]]]), [analytic_mean[0], analytic_mean[3]], 3, axes[3,0], 'red')\n",
    "get_cov_ellipse(np.array([[H[2,2], H[2,3]],[H[3,2], H[3,3]]]), [analytic_mean[2], analytic_mean[3]], 3, axes[3,2], 'red')\n",
    "get_cov_ellipse(np.array([[H[1,1], H[1,3]],[H[3,1], H[3,3]]]), [analytic_mean[1], analytic_mean[3]], 3, axes[3,1], 'red')\n",
    "\n",
    "\n",
    "#axes[1,0].scatter(true_parameters[0],true_parameters[1], color='red')\n",
    "#axes[2,0].scatter(true_parameters[0],true_parameters[2], color='red')\n",
    "#axes[2,1].scatter(true_parameters[1],true_parameters[2], color='red')"
   ]
  },
  {
   "cell_type": "code",
   "execution_count": null,
   "metadata": {},
   "outputs": [],
   "source": [
    "fig, (ax1, ax2) = plt.subplots(1, 2, figsize=(15,5))\n",
    "\n",
    "mu = results.emulator_mu[0]\n",
    "sd = results.emulator_sd[0]\n",
    "\n",
    "ax1.scatter(results.test_pts[0][:,0], mu, s=2)\n",
    "\n",
    "true = toy_model_5D(results.train_pts[0][:,0], results.train_pts[0][:,1], results.train_pts[0][:,2], results.train_pts[0][:,3], results.train_pts[0][:,4])[-1]\n",
    "\n",
    "ax2.scatter(results.train_pts[0][:,0], true, s=10, color='red')\n",
    "#ax2.scatter(results.train_pts[0][:,0], results.z_train[0], s=1, color='black')\n",
    "\n",
    "\n",
    "ax1.fill_between(results.test_pts[0][:,0], mu + 3*sd, mu - 3*sd, alpha=0.2)\n",
    "ax2.fill_between(results.train_pts[0][:,0], true + 3*np.sqrt(np.var(true)), true - 3*np.sqrt(np.var(true)), alpha=0.2)\n",
    "\n",
    "##print(true - 3*np.sqrt(np.var(true)))\n",
    "#ax2.scatter(results.train_pts[0][:,0], results.z_train[0], color='red')\n",
    "\n",
    "\n",
    "#ax2.axhline(np.mean(results.z_train[0]) + 3*np.sqrt(np.var(results.train_pts[0][:,0])))\n",
    "#ax2.axhline(np.mean(true) + 3*np.sqrt(np.var(true)))\n",
    "#ax2.axhline(np.mean(results.z_train[0]), color='red')\n",
    "\n"
   ]
  },
  {
   "cell_type": "code",
   "execution_count": null,
   "metadata": {},
   "outputs": [],
   "source": []
  },
  {
   "cell_type": "code",
   "execution_count": null,
   "metadata": {},
   "outputs": [],
   "source": []
  },
  {
   "cell_type": "code",
   "execution_count": null,
   "metadata": {},
   "outputs": [],
   "source": []
  },
  {
   "cell_type": "code",
   "execution_count": null,
   "metadata": {},
   "outputs": [],
   "source": []
  },
  {
   "cell_type": "code",
   "execution_count": null,
   "metadata": {},
   "outputs": [],
   "source": []
  },
  {
   "cell_type": "code",
   "execution_count": null,
   "metadata": {},
   "outputs": [],
   "source": []
  },
  {
   "cell_type": "code",
   "execution_count": null,
   "metadata": {},
   "outputs": [],
   "source": []
  },
  {
   "cell_type": "code",
   "execution_count": null,
   "metadata": {},
   "outputs": [],
   "source": []
  },
  {
   "cell_type": "code",
   "execution_count": null,
   "metadata": {},
   "outputs": [],
   "source": []
  },
  {
   "cell_type": "code",
   "execution_count": null,
   "metadata": {},
   "outputs": [],
   "source": []
  },
  {
   "cell_type": "code",
   "execution_count": null,
   "metadata": {},
   "outputs": [],
   "source": []
  },
  {
   "cell_type": "code",
   "execution_count": null,
   "metadata": {},
   "outputs": [],
   "source": []
  },
  {
   "cell_type": "code",
   "execution_count": null,
   "metadata": {},
   "outputs": [],
   "source": []
  },
  {
   "cell_type": "code",
   "execution_count": null,
   "metadata": {},
   "outputs": [],
   "source": []
  },
  {
   "cell_type": "code",
   "execution_count": null,
   "metadata": {},
   "outputs": [],
   "source": []
  }
 ],
 "metadata": {
  "kernelspec": {
   "display_name": "Python 3",
   "language": "python",
   "name": "python3"
  },
  "language_info": {
   "codemirror_mode": {
    "name": "ipython",
    "version": 3
   },
   "file_extension": ".py",
   "mimetype": "text/x-python",
   "name": "python",
   "nbconvert_exporter": "python",
   "pygments_lexer": "ipython3",
   "version": "3.8.8"
  }
 },
 "nbformat": 4,
 "nbformat_minor": 4
}
