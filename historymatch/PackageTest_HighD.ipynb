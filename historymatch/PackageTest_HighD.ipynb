{
 "cells": [
  {
   "cell_type": "code",
   "execution_count": 1,
   "metadata": {},
   "outputs": [],
   "source": [
    "# import internal files\n",
    "import emulators\n",
    "import sample\n",
    "import historymatch\n",
    "import plot\n",
    "\n",
    "import numpy as np\n",
    "import matplotlib.pyplot as plt\n",
    "\n",
    "plt.rcParams.update({'font.size': 10})\n",
    "\n",
    "import importlib\n",
    "import time"
   ]
  },
  {
   "cell_type": "code",
   "execution_count": 2,
   "metadata": {},
   "outputs": [],
   "source": [
    "ndim = 5"
   ]
  },
  {
   "cell_type": "code",
   "execution_count": 3,
   "metadata": {},
   "outputs": [],
   "source": [
    "# define parameter space\n",
    "\n",
    "#theta_0_vals = np.linspace(parameter_bounds[0,0], parameter_bounds[0,1], 100)\n",
    "#theta_1_vals = np.linspace(parameter_bounds[1,0], parameter_bounds[1,1], 100)\n",
    "#theta_2_vals = np.linspace(parameter_bounds[2,0], parameter_bounds[2,1], 100)\n",
    "\n",
    "#theta_vals = np.concatenate((theta_0_vals.reshape(1,-1), theta_1_vals.reshape(1,-1), theta_2_vals.reshape(1,-1)), axis=0)"
   ]
  },
  {
   "cell_type": "code",
   "execution_count": 4,
   "metadata": {},
   "outputs": [],
   "source": [
    "#parameter_bounds = np.ones((ndim,2))\n",
    "#parameter_bounds[:,0] = -1*parameter_bounds[:,0]\n",
    "#parameter_bounds[:,1] = 2*parameter_bounds[:,1]\n",
    "\n",
    "# for 5D\n",
    "parameter_bounds = np.ones((ndim,2))\n",
    "parameter_bounds[:,0] = [-0.5, -5, -5, -5, 0]\n",
    "parameter_bounds[:,1] = [0.5, 5, 5, 5, 0.5]"
   ]
  },
  {
   "cell_type": "code",
   "execution_count": 5,
   "metadata": {},
   "outputs": [],
   "source": [
    "Nx = 10\n",
    "\n",
    "def toy_model6D(theta_1, theta_2, theta_3, theta_4, theta_5, theta_6):\n",
    "    \n",
    "    x_bound = np.array([0.1, 0.5])\n",
    "    Nx = 4\n",
    "    xvals = np.linspace(x_bound[0], x_bound[-1], Nx)\n",
    "\n",
    "    outputs =  []\n",
    "    for x in xvals:\n",
    "        output = theta_1 + theta_2*(x) + (theta_3**1)*(x**2) + theta_4*(x**3) \\\n",
    "               + theta_5*(10*x**4) + theta_6*(16*x**5)\n",
    "        outputs.append(output)\n",
    "    for x in xvals:\n",
    "        output = -theta_1 + theta_2*np.sin(x) + theta_3*np.sin(2*x) + (theta_4**1)*np.cos(x) \\\n",
    "               + theta_5*np.cos(2*x) + theta_6*(x)\n",
    "        outputs.append(output)\n",
    "    return np.array(outputs)\n",
    "\n",
    "def toy_model3D(theta_1, theta_2, theta_3):\n",
    "    \n",
    "    x_bound = np.array([0.1, 0.5])\n",
    "    Nx = 4\n",
    "    xvals = np.linspace(x_bound[0], x_bound[-1], Nx)\n",
    "\n",
    "    outputs =  []\n",
    "    for x in xvals:\n",
    "        output = theta_1 + theta_2*(x) + (theta_3)*(x**2)\n",
    "        outputs.append(output)\n",
    "    for x in xvals:\n",
    "        output = theta_1 + theta_2*np.sin(x) + theta_3*np.cos(2*x)\n",
    "        outputs.append(output)\n",
    "    return np.array(outputs)\n",
    "\n",
    "def toy_model_5D(theta_0, theta_1, theta_2, theta_3, theta_4):\n",
    "    \n",
    "    x_bound = np.array([0.1, 1])\n",
    "    Nx = 10\n",
    "    xvals = np.linspace(x_bound[0], x_bound[-1], Nx)\n",
    "\n",
    "    outputs =  []\n",
    "    for x in xvals:\n",
    "        output = theta_0 + theta_1*(x) + theta_2*(x**2) + theta_3*(x**3) + theta_4*(10*x**4)\n",
    "        outputs.append(output)\n",
    "    for x in xvals:\n",
    "        output = theta_0 - theta_1*np.sin(x) + theta_2*np.cos(2*x) + theta_3*np.exp(x) + theta_4*(1/(2*x))\n",
    "        outputs.append(output)\n",
    "    return np.array(outputs)"
   ]
  },
  {
   "cell_type": "code",
   "execution_count": 6,
   "metadata": {},
   "outputs": [
    {
     "name": "stdout",
     "output_type": "stream",
     "text": [
      "[-0.06424059 -0.01153057  0.04254632  0.15909343  0.27626294  0.40133016\n",
      "  0.63594636  0.94459866  1.36742156  1.95254238  0.72063514  0.32866346\n",
      " -0.01165132 -0.23143851 -0.37959135 -0.61527878 -0.92946923 -1.08312109\n",
      " -1.3456441  -1.62523159]\n"
     ]
    }
   ],
   "source": [
    "# generate observational data with some uncertainty\n",
    "true_parameters_3D = [-0.1, 0.3, 0.6]\n",
    "true_parameters_6D = [-0.1, 0.3, 0.6, -0.8, 0.2, 0.15]\n",
    "true_parameters_5D = [-0.1, 0.3, 0.6, -0.4, 0.15]\n",
    "\n",
    "var_obs = 0.001 # observational uncertainty variance\n",
    "\n",
    "error_obs = np.random.normal(0, np.sqrt(var_obs), 2*Nx)\n",
    "\n",
    "obs_data = toy_model_5D(*true_parameters_5D) + error_obs\n",
    "\n",
    "print(obs_data)"
   ]
  },
  {
   "cell_type": "code",
   "execution_count": 7,
   "metadata": {},
   "outputs": [],
   "source": [
    "nwaves = 4\n",
    "ndim = 5"
   ]
  },
  {
   "cell_type": "code",
   "execution_count": 11,
   "metadata": {},
   "outputs": [],
   "source": [
    "importlib.reload(historymatch)\n",
    "\n",
    "\n",
    "\n",
    "# initialise history matching class\n",
    "HM = historymatch.HistoryMatch(obs_data,\n",
    "                               ndim, 'GP', 'hypercube')"
   ]
  },
  {
   "cell_type": "code",
   "execution_count": 12,
   "metadata": {
    "scrolled": true
   },
   "outputs": [],
   "source": [
    "\n",
    "\n",
    "ToyModel = historymatch.Simulator(HM)\n",
    "ToyModel.set_simulator(toy_model_5D)\n",
    "\n",
    "HM.set_observations(obs_data, np.sqrt(var_obs))\n",
    "HM.initialize_volume(parameter_bounds[:,0], parameter_bounds[:,1])\n",
    "\n"
   ]
  },
  {
   "cell_type": "code",
   "execution_count": 13,
   "metadata": {},
   "outputs": [
    {
     "name": "stdout",
     "output_type": "stream",
     "text": [
      "(5, 2)\n",
      "(5, 2)\n",
      "Running wave 1\n",
      "Emulating...\n",
      "Emulating...\n",
      "Emulating...\n",
      "Emulating...\n",
      "Emulating...\n",
      "Emulating...\n",
      "Emulating...\n",
      "Emulating...\n",
      "Emulating...\n",
      "Emulating...\n",
      "Emulating...\n",
      "Emulating...\n",
      "Emulating...\n",
      "Emulating...\n",
      "Emulating...\n",
      "Emulating...\n",
      "Emulating...\n",
      "Emulating...\n",
      "Emulating...\n",
      "Emulating...\n",
      "(5, 2)\n",
      "(5, 2)\n",
      "Relative nonimplausible volume remaining: 0.024\n",
      "Running wave 2\n",
      "Emulating...\n",
      "Emulating...\n",
      "Emulating...\n",
      "Emulating...\n",
      "Emulating...\n",
      "Emulating...\n",
      "Emulating...\n",
      "Emulating...\n",
      "Emulating...\n",
      "Emulating...\n",
      "Emulating...\n",
      "Emulating...\n",
      "Emulating...\n",
      "Emulating...\n",
      "Emulating...\n",
      "Emulating...\n",
      "Emulating...\n",
      "Emulating...\n",
      "Emulating...\n",
      "Emulating...\n",
      "(5, 2)\n",
      "(5, 2)\n",
      "Relative nonimplausible volume remaining: 0.017\n",
      "Running wave 3\n",
      "Emulating...\n",
      "Emulating...\n",
      "Emulating...\n",
      "Emulating...\n",
      "Emulating...\n",
      "Emulating...\n",
      "Emulating...\n",
      "Emulating...\n",
      "Emulating...\n",
      "Emulating...\n",
      "Emulating...\n",
      "Emulating...\n",
      "Emulating...\n",
      "Emulating...\n",
      "Emulating...\n",
      "Emulating...\n",
      "Emulating...\n",
      "Emulating...\n",
      "Emulating...\n",
      "Emulating...\n",
      "(5, 2)\n",
      "(5, 2)\n",
      "Relative nonimplausible volume remaining: 0.016\n",
      "Running wave 4\n",
      "Emulating...\n",
      "Emulating...\n",
      "Emulating...\n",
      "Emulating...\n",
      "Emulating...\n",
      "Emulating...\n",
      "Emulating...\n",
      "Emulating...\n",
      "Emulating...\n",
      "Emulating...\n",
      "Emulating...\n",
      "Emulating...\n",
      "Emulating...\n",
      "Emulating...\n",
      "Emulating...\n",
      "Emulating...\n",
      "Emulating...\n",
      "Emulating...\n",
      "Emulating...\n",
      "Emulating...\n",
      "(5, 2)\n",
      "(5, 2)\n",
      "Relative nonimplausible volume remaining: 0.015\n"
     ]
    }
   ],
   "source": [
    "start = time.time()\n",
    "results = HM.run(nwaves=nwaves)"
   ]
  },
  {
   "cell_type": "code",
   "execution_count": 14,
   "metadata": {},
   "outputs": [
    {
     "name": "stdout",
     "output_type": "stream",
     "text": [
      "164.77486515045166\n"
     ]
    }
   ],
   "source": [
    "end = time.time()\n",
    "print(end - start)"
   ]
  },
  {
   "cell_type": "code",
   "execution_count": 16,
   "metadata": {},
   "outputs": [
    {
     "data": {
      "text/plain": [
       "<matplotlib.collections.PathCollection at 0x7fc78a1b3280>"
      ]
     },
     "execution_count": 16,
     "metadata": {},
     "output_type": "execute_result"
    },
    {
     "data": {
      "image/png": "[encoded data removed]",
      "text/plain": [
       "<Figure size 720x720 with 25 Axes>"
      ]
     },
     "metadata": {
      "needs_background": "light"
     },
     "output_type": "display_data"
    }
   ],
   "source": [
    "importlib.reload(plot)\n",
    "\n",
    "fig, axes = plt.subplots(ndim,ndim,figsize=(10,10))\n",
    "labels = ['1','2','3','4','5','6']\n",
    "#plot.opticaldepth_1D(results.samples[0], parameter_bounds[0], parameter = 0, bins=20, Fig=(fig,ax1))\n",
    "    \n",
    "#plot.plot_implausibility2D(results.samples[0], parameter_bounds, [0,1], bins=20)\n",
    "\n",
    "plot.plotcorner(results.samples[3], parameter_bounds, ndim, Fig=(fig,axes), labels=labels)\n",
    "axes[1,0].scatter(true_parameters_3D[0],true_parameters_3D[1], color='red')\n",
    "axes[2,0].scatter(true_parameters_3D[0],true_parameters_3D[2], color='red')\n",
    "axes[2,1].scatter(true_parameters_3D[1],true_parameters_3D[2], color='red')\n",
    "\n",
    "#plt.savefig('6D.png')"
   ]
  },
  {
   "cell_type": "code",
   "execution_count": null,
   "metadata": {},
   "outputs": [],
   "source": [
    "def get_cov_ellipse(cov, centre, nstd, ax, color):\n",
    "    \"\"\"\n",
    "    Return a matplotlib Ellipse patch representing the covariance matrix\n",
    "    cov centred at centre and scaled by the factor nstd.\n",
    "\n",
    "    \"\"\"\n",
    "\n",
    "    # Find and sort eigenvalues and eigenvectors into descending order\n",
    "    eigvals, eigvecs = np.linalg.eigh(cov)\n",
    "    order = eigvals.argsort()[::-1]\n",
    "    eigvals, eigvecs = eigvals[order], eigvecs[:, order]\n",
    "\n",
    "    # The anti-clockwise angle to rotate our ellipse by \n",
    "    vx, vy = eigvecs[:,0][0], eigvecs[:,0][1]\n",
    "    theta = np.arctan2(vy, vx)\n",
    "    \n",
    "    width0, height0 = np.sqrt(np.abs(eigvals))\n",
    "\n",
    "    # Width and height of ellipse to draw\n",
    "    width, height = 2 * nstd * np.sqrt(np.abs(eigvals))\n",
    "    \n",
    "    t = np.linspace(0, 2*np.pi, 100)\n",
    "    Ell = np.array([0.5*width*np.cos(t) , 0.5*height*np.sin(t)]) \n",
    "    R_rot = np.array([[np.cos(theta) , -np.sin(theta)],[np.sin(theta), np.cos(theta)]])  \n",
    "    Ell_rot = np.zeros((2,Ell.shape[1]))\n",
    "    for i in range(Ell.shape[1]):\n",
    "        Ell_rot[:,i] = np.dot(R_rot,Ell[:,i])\n",
    "    \n",
    "    ax.plot( centre[0]+Ell_rot[0,:] , centre[1]+Ell_rot[1,:], color=color)\n",
    "    \n",
    "    return theta, width, height"
   ]
  },
  {
   "cell_type": "code",
   "execution_count": null,
   "metadata": {},
   "outputs": [],
   "source": []
  },
  {
   "cell_type": "code",
   "execution_count": null,
   "metadata": {},
   "outputs": [],
   "source": []
  },
  {
   "cell_type": "code",
   "execution_count": null,
   "metadata": {},
   "outputs": [],
   "source": [
    "\n",
    "fig, (ax1, ax2) = plt.subplots(1, 2, figsize=(15,5))\n",
    "\n",
    "#ax1.scatter(results.test_pts[3][:,0], results.test_pts[3][:,1], s=2, color='red', label='New samples')\n",
    "ax1.scatter(results.regions[0][:,0], results.regions[0][:,1], s=3, color='cornflowerblue', label='Nonimp pts')\n",
    "\n",
    "\n",
    "cov2D = np.cov(results.regions[2][:,0], results.regions[2][:,1])\n",
    "nonimp_mean_x = np.mean(results.regions[2][:,0])\n",
    "nonimp_mean_y = np.mean(results.regions[2][:,1])\n",
    "\n",
    "nonimp_2D = np.concatenate((results.regions[2][:,0].reshape(-1,1), results.regions[2][:,1].reshape(-1,1)), axis=1)\n",
    "mean2D = np.mean(nonimp_2D, axis=0)\n",
    "\n",
    "theta, width, height = get_cov_ellipse(cov2D, [nonimp_mean_x, nonimp_mean_y], 3, ax1, 'orange')\n",
    "\n",
    "\n",
    "nonimp_3D = np.concatenate((results.regions[2][:,0].reshape(-1,1), results.regions[2][:,1].reshape(-1,1), results.regions[2][:,2].reshape(-1,1)), axis=1)\n",
    "cov3D = np.cov(np.stack((results.regions[2][:,0], results.regions[2][:,1], results.regions[2][:,2]), axis = 0))\n",
    "\n",
    "mean3D = np.mean(nonimp_3D, axis=0)\n",
    "\n",
    "for i in range(len(nonimp_2D)):\n",
    "    M = np.sqrt((nonimp_2D[i] - mean2D).T.dot(np.linalg.inv(cov2D).dot((nonimp_2D[i] - mean2D))))\n",
    "    #if M > 3:\n",
    "        #ax1.scatter(nonimp_2D[i][0], nonimp_2D[i][1])\n",
    "\n",
    "ax1.set_xlim([-3,3])\n",
    "ax1.set_ylim([-3,3])\n",
    "ax1.legend(loc=\"best\")"
   ]
  },
  {
   "cell_type": "code",
   "execution_count": null,
   "metadata": {},
   "outputs": [],
   "source": [
    "X_3D_train = np.random.uniform(-1, 1, (20, 3))\n",
    "\n",
    "X_3D_test = np.random.uniform(-1, 1, (5000, 3))\n",
    "\n",
    "rx, ry, rz = np.linspace(-1, 1, 20), np.linspace(-1, 1, 20), np.linspace(-1, 1, 20)\n",
    "gx, gy, gz = np.meshgrid(rx, ry, rz)\n",
    "\n",
    "X_3D = np.c_[gx.ravel(), gy.ravel(), gz.ravel()]\n",
    "\n",
    "Y_3D_train = model_eqn_1(0.1, X_3D_train[:,0], X_3D_train[:,1], X_3D_train[:,2])"
   ]
  },
  {
   "cell_type": "code",
   "execution_count": null,
   "metadata": {},
   "outputs": [],
   "source": [
    "Y_3D_test = model_eqn_1(0.1, X_3D_test[:,0], X_3D_test[:,1], X_3D_test[:,2])"
   ]
  },
  {
   "cell_type": "code",
   "execution_count": null,
   "metadata": {},
   "outputs": [],
   "source": [
    "#print(Y_3D_test)"
   ]
  },
  {
   "cell_type": "code",
   "execution_count": null,
   "metadata": {},
   "outputs": [],
   "source": [
    "importlib.reload(emulators)\n",
    "GP = emulators.Gaussian_Process(X_3D_train, X_3D_test, Y_3D_train)\n",
    "mu1, cov1, sd1 = GP.emulate()\n",
    "print(GP.sigma_f)\n",
    "#print(mu1)"
   ]
  },
  {
   "cell_type": "code",
   "execution_count": null,
   "metadata": {},
   "outputs": [],
   "source": [
    "GP.optimize()"
   ]
  },
  {
   "cell_type": "code",
   "execution_count": null,
   "metadata": {},
   "outputs": [],
   "source": [
    "mu2, cov2, sd2 = GP.emulate()\n",
    "print(GP.l)\n",
    "\n",
    "z = -0.06387078"
   ]
  },
  {
   "cell_type": "code",
   "execution_count": null,
   "metadata": {},
   "outputs": [],
   "source": [
    "print(sd1[0])\n",
    "print(sd2[0])\n",
    "print(mu1 - Y_3D_test)\n",
    "print(mu2 - Y_3D_test)"
   ]
  },
  {
   "cell_type": "code",
   "execution_count": null,
   "metadata": {},
   "outputs": [],
   "source": [
    "HMtest = historymatch.HistoryMatch(z,\n",
    "                               3, 'GP', 'ellipsoid')"
   ]
  },
  {
   "cell_type": "code",
   "execution_count": null,
   "metadata": {},
   "outputs": [],
   "source": [
    "imp1 = HMtest.implausibility(mu1, z, sd1, 0, var_obs)\n",
    "imp2 = HMtest.implausibility(mu2, z, sd2, 0, var_obs)\n",
    "print(imp1)\n",
    "print(imp2)"
   ]
  },
  {
   "cell_type": "code",
   "execution_count": null,
   "metadata": {},
   "outputs": [],
   "source": [
    "samp1 = np.concatenate((X_3D_test, imp1.reshape(-1,1)), axis=1)\n",
    "samp2 = np.concatenate((X_3D_test, imp2.reshape(-1,1)), axis=1)"
   ]
  },
  {
   "cell_type": "code",
   "execution_count": null,
   "metadata": {},
   "outputs": [],
   "source": []
  },
  {
   "cell_type": "code",
   "execution_count": null,
   "metadata": {},
   "outputs": [],
   "source": [
    "fig, (ax1, ax2) = plt.subplots(1,2, figsize=(15,7))\n",
    "\n",
    "plot.plot_implausibility2D(samp1, parameter_bounds, [0,1], bins=20, Fig=(fig, ax1), colorbar=False, \n",
    "                            labels=None, plot_kwargs=None)\n",
    "plot.plot_implausibility2D(samp2, parameter_bounds, [0,1], bins=20, Fig=(fig, ax2), colorbar=False, \n",
    "                            labels=None, plot_kwargs=None)"
   ]
  },
  {
   "cell_type": "code",
   "execution_count": null,
   "metadata": {},
   "outputs": [],
   "source": []
  },
  {
   "cell_type": "code",
   "execution_count": null,
   "metadata": {},
   "outputs": [],
   "source": []
  }
 ],
 "metadata": {
  "kernelspec": {
   "display_name": "Python 3",
   "language": "python",
   "name": "python3"
  },
  "language_info": {
   "codemirror_mode": {
    "name": "ipython",
    "version": 3
   },
   "file_extension": ".py",
   "mimetype": "text/x-python",
   "name": "python",
   "nbconvert_exporter": "python",
   "pygments_lexer": "ipython3",
   "version": "3.9.1"
  }
 },
 "nbformat": 4,
 "nbformat_minor": 4
}
