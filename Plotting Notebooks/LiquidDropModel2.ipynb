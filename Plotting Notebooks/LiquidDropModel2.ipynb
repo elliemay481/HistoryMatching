{
 "cells": [
  {
   "cell_type": "code",
   "execution_count": 1,
   "metadata": {},
   "outputs": [],
   "source": [
    "# import internal files\n",
    "from historymatch import emulators\n",
    "from historymatch import sample\n",
    "from historymatch import historymatch\n",
    "from historymatch import plot\n",
    "from historymatch import utils\n",
    "\n",
    "\n",
    "# import external modules\n",
    "import numpy as np\n",
    "import matplotlib.pyplot as plt\n",
    "from scipy import stats\n",
    "import os\n",
    "import pandas as pd\n",
    "#import importlib\n",
    "from matplotlib.patches import Rectangle\n",
    "\n",
    "import sklearn.linear_model as skl\n",
    "\n",
    "plt.rcParams.update({'font.size': 10})\n",
    "\n",
    "np.random.seed(4)"
   ]
  },
  {
   "cell_type": "code",
   "execution_count": 2,
   "metadata": {},
   "outputs": [],
   "source": [
    "# import data\n",
    "\n",
    "with open(\"data/MassEval2016.dat\",'r') as infile:\n",
    "    Masses = pd.read_fwf(infile, usecols=(2,3,4,6,11,12),\n",
    "              names=('N', 'Z', 'A', 'Element', 'Ebinding', 'E_unc'),\n",
    "              widths=(1,3,5,5,5,1,3,4,1,13,11,11,9,1,2,11,9,1,3,1,12,11,1),\n",
    "              header=64,\n",
    "              index_col=False)\n",
    "    \n",
    "# Extrapolated values are indicated by '#' in place of the decimal place, so\n",
    "# the Ebinding column won't be numeric. Coerce to float and drop these entries.\n",
    "Masses['Ebinding'] = pd.to_numeric(Masses['Ebinding'], errors='coerce')\n",
    "Masses = Masses.dropna()\n",
    "Masses['E_unc'] = pd.to_numeric(Masses['E_unc'], errors='coerce')\n",
    "Masses = Masses.dropna()\n",
    "# Convert from keV to MeV.\n",
    "Masses['Ebinding'] /= 1000\n",
    "Masses['E_unc'] /= 1000\n",
    "\n",
    "# Group the DataFrame by nucleon number, A.\n",
    "Masses = Masses.groupby('A')\n",
    "# Find the rows of the grouped DataFrame with the maximum binding energy.\n",
    "Masses = Masses.apply(lambda t: t[t.Ebinding==t.Ebinding.max()])\n",
    "\n",
    "A = Masses['A'].to_numpy()\n",
    "Z = Masses['Z'].to_numpy()\n",
    "N = Masses['N'].to_numpy()\n",
    "Element = Masses['Element'].to_numpy()\n",
    "Energies = Masses['Ebinding'].to_numpy()\n",
    "\n",
    "#Energies_unc = Masses['E_unc'].to_numpy()\n",
    "Energies_unc = Masses['E_unc'].to_numpy()"
   ]
  },
  {
   "cell_type": "code",
   "execution_count": 3,
   "metadata": {},
   "outputs": [],
   "source": [
    "def unscale(val, mini, maxi):\n",
    "        return ((val + 1)*(maxi - mini)*0.5) + mini"
   ]
  },
  {
   "cell_type": "code",
   "execution_count": 4,
   "metadata": {},
   "outputs": [],
   "source": [
    "# define parameter space\n",
    "\n",
    "'''\n",
    "# hypercube\n",
    "theta_0_bound = np.array([1, 7]).reshape(1,-1)\n",
    "theta_1_bound = np.array([-0.4, -0]).reshape(1,-1)\n",
    "theta_2_bound = np.array([0.3, 1.4]).reshape(1,-1)\n",
    "theta_3_bound = np.array([0.00, 0.012]).reshape(1,-1) # keep\n",
    "theta_4_bound = np.array([0.15, 0.5]).reshape(1,-1)\n",
    "theta_5_bound = np.array([-0.2, 0.2]).reshape(1,-1)\n",
    "'''\n",
    "\n",
    "theta_0_bound = np.array([-1, 1]).reshape(1,-1)\n",
    "theta_1_bound = np.array([-1, 1]).reshape(1,-1)\n",
    "theta_2_bound = np.array([-1, 1]).reshape(1,-1)\n",
    "theta_3_bound = np.array([-1, 1]).reshape(1,-1) # keep\n",
    "theta_4_bound = np.array([-1, 1]).reshape(1,-1)\n",
    "theta_5_bound = np.array([-1, 1]).reshape(1,-1)\n",
    "\n",
    "\n",
    "\n",
    "a0_lim = np.array([-10, 10]).reshape(1,-1)\n",
    "a1_lim = np.array([-0.4, 0]).reshape(1,-1)\n",
    "a2_lim = np.array([0.3, 1.4]).reshape(1,-1)\n",
    "a3_lim = np.array([0.00, 0.012]).reshape(1,-1)\n",
    "a4_lim = np.array([0, 0.6]).reshape(1,-1)\n",
    "a5_lim = np.array([-0.2, 0.2]).reshape(1,-1)\n",
    "\n",
    "\n",
    "\n",
    "#a0_lim = np.array([-100, 100]).reshape(1,-1)\n",
    "#a1_lim = np.array([-10, 10]).reshape(1,-1)\n",
    "#a2_lim = np.array([-50, 100]).reshape(1,-1)\n",
    "#a3_lim = np.array([0.00, 10]).reshape(1,-1)\n",
    "#a4_lim = np.array([0, 30]).reshape(1,-1)\n",
    "#a5_lim = np.array([-10, 10]).reshape(1,-1)\n",
    "\n",
    "a_limits = np.concatenate((a0_lim, a1_lim, \\\n",
    "                            a2_lim, a3_lim,\\\n",
    "                           a4_lim, a5_lim), axis=0)\n",
    "\n",
    "parameter_bounds = np.concatenate((theta_0_bound, theta_1_bound, \\\n",
    "                                   theta_2_bound, theta_3_bound, theta_4_bound, theta_5_bound), axis=0)\n",
    "\n",
    "#parameter_bounds = np.concatenate((theta_0_bound, theta_1_bound, theta_2_bound), axis=0)\n",
    "\n",
    "\n",
    "\n",
    "theta_0_vals = np.linspace(a_limits[0,0], a_limits[0,1], 100)\n",
    "theta_1_vals = np.linspace(a_limits[1,0], a_limits[1,1], 100)\n",
    "theta_2_vals = np.linspace(a_limits[2,0], a_limits[2,1], 100)\n",
    "theta_3_vals = np.linspace(a_limits[3,0], a_limits[3,1], 100)\n",
    "theta_4_vals = np.linspace(a_limits[4,0], a_limits[4,1], 100)\n",
    "theta_5_vals = np.linspace(a_limits[5,0], a_limits[5,1], 100)\n",
    "\n",
    "\n",
    "theta_vals = np.concatenate((theta_0_vals.reshape(1,-1), theta_1_vals.reshape(1,-1), theta_2_vals.reshape(1,-1), theta_3_vals.reshape(1,-1), theta_4_vals.reshape(1,-1), theta_5_vals.reshape(1,-1)), axis=0)\n"
   ]
  },
  {
   "cell_type": "code",
   "execution_count": 5,
   "metadata": {},
   "outputs": [],
   "source": [
    "def LiquidDropModel(a0, a1, a2, a3, a4, a5, A, Z, N):\n",
    "\n",
    "    \n",
    "    def unscale(val, mini, maxi):\n",
    "        return ((val + 1)*(maxi - mini)*0.5) + mini\n",
    "\n",
    "    a0_lim = np.array([-10, 10]).reshape(1,-1)\n",
    "    a1_lim = np.array([-0.4, 0]).reshape(1,-1)\n",
    "    a2_lim = np.array([0.3, 1.4]).reshape(1,-1)\n",
    "    a3_lim = np.array([0.00, 0.012]).reshape(1,-1)\n",
    "    a4_lim = np.array([0, 0.6]).reshape(1,-1)\n",
    "    a5_lim = np.array([-0.2, 0.2]).reshape(1,-1)\n",
    "\n",
    "    a_limits = np.concatenate((a0_lim, a1_lim, \\\n",
    "                                a2_lim, a3_lim,\\\n",
    "                               a4_lim, a5_lim), axis=0)\n",
    "    \n",
    "    return unscale(a0, a_limits[0,0], a_limits[0,1]) + unscale(a1, a_limits[1,0], a_limits[1,1])*A \\\n",
    "                + unscale(a2, a_limits[2,0], a_limits[2,1])*(A**(2.0/3.0)) + unscale(a3, a_limits[3,0], a_limits[3,1])*Z*(Z-1)*(A**(-1.0/3.0)) \\\n",
    "                + unscale(a4, a_limits[4,0], a_limits[4,1])*((N-Z)**2)/A + unscale(a5, a_limits[5,0], a_limits[5,1])*( (-1)**Z + (-1)**N )*(0.5*A**(-0.5))\n",
    "\n",
    "\n",
    "def LiquidDropModelTrue(a0, a1, a2, a3, a4, a5, A, Z, N):\n",
    "    \n",
    "    return a0 + a1*A + a2*(A**(2.0/3.0)) + a3*Z*(Z-1)*(A**(-1.0/3.0)) \\\n",
    "            + a4*((N-Z)**2)/A + a5*( (-1)**Z + (-1)**N )*(0.5*A**(-0.5))\n",
    "\n",
    "\n",
    "\n",
    "#def LiquidDropModel(a0, a1, a2, a3, a4, A, Z, N):\n",
    "    \n",
    "    #return a0 + a1*A + a2*(A**(2.0/3.0)) + a3*Z*(Z-1)*(A**(-1.0/3.0)) \\\n",
    "                #+ a4*((N-Z)**2)/A\n",
    "\n",
    "\n",
    "\n"
   ]
  },
  {
   "cell_type": "code",
   "execution_count": 66,
   "metadata": {},
   "outputs": [
    {
     "name": "stdout",
     "output_type": "stream",
     "text": [
      "20\n"
     ]
    }
   ],
   "source": [
    "# generate observational data with some uncertainty\n",
    "\n",
    "noutputs = 20\n",
    "\n",
    "start = 238\n",
    "stop = 258\n",
    "step = 1\n",
    "\n",
    "#variables = np.concatenate((A[-noutputs:].reshape(-1,1),Z[-noutputs:].reshape(-1,1),\\\n",
    "                            #N[-noutputs:].reshape(-1,1)), axis=1)\n",
    "\n",
    "\n",
    "variables = np.concatenate((A[start:stop:step].reshape(-1,1),Z[start:stop:step].reshape(-1,1),\\\n",
    "                            N[start:stop:step].reshape(-1,1)), axis=1)\n",
    "\n",
    "print(len(A[start:stop:step]))"
   ]
  },
  {
   "cell_type": "code",
   "execution_count": 67,
   "metadata": {},
   "outputs": [],
   "source": [
    "# Now we set up the design matrix X\n",
    "X2 = np.zeros((len(A),4))\n",
    "X2[:,0] = A\n",
    "X2[:,1] = A**(2.0/3.0)\n",
    "X2[:,2] = Z*(Z-1) * A**(-1.0/3.0)\n",
    "X2[:,3] = (N-Z)**2 * A**(-1.0)\n",
    "\n",
    "\n",
    "# Now we set up the design matrix X\n",
    "X = np.zeros((len(A),6))\n",
    "X[:,0] = np.ones_like(A)\n",
    "X[:,1] = A\n",
    "X[:,2] = A**(2.0/3.0)\n",
    "X[:,3] = Z*(Z-1) * A**(-1.0/3.0)\n",
    "X[:,4] = (N-Z)**2 * A**(-1.0)\n",
    "X[:,5] = ( (-1)**Z + (-1)**N )*(2*A**(-0.5))\n"
   ]
  },
  {
   "cell_type": "code",
   "execution_count": 70,
   "metadata": {},
   "outputs": [
    {
     "name": "stdout",
     "output_type": "stream",
     "text": [
      "[ 4.73627103 -0.20205821  0.94821898  0.00784371  0.3234039   0.01146729]\n",
      "0.007850016082745914\n"
     ]
    }
   ],
   "source": [
    "\n",
    "clf = skl.LinearRegression(fit_intercept=False).fit(X, Energies)\n",
    "\n",
    "print(clf.coef_)\n",
    "\n",
    "preds = clf.predict(X)\n",
    "\n",
    "\n",
    "err = np.sum(np.square(Energies-preds))\n",
    "\n",
    "pred_sigma = np.sqrt(err / (len(Energies) - 5 - 1)) \n",
    "\n",
    "#https://stats.stackexchange.com/questions/284772/estimator-of-variance-of-error\n",
    "print(pred_sigma)"
   ]
  },
  {
   "cell_type": "code",
   "execution_count": 71,
   "metadata": {},
   "outputs": [],
   "source": [
    "# generate observational data (for testing)\n",
    "\n",
    "sigma_obs = Energies_unc\n",
    "\n",
    "#https://www.int.washington.edu/users/bertsch/articles/369.pdf\n",
    "sigma_model = pred_sigma\n",
    "\n",
    "obs_data = Energies\n",
    "#obs_data = np.array(LiquidDropModelTrue(*clf.coef_, *variables.T)) + Energies_unc[start:stop:step]"
   ]
  },
  {
   "cell_type": "code",
   "execution_count": null,
   "metadata": {},
   "outputs": [],
   "source": []
  },
  {
   "cell_type": "code",
   "execution_count": 72,
   "metadata": {},
   "outputs": [],
   "source": [
    "nwaves = 10\n",
    "ndim = 6\n",
    "volshape = 'ellipsoid'"
   ]
  },
  {
   "cell_type": "code",
   "execution_count": 73,
   "metadata": {},
   "outputs": [],
   "source": [
    "#importlib.reload(historymatch)\n",
    "\n",
    "# initialise history matching class\n",
    "HM = historymatch.HistoryMatch(ndim, 'GP', volshape)"
   ]
  },
  {
   "cell_type": "code",
   "execution_count": 74,
   "metadata": {},
   "outputs": [
    {
     "name": "stdout",
     "output_type": "stream",
     "text": [
      "Running wave 1\n"
     ]
    },
    {
     "name": "stderr",
     "output_type": "stream",
     "text": [
      "100%|██████████| 20/20 [00:02<00:00,  7.17it/s]"
     ]
    },
    {
     "name": "stdout",
     "output_type": "stream",
     "text": [
      "(0, 7)\n"
     ]
    },
    {
     "name": "stderr",
     "output_type": "stream",
     "text": [
      "\n"
     ]
    },
    {
     "ename": "ValueError",
     "evalue": "zero-size array to reduction operation minimum which has no identity",
     "output_type": "error",
     "traceback": [
      "\u001b[0;31m---------------------------------------------------------------------------\u001b[0m",
      "\u001b[0;31mValueError\u001b[0m                                Traceback (most recent call last)",
      "\u001b[0;32m<ipython-input-74-e4fed085d182>\u001b[0m in \u001b[0;36m<module>\u001b[0;34m\u001b[0m\n\u001b[1;32m      7\u001b[0m \u001b[0mHM\u001b[0m\u001b[0;34m.\u001b[0m\u001b[0minitialize_volume\u001b[0m\u001b[0;34m(\u001b[0m\u001b[0mparameter_bounds\u001b[0m\u001b[0;34m[\u001b[0m\u001b[0;34m:\u001b[0m\u001b[0;34m,\u001b[0m\u001b[0;36m0\u001b[0m\u001b[0;34m]\u001b[0m\u001b[0;34m,\u001b[0m \u001b[0mparameter_bounds\u001b[0m\u001b[0;34m[\u001b[0m\u001b[0;34m:\u001b[0m\u001b[0;34m,\u001b[0m\u001b[0;36m1\u001b[0m\u001b[0;34m]\u001b[0m\u001b[0;34m)\u001b[0m\u001b[0;34m\u001b[0m\u001b[0;34m\u001b[0m\u001b[0m\n\u001b[1;32m      8\u001b[0m \u001b[0;34m\u001b[0m\u001b[0m\n\u001b[0;32m----> 9\u001b[0;31m \u001b[0mresults\u001b[0m \u001b[0;34m=\u001b[0m \u001b[0mHM\u001b[0m\u001b[0;34m.\u001b[0m\u001b[0mrun\u001b[0m\u001b[0;34m(\u001b[0m\u001b[0mnwaves\u001b[0m\u001b[0;34m=\u001b[0m\u001b[0mnwaves\u001b[0m\u001b[0;34m)\u001b[0m\u001b[0;34m\u001b[0m\u001b[0;34m\u001b[0m\u001b[0m\n\u001b[0m",
      "\u001b[0;32m~/Documents/Thesis/HistoryMatching/historymatch/historymatch.py\u001b[0m in \u001b[0;36mrun\u001b[0;34m(self, nwaves)\u001b[0m\n\u001b[1;32m    307\u001b[0m             \u001b[0;31m# run history matching wave\u001b[0m\u001b[0;34m\u001b[0m\u001b[0;34m\u001b[0m\u001b[0;34m\u001b[0m\u001b[0m\n\u001b[1;32m    308\u001b[0m             \u001b[0mself\u001b[0m\u001b[0;34m.\u001b[0m\u001b[0mnonimplausible_bounds\u001b[0m\u001b[0;34m,\u001b[0m \u001b[0mnonimplausible_samples\u001b[0m\u001b[0;34m,\u001b[0m \u001b[0mI_samples\u001b[0m\u001b[0;34m,\u001b[0m \u001b[0mmu\u001b[0m\u001b[0;34m,\u001b[0m \u001b[0msd\u001b[0m\u001b[0;34m,\u001b[0m \u001b[0moutput_convergence\u001b[0m\u001b[0;34m,\u001b[0m\u001b[0;31m\\\u001b[0m\u001b[0;34m\u001b[0m\u001b[0;34m\u001b[0m\u001b[0m\n\u001b[0;32m--> 309\u001b[0;31m                                         \u001b[0;34m=\u001b[0m \u001b[0mself\u001b[0m\u001b[0;34m.\u001b[0m\u001b[0mwave\u001b[0m\u001b[0;34m(\u001b[0m\u001b[0mtheta_train\u001b[0m\u001b[0;34m,\u001b[0m \u001b[0mtheta_samples\u001b[0m\u001b[0;34m)\u001b[0m\u001b[0;34m\u001b[0m\u001b[0;34m\u001b[0m\u001b[0m\n\u001b[0m\u001b[1;32m    310\u001b[0m \u001b[0;34m\u001b[0m\u001b[0m\n\u001b[1;32m    311\u001b[0m             \u001b[0mprint\u001b[0m\u001b[0;34m(\u001b[0m\u001b[0;34m'Convergence : '\u001b[0m \u001b[0;34m+\u001b[0m \u001b[0mstr\u001b[0m\u001b[0;34m(\u001b[0m\u001b[0mnp\u001b[0m\u001b[0;34m.\u001b[0m\u001b[0mall\u001b[0m\u001b[0;34m(\u001b[0m\u001b[0moutput_convergence\u001b[0m\u001b[0;34m)\u001b[0m\u001b[0;34m)\u001b[0m\u001b[0;34m)\u001b[0m\u001b[0;34m\u001b[0m\u001b[0;34m\u001b[0m\u001b[0m\n",
      "\u001b[0;32m~/Documents/Thesis/HistoryMatching/historymatch/historymatch.py\u001b[0m in \u001b[0;36mwave\u001b[0;34m(self, theta_train, theta_samples)\u001b[0m\n\u001b[1;32m    255\u001b[0m         \u001b[0;32melse\u001b[0m\u001b[0;34m:\u001b[0m\u001b[0;34m\u001b[0m\u001b[0;34m\u001b[0m\u001b[0m\n\u001b[1;32m    256\u001b[0m             \u001b[0;31m# ****** fix **********\u001b[0m\u001b[0;34m\u001b[0m\u001b[0;34m\u001b[0m\u001b[0;34m\u001b[0m\u001b[0m\n\u001b[0;32m--> 257\u001b[0;31m             \u001b[0mself\u001b[0m\u001b[0;34m.\u001b[0m\u001b[0mnonimplausible_bounds\u001b[0m \u001b[0;34m=\u001b[0m \u001b[0mutils\u001b[0m\u001b[0;34m.\u001b[0m\u001b[0mlocate_boundaries\u001b[0m\u001b[0;34m(\u001b[0m\u001b[0mnonimplausible_samples\u001b[0m\u001b[0;34m,\u001b[0m \u001b[0mself\u001b[0m\u001b[0;34m.\u001b[0m\u001b[0mndim\u001b[0m\u001b[0;34m)\u001b[0m\u001b[0;34m\u001b[0m\u001b[0;34m\u001b[0m\u001b[0m\n\u001b[0m\u001b[1;32m    258\u001b[0m \u001b[0;34m\u001b[0m\u001b[0m\n\u001b[1;32m    259\u001b[0m         \u001b[0;32mreturn\u001b[0m \u001b[0mself\u001b[0m\u001b[0;34m.\u001b[0m\u001b[0mnonimplausible_bounds\u001b[0m\u001b[0;34m,\u001b[0m \u001b[0mnonimplausible_samples\u001b[0m\u001b[0;34m,\u001b[0m \u001b[0mI_samples\u001b[0m\u001b[0;34m,\u001b[0m \u001b[0mmu\u001b[0m\u001b[0;34m,\u001b[0m \u001b[0msd\u001b[0m\u001b[0;34m,\u001b[0m \u001b[0moutput_convergence\u001b[0m\u001b[0;34m\u001b[0m\u001b[0;34m\u001b[0m\u001b[0m\n",
      "\u001b[0;32m~/Documents/Thesis/HistoryMatching/historymatch/utils.py\u001b[0m in \u001b[0;36mlocate_boundaries\u001b[0;34m(data, ndim)\u001b[0m\n\u001b[1;32m     28\u001b[0m             \u001b[0;32mreturn\u001b[0m \u001b[0mnp\u001b[0m\u001b[0;34m.\u001b[0m\u001b[0marray\u001b[0m\u001b[0;34m(\u001b[0m\u001b[0;34m[\u001b[0m\u001b[0mdata\u001b[0m\u001b[0;34m[\u001b[0m\u001b[0;34m:\u001b[0m\u001b[0;34m,\u001b[0m\u001b[0mi\u001b[0m\u001b[0;34m]\u001b[0m\u001b[0;34m.\u001b[0m\u001b[0mmin\u001b[0m\u001b[0;34m(\u001b[0m\u001b[0;34m)\u001b[0m\u001b[0;34m,\u001b[0m \u001b[0mdata\u001b[0m\u001b[0;34m[\u001b[0m\u001b[0;34m:\u001b[0m\u001b[0;34m,\u001b[0m\u001b[0mi\u001b[0m\u001b[0;34m]\u001b[0m\u001b[0;34m.\u001b[0m\u001b[0mmax\u001b[0m\u001b[0;34m(\u001b[0m\u001b[0;34m)\u001b[0m\u001b[0;34m]\u001b[0m\u001b[0;34m)\u001b[0m\u001b[0;34m.\u001b[0m\u001b[0mreshape\u001b[0m\u001b[0;34m(\u001b[0m\u001b[0;36m1\u001b[0m\u001b[0;34m,\u001b[0m\u001b[0;34m-\u001b[0m\u001b[0;36m1\u001b[0m\u001b[0;34m)\u001b[0m\u001b[0;34m\u001b[0m\u001b[0;34m\u001b[0m\u001b[0m\n\u001b[1;32m     29\u001b[0m \u001b[0;34m\u001b[0m\u001b[0m\n\u001b[0;32m---> 30\u001b[0;31m         \u001b[0;32mreturn\u001b[0m \u001b[0mnp\u001b[0m\u001b[0;34m.\u001b[0m\u001b[0mconcatenate\u001b[0m\u001b[0;34m(\u001b[0m\u001b[0;34m[\u001b[0m\u001b[0mfind_minmax\u001b[0m\u001b[0;34m(\u001b[0m\u001b[0mdata\u001b[0m\u001b[0;34m,\u001b[0m \u001b[0mi\u001b[0m\u001b[0;34m)\u001b[0m \u001b[0;32mfor\u001b[0m \u001b[0mi\u001b[0m \u001b[0;32min\u001b[0m \u001b[0mrange\u001b[0m\u001b[0;34m(\u001b[0m\u001b[0mndim\u001b[0m\u001b[0;34m)\u001b[0m\u001b[0;34m]\u001b[0m\u001b[0;34m)\u001b[0m\u001b[0;34m\u001b[0m\u001b[0;34m\u001b[0m\u001b[0m\n\u001b[0m",
      "\u001b[0;32m~/Documents/Thesis/HistoryMatching/historymatch/utils.py\u001b[0m in \u001b[0;36m<listcomp>\u001b[0;34m(.0)\u001b[0m\n\u001b[1;32m     28\u001b[0m             \u001b[0;32mreturn\u001b[0m \u001b[0mnp\u001b[0m\u001b[0;34m.\u001b[0m\u001b[0marray\u001b[0m\u001b[0;34m(\u001b[0m\u001b[0;34m[\u001b[0m\u001b[0mdata\u001b[0m\u001b[0;34m[\u001b[0m\u001b[0;34m:\u001b[0m\u001b[0;34m,\u001b[0m\u001b[0mi\u001b[0m\u001b[0;34m]\u001b[0m\u001b[0;34m.\u001b[0m\u001b[0mmin\u001b[0m\u001b[0;34m(\u001b[0m\u001b[0;34m)\u001b[0m\u001b[0;34m,\u001b[0m \u001b[0mdata\u001b[0m\u001b[0;34m[\u001b[0m\u001b[0;34m:\u001b[0m\u001b[0;34m,\u001b[0m\u001b[0mi\u001b[0m\u001b[0;34m]\u001b[0m\u001b[0;34m.\u001b[0m\u001b[0mmax\u001b[0m\u001b[0;34m(\u001b[0m\u001b[0;34m)\u001b[0m\u001b[0;34m]\u001b[0m\u001b[0;34m)\u001b[0m\u001b[0;34m.\u001b[0m\u001b[0mreshape\u001b[0m\u001b[0;34m(\u001b[0m\u001b[0;36m1\u001b[0m\u001b[0;34m,\u001b[0m\u001b[0;34m-\u001b[0m\u001b[0;36m1\u001b[0m\u001b[0;34m)\u001b[0m\u001b[0;34m\u001b[0m\u001b[0;34m\u001b[0m\u001b[0m\n\u001b[1;32m     29\u001b[0m \u001b[0;34m\u001b[0m\u001b[0m\n\u001b[0;32m---> 30\u001b[0;31m         \u001b[0;32mreturn\u001b[0m \u001b[0mnp\u001b[0m\u001b[0;34m.\u001b[0m\u001b[0mconcatenate\u001b[0m\u001b[0;34m(\u001b[0m\u001b[0;34m[\u001b[0m\u001b[0mfind_minmax\u001b[0m\u001b[0;34m(\u001b[0m\u001b[0mdata\u001b[0m\u001b[0;34m,\u001b[0m \u001b[0mi\u001b[0m\u001b[0;34m)\u001b[0m \u001b[0;32mfor\u001b[0m \u001b[0mi\u001b[0m \u001b[0;32min\u001b[0m \u001b[0mrange\u001b[0m\u001b[0;34m(\u001b[0m\u001b[0mndim\u001b[0m\u001b[0;34m)\u001b[0m\u001b[0;34m]\u001b[0m\u001b[0;34m)\u001b[0m\u001b[0;34m\u001b[0m\u001b[0;34m\u001b[0m\u001b[0m\n\u001b[0m",
      "\u001b[0;32m~/Documents/Thesis/HistoryMatching/historymatch/utils.py\u001b[0m in \u001b[0;36mfind_minmax\u001b[0;34m(data, i)\u001b[0m\n\u001b[1;32m     26\u001b[0m         '''\n\u001b[1;32m     27\u001b[0m         \u001b[0;32mdef\u001b[0m \u001b[0mfind_minmax\u001b[0m\u001b[0;34m(\u001b[0m\u001b[0mdata\u001b[0m\u001b[0;34m,\u001b[0m \u001b[0mi\u001b[0m\u001b[0;34m)\u001b[0m\u001b[0;34m:\u001b[0m\u001b[0;34m\u001b[0m\u001b[0;34m\u001b[0m\u001b[0m\n\u001b[0;32m---> 28\u001b[0;31m             \u001b[0;32mreturn\u001b[0m \u001b[0mnp\u001b[0m\u001b[0;34m.\u001b[0m\u001b[0marray\u001b[0m\u001b[0;34m(\u001b[0m\u001b[0;34m[\u001b[0m\u001b[0mdata\u001b[0m\u001b[0;34m[\u001b[0m\u001b[0;34m:\u001b[0m\u001b[0;34m,\u001b[0m\u001b[0mi\u001b[0m\u001b[0;34m]\u001b[0m\u001b[0;34m.\u001b[0m\u001b[0mmin\u001b[0m\u001b[0;34m(\u001b[0m\u001b[0;34m)\u001b[0m\u001b[0;34m,\u001b[0m \u001b[0mdata\u001b[0m\u001b[0;34m[\u001b[0m\u001b[0;34m:\u001b[0m\u001b[0;34m,\u001b[0m\u001b[0mi\u001b[0m\u001b[0;34m]\u001b[0m\u001b[0;34m.\u001b[0m\u001b[0mmax\u001b[0m\u001b[0;34m(\u001b[0m\u001b[0;34m)\u001b[0m\u001b[0;34m]\u001b[0m\u001b[0;34m)\u001b[0m\u001b[0;34m.\u001b[0m\u001b[0mreshape\u001b[0m\u001b[0;34m(\u001b[0m\u001b[0;36m1\u001b[0m\u001b[0;34m,\u001b[0m\u001b[0;34m-\u001b[0m\u001b[0;36m1\u001b[0m\u001b[0;34m)\u001b[0m\u001b[0;34m\u001b[0m\u001b[0;34m\u001b[0m\u001b[0m\n\u001b[0m\u001b[1;32m     29\u001b[0m \u001b[0;34m\u001b[0m\u001b[0m\n\u001b[1;32m     30\u001b[0m         \u001b[0;32mreturn\u001b[0m \u001b[0mnp\u001b[0m\u001b[0;34m.\u001b[0m\u001b[0mconcatenate\u001b[0m\u001b[0;34m(\u001b[0m\u001b[0;34m[\u001b[0m\u001b[0mfind_minmax\u001b[0m\u001b[0;34m(\u001b[0m\u001b[0mdata\u001b[0m\u001b[0;34m,\u001b[0m \u001b[0mi\u001b[0m\u001b[0;34m)\u001b[0m \u001b[0;32mfor\u001b[0m \u001b[0mi\u001b[0m \u001b[0;32min\u001b[0m \u001b[0mrange\u001b[0m\u001b[0;34m(\u001b[0m\u001b[0mndim\u001b[0m\u001b[0;34m)\u001b[0m\u001b[0;34m]\u001b[0m\u001b[0;34m)\u001b[0m\u001b[0;34m\u001b[0m\u001b[0;34m\u001b[0m\u001b[0m\n",
      "\u001b[0;32m~/miniconda3/envs/tif320/lib/python3.9/site-packages/numpy/core/_methods.py\u001b[0m in \u001b[0;36m_amin\u001b[0;34m(a, axis, out, keepdims, initial, where)\u001b[0m\n\u001b[1;32m     41\u001b[0m def _amin(a, axis=None, out=None, keepdims=False,\n\u001b[1;32m     42\u001b[0m           initial=_NoValue, where=True):\n\u001b[0;32m---> 43\u001b[0;31m     \u001b[0;32mreturn\u001b[0m \u001b[0mumr_minimum\u001b[0m\u001b[0;34m(\u001b[0m\u001b[0ma\u001b[0m\u001b[0;34m,\u001b[0m \u001b[0maxis\u001b[0m\u001b[0;34m,\u001b[0m \u001b[0;32mNone\u001b[0m\u001b[0;34m,\u001b[0m \u001b[0mout\u001b[0m\u001b[0;34m,\u001b[0m \u001b[0mkeepdims\u001b[0m\u001b[0;34m,\u001b[0m \u001b[0minitial\u001b[0m\u001b[0;34m,\u001b[0m \u001b[0mwhere\u001b[0m\u001b[0;34m)\u001b[0m\u001b[0;34m\u001b[0m\u001b[0;34m\u001b[0m\u001b[0m\n\u001b[0m\u001b[1;32m     44\u001b[0m \u001b[0;34m\u001b[0m\u001b[0m\n\u001b[1;32m     45\u001b[0m def _sum(a, axis=None, dtype=None, out=None, keepdims=False,\n",
      "\u001b[0;31mValueError\u001b[0m: zero-size array to reduction operation minimum which has no identity"
     ]
    }
   ],
   "source": [
    "\n",
    "\n",
    "ToyModel = historymatch.Simulator(HM)\n",
    "ToyModel.set_simulator(LiquidDropModel)\n",
    "\n",
    "#obs_data[start:stop:step]\n",
    "\n",
    "HM.set_observations(obs_data[start:stop:step], variables=variables, sigma_obs=sigma_obs, sigma_model=sigma_model)\n",
    "HM.initialize_volume(parameter_bounds[:,0], parameter_bounds[:,1])\n",
    "\n",
    "results = HM.run(nwaves=nwaves)"
   ]
  },
  {
   "cell_type": "code",
   "execution_count": null,
   "metadata": {},
   "outputs": [],
   "source": [
    "plot_wave = 1\n"
   ]
  },
  {
   "cell_type": "code",
   "execution_count": null,
   "metadata": {},
   "outputs": [],
   "source": [
    "#importlib.reload(plot)\n",
    "\n",
    "#fig, axes = plt.subplots(ndim,ndim,figsize=(10,10))\n",
    "\n",
    "#plot.plotcorner(results.I_samples[4], parameter_bounds, ndim, bins=20, Fig=(fig,axes), labels=('a0', 'a1', 'a2', 'a3', 'a4', 'a5'))\n",
    "#axes[1,0].scatter(clf.coef_[0],clf.coef_[1], color='red')\n",
    "#axes[2,0].scatter(clf.coef_[0],clf.coef_[2], color='red')\n",
    "#axes[2,1].scatter(clf.coef_[1],clf.coef_[2], color='red')\n",
    "#axes[3,1].scatter(clf.coef_[1],clf.coef_[3], color='red')\n",
    "#axes[2,3].scatter(clf.coef_[3],clf.coef_[2], color='red')\n",
    "\n",
    "#for i in range(ndim):\n",
    "    #axes[i,i].axvline(clf.coef_[i], color='red')"
   ]
  },
  {
   "cell_type": "code",
   "execution_count": null,
   "metadata": {},
   "outputs": [],
   "source": [
    "analytic_mean = np.loadtxt(\"data/LD_analytic_mean.txt\").reshape(ndim,)\n",
    "analytic_cov = np.loadtxt(\"data/LD_analytic_cov.txt\").reshape(ndim,ndim)\n",
    "\n",
    "print(analytic_cov)"
   ]
  },
  {
   "cell_type": "code",
   "execution_count": null,
   "metadata": {},
   "outputs": [],
   "source": [
    "#importlib.reload(plot)\n",
    "\n",
    "colors = ['red', 'sandybrown', 'gold', 'yellowgreen', 'mediumseagreen', 'turquoise', 'cornflowerblue', 'mediumpurple', 'plum', 'lightpink', ]\n",
    "\n",
    "sample_bounds = utils.locate_boundaries(results.samples[-1], ndim)\n",
    "tempbounds = np.concatenate((sample_bounds[-1].reshape(-1,1),sample_bounds[-1].reshape(-1,1)),axis=1).T\n",
    "\n",
    "true = clf.coef_\n",
    "#true = [15.92808016, -18.53454643,  -0.72795844, -23.73239355,]\n",
    "\n",
    "fig, axes = plt.subplots(ndim, ndim, figsize=(15,15))\n",
    "if volshape == 'ellipsoid':\n",
    "    for k in range(nwaves):\n",
    "        \n",
    "        nonimplausible_scaled = np.zeros_like(results.nonimplausible[k])\n",
    "        for dim in range(ndim):\n",
    "            nonimplausible_scaled[:,dim] = unscale(results.nonimplausible[k][:,dim], a_limits[dim,0],  a_limits[dim,1])\n",
    "        mean = np.mean(nonimplausible_scaled[:,:-1].T, axis=1)\n",
    "        cov = np.cov(nonimplausible_scaled[:,:-1].T)\n",
    "        \n",
    "        for i in range(ndim):\n",
    "            for j in range(ndim):\n",
    "                ax = axes[j,i]\n",
    "                if i < j:\n",
    "                    true_cov = np.array([[analytic_cov[i,i], analytic_cov[i,j]],[analytic_cov[j,i], analytic_cov[j,j]]])\n",
    "                    cov_matrix = np.array([[cov[i,i], cov[i,j]],[cov[j,i], cov[j,j]]])\n",
    "                    plot.get_cov_ellipse(cov_matrix, [mean[i],mean[j]], 3, 5.991, ax, colors[k])\n",
    "                    plot.get_cov_ellipse(true_cov, [analytic_mean[i],analytic_mean[j]], 3, 5.991, ax, 'black')\n",
    "                    #ax.set_xlim([parameter_bounds[i][0],parameter_bounds[i][1]])\n",
    "                    #ax.set_ylim([parameter_bounds[j][0],parameter_bounds[j][1]])\n",
    "                    ax.scatter(true[i],true[j])\n",
    "                elif i == j:\n",
    "                    #ax.plot(theta_vals[i], stats.norm.pdf(theta_vals[i], mean[i], np.sqrt(cov[i,i])), color='plum')\n",
    "                    ax.set_xlim([sample_bounds[i][0],sample_bounds[i][1]])\n",
    "                    #ax.set_title(str(theta_names[i]) + '=' + str(round(theta_best[i], 2)), fontsize=14)\n",
    "                else:\n",
    "                    ax.axis('off')\n",
    "elif volshape == 'hypercube':\n",
    "    for p in range(nwaves):\n",
    "        k = -1\n",
    "        \n",
    "        nonimplausible_scaled = np.zeros_like(results.nonimp_bounds[k])\n",
    "        print(results.nonimp_bounds[k].shape)\n",
    "        for dim in range(ndim):\n",
    "            nonimplausible_scaled[dim] = unscale(results.nonimp_bounds[k][dim], a_limits[dim,0],  a_limits[dim,1])\n",
    "            \n",
    "        for i in range(ndim):\n",
    "            for j in range(ndim):\n",
    "                ax = axes[j,i]\n",
    "                if i < j:\n",
    "                    true_cov = np.array([[analytic_cov[i,i], analytic_cov[i,j]],[analytic_cov[j,i], analytic_cov[j,j]]])\n",
    "                    ax.add_patch(Rectangle((nonimplausible_scaled[i,0], nonimplausible_scaled[j,0]),\\\n",
    "                                           (nonimplausible_scaled[i,1]-nonimplausible_scaled[i,0]), \\\n",
    "                                           (nonimplausible_scaled[j,1]-nonimplausible_scaled[j,0]),\\\n",
    "                        color=colors[k],alpha=0.7,label='Nonimp. Hypercube'))\n",
    "                    plot.get_cov_ellipse(true_cov, [analytic_mean[i],analytic_mean[j]], 3, 5.991, ax, 'black')\n",
    "                    ax.set_xlim([a_limits[i][0],a_limits[i][1]])\n",
    "                    ax.set_ylim([a_limits[j][0],a_limits[j][1]])\n",
    "                    ax.scatter(true[i],true[j])\n",
    "                else:\n",
    "                    ax.axis('off')\n"
   ]
  },
  {
   "cell_type": "code",
   "execution_count": null,
   "metadata": {},
   "outputs": [],
   "source": []
  },
  {
   "cell_type": "code",
   "execution_count": null,
   "metadata": {},
   "outputs": [],
   "source": []
  },
  {
   "cell_type": "code",
   "execution_count": null,
   "metadata": {
    "scrolled": true
   },
   "outputs": [],
   "source": [
    "fig, axes = plt.subplots(1,3,figsize=(15,5))\n",
    "\n",
    "theta_names = [r'$a_{0}$', r'$a_{V}$', r'$a_{S}$', r'$a_{C}$', r'$a_{S}$', r'$a_{P}$']\n",
    "#col2 = np.where(results.I_samples[1][:,-1]<3,'g','r')\n",
    "col = 'red'\n",
    "\n",
    "\n",
    "\n",
    "nonimplausible_scaled = np.zeros_like(results.nonimplausible[0])\n",
    "samples_scaled = np.zeros_like(results.samples[0])\n",
    "for dim in range(ndim):\n",
    "    nonimplausible_scaled[:,dim] = unscale(results.nonimplausible[0][:,dim], a_limits[dim,0],  a_limits[dim,1])\n",
    "    samples_scaled[:,dim] = unscale(results.samples[0][:,dim], a_limits[dim,0],  a_limits[dim,1])\n",
    "\n",
    "k=0\n",
    "print(nonimplausible_scaled[:,0])\n",
    "    \n",
    "for i in np.arange(0,6,2):\n",
    "    axes[k].scatter(samples_scaled[:,i], samples_scaled[:,i+1], s=2, color='gold',alpha=0.5, label='Samples')\n",
    "    axes[k].scatter(nonimplausible_scaled[:,i], nonimplausible_scaled[:,i+1], s=20, color='red', label='Nonimplausible Samples')\n",
    "    axes[k].set_xlabel(theta_names[i])\n",
    "    axes[k].set_ylabel(theta_names[i+1])\n",
    "    k += 1\n",
    "\n",
    "fig.suptitle('Wave 1 Nonimplausible Samples (20,000 Samples)')\n",
    "#plt.savefig('figures/wave1_pts.png', bbox_inches='tight', facecolor='white', transparent=False)\n"
   ]
  },
  {
   "cell_type": "code",
   "execution_count": null,
   "metadata": {},
   "outputs": [],
   "source": [
    "fig = plt.figure(figsize=(10,10))\n",
    "ax = plt.axes(projection='3d')\n",
    "\n",
    "ax.scatter(nonimplausible_scaled[:,3], nonimplausible_scaled[:,4], nonimplausible_scaled[:,5], s=20, color='red', label='Nonimplausible Samples')\n",
    "\n"
   ]
  },
  {
   "cell_type": "code",
   "execution_count": 64,
   "metadata": {},
   "outputs": [
    {
     "name": "stdout",
     "output_type": "stream",
     "text": [
      "[[-0.89065 -0.48665 -0.65905 -0.67625  0.34375  0.65015]\n",
      " [ 0.96795 -0.33645 -0.74765  0.63815 -0.18555 -0.03525]\n",
      " [ 0.48345 -0.45595  0.92245 -0.87965 -0.85545  0.14275]\n",
      " ...\n",
      " [ 0.31975  0.70675 -0.23945  0.13595 -0.19395 -0.01645]\n",
      " [ 0.90935  0.21035 -0.50495  0.71035  0.53045  0.75225]\n",
      " [-0.43205  0.39195  0.33805  0.04755 -0.28995 -0.51405]]\n",
      "[[ 0.5022749  -0.1521564   0.30498806  0.83020284 -0.04529726 -0.68053264]\n",
      " [ 0.30938871 -0.24657818  0.62336773  0.84392711 -0.18525507 -0.69775351]\n",
      " [ 0.50832657 -0.14922311  0.29502789  0.82971613 -0.04088692 -0.67994818]\n",
      " ...\n",
      " [ 0.14399794 -0.32746509  0.89626792  0.85569911 -0.30528106 -0.71251249]\n",
      " [ 0.29411853 -0.25394993  0.64849853  0.84502491 -0.19635873 -0.69910859]\n",
      " [-0.11907436 -0.45622293  1.33032603  0.87438824 -0.49619736 -0.73598201]]\n"
     ]
    }
   ],
   "source": [
    "print(results.samples[0])\n",
    "print(results.samples[1])"
   ]
  },
  {
   "cell_type": "code",
   "execution_count": 65,
   "metadata": {},
   "outputs": [
    {
     "data": {
      "image/png": "[encoded data removed]",
      "text/plain": [
       "<Figure size 2880x576 with 12 Axes>"
      ]
     },
     "metadata": {
      "needs_background": "light"
     },
     "output_type": "display_data"
    }
   ],
   "source": [
    "fig, axes = plt.subplots(1,ndim,figsize=(40,8))\n",
    "theta_names = [r'$a_{0}$', r'$a_{V}$', r'$a_{S}$', r'$a_{C}$', r'$a_{S}$', r'$a_{P}$']\n",
    "#ax1_right = ax1.twinx()\n",
    "\n",
    "for i in range(ndim):\n",
    "    \n",
    "    nonimplausible_scaled = np.zeros_like(results.nonimplausible[-1])\n",
    "    nonimplausible_scaled[:,i] = unscale(results.nonimplausible[-1][:,i], a_limits[i,0],  a_limits[i,1])\n",
    "            \n",
    "    ax_right = axes[i].twinx()\n",
    "    #plot.opticaldepth_1D(final_wave_HC, parameter_bounds[i], i, bins=50, Fig=(fig, axes[i]), plot_kwargs={'color': 'lightblue'})\n",
    "    ax_right.plot(theta_vals[i], stats.norm.pdf(theta_vals[i], analytic_mean[i],\\\n",
    "                                                np.sqrt(analytic_cov[i,i])), color='orangered', linewidth=3, label='Posterior Distribution')\n",
    "    axes[i].set(yticklabels=[])  \n",
    "    axes[i].tick_params(left=False)\n",
    "    ax_right.set(yticklabels=[])  \n",
    "    ax_right.tick_params(right=False)\n",
    "    \n",
    "    #for j in range(nwaves):\n",
    "    \n",
    "    min_a = np.min(nonimplausible_scaled[:,i].T[:-1])\n",
    "    max_a = np.max(nonimplausible_scaled[:,i].T[:-1])\n",
    "    axes[i].axvline(min_a, color='grey', linestyle='--', linewidth=3)\n",
    "    axes[i].axvline(max_a, color='grey', linestyle='--', linewidth=3)\n",
    "    \n",
    "    #ax_right.axvline(max_theta1, color='cornflowerblue', linestyle='--', linewidth=3, label=r'Wave 1 Nonimplausible Vol. Limits')\n",
    "    #ax_right.axvline(max_theta2, color='orange', linestyle='--', linewidth=3)\n",
    "    #ax_right.axvline(max_theta3, color='grey', linestyle='--', linewidth=3, label=r'Nonimplausible Vol. Limits')\n",
    "    \n",
    "    #ax_right.axvline(min_theta1, color='cornflowerblue', linestyle='--', linewidth=3)\n",
    "    #ax_right.axvline(min_theta2, color='orange', linestyle='--', linewidth=3)\n",
    "    #ax_right.axvline(min_theta3, color='grey', linestyle='--', linewidth=3)\n",
    "    \n",
    "    axes[i].set_ylim([0, None])\n",
    "    ax_right.set_ylim([0, None])\n",
    "    #ax_right.set(yticklabels=[])\n",
    "    \n",
    "    \n",
    "    axes[i].set_xlabel(theta_names[i], fontsize=30)\n",
    "    #ax_right.tick_params(right=False)\n",
    "    \n",
    "    #axes[i].set_xticks([-1,-0.5,0,0.5,1]) \n",
    "    #axes[i].set_xticklabels([-1.0, -0.5, 0, 0.5, 1.0])\n",
    "    \n",
    "    #handles, labels = ax_right.get_legend_handles_labels()\n",
    "    #patch = mpatches.Patch(color='lightblue', label='Optical Depth')\n",
    "    #handles.append(patch) \n",
    "    #plt.legend(handles=handles, loc='best')\n",
    "    \n",
    "    \n",
    "fig.suptitle('Analytical Likelihood against Wave 3 Nonimplausible Volume (Hypercube)', fontsize=40)\n",
    "plt.tight_layout()\n",
    "\n",
    "#plt.savefig('figures/wave3_HC_noem.png', bbox_inches='tight', facecolor='white', transparent=False)"
   ]
  },
  {
   "cell_type": "code",
   "execution_count": null,
   "metadata": {},
   "outputs": [],
   "source": []
  },
  {
   "cell_type": "code",
   "execution_count": null,
   "metadata": {},
   "outputs": [],
   "source": []
  },
  {
   "cell_type": "code",
   "execution_count": null,
   "metadata": {},
   "outputs": [],
   "source": []
  },
  {
   "cell_type": "code",
   "execution_count": null,
   "metadata": {},
   "outputs": [],
   "source": []
  },
  {
   "cell_type": "code",
   "execution_count": null,
   "metadata": {},
   "outputs": [],
   "source": []
  },
  {
   "cell_type": "code",
   "execution_count": null,
   "metadata": {},
   "outputs": [],
   "source": []
  },
  {
   "cell_type": "code",
   "execution_count": null,
   "metadata": {},
   "outputs": [],
   "source": []
  },
  {
   "cell_type": "code",
   "execution_count": null,
   "metadata": {},
   "outputs": [],
   "source": []
  }
 ],
 "metadata": {
  "kernelspec": {
   "display_name": "Python 3",
   "language": "python",
   "name": "python3"
  },
  "language_info": {
   "codemirror_mode": {
    "name": "ipython",
    "version": 3
   },
   "file_extension": ".py",
   "mimetype": "text/x-python",
   "name": "python",
   "nbconvert_exporter": "python",
   "pygments_lexer": "ipython3",
   "version": "3.8.8"
  }
 },
 "nbformat": 4,
 "nbformat_minor": 4
}
