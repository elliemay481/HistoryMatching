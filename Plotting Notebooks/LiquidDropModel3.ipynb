{
 "cells": [
  {
   "cell_type": "code",
   "execution_count": 1,
   "metadata": {},
   "outputs": [],
   "source": [
    "# import internal files\n",
    "from historymatch import emulators\n",
    "from historymatch import sample\n",
    "from historymatch import historymatch\n",
    "from historymatch import plot\n",
    "from historymatch import utils\n",
    "\n",
    "\n",
    "# import external modules\n",
    "import matplotlib.patches as patches\n",
    "import matplotlib as mpl\n",
    "import numpy as np\n",
    "import matplotlib.pyplot as plt\n",
    "from scipy import stats\n",
    "import math\n",
    "import os\n",
    "import pandas as pd\n",
    "#import importlib\n",
    "from matplotlib.patches import Rectangle\n",
    "\n",
    "import sklearn.linear_model as skl\n",
    "\n",
    "plt.rcParams.update({'font.size': 10})\n",
    "\n",
    "np.random.seed(4)"
   ]
  },
  {
   "cell_type": "code",
   "execution_count": 2,
   "metadata": {},
   "outputs": [],
   "source": [
    "# import data\n",
    "\n",
    "with open(\"data/MassEval2016.dat\",'r') as infile:\n",
    "    Masses = pd.read_fwf(infile, usecols=(2,3,4,6,11,12),\n",
    "              names=('N', 'Z', 'A', 'Element', 'Ebinding', 'E_unc'),\n",
    "              widths=(1,3,5,5,5,1,3,4,1,13,11,11,9,1,2,11,9,1,3,1,12,11,1),\n",
    "              header=64,\n",
    "              index_col=False)\n",
    "    \n",
    "# Extrapolated values are indicated by '#' in place of the decimal place, so\n",
    "# the Ebinding column won't be numeric. Coerce to float and drop these entries.\n",
    "Masses['Ebinding'] = pd.to_numeric(Masses['Ebinding'], errors='coerce')\n",
    "Masses = Masses.dropna()\n",
    "Masses['E_unc'] = pd.to_numeric(Masses['E_unc'], errors='coerce')\n",
    "Masses = Masses.dropna()\n",
    "# Convert from keV to MeV.\n",
    "Masses['Ebinding'] /= 1000\n",
    "Masses['E_unc'] /= 1000\n",
    "\n",
    "# Group the DataFrame by nucleon number, A.\n",
    "#Masses = Masses.groupby('A')\n",
    "\n",
    "\n",
    "\n",
    "# Find the rows of the grouped DataFrame with the maximum binding energy.\n",
    "Masses_single = Masses.groupby('A').apply(lambda t: t[t.Ebinding==t.Ebinding.max()])\n",
    "\n",
    "A0_single = Masses_single['A'].to_numpy()\n",
    "Z0_single = Masses_single['Z'].to_numpy()\n",
    "N0_single = Masses_single['N'].to_numpy()\n",
    "Element_single = Masses_single['Element'].to_numpy()\n",
    "\n",
    "# convert energies per nucleon to energies\n",
    "Energies0_single = Masses_single['Ebinding'].to_numpy()\n",
    "\n",
    "Energies_unc0_single = Masses_single['E_unc'].to_numpy()\n",
    "\n",
    "\n",
    "\n",
    "\n",
    "# extract 3 nucleon around maximum\n",
    "Masses_triple = Masses.sort_values(['A','Ebinding'],ascending=False).groupby('A').head(3)\n",
    "\n",
    "A0_triple = Masses_triple['A'].to_numpy()\n",
    "Z0_triple = Masses_triple['Z'].to_numpy()\n",
    "N0_triple = Masses_triple['N'].to_numpy()\n",
    "Element_triple = Masses_triple['Element'].to_numpy()\n",
    "\n",
    "# convert energies per nucleon to energies\n",
    "Energies0_triple = Masses_triple['Ebinding'].to_numpy()\n",
    "\n",
    "Energies_unc0_triple = Masses_triple['E_unc'].to_numpy()"
   ]
  },
  {
   "cell_type": "code",
   "execution_count": 3,
   "metadata": {},
   "outputs": [
    {
     "name": "stdout",
     "output_type": "stream",
     "text": [
      "[8.03224  7.971713 8.080465 8.111493 8.260709 8.223502 8.33387  8.331553\n",
      " 8.447744 8.448635 8.520654 8.481167 8.493129 8.513806 8.583498 8.53785\n",
      " 8.575389 8.570281 8.61428  8.562598]\n"
     ]
    }
   ],
   "source": [
    "print(Energies0_single[10:30:1])"
   ]
  },
  {
   "cell_type": "code",
   "execution_count": 4,
   "metadata": {},
   "outputs": [],
   "source": [
    "# define parameter space\n",
    "\n",
    "#[ 15.83409612 -18.37376576  -0.71762294 -23.49108417  13.13352343]\n",
    "\n",
    "#theta_0_vals = np.linspace(a_limits[0,0], a_limits[0,1], 100)\n",
    "#theta_1_vals = np.linspace(a_limits[1,0], a_limits[1,1], 100)\n",
    "#theta_2_vals = np.linspace(a_limits[2,0], a_limits[2,1], 100)\n",
    "\n",
    "'''theta_0_bound = np.array([10, 30]).reshape(1,-1)\n",
    "theta_1_bound = np.array([-20, 0]).reshape(1,-1)\n",
    "theta_2_bound = np.array([-1, 1]).reshape(1,-1)\n",
    "theta_3_bound = np.array([-30, -10]).reshape(1,-1)\n",
    "theta_4_bound = np.array([0, 30]).reshape(1,-1)'''\n",
    "\n",
    "theta_0_bound = np.array([0, 40]).reshape(1,-1)\n",
    "theta_1_bound = np.array([-40, 10]).reshape(1,-1)\n",
    "theta_2_bound = np.array([-3, 3]).reshape(1,-1)\n",
    "theta_3_bound = np.array([-50, 0]).reshape(1,-1) # keep\n",
    "theta_4_bound = np.array([-10, 40]).reshape(1,-1)\n",
    "\n",
    "parameter_bounds = np.concatenate((theta_0_bound, theta_1_bound, \\\n",
    "                                   theta_2_bound, theta_3_bound, theta_4_bound), axis=0)\n",
    "\n",
    "\n",
    "#theta_vals = np.concatenate((theta_0_vals.reshape(1,-1), theta_1_vals.reshape(1,-1), theta_2_vals.reshape(1,-1)), axis=0)\n"
   ]
  },
  {
   "cell_type": "code",
   "execution_count": 5,
   "metadata": {},
   "outputs": [],
   "source": [
    "def LiquidDropModel(params, A, Z, N):\n",
    "\n",
    "    \n",
    "    if len(params) == 4:\n",
    "        a1, a2, a3, a4 = params\n",
    "        EB = (a1*A + a2*(A**(2.0/3.0)) + a3*Z*(Z-1)*(A**(-1.0/3.0)) \\\n",
    "            + a4*((N-Z)**2)/A)\n",
    "        return EB/A\n",
    "    else:\n",
    "        a1, a2, a3, a4, a5 = params\n",
    "        EB = (a1*A + a2*(A**(2.0/3.0)) + a3*Z*(Z-1)*(A**(-1.0/3.0)) \\\n",
    "            + a4*((N-Z)**2)/A + a5*( (-1)**Z + (-1)**N )*(2*A**(-0.5)))\n",
    "        return EB/A\n",
    "    \n",
    "    \n",
    "    "
   ]
  },
  {
   "cell_type": "code",
   "execution_count": 6,
   "metadata": {},
   "outputs": [],
   "source": [
    "def create_model_error(_A):\n",
    "    \n",
    "    sigma_model = np.zeros(len(_A))     \n",
    "        \n",
    "    for i in range(len(_A)):\n",
    "        if _A[i] < 40:\n",
    "            sigma_model[i] = 0.09\n",
    "\n",
    "\n",
    "        elif _A[i] < 140:\n",
    "            sigma_model[i] = 0.05\n",
    "\n",
    "        elif _A[i] < 200:\n",
    "            sigma_model[i] = 0.04\n",
    "        else:\n",
    "            sigma_model[i] = 0.02\n",
    "            \n",
    "    return sigma_model\n"
   ]
  },
  {
   "cell_type": "code",
   "execution_count": 7,
   "metadata": {},
   "outputs": [],
   "source": [
    "# define observational data\n",
    "# pass in array of obs data for each wave\n",
    "\n",
    "# wave 1 - A < 40\n",
    "obs_data_wave1 = Energies0_single[10:30:2]\n",
    "A_wave1 = A0_single[10:30:2]\n",
    "Z_wave1 = Z0_single[10:30:2]\n",
    "N_wave1 = N0_single[10:30:2]\n",
    "variables_wave1 = np.concatenate((A_wave1.reshape(-1,1),Z_wave1.reshape(-1,1),\\\n",
    "                            N_wave1.reshape(-1,1)), axis=1)\n",
    "\n",
    "sigma_obs_wave1 = Energies_unc0_single[10:30:2]\n",
    "sigma_model_wave1 = create_model_error(A_wave1)\n",
    "\n",
    "\n",
    "\n",
    "# wave 2 - A < 140\n",
    "obs_data_wave2 = Energies0_single[10:130:3]\n",
    "A_wave2 = A0_single[10:130:3]\n",
    "Z_wave2 = Z0_single[10:130:3]\n",
    "N_wave2 = N0_single[10:130:3]\n",
    "variables_wave2 = np.concatenate((A_wave2.reshape(-1,1),Z_wave2.reshape(-1,1),\\\n",
    "                            N_wave2.reshape(-1,1)), axis=1)\n",
    "\n",
    "sigma_obs_wave2 = Energies_unc0_single[10:130:3]\n",
    "sigma_model_wave2 = create_model_error(A_wave2)\n",
    "\n",
    "# wave 3 - A < 200\n",
    "obs_data_wave3 = Energies0_single[10:190:3]\n",
    "A_wave3 = A0_single[10:190:3]\n",
    "Z_wave3 = Z0_single[10:190:3]\n",
    "N_wave3 = N0_single[10:190:3]\n",
    "variables_wave3 = np.concatenate((A_wave3.reshape(-1,1),Z_wave3.reshape(-1,1),\\\n",
    "                            N_wave3.reshape(-1,1)), axis=1)\n",
    "\n",
    "sigma_obs_wave3 = Energies_unc0_single[10:190:3]\n",
    "sigma_model_wave3 = create_model_error(A_wave3)\n",
    "\n",
    "# wave 4 - A > 200\n",
    "obs_data_wave4 = Energies0_single[10:-1:3]\n",
    "A_wave4 = A0_single[10:-1:3]\n",
    "Z_wave4 = Z0_single[10:-1:3]\n",
    "N_wave4 = N0_single[10:-1:3]\n",
    "variables_wave4 = np.concatenate((A_wave4.reshape(-1,1),Z_wave4.reshape(-1,1),\\\n",
    "                            N_wave4.reshape(-1,1)), axis=1)\n",
    "\n",
    "sigma_obs_wave4 = Energies_unc0_single[10:-1:3]\n",
    "sigma_model_wave4 = create_model_error(A_wave4)\n",
    "\n",
    "'''\n",
    "# wave 5 - A > 200\n",
    "obs_data_wave5 = Energies0_single[10:-1:3]\n",
    "A_wave5 = A0_single[10:-1:3]\n",
    "Z_wave5 = Z0_single[10:-1:3]\n",
    "N_wave5 = N0_single[10:-1:3]\n",
    "variables_wave5 = np.concatenate((A_wave5.reshape(-1,1),Z_wave5.reshape(-1,1),\\\n",
    "                            N_wave5.reshape(-1,1)), axis=1)\n",
    "\n",
    "sigma_obs_wave5 = Energies_unc0_single[10:-1:3]\n",
    "sigma_model_wave5 = create_model_error(A_wave5)\n",
    "\n",
    "\n",
    "'''\n",
    "\n",
    "# wave 5 - introduce ap - all data such that 3 points around E minimum are captured\n",
    "obs_data_wave5 = np.flip(Energies0_triple)[30:-1:4]\n",
    "A_wave5 = np.flip(A0_triple)[30:-1:4]\n",
    "Z_wave5 = np.flip(Z0_triple)[30:-1:4]\n",
    "N_wave5 = np.flip(N0_triple)[30:-1:4]\n",
    "variables_wave5 = np.concatenate((A_wave5.reshape(-1,1),Z_wave5.reshape(-1,1),\\\n",
    "                            N_wave5.reshape(-1,1)), axis=1)\n",
    "\n",
    "sigma_obs_wave5 = np.flip(Energies_unc0_triple)[30:-1:4]\n",
    "sigma_model_wave5 = create_model_error(A_wave5)\n",
    "\n",
    "\n",
    "obs_data = [obs_data_wave1, obs_data_wave2, obs_data_wave3, obs_data_wave4, obs_data_wave5, obs_data_wave5]\n",
    "sigma_obs = [sigma_obs_wave1, sigma_obs_wave2, sigma_obs_wave3, sigma_obs_wave4, sigma_obs_wave5, sigma_obs_wave5]\n",
    "sigma_model = [sigma_model_wave1, sigma_model_wave2, sigma_model_wave3, sigma_model_wave4, sigma_model_wave5, sigma_model_wave5]\n",
    "\n",
    "variables = [variables_wave1, variables_wave2, variables_wave3, variables_wave4, variables_wave5, variables_wave5]\n"
   ]
  },
  {
   "cell_type": "code",
   "execution_count": 8,
   "metadata": {},
   "outputs": [
    {
     "name": "stdout",
     "output_type": "stream",
     "text": [
      "(10,)\n",
      "(40,)\n",
      "(60,)\n",
      "(83,)\n",
      "(182,)\n",
      "(182,)\n"
     ]
    }
   ],
   "source": [
    "for i in range(len(obs_data)):\n",
    "    print(obs_data[i].shape)"
   ]
  },
  {
   "cell_type": "code",
   "execution_count": 9,
   "metadata": {},
   "outputs": [],
   "source": [
    "#indep_var = [1, (A**(2.0/3.0))/A, Z*(Z-1)*(A**(-1.0/3.0))/A, \\\n",
    "                 #((N-Z)**2)/(A**2), ( (-1)**Z + (-1)**N )/(A*(2*A**(0.5)))]\n",
    "\n",
    "def design_matrix(ndim):\n",
    "    # design matrix X\n",
    "    X = np.zeros((len(A),ndim))\n",
    "    for i in range(ndim):\n",
    "        X[:,i] = indep_var[i]\n",
    "    return X"
   ]
  },
  {
   "cell_type": "code",
   "execution_count": 10,
   "metadata": {},
   "outputs": [],
   "source": [
    "\n",
    "#clf = skl.LinearRegression(fit_intercept=False).fit(design_matrix(5), obs_data_wave5)\n",
    "\n",
    "#print(clf.coef_)\n",
    "\n",
    "#preds = clf.predict(design_matrix(5))\n",
    "\n",
    "\n",
    "#err = np.sum(np.square(obs_data-preds))\n",
    "\n",
    "#pred_sigma = np.sqrt(err / (len(obs_data) - 5)) \n",
    "\n",
    "#https://stats.stackexchange.com/questions/284772/estimator-of-variance-of-error\n",
    "#sigma_model = [3*pred_sigma,2*pred_sigma,pred_sigma]\n",
    "\n",
    "# from literature:\n",
    "# < 40: 11 % : 0.9\n",
    "# < 140: 1.5% : 0.12 \n",
    "# < 200: 0.8% : 0.07\n",
    "# > 200: 0.2% : 0.015\n",
    "\n",
    "# \n",
    "\n",
    "#0.48701777858568074\n",
    "#0.11367774024287203\n",
    "#0.022425586162559498\n",
    "#0.010242804230700025\n",
    "#0.02090108740757404"
   ]
  },
  {
   "cell_type": "code",
   "execution_count": null,
   "metadata": {},
   "outputs": [],
   "source": []
  },
  {
   "cell_type": "code",
   "execution_count": 11,
   "metadata": {},
   "outputs": [],
   "source": [
    "volshapes = ['gaussian', 'hypercube', 'hypercube_rot', 'ellipsoid']"
   ]
  },
  {
   "cell_type": "code",
   "execution_count": 12,
   "metadata": {},
   "outputs": [],
   "source": [
    "nwaves = 5\n",
    "ndim = 5\n",
    "nsamples = 1 * (10**5)\n",
    "volshape = 'ellipsoid'"
   ]
  },
  {
   "cell_type": "code",
   "execution_count": 13,
   "metadata": {},
   "outputs": [],
   "source": [
    "#importlib.reload(historymatch)\n",
    "\n",
    "# initialise history matching class\n",
    "HM = historymatch.HistoryMatch(ndim, 'GP', volshape)"
   ]
  },
  {
   "cell_type": "code",
   "execution_count": 14,
   "metadata": {
    "scrolled": false
   },
   "outputs": [
    {
     "name": "stdout",
     "output_type": "stream",
     "text": [
      "0\n"
     ]
    },
    {
     "name": "stderr",
     "output_type": "stream",
     "text": [
      "100%|██████████| 2/2 [00:03<00:00,  1.82s/it]"
     ]
    },
    {
     "name": "stdout",
     "output_type": "stream",
     "text": [
      "Number of Non-Implausible Samples: (2200, 5)\n"
     ]
    },
    {
     "name": "stderr",
     "output_type": "stream",
     "text": [
      "\n"
     ]
    }
   ],
   "source": [
    "\n",
    "\n",
    "ToyModel = historymatch.Simulator(HM)\n",
    "ToyModel.set_simulator(LiquidDropModel)\n",
    "\n",
    "#[7,40,60]\n",
    "HM.set_observations(obs_data, variables=variables, sigma_obs=sigma_obs, sigma_model=sigma_model, inactive_wave = 4, sigma_inactive = 0.02)\n",
    "HM.initialize_volume(parameter_bounds[:,0], parameter_bounds[:,1], ninactive=1)\n",
    "\n",
    "#results = HM.run(nwaves=nwaves)\n",
    "\n",
    "results = HM.wave(obs_data[0][:2], sigma_obs[0][:2], sigma_model[0][:2], variables[0], nsamples=nsamples, ntraining=100)"
   ]
  },
  {
   "cell_type": "code",
   "execution_count": 15,
   "metadata": {},
   "outputs": [
    {
     "name": "stdout",
     "output_type": "stream",
     "text": [
      "[ 13.37199018 -14.93865068   0.13788005 -25.64451318]\n"
     ]
    },
    {
     "data": {
      "image/png": "[encoded data removed]",
      "text/plain": [
       "<Figure size 432x288 with 1 Axes>"
      ]
     },
     "metadata": {
      "needs_background": "light"
     },
     "output_type": "display_data"
    }
   ],
   "source": [
    "fig, ax = plt.subplots()\n",
    "ax.scatter(results[0][:,1],results[0][:,2])\n",
    "print(np.mean(results[0][:,:-1], axis=0))"
   ]
  },
  {
   "cell_type": "code",
   "execution_count": 16,
   "metadata": {},
   "outputs": [
    {
     "name": "stdout",
     "output_type": "stream",
     "text": [
      "(4, 4)\n",
      "1\n"
     ]
    },
    {
     "name": "stderr",
     "output_type": "stream",
     "text": [
      "100%|██████████| 2/2 [00:03<00:00,  1.86s/it]"
     ]
    },
    {
     "name": "stdout",
     "output_type": "stream",
     "text": [
      "Number of Non-Implausible Samples: (86066, 5)\n"
     ]
    },
    {
     "name": "stderr",
     "output_type": "stream",
     "text": [
      "\n"
     ]
    }
   ],
   "source": [
    "results_w2 = HM.wave(obs_data[1][:2], sigma_obs[1][:2], sigma_model[1][:2], variables[1], nsamples=nsamples)"
   ]
  },
  {
   "cell_type": "code",
   "execution_count": null,
   "metadata": {},
   "outputs": [],
   "source": []
  },
  {
   "cell_type": "code",
   "execution_count": 20,
   "metadata": {},
   "outputs": [
    {
     "data": {
      "text/plain": [
       "<matplotlib.collections.PathCollection at 0x7fe3aaec2700>"
      ]
     },
     "execution_count": 20,
     "metadata": {},
     "output_type": "execute_result"
    },
    {
     "data": {
      "image/png": "[encoded data removed]",
      "text/plain": [
       "<Figure size 432x288 with 1 Axes>"
      ]
     },
     "metadata": {
      "needs_background": "light"
     },
     "output_type": "display_data"
    }
   ],
   "source": [
    "fig, ax = plt.subplots()\n",
    "ax.scatter(results_w2[1][:,1],results_w2[1][:,2])\n",
    "ax.scatter(results[0][:,1],results[0][:,2])"
   ]
  },
  {
   "cell_type": "code",
   "execution_count": null,
   "metadata": {},
   "outputs": [],
   "source": []
  },
  {
   "cell_type": "code",
   "execution_count": 18,
   "metadata": {},
   "outputs": [],
   "source": [
    "analytic_mean = np.loadtxt(\"data/5D_analytic_mean_final.txt\").reshape(ndim,)\n",
    "analytic_cov = np.loadtxt(\"data/5D_analytic_cov_final.txt\").reshape(ndim,ndim)"
   ]
  },
  {
   "cell_type": "code",
   "execution_count": 19,
   "metadata": {},
   "outputs": [
    {
     "ename": "AttributeError",
     "evalue": "'tuple' object has no attribute 'samples'",
     "output_type": "error",
     "traceback": [
      "\u001b[0;31m---------------------------------------------------------------------------\u001b[0m",
      "\u001b[0;31mAttributeError\u001b[0m                            Traceback (most recent call last)",
      "\u001b[0;32m<ipython-input-19-e2e1001392d2>\u001b[0m in \u001b[0;36m<module>\u001b[0;34m\u001b[0m\n\u001b[1;32m      4\u001b[0m \u001b[0mtheta_names\u001b[0m \u001b[0;34m=\u001b[0m \u001b[0;34m[\u001b[0m\u001b[0;34mr'$a_{V}$'\u001b[0m\u001b[0;34m,\u001b[0m \u001b[0;34mr'$a_{S}$'\u001b[0m\u001b[0;34m,\u001b[0m \u001b[0;34mr'$a_{C}$'\u001b[0m\u001b[0;34m,\u001b[0m \u001b[0;34mr'$a_{a}$'\u001b[0m\u001b[0;34m,\u001b[0m \u001b[0;34mr'$a_{P}$'\u001b[0m\u001b[0;34m]\u001b[0m\u001b[0;34m\u001b[0m\u001b[0;34m\u001b[0m\u001b[0m\n\u001b[1;32m      5\u001b[0m \u001b[0;34m\u001b[0m\u001b[0m\n\u001b[0;32m----> 6\u001b[0;31m \u001b[0msample_bounds\u001b[0m \u001b[0;34m=\u001b[0m \u001b[0mutils\u001b[0m\u001b[0;34m.\u001b[0m\u001b[0mlocate_boundaries\u001b[0m\u001b[0;34m(\u001b[0m\u001b[0mresults\u001b[0m\u001b[0;34m.\u001b[0m\u001b[0msamples\u001b[0m\u001b[0;34m[\u001b[0m\u001b[0;34m-\u001b[0m\u001b[0;36m1\u001b[0m\u001b[0;34m]\u001b[0m\u001b[0;34m,\u001b[0m \u001b[0;36m4\u001b[0m\u001b[0;34m)\u001b[0m\u001b[0;34m\u001b[0m\u001b[0;34m\u001b[0m\u001b[0m\n\u001b[0m\u001b[1;32m      7\u001b[0m \u001b[0mtempbounds\u001b[0m \u001b[0;34m=\u001b[0m \u001b[0mnp\u001b[0m\u001b[0;34m.\u001b[0m\u001b[0mconcatenate\u001b[0m\u001b[0;34m(\u001b[0m\u001b[0;34m(\u001b[0m\u001b[0msample_bounds\u001b[0m\u001b[0;34m[\u001b[0m\u001b[0;34m-\u001b[0m\u001b[0;36m1\u001b[0m\u001b[0;34m]\u001b[0m\u001b[0;34m.\u001b[0m\u001b[0mreshape\u001b[0m\u001b[0;34m(\u001b[0m\u001b[0;34m-\u001b[0m\u001b[0;36m1\u001b[0m\u001b[0;34m,\u001b[0m\u001b[0;36m1\u001b[0m\u001b[0;34m)\u001b[0m\u001b[0;34m,\u001b[0m\u001b[0msample_bounds\u001b[0m\u001b[0;34m[\u001b[0m\u001b[0;34m-\u001b[0m\u001b[0;36m1\u001b[0m\u001b[0;34m]\u001b[0m\u001b[0;34m.\u001b[0m\u001b[0mreshape\u001b[0m\u001b[0;34m(\u001b[0m\u001b[0;34m-\u001b[0m\u001b[0;36m1\u001b[0m\u001b[0;34m,\u001b[0m\u001b[0;36m1\u001b[0m\u001b[0;34m)\u001b[0m\u001b[0;34m)\u001b[0m\u001b[0;34m,\u001b[0m\u001b[0maxis\u001b[0m\u001b[0;34m=\u001b[0m\u001b[0;36m1\u001b[0m\u001b[0;34m)\u001b[0m\u001b[0;34m.\u001b[0m\u001b[0mT\u001b[0m\u001b[0;34m\u001b[0m\u001b[0;34m\u001b[0m\u001b[0m\n\u001b[1;32m      8\u001b[0m \u001b[0;34m\u001b[0m\u001b[0m\n",
      "\u001b[0;31mAttributeError\u001b[0m: 'tuple' object has no attribute 'samples'"
     ]
    }
   ],
   "source": [
    "#importlib.reload(plot)\n",
    "\n",
    "colors = ['sandybrown', 'gold', 'yellowgreen', 'mediumseagreen', 'turquoise', 'cornflowerblue', 'mediumpurple', 'plum', 'lightpink', ]\n",
    "theta_names = [r'$a_{V}$', r'$a_{S}$', r'$a_{C}$', r'$a_{a}$', r'$a_{P}$']\n",
    "\n",
    "sample_bounds = utils.locate_boundaries(results.samples[-1], 4)\n",
    "tempbounds = np.concatenate((sample_bounds[-1].reshape(-1,1),sample_bounds[-1].reshape(-1,1)),axis=1).T\n",
    "\n",
    "#true = clf.coef_\n",
    "#true = [15.92808016, -18.53454643,  -0.72795844, -23.73239355,]\n",
    "\n",
    "fig, axes = plt.subplots(ndim, ndim, figsize=(15,15))\n",
    "\n",
    "if volshape == 'gaussian':\n",
    "    for k in range(0,nwaves):\n",
    "        \n",
    "        if k < 4:\n",
    "            dims = 4\n",
    "        else:\n",
    "            dims = 5\n",
    "        \n",
    "        nonimplausible_scaled = np.zeros_like(results.nonimplausible[k])\n",
    "        for dim in range(dims):\n",
    "            nonimplausible_scaled[:,dim] = results.nonimplausible[k][:,dim]\n",
    "        mean = np.mean(nonimplausible_scaled[:,:-1].T, axis=1)\n",
    "        cov = np.cov(nonimplausible_scaled[:,:-1].T)\n",
    "        print(cov.shape)\n",
    "        \n",
    "        for i in range(dims):\n",
    "            for j in range(dims):\n",
    "                \n",
    "                ax = axes[j,i]\n",
    "                if i < j:\n",
    "                    true_cov = np.array([[analytic_cov[i,i], analytic_cov[i,j]],[analytic_cov[j,i], analytic_cov[j,j]]])\n",
    "                    cov_matrix = np.array([[cov[i,i], cov[i,j]],[cov[j,i], cov[j,j]]])\n",
    "                    plot.get_cov_ellipse(cov_matrix, [mean[i],mean[j]], 3, 5.991, ax, colors[k], '-')\n",
    "                    plot.get_cov_ellipse(true_cov, [analytic_mean[i],analytic_mean[j]], 3, 5.991, ax, 'black', '-')\n",
    "                    \n",
    "                    #ax.scatter(results.samples[1][:,i], results.samples[1][:,j], color=colors[4])\n",
    "                    #ax.scatter(results.nonimplausible[0][:,i], results.nonimplausible[0][:,j], color=colors[0])\n",
    "                    #ax.set_xlim([parameter_bounds[i][0],parameter_bounds[i][1]])\n",
    "                    #ax.set_ylim([parameter_bounds[j][0],parameter_bounds[j][1]])\n",
    "                    #ax.scatter(true[i],true[j])\n",
    "                    ax.set_xlabel(theta_names[i])\n",
    "                    ax.set_ylabel(theta_names[j])\n",
    "                elif i == j:\n",
    "                    #ax.plot(theta_vals[i], stats.norm.pdf(theta_vals[i], mean[i], np.sqrt(cov[i,i])), color='plum')\n",
    "                    ax.set_xlim([sample_bounds[i][0],sample_bounds[i][1]])\n",
    "                    #ax.set_title(str(theta_names[i]) + '=' + str(round(theta_best[i], 2)), fontsize=14)\n",
    "                else:\n",
    "                    ax.axis('off')\n",
    "elif volshape == 'hypercube':\n",
    "    for k in range(nwaves):\n",
    "        \n",
    "        if k < 4:\n",
    "            ndim = 4\n",
    "        else:\n",
    "            ndim = 5\n",
    "            \n",
    "        nonimplausible = np.zeros_like(results.nonimp_bounds[k])\n",
    "        for dim in range(ndim):\n",
    "            nonimplausible[dim] = results.nonimp_bounds[k][dim]\n",
    "            \n",
    "        for i in range(ndim):\n",
    "            for j in range(ndim):\n",
    "                ax = axes[j,i]\n",
    "                if i < j:\n",
    "                    true_cov = np.array([[analytic_cov[i,i], analytic_cov[i,j]],[analytic_cov[j,i], analytic_cov[j,j]]])\n",
    "                    ax.add_patch(Rectangle((nonimplausible[i,0], nonimplausible[j,0]),\\\n",
    "                                           (nonimplausible[i,1]-nonimplausible[i,0]), \\\n",
    "                                           (nonimplausible[j,1]-nonimplausible[j,0]),\\\n",
    "                        color=colors[k],alpha=0.7,label='Nonimp. Hypercube'))\n",
    "                    plot.get_cov_ellipse(true_cov, [analytic_mean[i],analytic_mean[j]], 3, 5.991, ax, 'black', linestyle='-')\n",
    "                    ax.set_xlim([parameter_bounds[i][0],parameter_bounds[i][1]])\n",
    "                    ax.set_ylim([parameter_bounds[j][0],parameter_bounds[j][1]])\n",
    "                    ax.set_xlabel(theta_names[i])\n",
    "                    ax.set_ylabel(theta_names[j])\n",
    "                else:\n",
    "                    ax.axis('off')"
   ]
  },
  {
   "cell_type": "code",
   "execution_count": null,
   "metadata": {},
   "outputs": [],
   "source": [
    "fig, ax = plt.subplots()\n",
    "ax.scatter(results.nonimplausible[-1][:,0], results.nonimplausible[-1][:,1])\n",
    "\n",
    "for i in range(len(obs_data)):\n",
    "    params = results.nonimplausible[-1][9][:5]\n",
    "    print(params)\n",
    "    ymodel = LiquidDropModel(params, A0[i], Z0[i], N0[i])\n",
    "    print(ymodel-obs_data[i])\n",
    "    print()\n",
    "    print(sigma_model[i])\n",
    "    print(HM.implausibility(ymodel, obs_data[i], 0, 0, sigma_model[i]**2, 0))\n",
    "    print('---')"
   ]
  },
  {
   "cell_type": "code",
   "execution_count": null,
   "metadata": {},
   "outputs": [],
   "source": [
    "true_coef = [15.52975475+1, -17.49796403, -0.69485949, -22.718944, 14.52745834]\n",
    "print(LiquidDropModel(true_coef, A[0], Z[0], N[0]))\n",
    "\n",
    "true_coef = [15.52975475, -17.49796403, -0.69485949, -22.718944, 14.52745834]\n",
    "print(LiquidDropModel(true_coef, A[82], Z[82], N[82]))"
   ]
  },
  {
   "cell_type": "code",
   "execution_count": null,
   "metadata": {},
   "outputs": [],
   "source": []
  },
  {
   "cell_type": "code",
   "execution_count": null,
   "metadata": {},
   "outputs": [],
   "source": [
    "'''fig = plt.figure(figsize=(10,10))\n",
    "ax = plt.axes(projection='3d')\n",
    "\n",
    "#ax.scatter(samples_scaled[:,0], samples_scaled[:,1], samples_scaled[:,2], s=10, color='gold', alpha=0.1, label='Nonimplausible Samples')\n",
    "ax.scatter(nonimplausible_scaled[:,0], nonimplausible_scaled[:,1], nonimplausible_scaled[:,2], s=20, color='red', label='Nonimplausible Samples')\n",
    "ax.scatter(true[0],true[1],true[2])\n",
    "#ax.view_init(0, 90)'''"
   ]
  },
  {
   "cell_type": "code",
   "execution_count": null,
   "metadata": {},
   "outputs": [],
   "source": []
  },
  {
   "cell_type": "code",
   "execution_count": null,
   "metadata": {},
   "outputs": [],
   "source": []
  },
  {
   "cell_type": "code",
   "execution_count": null,
   "metadata": {},
   "outputs": [],
   "source": [
    "dictionary = {'Nsamples : ' : len(results.samples[0]), 'Noutputs : ' : len(obs_data)}\n",
    "\n",
    "keys = np.array(['Nsamples', 'Noutputs']).reshape(1,-1)\n",
    "vals = np.array([len(results.samples[0]), len(obs_data)]).reshape(1,-1)"
   ]
  },
  {
   "cell_type": "code",
   "execution_count": null,
   "metadata": {},
   "outputs": [],
   "source": [
    "'''\n",
    "shape = volshape\n",
    "for wave in range(nwaves):\n",
    "    file = open(\"data/w{}_{}_nonimp.txt\".format(wave+1,shape), \"w\")\n",
    "    np.savetxt(file, results.nonimplausible[wave])\n",
    "    file.close()\n",
    "    file3 = open(\"data/w{}_{}_samples.txt\".format(wave+1,shape), \"w\")\n",
    "    np.savetxt(file3, results.I_samples[wave])\n",
    "    file3.close()\n",
    "file2 = open(\"data/details_{}.txt\".format(shape), \"w\")\n",
    "np.savetxt(file2, keys, fmt=\"%s\")\n",
    "np.savetxt(file2, vals, fmt=\"%d\")\n",
    "file2.close()'''"
   ]
  },
  {
   "cell_type": "code",
   "execution_count": null,
   "metadata": {},
   "outputs": [],
   "source": []
  },
  {
   "cell_type": "code",
   "execution_count": null,
   "metadata": {},
   "outputs": [],
   "source": []
  },
  {
   "cell_type": "code",
   "execution_count": null,
   "metadata": {},
   "outputs": [],
   "source": []
  },
  {
   "cell_type": "code",
   "execution_count": null,
   "metadata": {},
   "outputs": [],
   "source": []
  },
  {
   "cell_type": "code",
   "execution_count": null,
   "metadata": {},
   "outputs": [],
   "source": []
  },
  {
   "cell_type": "code",
   "execution_count": null,
   "metadata": {},
   "outputs": [],
   "source": []
  },
  {
   "cell_type": "code",
   "execution_count": null,
   "metadata": {},
   "outputs": [],
   "source": []
  },
  {
   "cell_type": "markdown",
   "metadata": {},
   "source": []
  }
 ],
 "metadata": {
  "kernelspec": {
   "display_name": "Python 3",
   "language": "python",
   "name": "python3"
  },
  "language_info": {
   "codemirror_mode": {
    "name": "ipython",
    "version": 3
   },
   "file_extension": ".py",
   "mimetype": "text/x-python",
   "name": "python",
   "nbconvert_exporter": "python",
   "pygments_lexer": "ipython3",
   "version": "3.8.8"
  }
 },
 "nbformat": 4,
 "nbformat_minor": 4
}
